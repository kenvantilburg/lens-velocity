{
 "cells": [
  {
   "cell_type": "code",
   "execution_count": 1,
   "metadata": {
    "execution": {
     "iopub.execute_input": "2022-01-25T22:16:32.868640Z",
     "iopub.status.busy": "2022-01-25T22:16:32.867847Z",
     "iopub.status.idle": "2022-01-25T22:16:34.243908Z",
     "shell.execute_reply": "2022-01-25T22:16:34.243557Z",
     "shell.execute_reply.started": "2022-01-25T22:16:32.868445Z"
    }
   },
   "outputs": [],
   "source": [
    "import numpy as np\n",
    "import pandas as pd\n",
    "from astropy.coordinates import *\n",
    "import astropy.units as u\n",
    "from os import listdir\n",
    "import sys"
   ]
  },
  {
   "cell_type": "code",
   "execution_count": 2,
   "metadata": {
    "execution": {
     "iopub.execute_input": "2022-01-25T22:16:39.576525Z",
     "iopub.status.busy": "2022-01-25T22:16:39.575921Z",
     "iopub.status.idle": "2022-01-25T22:16:39.583862Z",
     "shell.execute_reply": "2022-01-25T22:16:39.582192Z",
     "shell.execute_reply.started": "2022-01-25T22:16:39.576458Z"
    }
   },
   "outputs": [],
   "source": [
    "edr3_data = './edr3_data'\n",
    "dr2_data = './dr2_data'\n",
    "hist_res_dir = './hist_stats/'\n",
    "#edr3_data = '/Users/crimondino/Dropbox (PI)/MyLensVelocity2/data/acc_catalog/edr3/'\n",
    "#dr2_data = '/Users/crimondino/Dropbox (PI)/MyLensVelocity2/data/acc_catalog/dr2/'\n",
    "#hist_res_dir = '/Users/crimondino/Dropbox (PI)/MyLensVelocity2/lists/hist_stats/'"
   ]
  },
  {
   "cell_type": "code",
   "execution_count": 5,
   "metadata": {
    "execution": {
     "iopub.execute_input": "2022-01-25T22:16:48.397731Z",
     "iopub.status.busy": "2022-01-25T22:16:48.397078Z",
     "iopub.status.idle": "2022-01-25T22:16:48.404031Z",
     "shell.execute_reply": "2022-01-25T22:16:48.403288Z",
     "shell.execute_reply.started": "2022-01-25T22:16:48.397663Z"
    }
   },
   "outputs": [
    {
     "name": "stdout",
     "output_type": "stream",
     "text": [
      "\n",
      "Reading in eDR3 file 0.\n"
     ]
    }
   ],
   "source": [
    "### Read in the eDR3 file index from the command line\n",
    "current_index = int(sys.argv[1]) # current index in list of edr3 files\n",
    "print('\\nReading in eDR3 file '+str(current_index)+'.'); sys.stdout.flush()"
   ]
  },
  {
   "cell_type": "markdown",
   "metadata": {},
   "source": [
    "# Loading in a single EDR3 file"
   ]
  },
  {
   "cell_type": "code",
   "execution_count": 6,
   "metadata": {
    "execution": {
     "iopub.execute_input": "2022-01-25T22:16:53.063754Z",
     "iopub.status.busy": "2022-01-25T22:16:53.063112Z",
     "iopub.status.idle": "2022-01-25T22:16:53.071154Z",
     "shell.execute_reply": "2022-01-25T22:16:53.070005Z",
     "shell.execute_reply.started": "2022-01-25T22:16:53.063684Z"
    }
   },
   "outputs": [],
   "source": [
    "list_dr3_files = listdir(edr3_data)"
   ]
  },
  {
   "cell_type": "code",
   "execution_count": 7,
   "metadata": {
    "execution": {
     "iopub.execute_input": "2022-01-25T22:16:53.512177Z",
     "iopub.status.busy": "2022-01-25T22:16:53.511828Z",
     "iopub.status.idle": "2022-01-25T22:16:53.523948Z",
     "shell.execute_reply": "2022-01-25T22:16:53.522489Z",
     "shell.execute_reply.started": "2022-01-25T22:16:53.512143Z"
    }
   },
   "outputs": [],
   "source": [
    "healpix_edr3_start = np.empty((len(list_dr3_files)),dtype= int)\n",
    "healpix_edr3_end = np.empty((len(list_dr3_files)), dtype = int)\n",
    "\n",
    "for i,file in enumerate(list_dr3_files):\n",
    "    int_1 = int(file[11:17])\n",
    "    int_2 = int(file[18:24])\n",
    "    healpix_edr3_start[i] = int_1\n",
    "    healpix_edr3_end[i] = int_2\n",
    "    "
   ]
  },
  {
   "cell_type": "code",
   "execution_count": 8,
   "metadata": {
    "execution": {
     "iopub.execute_input": "2022-01-25T22:16:53.712036Z",
     "iopub.status.busy": "2022-01-25T22:16:53.711691Z",
     "iopub.status.idle": "2022-01-25T22:16:53.721847Z",
     "shell.execute_reply": "2022-01-25T22:16:53.720729Z",
     "shell.execute_reply.started": "2022-01-25T22:16:53.712002Z"
    }
   },
   "outputs": [],
   "source": [
    "def get_source_ids(file_names):\n",
    "    #given a list of EDR3 filenames, return the start and end source IDs corresponding to healpix level 12\n",
    "    N_8 = 2**(59-16)\n",
    "    \n",
    "    start = np.array([x*N_8 for x in healpix_edr3_start], dtype = 'int')\n",
    "    end = np.array([x*N_8 for x in healpix_edr3_end], dtype = 'int')\n",
    "    return start, end"
   ]
  },
  {
   "cell_type": "code",
   "execution_count": 9,
   "metadata": {
    "execution": {
     "iopub.execute_input": "2022-01-25T22:16:53.900997Z",
     "iopub.status.busy": "2022-01-25T22:16:53.900428Z",
     "iopub.status.idle": "2022-01-25T22:16:53.906270Z",
     "shell.execute_reply": "2022-01-25T22:16:53.905409Z",
     "shell.execute_reply.started": "2022-01-25T22:16:53.900932Z"
    }
   },
   "outputs": [],
   "source": [
    "def load_dr3_file(idx):\n",
    "    return pd.read_csv(edr3_data + '/' + list_dr3_files[idx], compression = 'gzip')"
   ]
  },
  {
   "cell_type": "code",
   "execution_count": 10,
   "metadata": {
    "execution": {
     "iopub.execute_input": "2022-01-25T22:16:54.053918Z",
     "iopub.status.busy": "2022-01-25T22:16:54.053594Z",
     "iopub.status.idle": "2022-01-25T22:16:54.057756Z",
     "shell.execute_reply": "2022-01-25T22:16:54.056863Z",
     "shell.execute_reply.started": "2022-01-25T22:16:54.053886Z"
    }
   },
   "outputs": [],
   "source": [
    "start, end = get_source_ids(list_dr3_files)"
   ]
  },
  {
   "cell_type": "markdown",
   "metadata": {},
   "source": [
    "### Call the functions"
   ]
  },
  {
   "cell_type": "code",
   "execution_count": 13,
   "metadata": {
    "execution": {
     "iopub.execute_input": "2022-01-25T22:16:55.048954Z",
     "iopub.status.busy": "2022-01-25T22:16:55.048592Z",
     "iopub.status.idle": "2022-01-25T22:17:09.650270Z",
     "shell.execute_reply": "2022-01-25T22:17:09.649518Z",
     "shell.execute_reply.started": "2022-01-25T22:16:55.048916Z"
    }
   },
   "outputs": [
    {
     "name": "stdout",
     "output_type": "stream",
     "text": [
      "14 corresponding files\n"
     ]
    }
   ],
   "source": [
    "dr3 = load_dr3_file(current_index)"
   ]
  },
  {
   "cell_type": "markdown",
   "metadata": {},
   "source": [
    "# Generate Pair Catalogue"
   ]
  },
  {
   "cell_type": "markdown",
   "metadata": {},
   "source": [
    "For each star, we first locate accidental pairs by on-sky proximity. This is the condition\n",
    "$$|\\theta_i - \\theta_j| < \\theta_\\text{min}$$\n",
    "where $i$ is the index of the foreground star, and $j$ is a background star for a given foreground $i$.\n",
    "After this first cut, we then impose that the background candidate be behind the foreground at $n_\\sigma$. \n",
    "\n",
    "$$\\varpi_i - \\varpi_j > n_\\sigma \\sqrt{\\sigma_{\\varpi_i}^2 + \\sigma_{\\varpi_j}^2}.$$\n",
    "\n",
    "When $n_\\sigma =2$, this corresponds to a 95% confidence level. We can tighten or relax these cuts in order to control the size/purity of the resulting pair catalogue.\n",
    "\n",
    "The above assumes that $\\sigma_{\\varpi_i}$ and $\\sigma_{\\varpi_j}$ have zero correlation. A stricter condition would be to assume that they had correlation = 1. If so, then the above formula becomes \n",
    "$$\\varpi_i - n_\\sigma \\sigma_{\\varpi_i} > \\varpi_i + n_\\sigma \\sigma_{\\varpi_j}.$$\n",
    "This results in fewer pairs."
   ]
  },
  {
   "cell_type": "code",
   "execution_count": 14,
   "metadata": {
    "execution": {
     "iopub.execute_input": "2022-01-25T22:17:09.651627Z",
     "iopub.status.busy": "2022-01-25T22:17:09.651507Z",
     "iopub.status.idle": "2022-01-25T22:17:09.657272Z",
     "shell.execute_reply": "2022-01-25T22:17:09.656912Z",
     "shell.execute_reply.started": "2022-01-25T22:17:09.651615Z"
    }
   },
   "outputs": [],
   "source": [
    "def generate_pair_cat(df, angle_cutoff, n_sigma):\n",
    "    #Note that angle_cutoff is measured in arcseconds.\n",
    "    \n",
    "    ra_arr = np.asarray(df['ra'])\n",
    "    dec_arr = np.asarray(df['dec'])\n",
    "    coord1 = SkyCoord(ra_arr, dec_arr, unit = u.degree)\n",
    "    \n",
    "    #Search df for on-sky neighbors within angle_cutoff arsec\n",
    "    z = search_around_sky(coord1, coord1, angle_cutoff*u.arcsec, storekdtree = False)\n",
    "    \n",
    "    #The above snippet will count a foreground star as its own neighbor, so we must remove them:\n",
    "    idx = z[0][z[0] != z[1]]\n",
    "    dub = z[1][z[0] != z[1]]\n",
    "    \n",
    "    df_fore = df.iloc[idx]\n",
    "    df_back = df.iloc[dub]\n",
    "    \n",
    "    df_fore.reset_index(inplace = True, drop=True)\n",
    "    df_back.reset_index(inplace = True, drop=True)\n",
    "    \n",
    "    #Define a function to iterate over the foreground/background df's and check if they satisfy the parallax condition\n",
    "\n",
    "    is_behind = lambda par1, par2, err1, err2 : par1-par2 > n_sigma*np.sqrt(err1**2 + err2**2)\n",
    "    is_behind_list = is_behind(df_fore['parallax'], df_back['parallax'], df_fore['parallax_error'], df_back['parallax_error'])\n",
    "    \n",
    "    #Keep pairs that satisfy the parallax condition within n_sigma. \n",
    "    df_fore = df_fore[is_behind_list]\n",
    "    df_back = df_back[is_behind_list]\n",
    "    \n",
    "    #Concatenate the foreground and background list into one catalogue.\n",
    "    new_fg_cols = [x+\"_fg\" for x in df_fore.columns]\n",
    "    df_fore.columns= new_fg_cols\n",
    "    \n",
    "    new_bg_cols = [x+\"_bg\" for x in df_back.columns]\n",
    "    df_back.columns= new_bg_cols\n",
    "    \n",
    "    pair_cat = pd.concat([df_fore,df_back], axis = 1)\n",
    "    pair_cat.reset_index(inplace =True, drop = True)\n",
    "    return pair_cat"
   ]
  },
  {
   "cell_type": "markdown",
   "metadata": {},
   "source": [
    "# Make pair catalogue"
   ]
  },
  {
   "cell_type": "code",
   "execution_count": 25,
   "metadata": {
    "execution": {
     "iopub.execute_input": "2022-01-25T22:17:09.751686Z",
     "iopub.status.busy": "2022-01-25T22:17:09.751466Z",
     "iopub.status.idle": "2022-01-25T22:17:11.451739Z",
     "shell.execute_reply": "2022-01-25T22:17:11.451382Z",
     "shell.execute_reply.started": "2022-01-25T22:17:09.751668Z"
    }
   },
   "outputs": [],
   "source": [
    "pair_cat = generate_pair_cat(dr3, 3, 2) # cutoff at 3 arcsec, 2 sigma (95% CL)."
   ]
  },
  {
   "cell_type": "markdown",
   "metadata": {},
   "source": [
    "# Export catalog to .csv file"
   ]
  },
  {
   "cell_type": "code",
   "execution_count": 555,
   "metadata": {},
   "outputs": [],
   "source": [
    "pair_cat_name = 'pairs_' + str(healpix_edr3_start[current_index]) +'-'+ str(healpix_edr3_end[current_index])\n",
    "pair_cat.to_csv('./accidental_pairs/' + pair_cat_name)"
   ]
  }
 ],
 "metadata": {
  "kernelspec": {
   "display_name": "Python 3",
   "language": "python",
   "name": "python3"
  },
  "language_info": {
   "codemirror_mode": {
    "name": "ipython",
    "version": 3
   },
   "file_extension": ".py",
   "mimetype": "text/x-python",
   "name": "python",
   "nbconvert_exporter": "python",
   "pygments_lexer": "ipython3",
   "version": "3.8.5"
  }
 },
 "nbformat": 4,
 "nbformat_minor": 5
}
