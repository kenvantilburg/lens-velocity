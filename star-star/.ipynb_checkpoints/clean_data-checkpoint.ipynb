{
 "cells": [
  {
   "cell_type": "markdown",
   "metadata": {},
   "source": [
    "# Set up"
   ]
  },
  {
   "cell_type": "code",
   "execution_count": 1,
   "metadata": {
    "execution": {
     "iopub.execute_input": "2023-07-13T14:18:28.230076Z",
     "iopub.status.busy": "2023-07-13T14:18:28.229247Z",
     "iopub.status.idle": "2023-07-13T14:18:28.688865Z",
     "shell.execute_reply": "2023-07-13T14:18:28.688545Z",
     "shell.execute_reply.started": "2023-07-13T14:18:28.229978Z"
    }
   },
   "outputs": [],
   "source": [
    "import numpy as np\n",
    "import pandas as pd\n",
    "import sys\n",
    "import importlib"
   ]
  },
  {
   "cell_type": "code",
   "execution_count": 2,
   "metadata": {
    "execution": {
     "iopub.execute_input": "2023-07-13T14:18:29.913005Z",
     "iopub.status.busy": "2023-07-13T14:18:29.912632Z",
     "iopub.status.idle": "2023-07-13T14:18:29.950710Z",
     "shell.execute_reply": "2023-07-13T14:18:29.950215Z",
     "shell.execute_reply.started": "2023-07-13T14:18:29.912971Z"
    }
   },
   "outputs": [],
   "source": [
    "# import our modules\n",
    "sys.path.insert(0, './utils')\n",
    "\n",
    "from data_cleaning import ProperMotionStats \n",
    "from data_cleaning import CleanData"
   ]
  },
  {
   "cell_type": "code",
   "execution_count": 3,
   "metadata": {
    "execution": {
     "iopub.execute_input": "2023-07-13T14:18:34.106897Z",
     "iopub.status.busy": "2023-07-13T14:18:34.106481Z",
     "iopub.status.idle": "2023-07-13T14:18:34.112471Z",
     "shell.execute_reply": "2023-07-13T14:18:34.111567Z",
     "shell.execute_reply.started": "2023-07-13T14:18:34.106864Z"
    }
   },
   "outputs": [],
   "source": [
    "importlib.reload(sys.modules['data_cleaning'])\n",
    "from data_cleaning import ProperMotionStats \n",
    "from data_cleaning import CleanData"
   ]
  },
  {
   "cell_type": "code",
   "execution_count": 18,
   "metadata": {
    "execution": {
     "iopub.execute_input": "2023-07-13T14:46:40.490897Z",
     "iopub.status.busy": "2023-07-13T14:46:40.490053Z",
     "iopub.status.idle": "2023-07-13T14:46:40.509071Z",
     "shell.execute_reply": "2023-07-13T14:46:40.508147Z",
     "shell.execute_reply.started": "2023-07-13T14:46:40.490848Z"
    }
   },
   "outputs": [],
   "source": [
    "# setup path to directories where data are stored\n",
    "HomeDir = './'\n",
    "DataDir = '/Users/crimondino/Dropbox (PI)/LensVelocity2/data/star_star/' "
   ]
  },
  {
   "cell_type": "markdown",
   "metadata": {},
   "source": [
    "# Read in raw data and perform astrometic quality and distance cuts"
   ]
  },
  {
   "cell_type": "code",
   "execution_count": 3,
   "metadata": {
    "execution": {
     "iopub.execute_input": "2023-07-12T17:47:41.531463Z",
     "iopub.status.busy": "2023-07-12T17:47:41.530879Z",
     "iopub.status.idle": "2023-07-12T17:48:53.370983Z",
     "shell.execute_reply": "2023-07-12T17:48:53.370079Z",
     "shell.execute_reply.started": "2023-07-12T17:47:41.531395Z"
    }
   },
   "outputs": [
    {
     "data": {
      "text/plain": [
       "(15138051, 15138051)"
      ]
     },
     "execution_count": 3,
     "metadata": {},
     "output_type": "execute_result"
    }
   ],
   "source": [
    "# read in the data files for the background and foreground stars after the ruwe and distance cuts\n",
    "df_fore = pd.read_csv(DataDir+'fg_raw.csv', \n",
    "                      usecols = ['source_id', 'ra', 'dec', 'pmra', 'pmdec','pmra_error', 'pmdec_error', \n",
    "                                 'parallax', 'parallax_error', 'phot_g_mean_mag', 'ruwe', 'dist_50', 'dist_14', 'dist_86', 'l', 'b'])\n",
    "df_back = pd.read_csv(DataDir+'bg_raw.csv', \n",
    "                      usecols = ['source_id', 'ra', 'dec', 'pmra', 'pmdec', 'pmra_error', 'pmdec_error', 'pmra_pmdec_corr', \n",
    "                                 'parallax', 'parallax_error', 'phot_g_mean_mag', 'ruwe', 'dist_50', 'dist_14', 'dist_86', 'dist_error', 'l', 'b'])\n",
    "len(df_back), len(df_fore)"
   ]
  },
  {
   "cell_type": "code",
   "execution_count": null,
   "metadata": {},
   "outputs": [],
   "source": [
    "# create an instance of the CleanData class to perform ruwe and distance cuts\n",
    "clean = CleanData()\n",
    "clean.setup_params(default=True)"
   ]
  },
  {
   "cell_type": "code",
   "execution_count": null,
   "metadata": {},
   "outputs": [],
   "source": [
    "df_fore, df_back = clean.astrometric_quality(df_fore, df_back)\n",
    "df_fore, df_back = clean.distance_cut(df_fore, df_back)"
   ]
  },
  {
   "cell_type": "code",
   "execution_count": 41,
   "metadata": {
    "execution": {
     "iopub.execute_input": "2023-02-16T15:34:41.417133Z",
     "iopub.status.busy": "2023-02-16T15:34:41.416099Z",
     "iopub.status.idle": "2023-02-16T15:36:46.640559Z",
     "shell.execute_reply": "2023-02-16T15:36:46.638975Z",
     "shell.execute_reply.started": "2023-02-16T15:34:41.417073Z"
    }
   },
   "outputs": [],
   "source": [
    "# save the result\n",
    "df_fore.to_csv(DataDir+'fg_clean.csv', index=False, chunksize=100000)\n",
    "df_back.to_csv(DataDir+'bg_clean.csv', index=False, chunksize=100000)"
   ]
  },
  {
   "cell_type": "markdown",
   "metadata": {},
   "source": [
    "# Read in cleaned data and perform background subtraction"
   ]
  },
  {
   "cell_type": "code",
   "execution_count": 5,
   "metadata": {
    "execution": {
     "iopub.execute_input": "2023-07-13T14:18:48.861107Z",
     "iopub.status.busy": "2023-07-13T14:18:48.860741Z",
     "iopub.status.idle": "2023-07-13T14:19:40.461615Z",
     "shell.execute_reply": "2023-07-13T14:19:40.460721Z",
     "shell.execute_reply.started": "2023-07-13T14:18:48.861073Z"
    }
   },
   "outputs": [
    {
     "data": {
      "text/plain": [
       "(15138051, 15138051)"
      ]
     },
     "execution_count": 5,
     "metadata": {},
     "output_type": "execute_result"
    }
   ],
   "source": [
    "# read in the data files for the background and foreground stars after the ruwe and distance cuts\n",
    "df_fore = pd.read_csv(DataDir+'fg_clean.csv', \n",
    "                      usecols = ['source_id', 'ra', 'dec', 'pmra', 'pmdec','pmra_error', 'pmdec_error', \n",
    "                                 'parallax', 'parallax_error', 'phot_g_mean_mag', 'dist_50', 'dist_14', 'dist_86', 'l', 'b'])\n",
    "df_back = pd.read_csv(DataDir+'bg_clean.csv', \n",
    "                      usecols = ['source_id', 'ra', 'dec', 'pmra', 'pmdec', 'pmra_error', 'pmdec_error', 'pmra_pmdec_corr', \n",
    "                                 'parallax', 'parallax_error', 'phot_g_mean_mag', 'dist_50', 'dist_14', 'dist_86', 'dist_error', 'l', 'b'])\n",
    "len(df_back), len(df_fore)"
   ]
  },
  {
   "cell_type": "code",
   "execution_count": 6,
   "metadata": {
    "execution": {
     "iopub.execute_input": "2023-07-13T14:19:52.674821Z",
     "iopub.status.busy": "2023-07-13T14:19:52.674351Z",
     "iopub.status.idle": "2023-07-13T14:19:52.717069Z",
     "shell.execute_reply": "2023-07-13T14:19:52.716450Z",
     "shell.execute_reply.started": "2023-07-13T14:19:52.674783Z"
    }
   },
   "outputs": [],
   "source": [
    "# create an instance of the ProperMotionStats class to compute the proper motion statistics (mean and variance): subtract the mean, remove the outliers, and compute the effective errors\n",
    "stats = ProperMotionStats()\n",
    "stats.setup_bins(default=True)\n",
    "stats.setup_params(default=True)"
   ]
  },
  {
   "cell_type": "code",
   "execution_count": 7,
   "metadata": {
    "execution": {
     "iopub.execute_input": "2023-07-13T14:20:11.173454Z",
     "iopub.status.busy": "2023-07-13T14:20:11.173086Z",
     "iopub.status.idle": "2023-07-13T14:35:35.349567Z",
     "shell.execute_reply": "2023-07-13T14:35:35.339031Z",
     "shell.execute_reply.started": "2023-07-13T14:20:11.173419Z"
    }
   },
   "outputs": [
    {
     "name": "stdout",
     "output_type": "stream",
     "text": [
      "Iter 0 -- fraction of stars in sparse bins: 15.28730 %\n",
      "Iter 0 -- fraction of outliers removed: 2.483746 %\n",
      "Iter 1 -- fraction of stars in sparse bins: 2.557835 %\n",
      "Iter 1 -- fraction of outliers removed: 1.648274 %\n",
      "Iter 2 -- fraction of stars in sparse bins: 0.715149 %\n",
      "Iter 2 -- fraction of outliers removed: 0.783062 %\n",
      "Iter 3 -- fraction of stars in sparse bins: 0.161387 %\n",
      "Iter 3 -- fraction of outliers removed: 0.361407 %\n",
      "Iter 4 -- fraction of stars in sparse bins: 0.075459 %\n",
      "Iter 4 -- fraction of outliers removed: 0.169932 %\n",
      "Iter 5 -- fraction of stars in sparse bins: 0.030268 %\n",
      "Iter 5 -- fraction of outliers removed: 0.082062 %\n",
      "Iter 6 -- fraction of stars in sparse bins: 0.017689 %\n",
      "Iter 6 -- fraction of outliers removed: 0.039358 %\n",
      "Iter 7 -- fraction of stars in sparse bins: 0.004497 %\n",
      "Iter 7 -- fraction of outliers removed: 0.019452 %\n",
      "Iter 8 -- fraction of stars in sparse bins: 0.001342 %\n",
      "Iter 8 -- fraction of outliers removed: 0.009647 %\n",
      "Iter 9 -- fraction of stars in sparse bins: 0.003019 %\n",
      "Iter 9 -- fraction of outliers removed: 0.005140 %\n"
     ]
    }
   ],
   "source": [
    "# iterative proper motion subtraction and outlier removal\n",
    "iter_n=0\n",
    "out_frac=1\n",
    "n_iter = 10 # each iteration takes around 2 minutes\n",
    "\n",
    "while (iter_n<n_iter) & (out_frac>1E-5):\n",
    "    \n",
    "    df_fore_n, df_back_n, out_frac = stats.compute_stats(df_fore, df_back, iter_n=iter_n, final_call=False)\n",
    "    df_fore, df_back = df_fore_n, df_back_n\n",
    "    iter_n += 1; "
   ]
  },
  {
   "cell_type": "code",
   "execution_count": 8,
   "metadata": {
    "execution": {
     "iopub.execute_input": "2023-07-13T14:37:38.159000Z",
     "iopub.status.busy": "2023-07-13T14:37:38.156763Z",
     "iopub.status.idle": "2023-07-13T14:38:36.876341Z",
     "shell.execute_reply": "2023-07-13T14:38:36.874963Z",
     "shell.execute_reply.started": "2023-07-13T14:37:38.158600Z"
    }
   },
   "outputs": [
    {
     "name": "stdout",
     "output_type": "stream",
     "text": [
      "Iter 10 -- fraction of stars in sparse bins: 0.001419 %\n",
      "Adding columns with the new stats...\n"
     ]
    },
    {
     "name": "stderr",
     "output_type": "stream",
     "text": [
      "./utils/data_cleaning.py:263: SettingWithCopyWarning: \n",
      "A value is trying to be set on a copy of a slice from a DataFrame.\n",
      "Try using .loc[row_indexer,col_indexer] = value instead\n",
      "\n",
      "See the caveats in the documentation: https://pandas.pydata.org/pandas-docs/stable/user_guide/indexing.html#returning-a-view-versus-a-copy\n",
      "  df_back['pmra_sub'] = pm_sub[:, 0]; df_back['pmdec_sub_'] = pm_sub[:, 1];\n",
      "./utils/data_cleaning.py:265: SettingWithCopyWarning: \n",
      "A value is trying to be set on a copy of a slice from a DataFrame.\n",
      "Try using .loc[row_indexer,col_indexer] = value instead\n",
      "\n",
      "See the caveats in the documentation: https://pandas.pydata.org/pandas-docs/stable/user_guide/indexing.html#returning-a-view-versus-a-copy\n",
      "  df_back['pmra_eff_error'] = np.sqrt(tab_var_pmra)\n",
      "./utils/data_cleaning.py:266: SettingWithCopyWarning: \n",
      "A value is trying to be set on a copy of a slice from a DataFrame.\n",
      "Try using .loc[row_indexer,col_indexer] = value instead\n",
      "\n",
      "See the caveats in the documentation: https://pandas.pydata.org/pandas-docs/stable/user_guide/indexing.html#returning-a-view-versus-a-copy\n",
      "  df_back['pmdec_eff_error'] = np.sqrt(tab_var_pmdec)\n",
      "./utils/data_cleaning.py:267: SettingWithCopyWarning: \n",
      "A value is trying to be set on a copy of a slice from a DataFrame.\n",
      "Try using .loc[row_indexer,col_indexer] = value instead\n",
      "\n",
      "See the caveats in the documentation: https://pandas.pydata.org/pandas-docs/stable/user_guide/indexing.html#returning-a-view-versus-a-copy\n",
      "  df_back['pmra_pmdec_eff_corr'] = tab_var_pmradec/(np.sqrt(tab_var_pmra)*np.sqrt(tab_var_pmdec))\n"
     ]
    }
   ],
   "source": [
    "# perform the subtraction one last time without removing the outliers\n",
    "pd.options.mode.chained_assignment = None # disable pandas SettingWithCopyWarning\n",
    "\n",
    "df_fore_n, df_back_n = stats.compute_stats(df_fore, df_back, iter_n=iter_n, final_call=True)\n",
    "df_fore, df_back = df_fore_n, df_back_n"
   ]
  },
  {
   "cell_type": "code",
   "execution_count": 24,
   "metadata": {
    "execution": {
     "iopub.execute_input": "2023-07-13T14:48:21.230926Z",
     "iopub.status.busy": "2023-07-13T14:48:21.230529Z",
     "iopub.status.idle": "2023-07-13T14:57:16.249872Z",
     "shell.execute_reply": "2023-07-13T14:57:16.247928Z",
     "shell.execute_reply.started": "2023-07-13T14:48:21.230885Z"
    }
   },
   "outputs": [],
   "source": [
    "# save the result\n",
    "\n",
    "df_fore.to_csv(DataDir+'fg_subtracted.csv', index=False, chunksize=100000)\n",
    "df_back.to_csv(DataDir+'bg_subtracted.csv', index=False, chunksize=100000)"
   ]
  },
  {
   "cell_type": "code",
   "execution_count": 30,
   "metadata": {
    "execution": {
     "iopub.execute_input": "2023-07-13T17:53:21.276593Z",
     "iopub.status.busy": "2023-07-13T17:53:21.276136Z",
     "iopub.status.idle": "2023-07-13T17:58:38.667886Z",
     "shell.execute_reply": "2023-07-13T17:58:38.666948Z",
     "shell.execute_reply.started": "2023-07-13T17:53:21.276548Z"
    }
   },
   "outputs": [],
   "source": [
    "df_back.to_csv(DataDir+'bg_subtracted.csv', index=False, chunksize=100000)"
   ]
  },
  {
   "cell_type": "code",
   "execution_count": 29,
   "metadata": {
    "execution": {
     "iopub.execute_input": "2023-07-13T17:53:15.900375Z",
     "iopub.status.busy": "2023-07-13T17:53:15.900039Z",
     "iopub.status.idle": "2023-07-13T17:53:15.948343Z",
     "shell.execute_reply": "2023-07-13T17:53:15.947683Z",
     "shell.execute_reply.started": "2023-07-13T17:53:15.900342Z"
    }
   },
   "outputs": [
    {
     "data": {
      "text/html": [
       "<div>\n",
       "<style scoped>\n",
       "    .dataframe tbody tr th:only-of-type {\n",
       "        vertical-align: middle;\n",
       "    }\n",
       "\n",
       "    .dataframe tbody tr th {\n",
       "        vertical-align: top;\n",
       "    }\n",
       "\n",
       "    .dataframe thead th {\n",
       "        text-align: right;\n",
       "    }\n",
       "</style>\n",
       "<table border=\"1\" class=\"dataframe\">\n",
       "  <thead>\n",
       "    <tr style=\"text-align: right;\">\n",
       "      <th></th>\n",
       "      <th>source_id</th>\n",
       "      <th>ra</th>\n",
       "      <th>dec</th>\n",
       "      <th>pmra</th>\n",
       "      <th>pmdec</th>\n",
       "      <th>pmra_error</th>\n",
       "      <th>pmdec_error</th>\n",
       "      <th>pmra_pmdec_corr</th>\n",
       "      <th>parallax</th>\n",
       "      <th>parallax_error</th>\n",
       "      <th>...</th>\n",
       "      <th>b</th>\n",
       "      <th>dist_50</th>\n",
       "      <th>dist_14</th>\n",
       "      <th>dist_86</th>\n",
       "      <th>dist_error</th>\n",
       "      <th>pmra_sub</th>\n",
       "      <th>pmdec_sub</th>\n",
       "      <th>pmra_eff_error</th>\n",
       "      <th>pmdec_eff_error</th>\n",
       "      <th>pmra_pmdec_eff_corr</th>\n",
       "    </tr>\n",
       "  </thead>\n",
       "  <tbody>\n",
       "    <tr>\n",
       "      <th>30631</th>\n",
       "      <td>200427470662851968</td>\n",
       "      <td>76.129667</td>\n",
       "      <td>39.222630</td>\n",
       "      <td>-0.121238</td>\n",
       "      <td>-1.392369</td>\n",
       "      <td>0.105996</td>\n",
       "      <td>0.072464</td>\n",
       "      <td>-0.065777</td>\n",
       "      <td>0.292005</td>\n",
       "      <td>0.080546</td>\n",
       "      <td>...</td>\n",
       "      <td>-1.247852</td>\n",
       "      <td>3266.8696</td>\n",
       "      <td>2466.2600</td>\n",
       "      <td>4292.3660</td>\n",
       "      <td>913.05300</td>\n",
       "      <td>-0.755536</td>\n",
       "      <td>-0.093484</td>\n",
       "      <td>0.821293</td>\n",
       "      <td>1.029738</td>\n",
       "      <td>-0.221926</td>\n",
       "    </tr>\n",
       "    <tr>\n",
       "      <th>30632</th>\n",
       "      <td>200427706887020672</td>\n",
       "      <td>76.101904</td>\n",
       "      <td>39.239629</td>\n",
       "      <td>0.328675</td>\n",
       "      <td>0.697477</td>\n",
       "      <td>0.159174</td>\n",
       "      <td>0.111438</td>\n",
       "      <td>-0.028332</td>\n",
       "      <td>0.375554</td>\n",
       "      <td>0.119793</td>\n",
       "      <td>...</td>\n",
       "      <td>-1.254635</td>\n",
       "      <td>2770.2205</td>\n",
       "      <td>2111.2083</td>\n",
       "      <td>3768.8340</td>\n",
       "      <td>828.81285</td>\n",
       "      <td>-0.454184</td>\n",
       "      <td>2.102579</td>\n",
       "      <td>0.882519</td>\n",
       "      <td>1.256208</td>\n",
       "      <td>-0.344431</td>\n",
       "    </tr>\n",
       "    <tr>\n",
       "      <th>30653</th>\n",
       "      <td>200454099462781952</td>\n",
       "      <td>76.275572</td>\n",
       "      <td>39.421319</td>\n",
       "      <td>0.866095</td>\n",
       "      <td>-2.718252</td>\n",
       "      <td>0.117693</td>\n",
       "      <td>0.080482</td>\n",
       "      <td>0.040295</td>\n",
       "      <td>0.333858</td>\n",
       "      <td>0.100525</td>\n",
       "      <td>...</td>\n",
       "      <td>-1.037673</td>\n",
       "      <td>2971.2944</td>\n",
       "      <td>2307.0054</td>\n",
       "      <td>3537.2751</td>\n",
       "      <td>615.13485</td>\n",
       "      <td>0.085919</td>\n",
       "      <td>-1.313893</td>\n",
       "      <td>0.879280</td>\n",
       "      <td>1.254356</td>\n",
       "      <td>-0.341227</td>\n",
       "    </tr>\n",
       "    <tr>\n",
       "      <th>30660</th>\n",
       "      <td>200457226199249280</td>\n",
       "      <td>76.576444</td>\n",
       "      <td>39.451327</td>\n",
       "      <td>0.203235</td>\n",
       "      <td>-0.254138</td>\n",
       "      <td>0.111611</td>\n",
       "      <td>0.072940</td>\n",
       "      <td>-0.206756</td>\n",
       "      <td>0.107083</td>\n",
       "      <td>0.083438</td>\n",
       "      <td>...</td>\n",
       "      <td>-0.834338</td>\n",
       "      <td>6142.2314</td>\n",
       "      <td>4467.3276</td>\n",
       "      <td>8582.2890</td>\n",
       "      <td>2057.48070</td>\n",
       "      <td>-0.556222</td>\n",
       "      <td>1.137379</td>\n",
       "      <td>0.848867</td>\n",
       "      <td>1.099062</td>\n",
       "      <td>-0.314075</td>\n",
       "    </tr>\n",
       "    <tr>\n",
       "      <th>30670</th>\n",
       "      <td>200466812565981056</td>\n",
       "      <td>76.195045</td>\n",
       "      <td>39.465485</td>\n",
       "      <td>0.939532</td>\n",
       "      <td>-2.030266</td>\n",
       "      <td>0.104799</td>\n",
       "      <td>0.074134</td>\n",
       "      <td>-0.066049</td>\n",
       "      <td>0.112540</td>\n",
       "      <td>0.090902</td>\n",
       "      <td>...</td>\n",
       "      <td>-1.060411</td>\n",
       "      <td>5208.2470</td>\n",
       "      <td>3852.5886</td>\n",
       "      <td>7345.8470</td>\n",
       "      <td>1746.62920</td>\n",
       "      <td>0.336746</td>\n",
       "      <td>-0.831015</td>\n",
       "      <td>0.749437</td>\n",
       "      <td>1.015769</td>\n",
       "      <td>-0.264389</td>\n",
       "    </tr>\n",
       "  </tbody>\n",
       "</table>\n",
       "<p>5 rows × 22 columns</p>\n",
       "</div>"
      ],
      "text/plain": [
       "                source_id         ra        dec      pmra     pmdec  \\\n",
       "30631  200427470662851968  76.129667  39.222630 -0.121238 -1.392369   \n",
       "30632  200427706887020672  76.101904  39.239629  0.328675  0.697477   \n",
       "30653  200454099462781952  76.275572  39.421319  0.866095 -2.718252   \n",
       "30660  200457226199249280  76.576444  39.451327  0.203235 -0.254138   \n",
       "30670  200466812565981056  76.195045  39.465485  0.939532 -2.030266   \n",
       "\n",
       "       pmra_error  pmdec_error  pmra_pmdec_corr  parallax  parallax_error  \\\n",
       "30631    0.105996     0.072464        -0.065777  0.292005        0.080546   \n",
       "30632    0.159174     0.111438        -0.028332  0.375554        0.119793   \n",
       "30653    0.117693     0.080482         0.040295  0.333858        0.100525   \n",
       "30660    0.111611     0.072940        -0.206756  0.107083        0.083438   \n",
       "30670    0.104799     0.074134        -0.066049  0.112540        0.090902   \n",
       "\n",
       "       ...         b    dist_50    dist_14    dist_86  dist_error  pmra_sub  \\\n",
       "30631  ... -1.247852  3266.8696  2466.2600  4292.3660   913.05300 -0.755536   \n",
       "30632  ... -1.254635  2770.2205  2111.2083  3768.8340   828.81285 -0.454184   \n",
       "30653  ... -1.037673  2971.2944  2307.0054  3537.2751   615.13485  0.085919   \n",
       "30660  ... -0.834338  6142.2314  4467.3276  8582.2890  2057.48070 -0.556222   \n",
       "30670  ... -1.060411  5208.2470  3852.5886  7345.8470  1746.62920  0.336746   \n",
       "\n",
       "       pmdec_sub  pmra_eff_error  pmdec_eff_error  pmra_pmdec_eff_corr  \n",
       "30631  -0.093484        0.821293         1.029738            -0.221926  \n",
       "30632   2.102579        0.882519         1.256208            -0.344431  \n",
       "30653  -1.313893        0.879280         1.254356            -0.341227  \n",
       "30660   1.137379        0.848867         1.099062            -0.314075  \n",
       "30670  -0.831015        0.749437         1.015769            -0.264389  \n",
       "\n",
       "[5 rows x 22 columns]"
      ]
     },
     "execution_count": 29,
     "metadata": {},
     "output_type": "execute_result"
    }
   ],
   "source": [
    "df_back.head()"
   ]
  },
  {
   "cell_type": "code",
   "execution_count": 28,
   "metadata": {
    "execution": {
     "iopub.execute_input": "2023-07-13T17:53:13.773018Z",
     "iopub.status.busy": "2023-07-13T17:53:13.771817Z",
     "iopub.status.idle": "2023-07-13T17:53:13.801829Z",
     "shell.execute_reply": "2023-07-13T17:53:13.801205Z",
     "shell.execute_reply.started": "2023-07-13T17:53:13.772930Z"
    }
   },
   "outputs": [],
   "source": [
    "df_back.rename(columns = {'pmdec_sub_':'pmdec_sub'}, inplace = True)"
   ]
  },
  {
   "cell_type": "code",
   "execution_count": null,
   "metadata": {},
   "outputs": [],
   "source": []
  }
 ],
 "metadata": {
  "kernelspec": {
   "display_name": "Python 3",
   "language": "python",
   "name": "python3"
  },
  "language_info": {
   "codemirror_mode": {
    "name": "ipython",
    "version": 3
   },
   "file_extension": ".py",
   "mimetype": "text/x-python",
   "name": "python",
   "nbconvert_exporter": "python",
   "pygments_lexer": "ipython3",
   "version": "3.8.5"
  }
 },
 "nbformat": 4,
 "nbformat_minor": 4
}
