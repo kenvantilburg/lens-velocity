{
 "cells": [
  {
   "cell_type": "markdown",
   "metadata": {},
   "source": [
    "# Set up"
   ]
  },
  {
   "cell_type": "code",
   "execution_count": 1,
   "metadata": {
    "execution": {
     "iopub.execute_input": "2023-07-13T14:18:28.230076Z",
     "iopub.status.busy": "2023-07-13T14:18:28.229247Z",
     "iopub.status.idle": "2023-07-13T14:18:28.688865Z",
     "shell.execute_reply": "2023-07-13T14:18:28.688545Z",
     "shell.execute_reply.started": "2023-07-13T14:18:28.229978Z"
    }
   },
   "outputs": [],
   "source": [
    "import numpy as np\n",
    "import pandas as pd\n",
    "import sys\n",
    "import importlib"
   ]
  },
  {
   "cell_type": "code",
   "execution_count": 2,
   "metadata": {
    "execution": {
     "iopub.execute_input": "2023-07-13T14:18:29.913005Z",
     "iopub.status.busy": "2023-07-13T14:18:29.912632Z",
     "iopub.status.idle": "2023-07-13T14:18:29.950710Z",
     "shell.execute_reply": "2023-07-13T14:18:29.950215Z",
     "shell.execute_reply.started": "2023-07-13T14:18:29.912971Z"
    }
   },
   "outputs": [],
   "source": [
    "# import our modules\n",
    "sys.path.insert(0, './utils')\n",
    "\n",
    "from data_cleaning import ProperMotionStats \n",
    "from data_cleaning import CleanData"
   ]
  },
  {
   "cell_type": "code",
   "execution_count": 3,
   "metadata": {
    "execution": {
     "iopub.execute_input": "2023-07-13T14:18:34.106897Z",
     "iopub.status.busy": "2023-07-13T14:18:34.106481Z",
     "iopub.status.idle": "2023-07-13T14:18:34.112471Z",
     "shell.execute_reply": "2023-07-13T14:18:34.111567Z",
     "shell.execute_reply.started": "2023-07-13T14:18:34.106864Z"
    }
   },
   "outputs": [],
   "source": [
    "importlib.reload(sys.modules['data_cleaning'])\n",
    "from data_cleaning import ProperMotionStats \n",
    "from data_cleaning import CleanData"
   ]
  },
  {
   "cell_type": "code",
   "execution_count": 18,
   "metadata": {
    "execution": {
     "iopub.execute_input": "2023-07-13T14:46:40.490897Z",
     "iopub.status.busy": "2023-07-13T14:46:40.490053Z",
     "iopub.status.idle": "2023-07-13T14:46:40.509071Z",
     "shell.execute_reply": "2023-07-13T14:46:40.508147Z",
     "shell.execute_reply.started": "2023-07-13T14:46:40.490848Z"
    }
   },
   "outputs": [],
   "source": [
    "# setup path to directories where data are stored\n",
    "HomeDir = './'\n",
    "DataDir = '/Users/crimondino/Dropbox (PI)/LensVelocity2/data/star_star/' "
   ]
  },
  {
   "cell_type": "markdown",
   "metadata": {},
   "source": [
    "# Read in raw data and perform astrometic quality and distance cuts"
   ]
  },
  {
   "cell_type": "code",
   "execution_count": 3,
   "metadata": {
    "execution": {
     "iopub.execute_input": "2023-07-12T17:47:41.531463Z",
     "iopub.status.busy": "2023-07-12T17:47:41.530879Z",
     "iopub.status.idle": "2023-07-12T17:48:53.370983Z",
     "shell.execute_reply": "2023-07-12T17:48:53.370079Z",
     "shell.execute_reply.started": "2023-07-12T17:47:41.531395Z"
    }
   },
   "outputs": [
    {
     "data": {
      "text/plain": [
       "(15138051, 15138051)"
      ]
     },
     "execution_count": 3,
     "metadata": {},
     "output_type": "execute_result"
    }
   ],
   "source": [
    "# read in the data files for the background and foreground stars after the ruwe and distance cuts\n",
    "df_fore = pd.read_csv(DataDir+'fg_raw.csv', \n",
    "                      usecols = ['source_id', 'ra', 'dec', 'pmra', 'pmdec','pmra_error', 'pmdec_error', \n",
    "                                 'parallax', 'parallax_error', 'phot_g_mean_mag', 'ruwe', 'dist_50', 'dist_14', 'dist_86', 'l', 'b'])\n",
    "df_back = pd.read_csv(DataDir+'bg_raw.csv', \n",
    "                      usecols = ['source_id', 'ra', 'dec', 'pmra', 'pmdec', 'pmra_error', 'pmdec_error', 'pmra_pmdec_corr', \n",
    "                                 'parallax', 'parallax_error', 'phot_g_mean_mag', 'ruwe', 'dist_50', 'dist_14', 'dist_86', 'dist_error', 'l', 'b'])\n",
    "len(df_back), len(df_fore)"
   ]
  },
  {
   "cell_type": "code",
   "execution_count": null,
   "metadata": {},
   "outputs": [],
   "source": [
    "# create an instance of the CleanData class to perform ruwe and distance cuts\n",
    "clean = CleanData()\n",
    "clean.setup_params(default=True)"
   ]
  },
  {
   "cell_type": "code",
   "execution_count": null,
   "metadata": {},
   "outputs": [],
   "source": [
    "df_fore, df_back = clean.astrometric_quality(df_fore, df_back)\n",
    "df_fore, df_back = clean.distance_cut(df_fore, df_back)"
   ]
  },
  {
   "cell_type": "code",
   "execution_count": 41,
   "metadata": {
    "execution": {
     "iopub.execute_input": "2023-02-16T15:34:41.417133Z",
     "iopub.status.busy": "2023-02-16T15:34:41.416099Z",
     "iopub.status.idle": "2023-02-16T15:36:46.640559Z",
     "shell.execute_reply": "2023-02-16T15:36:46.638975Z",
     "shell.execute_reply.started": "2023-02-16T15:34:41.417073Z"
    }
   },
   "outputs": [],
   "source": [
    "# save the result\n",
    "df_fore.to_csv(DataDir+'fg_clean.csv', index=False, chunksize=100000)\n",
    "df_back.to_csv(DataDir+'bg_clean.csv', index=False, chunksize=100000)"
   ]
  },
  {
   "cell_type": "markdown",
   "metadata": {},
   "source": [
    "# Read in cleaned data and perform background subtraction"
   ]
  },
  {
   "cell_type": "code",
   "execution_count": 5,
   "metadata": {
    "execution": {
     "iopub.execute_input": "2023-07-13T14:18:48.861107Z",
     "iopub.status.busy": "2023-07-13T14:18:48.860741Z",
     "iopub.status.idle": "2023-07-13T14:19:40.461615Z",
     "shell.execute_reply": "2023-07-13T14:19:40.460721Z",
     "shell.execute_reply.started": "2023-07-13T14:18:48.861073Z"
    }
   },
   "outputs": [
    {
     "data": {
      "text/plain": [
       "(15138051, 15138051)"
      ]
     },
     "execution_count": 5,
     "metadata": {},
     "output_type": "execute_result"
    }
   ],
   "source": [
    "# read in the data files for the background and foreground stars after the ruwe and distance cuts\n",
    "df_fore = pd.read_csv(DataDir+'fg_clean.csv', \n",
    "                      usecols = ['source_id', 'ra', 'dec', 'pmra', 'pmdec','pmra_error', 'pmdec_error', \n",
    "                                 'parallax', 'parallax_error', 'phot_g_mean_mag', 'dist_50', 'dist_14', 'dist_86', 'l', 'b'])\n",
    "df_back = pd.read_csv(DataDir+'bg_clean.csv', \n",
    "                      usecols = ['source_id', 'ra', 'dec', 'pmra', 'pmdec', 'pmra_error', 'pmdec_error', 'pmra_pmdec_corr', \n",
    "                                 'parallax', 'parallax_error', 'phot_g_mean_mag', 'dist_50', 'dist_14', 'dist_86', 'dist_error', 'l', 'b'])\n",
    "len(df_back), len(df_fore)"
   ]
  },
  {
   "cell_type": "code",
   "execution_count": 6,
   "metadata": {
    "execution": {
     "iopub.execute_input": "2023-07-13T14:19:52.674821Z",
     "iopub.status.busy": "2023-07-13T14:19:52.674351Z",
     "iopub.status.idle": "2023-07-13T14:19:52.717069Z",
     "shell.execute_reply": "2023-07-13T14:19:52.716450Z",
     "shell.execute_reply.started": "2023-07-13T14:19:52.674783Z"
    }
   },
   "outputs": [],
   "source": [
    "# create an instance of the ProperMotionStats class to compute the proper motion statistics (mean and variance): subtract the mean, remove the outliers, and compute the effective errors\n",
    "stats = ProperMotionStats()\n",
    "stats.setup_bins(default=True)\n",
    "stats.setup_params(default=True)"
   ]
  },
  {
   "cell_type": "code",
   "execution_count": 7,
   "metadata": {
    "execution": {
     "iopub.execute_input": "2023-07-13T14:20:11.173454Z",
     "iopub.status.busy": "2023-07-13T14:20:11.173086Z",
     "iopub.status.idle": "2023-07-13T14:35:35.349567Z",
     "shell.execute_reply": "2023-07-13T14:35:35.339031Z",
     "shell.execute_reply.started": "2023-07-13T14:20:11.173419Z"
    }
   },
   "outputs": [
    {
     "name": "stdout",
     "output_type": "stream",
     "text": [
      "Iter 0 -- fraction of stars in sparse bins: 15.28730 %\n",
      "Iter 0 -- fraction of outliers removed: 2.483746 %\n",
      "Iter 1 -- fraction of stars in sparse bins: 2.557835 %\n",
      "Iter 1 -- fraction of outliers removed: 1.648274 %\n",
      "Iter 2 -- fraction of stars in sparse bins: 0.715149 %\n",
      "Iter 2 -- fraction of outliers removed: 0.783062 %\n",
      "Iter 3 -- fraction of stars in sparse bins: 0.161387 %\n",
      "Iter 3 -- fraction of outliers removed: 0.361407 %\n",
      "Iter 4 -- fraction of stars in sparse bins: 0.075459 %\n",
      "Iter 4 -- fraction of outliers removed: 0.169932 %\n",
      "Iter 5 -- fraction of stars in sparse bins: 0.030268 %\n",
      "Iter 5 -- fraction of outliers removed: 0.082062 %\n",
      "Iter 6 -- fraction of stars in sparse bins: 0.017689 %\n",
      "Iter 6 -- fraction of outliers removed: 0.039358 %\n",
      "Iter 7 -- fraction of stars in sparse bins: 0.004497 %\n",
      "Iter 7 -- fraction of outliers removed: 0.019452 %\n",
      "Iter 8 -- fraction of stars in sparse bins: 0.001342 %\n",
      "Iter 8 -- fraction of outliers removed: 0.009647 %\n",
      "Iter 9 -- fraction of stars in sparse bins: 0.003019 %\n",
      "Iter 9 -- fraction of outliers removed: 0.005140 %\n"
     ]
    }
   ],
   "source": [
    "# iterative proper motion subtraction and outlier removal\n",
    "iter_n=0\n",
    "out_frac=1\n",
    "n_iter = 10 # each iteration takes around 2 minutes\n",
    "\n",
    "while (iter_n<n_iter) & (out_frac>1E-5):\n",
    "    \n",
    "    df_fore_n, df_back_n, out_frac = stats.compute_stats(df_fore, df_back, iter_n=iter_n, final_call=False)\n",
    "    df_fore, df_back = df_fore_n, df_back_n\n",
    "    iter_n += 1; "
   ]
  },
  {
   "cell_type": "code",
   "execution_count": 8,
   "metadata": {
    "execution": {
     "iopub.execute_input": "2023-07-13T14:37:38.159000Z",
     "iopub.status.busy": "2023-07-13T14:37:38.156763Z",
     "iopub.status.idle": "2023-07-13T14:38:36.876341Z",
     "shell.execute_reply": "2023-07-13T14:38:36.874963Z",
     "shell.execute_reply.started": "2023-07-13T14:37:38.158600Z"
    }
   },
   "outputs": [
    {
     "name": "stdout",
     "output_type": "stream",
     "text": [
      "Iter 10 -- fraction of stars in sparse bins: 0.001419 %\n",
      "Adding columns with the new stats...\n"
     ]
    },
    {
     "name": "stderr",
     "output_type": "stream",
     "text": [
      "./utils/data_cleaning.py:263: SettingWithCopyWarning: \n",
      "A value is trying to be set on a copy of a slice from a DataFrame.\n",
      "Try using .loc[row_indexer,col_indexer] = value instead\n",
      "\n",
      "See the caveats in the documentation: https://pandas.pydata.org/pandas-docs/stable/user_guide/indexing.html#returning-a-view-versus-a-copy\n",
      "  df_back['pmra_sub'] = pm_sub[:, 0]; df_back['pmdec_sub_'] = pm_sub[:, 1];\n",
      "./utils/data_cleaning.py:265: SettingWithCopyWarning: \n",
      "A value is trying to be set on a copy of a slice from a DataFrame.\n",
      "Try using .loc[row_indexer,col_indexer] = value instead\n",
      "\n",
      "See the caveats in the documentation: https://pandas.pydata.org/pandas-docs/stable/user_guide/indexing.html#returning-a-view-versus-a-copy\n",
      "  df_back['pmra_eff_error'] = np.sqrt(tab_var_pmra)\n",
      "./utils/data_cleaning.py:266: SettingWithCopyWarning: \n",
      "A value is trying to be set on a copy of a slice from a DataFrame.\n",
      "Try using .loc[row_indexer,col_indexer] = value instead\n",
      "\n",
      "See the caveats in the documentation: https://pandas.pydata.org/pandas-docs/stable/user_guide/indexing.html#returning-a-view-versus-a-copy\n",
      "  df_back['pmdec_eff_error'] = np.sqrt(tab_var_pmdec)\n",
      "./utils/data_cleaning.py:267: SettingWithCopyWarning: \n",
      "A value is trying to be set on a copy of a slice from a DataFrame.\n",
      "Try using .loc[row_indexer,col_indexer] = value instead\n",
      "\n",
      "See the caveats in the documentation: https://pandas.pydata.org/pandas-docs/stable/user_guide/indexing.html#returning-a-view-versus-a-copy\n",
      "  df_back['pmra_pmdec_eff_corr'] = tab_var_pmradec/(np.sqrt(tab_var_pmra)*np.sqrt(tab_var_pmdec))\n"
     ]
    }
   ],
   "source": [
    "# perform the subtraction one last time without removing the outliers\n",
    "pd.options.mode.chained_assignment = None # disable pandas SettingWithCopyWarning\n",
    "\n",
    "df_fore_n, df_back_n = stats.compute_stats(df_fore, df_back, iter_n=iter_n, final_call=True)\n",
    "df_fore, df_back = df_fore_n, df_back_n"
   ]
  },
  {
   "cell_type": "code",
   "execution_count": 24,
   "metadata": {
    "execution": {
     "iopub.execute_input": "2023-07-13T14:48:21.230926Z",
     "iopub.status.busy": "2023-07-13T14:48:21.230529Z",
     "iopub.status.idle": "2023-07-13T14:57:16.249872Z",
     "shell.execute_reply": "2023-07-13T14:57:16.247928Z",
     "shell.execute_reply.started": "2023-07-13T14:48:21.230885Z"
    }
   },
   "outputs": [],
   "source": [
    "# save the result\n",
    "\n",
    "df_fore.to_csv(DataDir+'fg_subtracted.csv', index=False, chunksize=100000)\n",
    "df_back.to_csv(DataDir+'bg_subtracted.csv', index=False, chunksize=100000)"
   ]
  },
  {
   "cell_type": "code",
   "execution_count": null,
   "metadata": {},
   "outputs": [],
   "source": []
  }
 ],
 "metadata": {
  "kernelspec": {
   "display_name": "Python 3",
   "language": "python",
   "name": "python3"
  },
  "language_info": {
   "codemirror_mode": {
    "name": "ipython",
    "version": 3
   },
   "file_extension": ".py",
   "mimetype": "text/x-python",
   "name": "python",
   "nbconvert_exporter": "python",
   "pygments_lexer": "ipython3",
   "version": "3.8.5"
  }
 },
 "nbformat": 4,
 "nbformat_minor": 4
}
