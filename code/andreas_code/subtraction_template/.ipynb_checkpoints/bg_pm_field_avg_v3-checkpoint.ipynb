{
 "cells": [
  {
   "cell_type": "code",
   "execution_count": 1,
   "metadata": {
    "execution": {
     "iopub.execute_input": "2023-02-15T16:32:55.627356Z",
     "iopub.status.busy": "2023-02-15T16:32:55.626927Z",
     "iopub.status.idle": "2023-02-15T16:32:57.150913Z",
     "shell.execute_reply": "2023-02-15T16:32:57.150535Z",
     "shell.execute_reply.started": "2023-02-15T16:32:55.627262Z"
    }
   },
   "outputs": [],
   "source": [
    "import numpy as np\n",
    "import pandas as pd\n",
    "\n",
    "import healpy as hp\n",
    "from tqdm import tqdm, tqdm_notebook\n",
    "import scipy as sp\n",
    "from scipy.special import erf\n",
    "from scipy import stats\n",
    "\n",
    "import sys\n",
    "from my_units import * \n",
    "\n",
    "from angular_fn import *\n",
    "from template_fn import *\n",
    "from cov_matrix_fn import *\n",
    "\n",
    "import matplotlib.pyplot as plt\n",
    "import matplotlib as mpl\n",
    "from mpl_toolkits.axes_grid1 import make_axes_locatable\n",
    "\n",
    "HomeDir = './'\n",
    "DataDir = '/Users/crimondino/Dropbox (PI)/LensVelocity2/data/pairs_ruwe_dist/'#HomeDir #+ 'code/'\n",
    "### Set this to the directory where you store your data files (see below how to download them)\n",
    "ListDir = HomeDir+'lists/hist_stats/'\n",
    "FigDir = HomeDir+'figures/'"
   ]
  },
  {
   "cell_type": "markdown",
   "metadata": {
    "heading_collapsed": "true"
   },
   "source": [
    "# Read in files"
   ]
  },
  {
   "cell_type": "code",
   "execution_count": 2,
   "metadata": {},
   "outputs": [],
   "source": [
    "#df_back = pd.read_csv(DataDir+'pairs_background_ruwe_w_st.csv', usecols = ['source_id', 'ra', 'dec', 'pmra', 'pmdec','pmra_error', 'pmdec_error', 'pmra_pmdec_corr', 'pmra_eff_error', 'pmdec_eff_error', 'pmra_pmdec_eff_corr', 'parallax', 'parallax_error', 'pmra_sub', 'pmdec_sub', 'phot_g_mean_mag', 'ruwe'])\n",
    "#print('Backgrounds read in.')\n",
    "\n",
    "#df_fore = pd.read_csv(DataDir+'pairs_foreground_ruwe_w_st.csv', usecols = ['source_id', 'ra', 'dec', 'pmra', 'pmdec','pmra_error', 'pmdec_error', 'parallax', 'parallax_error', 'phot_g_mean_mag', 'ruwe'])\n",
    "#print('Foregrounds read in.')"
   ]
  },
  {
   "cell_type": "code",
   "execution_count": 3,
   "metadata": {
    "execution": {
     "iopub.execute_input": "2023-02-14T18:12:52.763837Z",
     "iopub.status.busy": "2023-02-14T18:12:52.763746Z",
     "iopub.status.idle": "2023-02-14T18:13:23.239994Z",
     "shell.execute_reply": "2023-02-14T18:13:23.239345Z",
     "shell.execute_reply.started": "2023-02-14T18:12:52.763825Z"
    }
   },
   "outputs": [
    {
     "data": {
      "text/plain": [
       "(10448136, 10448136)"
      ]
     },
     "execution_count": 3,
     "metadata": {},
     "output_type": "execute_result"
    }
   ],
   "source": [
    "### Read in the data files for the background and foreground stars\n",
    "df_back = pd.read_csv(DataDir+'bg_ruwe_dist.csv', \n",
    "                      usecols = ['source_id', 'ra', 'dec', 'pmra', 'pmdec','pmra_error', 'pmdec_error', 'pmra_pmdec_corr', 'pmra_eff_error', 'pmdec_eff_error', 'pmra_pmdec_eff_corr', \n",
    "                                 'parallax', 'parallax_error', 'pmra_sub', 'pmdec_sub', 'phot_g_mean_mag', 'ruwe'])\n",
    "df_fore = pd.read_csv(DataDir+'fg_ruwe_dist.csv', \n",
    "                      usecols = ['source_id', 'ra', 'dec', 'pmra', 'pmdec','pmra_error', 'pmdec_error', 'parallax', 'parallax_error', 'phot_g_mean_mag', 'ruwe'])\n",
    "len(df_back), len(df_fore)"
   ]
  },
  {
   "cell_type": "code",
   "execution_count": 76,
   "metadata": {
    "execution": {
     "iopub.execute_input": "2023-02-14T19:08:18.067945Z",
     "iopub.status.busy": "2023-02-14T19:08:18.067602Z",
     "iopub.status.idle": "2023-02-14T19:08:18.163823Z",
     "shell.execute_reply": "2023-02-14T19:08:18.163303Z",
     "shell.execute_reply.started": "2023-02-14T19:08:18.067912Z"
    }
   },
   "outputs": [],
   "source": [
    "bright_back =  df_back['phot_g_mean_mag'].to_numpy() < 10\n",
    "lens_factor = (1-fore_dist[bright_back]['1']/back_dist[bright_back]['1']).to_numpy()"
   ]
  },
  {
   "cell_type": "code",
   "execution_count": 77,
   "metadata": {
    "execution": {
     "iopub.execute_input": "2023-02-14T19:08:18.508078Z",
     "iopub.status.busy": "2023-02-14T19:08:18.505760Z",
     "iopub.status.idle": "2023-02-14T19:08:18.516995Z",
     "shell.execute_reply": "2023-02-14T19:08:18.516063Z",
     "shell.execute_reply.started": "2023-02-14T19:08:18.507999Z"
    }
   },
   "outputs": [
    {
     "data": {
      "text/plain": [
       "54"
      ]
     },
     "execution_count": 77,
     "metadata": {},
     "output_type": "execute_result"
    }
   ],
   "source": [
    "len(lens_factor[lens_factor > 0.5])"
   ]
  },
  {
   "cell_type": "code",
   "execution_count": 4,
   "metadata": {
    "execution": {
     "iopub.execute_input": "2023-02-14T18:13:23.241770Z",
     "iopub.status.busy": "2023-02-14T18:13:23.241655Z",
     "iopub.status.idle": "2023-02-14T18:13:30.428927Z",
     "shell.execute_reply": "2023-02-14T18:13:30.423374Z",
     "shell.execute_reply.started": "2023-02-14T18:13:23.241755Z"
    }
   },
   "outputs": [
    {
     "data": {
      "text/plain": [
       "(10448136, 10448136)"
      ]
     },
     "execution_count": 4,
     "metadata": {},
     "output_type": "execute_result"
    }
   ],
   "source": [
    "### Read in the data files for the Bailer-Jones distances\n",
    "back_dist = pd.read_csv(DataDir+'bg_distances.csv', usecols = ['0', '1', '2', '3'])\n",
    "fore_dist = pd.read_csv(DataDir+'fg_distances.csv', usecols = ['0', '1', '2', '3'])\n",
    "len(back_dist), len(fore_dist)"
   ]
  },
  {
   "cell_type": "code",
   "execution_count": 18,
   "metadata": {
    "execution": {
     "iopub.execute_input": "2023-02-09T15:31:18.268319Z",
     "iopub.status.busy": "2023-02-09T15:31:18.267849Z",
     "iopub.status.idle": "2023-02-09T15:31:18.292797Z",
     "shell.execute_reply": "2023-02-09T15:31:18.292124Z",
     "shell.execute_reply.started": "2023-02-09T15:31:18.268245Z"
    }
   },
   "outputs": [
    {
     "data": {
      "text/html": [
       "<div>\n",
       "<style scoped>\n",
       "    .dataframe tbody tr th:only-of-type {\n",
       "        vertical-align: middle;\n",
       "    }\n",
       "\n",
       "    .dataframe tbody tr th {\n",
       "        vertical-align: top;\n",
       "    }\n",
       "\n",
       "    .dataframe thead th {\n",
       "        text-align: right;\n",
       "    }\n",
       "</style>\n",
       "<table border=\"1\" class=\"dataframe\">\n",
       "  <thead>\n",
       "    <tr style=\"text-align: right;\">\n",
       "      <th></th>\n",
       "      <th>0</th>\n",
       "      <th>1</th>\n",
       "      <th>2</th>\n",
       "      <th>3</th>\n",
       "    </tr>\n",
       "  </thead>\n",
       "  <tbody>\n",
       "    <tr>\n",
       "      <th>0</th>\n",
       "      <td>8246337986176</td>\n",
       "      <td>3971.99850</td>\n",
       "      <td>3198.10550</td>\n",
       "      <td>5133.20750</td>\n",
       "    </tr>\n",
       "    <tr>\n",
       "      <th>1</th>\n",
       "      <td>17390323414400</td>\n",
       "      <td>487.26510</td>\n",
       "      <td>477.90253</td>\n",
       "      <td>496.88528</td>\n",
       "    </tr>\n",
       "    <tr>\n",
       "      <th>2</th>\n",
       "      <td>44362718024064</td>\n",
       "      <td>2344.73300</td>\n",
       "      <td>1347.35780</td>\n",
       "      <td>3834.37600</td>\n",
       "    </tr>\n",
       "    <tr>\n",
       "      <th>3</th>\n",
       "      <td>45664092292480</td>\n",
       "      <td>394.70175</td>\n",
       "      <td>392.11835</td>\n",
       "      <td>397.17258</td>\n",
       "    </tr>\n",
       "    <tr>\n",
       "      <th>4</th>\n",
       "      <td>116479513433472</td>\n",
       "      <td>289.37510</td>\n",
       "      <td>280.17908</td>\n",
       "      <td>296.92358</td>\n",
       "    </tr>\n",
       "    <tr>\n",
       "      <th>...</th>\n",
       "      <td>...</td>\n",
       "      <td>...</td>\n",
       "      <td>...</td>\n",
       "      <td>...</td>\n",
       "    </tr>\n",
       "    <tr>\n",
       "      <th>10448131</th>\n",
       "      <td>6917478140870742912</td>\n",
       "      <td>626.69495</td>\n",
       "      <td>587.05896</td>\n",
       "      <td>667.95590</td>\n",
       "    </tr>\n",
       "    <tr>\n",
       "      <th>10448132</th>\n",
       "      <td>6917489002841912192</td>\n",
       "      <td>2321.53700</td>\n",
       "      <td>1403.91750</td>\n",
       "      <td>3485.24400</td>\n",
       "    </tr>\n",
       "    <tr>\n",
       "      <th>10448133</th>\n",
       "      <td>6917515936580935168</td>\n",
       "      <td>1829.88760</td>\n",
       "      <td>1477.00330</td>\n",
       "      <td>2262.95070</td>\n",
       "    </tr>\n",
       "    <tr>\n",
       "      <th>10448134</th>\n",
       "      <td>6917516245821046528</td>\n",
       "      <td>2862.99660</td>\n",
       "      <td>1695.03850</td>\n",
       "      <td>5492.02640</td>\n",
       "    </tr>\n",
       "    <tr>\n",
       "      <th>10448135</th>\n",
       "      <td>6917527962491041664</td>\n",
       "      <td>5152.16750</td>\n",
       "      <td>3436.05570</td>\n",
       "      <td>7651.97270</td>\n",
       "    </tr>\n",
       "  </tbody>\n",
       "</table>\n",
       "<p>10448136 rows × 4 columns</p>\n",
       "</div>"
      ],
      "text/plain": [
       "                            0           1           2           3\n",
       "0               8246337986176  3971.99850  3198.10550  5133.20750\n",
       "1              17390323414400   487.26510   477.90253   496.88528\n",
       "2              44362718024064  2344.73300  1347.35780  3834.37600\n",
       "3              45664092292480   394.70175   392.11835   397.17258\n",
       "4             116479513433472   289.37510   280.17908   296.92358\n",
       "...                       ...         ...         ...         ...\n",
       "10448131  6917478140870742912   626.69495   587.05896   667.95590\n",
       "10448132  6917489002841912192  2321.53700  1403.91750  3485.24400\n",
       "10448133  6917515936580935168  1829.88760  1477.00330  2262.95070\n",
       "10448134  6917516245821046528  2862.99660  1695.03850  5492.02640\n",
       "10448135  6917527962491041664  5152.16750  3436.05570  7651.97270\n",
       "\n",
       "[10448136 rows x 4 columns]"
      ]
     },
     "execution_count": 18,
     "metadata": {},
     "output_type": "execute_result"
    }
   ],
   "source": [
    "back_dist"
   ]
  },
  {
   "cell_type": "markdown",
   "metadata": {
    "heading_collapsed": "true"
   },
   "source": [
    "# Quality cuts"
   ]
  },
  {
   "cell_type": "code",
   "execution_count": 5,
   "metadata": {
    "execution": {
     "iopub.execute_input": "2023-02-14T18:13:30.436061Z",
     "iopub.status.busy": "2023-02-14T18:13:30.433712Z",
     "iopub.status.idle": "2023-02-14T18:13:40.136372Z",
     "shell.execute_reply": "2023-02-14T18:13:40.135704Z",
     "shell.execute_reply.started": "2023-02-14T18:13:30.436045Z"
    }
   },
   "outputs": [
    {
     "name": "stdout",
     "output_type": "stream",
     "text": [
      "10448136\n"
     ]
    }
   ],
   "source": [
    "max_ruwe = 1.4\n",
    "\n",
    "df_fore = df_fore[df_back['ruwe'] < max_ruwe]\n",
    "back_dist = back_dist[df_back['ruwe'] < max_ruwe]\n",
    "fore_dist = fore_dist[df_back['ruwe'] < max_ruwe]\n",
    "\n",
    "df_back = df_back[df_back['ruwe'] < max_ruwe]\n",
    "\n",
    "\n",
    "df_back = df_back[df_fore['ruwe'] < max_ruwe]\n",
    "back_dist = back_dist[df_fore['ruwe'] < max_ruwe]\n",
    "fore_dist = fore_dist[df_fore['ruwe'] < max_ruwe]\n",
    "\n",
    "df_fore = df_fore[df_fore['ruwe'] < max_ruwe]\n",
    "\n",
    "\n",
    "print(len(df_fore))"
   ]
  },
  {
   "cell_type": "code",
   "execution_count": 6,
   "metadata": {
    "execution": {
     "iopub.execute_input": "2023-02-14T18:13:40.137842Z",
     "iopub.status.busy": "2023-02-14T18:13:40.137699Z",
     "iopub.status.idle": "2023-02-14T18:13:43.395225Z",
     "shell.execute_reply": "2023-02-14T18:13:43.394694Z",
     "shell.execute_reply.started": "2023-02-14T18:13:40.137828Z"
    }
   },
   "outputs": [
    {
     "name": "stdout",
     "output_type": "stream",
     "text": [
      "10448135\n"
     ]
    }
   ],
   "source": [
    "back_dist_med = back_dist['1'].to_numpy()\n",
    "back_dist_lo = back_dist['2'].to_numpy()\n",
    "back_dist_hi = back_dist['3'].to_numpy()\n",
    "\n",
    "fore_dist_med = fore_dist['1'].to_numpy()\n",
    "fore_dist_lo = fore_dist['2'].to_numpy()\n",
    "fore_dist_hi = fore_dist['3'].to_numpy()\n",
    "\n",
    "nsigma = 2\n",
    "condition = fore_dist_med + nsigma * (fore_dist_hi - fore_dist_med) < back_dist_med - nsigma * (back_dist_med - back_dist_lo)\n",
    "\n",
    "df_fore = df_fore[condition]\n",
    "df_back = df_back[condition]\n",
    "\n",
    "fore_dist = fore_dist[condition]\n",
    "back_dist = back_dist[condition]\n",
    "\n",
    "back_dist_med = back_dist['1'].to_numpy()\n",
    "back_dist_lo = back_dist['2'].to_numpy()\n",
    "back_dist_hi = back_dist['3'].to_numpy()\n",
    "\n",
    "fore_dist_med = fore_dist['1'].to_numpy()\n",
    "fore_dist_lo = fore_dist['2'].to_numpy()\n",
    "fore_dist_hi = fore_dist['3'].to_numpy()\n",
    "print(len(df_fore))"
   ]
  },
  {
   "cell_type": "code",
   "execution_count": 7,
   "metadata": {
    "execution": {
     "iopub.execute_input": "2023-02-14T18:13:43.396430Z",
     "iopub.status.busy": "2023-02-14T18:13:43.396321Z",
     "iopub.status.idle": "2023-02-14T18:13:43.521061Z",
     "shell.execute_reply": "2023-02-14T18:13:43.520711Z",
     "shell.execute_reply.started": "2023-02-14T18:13:43.396416Z"
    }
   },
   "outputs": [],
   "source": [
    "df_back['dist'] = back_dist_med\n",
    "# take average of posterior widths\n",
    "df_back['dist_error'] = ((back_dist_med - back_dist_lo) + (back_dist_hi - back_dist_med)) / 2"
   ]
  },
  {
   "cell_type": "code",
   "execution_count": 8,
   "metadata": {
    "execution": {
     "iopub.execute_input": "2023-02-14T18:13:43.522807Z",
     "iopub.status.busy": "2023-02-14T18:13:43.522689Z",
     "iopub.status.idle": "2023-02-14T18:13:44.146674Z",
     "shell.execute_reply": "2023-02-14T18:13:44.146325Z",
     "shell.execute_reply.started": "2023-02-14T18:13:43.522795Z"
    }
   },
   "outputs": [
    {
     "data": {
      "image/png": "[encoded data removed]",
      "text/plain": [
       "<Figure size 900x600 with 1 Axes>"
      ]
     },
     "metadata": {
      "needs_background": "light"
     },
     "output_type": "display_data"
    }
   ],
   "source": [
    "fig, ax = plt.subplots(1,1, figsize=(6,4),dpi=150)\n",
    "ax.hist(fore_dist['1']/back_dist['1'], log = True,  density = True, bins = 100, histtype='step', color = 'darkslateblue')\n",
    "ax.set_xlabel(r'Bailer-Jones distance [pc]')\n",
    "fig.suptitle('Histograms of background distances')\n",
    "plt.show()"
   ]
  },
  {
   "cell_type": "markdown",
   "metadata": {},
   "source": [
    "# Binning in location, distance, $G$-magnitude, and angular separation"
   ]
  },
  {
   "cell_type": "markdown",
   "metadata": {},
   "source": [
    "## Import bin definitions"
   ]
  },
  {
   "cell_type": "code",
   "execution_count": 9,
   "metadata": {},
   "outputs": [
    {
     "data": {
      "text/plain": [
       "(3072, 7, 14, 12)"
      ]
     },
     "execution_count": 9,
     "metadata": {},
     "output_type": "execute_result"
    }
   ],
   "source": [
    "from bin_defs import *\n",
    "\n",
    "hp.nside2npix(hp.order2nside(n)), len(bins_dist), len(bins_G), len(bins_bil)"
   ]
  },
  {
   "cell_type": "code",
   "execution_count": 10,
   "metadata": {},
   "outputs": [
    {
     "data": {
      "text/plain": [
       "2634918"
      ]
     },
     "execution_count": 10,
     "metadata": {},
     "output_type": "execute_result"
    }
   ],
   "source": [
    "(hp.nside2npix(hp.order2nside(n))-1) * (len(bins_dist)-1) * (len(bins_G)-1) * (len(bins_bil)-1)"
   ]
  },
  {
   "cell_type": "markdown",
   "metadata": {},
   "source": [
    "## Bin assignments"
   ]
  },
  {
   "cell_type": "code",
   "execution_count": 11,
   "metadata": {},
   "outputs": [],
   "source": [
    "### Get the pixel bin index for the background stars\n",
    "q_pix = np.floor(df_back['source_id'].to_numpy() / fac_source_id).astype(int)\n",
    "bins_pix = np.arange(np.min(np.unique(q_pix)), np.max(np.unique(q_pix))+2,1) # should be +2 to include sources in the last bin\n",
    "q_binpix = np.digitize(q_pix, bins_pix)-1  # need to access the histogram matrix elements\n",
    "\n",
    "# assign to G bins\n",
    "bg_G = df_back['phot_g_mean_mag'].to_numpy()\n",
    "q_bin_G = np.digitize(bg_G, bins_G) - 1  \n",
    "\n",
    "# assign to radial bins\n",
    "## necessary columns\n",
    "fg_ra = df_fore['ra'].to_numpy()\n",
    "fg_dec = df_fore['dec'].to_numpy()\n",
    "bg_ra = df_back['ra'].to_numpy()\n",
    "bg_dec = df_back['dec'].to_numpy()\n",
    "## bil separation vectors\n",
    "l_bilvec = fn_angular_sep(fg_ra*degree, fg_dec*degree, bg_ra*degree, bg_dec*degree)\n",
    "l_bilnormsq = l_bilvec[:, 0]**2 + l_bilvec[:, 1]**2\n",
    "\n",
    "## bin definitions\n",
    "q_bil = np.sqrt(l_bilnormsq)/arcsec\n",
    "q_bin_bil = np.digitize(q_bil, bins_bil) - 1"
   ]
  },
  {
   "cell_type": "code",
   "execution_count": 12,
   "metadata": {},
   "outputs": [
    {
     "name": "stderr",
     "output_type": "stream",
     "text": [
      "100%|██████████| 6/6 [00:03<00:00,  1.60it/s]\n"
     ]
    }
   ],
   "source": [
    "# probabilistic assignment to distance bins\n",
    "bg_dist = df_back['dist'].to_numpy()\n",
    "# bg error is average of posteriors\n",
    "bg_dist_error = df_back['dist_error'].to_numpy()\n",
    "\n",
    "prob_dist = np.nan * np.ones((len(df_back),len(bins_dist)-1))\n",
    "for i in tqdm(range(len(bins_dist)-1)):\n",
    "    x1_list = (bins_dist[i]-bg_dist)/bg_dist_error/np.sqrt(2)\n",
    "    x2_list = (bins_dist[i+1]-bg_dist)/bg_dist_error/np.sqrt(2)\n",
    "    prob_dist[:,i] = 0.5*(erf(x2_list)-erf(x1_list))"
   ]
  },
  {
   "cell_type": "code",
   "execution_count": 13,
   "metadata": {},
   "outputs": [
    {
     "data": {
      "text/plain": [
       "(10448136, 6)"
      ]
     },
     "execution_count": 13,
     "metadata": {},
     "output_type": "execute_result"
    }
   ],
   "source": [
    "prob_dist.shape"
   ]
  },
  {
   "cell_type": "code",
   "execution_count": null,
   "metadata": {},
   "outputs": [],
   "source": []
  },
  {
   "cell_type": "markdown",
   "metadata": {},
   "source": [
    "## Function"
   ]
  },
  {
   "cell_type": "code",
   "execution_count": 14,
   "metadata": {},
   "outputs": [],
   "source": [
    "def fn_pm_stats(df_fore, df_back, th_count=30, return_tab=False, n_sigma_out = 3): ### if return_tab=True returns the tab without pm outliers, else returns the data frame with stats \n",
    "    from scipy.special import erf\n",
    "\n",
    "    # assign to healpix bins\n",
    "    q_pix = np.floor(df_back['source_id'].to_numpy() / fac_source_id).astype(int)\n",
    "    bins_pix = np.arange(np.min(np.unique(q_pix)), np.max(np.unique(q_pix))+2,1) # should be +2 to include sources in the last bin\n",
    "    q_bin_pix = np.digitize(q_pix, bins_pix) - 1  # need to access the histogram matrix elements\n",
    "\n",
    "    ### assign to G bins\n",
    "    # assign to G bins\n",
    "    bg_G = df_back['phot_g_mean_mag'].to_numpy()\n",
    "    q_bin_G = np.digitize(bg_G, bins_G) - 1  \n",
    "\n",
    "    # assign to radial bins\n",
    "    ## necessary columns\n",
    "    fg_ra = df_fore['ra'].to_numpy()\n",
    "    fg_dec = df_fore['dec'].to_numpy()\n",
    "    bg_ra = df_back['ra'].to_numpy()\n",
    "    bg_dec = df_back['dec'].to_numpy()\n",
    "    ## bil separation vectors\n",
    "    l_bilvec = fn_angular_sep(fg_ra*degree, fg_dec*degree, bg_ra*degree, bg_dec*degree)\n",
    "    l_bilnormsq = l_bilvec[:, 0]**2 + l_bilvec[:, 1]**2\n",
    "    ## bin definitions\n",
    "    q_bil = np.sqrt(l_bilnormsq)/arcsec\n",
    "    q_bin_bil = np.digitize(q_bil, bins_bil) - 1   \n",
    "\n",
    "    # probabilistic assignment to distance bins\n",
    "    bg_dist = df_back['dist'].to_numpy()\n",
    "    # bg error is average of posterior width in each direction\n",
    "    bg_dist_error = df_back['dist_error'].to_numpy()\n",
    "    \n",
    "    prob_dist = np.nan * np.ones((len(df_back),len(bins_dist)-1))\n",
    "    for i in range(len(bins_dist)-1):\n",
    "        x1_list = (bins_dist[i]-bg_dist)/bg_dist_error/np.sqrt(2)\n",
    "        x2_list = (bins_dist[i+1]-bg_dist)/bg_dist_error/np.sqrt(2)\n",
    "        prob_dist[:,i] = 0.5*(erf(x2_list)-erf(x1_list))\n",
    "\n",
    "    bg_pmra = df_back['pmra'].to_numpy(); bg_pmdec = df_back['pmdec'].to_numpy()\n",
    "    ### histogram of summed probabilities\n",
    "    hist_prob = sp.stats.binned_statistic_dd([q_bil, bg_G, q_pix], np.transpose(prob_dist), bins=[bins_bil, bins_G, bins_pix],statistic='sum')[0] \n",
    "    ### histogram of average pmra weighted by probabilities\n",
    "    hist_pmra = sp.stats.binned_statistic_dd([q_bil, bg_G, q_pix],np.transpose(prob_dist) * bg_pmra, bins=[bins_bil, bins_G, bins_pix],statistic='sum')[0] #sum first in each bin\n",
    "    hist_pmra = hist_pmra / (hist_prob + 1e-20) #then divide by number in each bin\n",
    "    hist_pmdec = sp.stats.binned_statistic_dd([q_bil, bg_G, q_pix],np.transpose(prob_dist) * bg_pmdec, bins=[bins_bil, bins_G, bins_pix], statistic='sum')[0] #sum first in each bin\n",
    "    hist_pmdec = hist_pmdec / (hist_prob + 1e-20) #then divide by number in each bin\n",
    "    \n",
    "    ### For each star, get the mean pm of the corresponding bin\n",
    "    mean_pmra = hist_pmra[:, q_bin_bil, q_bin_G, q_bin_pix].T; mean_pmdec = hist_pmdec[:, q_bin_bil, q_bin_G, q_bin_pix].T\n",
    "\n",
    "    ### histogram of pm variance weighted by dist bin probabilities\n",
    "    hist_pmra_var = sp.stats.binned_statistic_dd([q_bil, bg_G, q_pix],np.transpose(prob_dist) * (mean_pmra.T - bg_pmra)**2,\n",
    "                                                    bins=[bins_bil, bins_G, bins_pix],statistic='sum')[0] #sum first in each bin\n",
    "    hist_pmra_var = hist_pmra_var / (hist_prob - 1 + 1e-20) # the estimator should have a -1 (this matches for example var() computed with panda's groupy)\n",
    "    hist_pmdec_var = sp.stats.binned_statistic_dd([q_bil, bg_G, q_pix],np.transpose(prob_dist) * (mean_pmdec.T - bg_pmdec)**2,\n",
    "                                                    bins=[bins_bil, bins_G, bins_pix],statistic='sum')[0] #sum first in each bin\n",
    "    hist_pmdec_var = hist_pmdec_var / (hist_prob - 1 + 1e-20) \n",
    "    hist_pmradec_var = sp.stats.binned_statistic_dd([q_bil, bg_G, q_pix],np.transpose(prob_dist) * (mean_pmra.T - bg_pmra) * (mean_pmdec.T - bg_pmdec),\n",
    "                                                        bins=[bins_bil, bins_G, bins_pix],statistic='sum')[0] #sum first in each bin\n",
    "    hist_pmradec_var = hist_pmradec_var / (hist_prob - 1 + 1e-20) \n",
    "    \n",
    "    ### set to nan bins where there are too few stars\n",
    "    hist_pmra[hist_prob < th_count] = np.nan; hist_pmdec[hist_prob < th_count] = np.nan\n",
    "    hist_pmra_var[hist_prob < th_count] = np.nan; hist_pmdec_var[hist_prob < th_count] = np.nan; hist_pmradec_var[hist_prob < th_count] = np.nan\n",
    "\n",
    "    if return_tab==False: # returns the data frame with the statistics computed using tab\n",
    "        ###  filler for generalized bins indices\n",
    "        hist_bins_pix = np.ones(np.shape(hist_prob)) * bins_pix[:-1]\n",
    "        hist_bins_G = np.transpose(np.transpose(np.ones(np.shape(hist_prob)),axes=[0,1,3,2]) * bins_G[:-1],axes=[0,1,3,2])\n",
    "        hist_bins_bil = np.transpose(np.transpose(np.ones(np.shape(hist_prob)),axes=[0,3,2,1]) * bins_bil[:-1],axes=[0,3,2,1])\n",
    "        hist_bins_dist = np.transpose(np.transpose(np.ones(np.shape(hist_prob)),axes=[3,1,2,0]) * bins_dist[:-1],axes=[3,1,2,0])\n",
    "\n",
    "        ###  collect data and output\n",
    "        data = np.transpose([hist_bins_pix, hist_bins_G, hist_bins_bil, hist_bins_dist, hist_prob, hist_pmra, hist_pmdec, hist_pmra_var, hist_pmdec_var, hist_pmradec_var],axes=[1,2,3,4,0])\n",
    "        data = data.reshape(-1, data.shape[-1])\n",
    "        return pd.DataFrame(data,columns=['pix','G_bin', 'bil_bin', 'dist_bin','number','mean_pmra','mean_pmdec','var_pmra','var_pmdec','var_pmradec'])\n",
    "    \n",
    "    else: # returns tab where the pm outliers more than n_sigma_out away from zero have been removed\n",
    "        ### For each star, get the pm mean and variance of the corresponding bin (after excluding the low count bins)\n",
    "        mean_pmra = hist_pmra[:, q_bin_bil, q_bin_G, q_bin_pix].T; mean_pmdec = hist_pmdec[:, q_bin_bil, q_bin_G, q_bin_pix].T\n",
    "        var_pmra = hist_pmra_var[:, q_bin_bil, q_bin_G, q_bin_pix].T; var_pmdec = hist_pmdec_var[:, q_bin_bil, q_bin_G, q_bin_pix].T; var_pmradec = hist_pmradec_var[:, q_bin_bil, q_bin_G, q_bin_pix].T;    \n",
    "\n",
    "        ###  Get the mean and var for each star\n",
    "        tab_sum_pw = np.sum(prob_dist, axis=1, where=(~np.isnan(mean_pmra)))  # sum of the dist weights for each star using only bins with enough statistics \n",
    "        tab_mean_pmra = np.sum(np.nan_to_num(mean_pmra*prob_dist), axis=1)/(tab_sum_pw + 1e-20)\n",
    "        tab_mean_pmdec = np.sum(np.nan_to_num(mean_pmdec*prob_dist), axis=1)/(tab_sum_pw + 1e-20)\n",
    "        tab_var_pmra = np.sum(np.nan_to_num(var_pmra*prob_dist), axis=1)/(tab_sum_pw + 1e-20)\n",
    "        tab_var_pmdec = np.sum(np.nan_to_num(var_pmdec*prob_dist), axis=1)/(tab_sum_pw + 1e-20)\n",
    "        tab_var_pmradec = np.sum(np.nan_to_num(var_pmradec*prob_dist), axis=1)/(tab_sum_pw + 1e-20)        \n",
    "        \n",
    "        ### Replace the effective variance with the measurement errors for stars that have 0 mean (fall into empty bins)\n",
    "        tab_var_pmra[tab_var_pmra==0] = (df_back['pmra_error'].to_numpy()[tab_var_pmra==0])**2\n",
    "        tab_var_pmdec[tab_var_pmdec==0] = (df_back['pmdec_error'].to_numpy()[tab_var_pmdec==0])**2\n",
    "        tab_var_pmradec[tab_var_pmradec==0] = (df_back['pmra_pmdec_corr'].to_numpy()*df_back['pmra_error'].to_numpy()*df_back['pmdec_error'].to_numpy())[tab_var_pmradec==0]\n",
    "        \n",
    "        ### subtracted pm and inverse covariance for outlier removal\n",
    "        pm_sub = np.array([df_back['pmra'].to_numpy()-tab_mean_pmra, df_back['pmdec'].to_numpy()-tab_mean_pmdec]).T\n",
    "        inv_cov_pm = np.linalg.inv(np.array([[tab_var_pmra, tab_var_pmradec], [tab_var_pmradec, tab_var_pmdec]]).T)\n",
    "        mu_over_sigma_sq = inv_cov_pm[:, 0, 0]*pm_sub[:, 0]**2 + inv_cov_pm[:, 1, 1]*pm_sub[:, 1]**2 + 2*inv_cov_pm[:, 0, 1]*pm_sub[:, 0]*pm_sub[:, 1]\n",
    "        \n",
    "        return mu_over_sigma_sq"
   ]
  },
  {
   "cell_type": "markdown",
   "metadata": {},
   "source": [
    "## Run"
   ]
  },
  {
   "cell_type": "code",
   "execution_count": 15,
   "metadata": {},
   "outputs": [
    {
     "name": "stdout",
     "output_type": "stream",
     "text": [
      "Iter 1 -- fraction of outliers removed: 14.2507 %\n",
      "Number of stars remaining:8959200\n",
      "Iter 2 -- fraction of outliers removed: 1.87113 %\n",
      "Number of stars remaining:8791561\n",
      "Iter 3 -- fraction of outliers removed: 0.86473 %\n",
      "Number of stars remaining:8715537\n",
      "Iter 4 -- fraction of outliers removed: 0.38043 %\n",
      "Number of stars remaining:8682380\n",
      "Iter 5 -- fraction of outliers removed: 0.16397 %\n",
      "Number of stars remaining:8668143\n",
      "Iter 6 -- fraction of outliers removed: 0.07372 %\n",
      "Number of stars remaining:8661752\n",
      "Iter 7 -- fraction of outliers removed: 0.04002 %\n",
      "Number of stars remaining:8658285\n",
      "Iter 8 -- fraction of outliers removed: 0.01665 %\n",
      "Number of stars remaining:8656843\n",
      "Iter 9 -- fraction of outliers removed: 0.00865 %\n",
      "Number of stars remaining:8656094\n",
      "Iter 10 -- fraction of outliers removed: 0.00366 %\n",
      "Number of stars remaining:8655777\n"
     ]
    }
   ],
   "source": [
    "i=0\n",
    "out_frac=1\n",
    "n_iter = 10 # each iteration around 5 minutes\n",
    "n_sigma_out = 3\n",
    "\n",
    "\n",
    "while (i<n_iter) & (out_frac>1E-5):\n",
    "    mu_sig_sq = fn_pm_stats(df_fore, df_back, th_count=30, return_tab=True, n_sigma_out = 3)\n",
    "    i+=1; len_bg = len(df_back)\n",
    "    df_back = df_back.iloc[mu_sig_sq < n_sigma_out**2]\n",
    "    df_fore = df_fore.iloc[mu_sig_sq < n_sigma_out**2]\n",
    "    out_frac=(1-len(df_back)/len_bg); \n",
    "    print('Iter '+str(i)+' -- fraction of outliers removed: '+str(out_frac*100)[:7]+' %')\n",
    "    print('Number of stars remaining:' + str(len(df_back)))\n",
    "\n",
    "df_back = df_back.iloc[mu_sig_sq < n_sigma_out**2]\n",
    "df_fore = df_fore.iloc[mu_sig_sq < n_sigma_out**2]"
   ]
  },
  {
   "cell_type": "code",
   "execution_count": 16,
   "metadata": {},
   "outputs": [],
   "source": [
    "np.save('bg_sub_ind.npy', df_back.index.values)"
   ]
  },
  {
   "cell_type": "code",
   "execution_count": 17,
   "metadata": {},
   "outputs": [
    {
     "data": {
      "text/html": [
       "<div>\n",
       "<style scoped>\n",
       "    .dataframe tbody tr th:only-of-type {\n",
       "        vertical-align: middle;\n",
       "    }\n",
       "\n",
       "    .dataframe tbody tr th {\n",
       "        vertical-align: top;\n",
       "    }\n",
       "\n",
       "    .dataframe thead th {\n",
       "        text-align: right;\n",
       "    }\n",
       "</style>\n",
       "<table border=\"1\" class=\"dataframe\">\n",
       "  <thead>\n",
       "    <tr style=\"text-align: right;\">\n",
       "      <th></th>\n",
       "      <th>source_id</th>\n",
       "      <th>ra</th>\n",
       "      <th>dec</th>\n",
       "      <th>pmra</th>\n",
       "      <th>pmdec</th>\n",
       "      <th>pmra_error</th>\n",
       "      <th>pmdec_error</th>\n",
       "      <th>pmra_pmdec_corr</th>\n",
       "      <th>parallax</th>\n",
       "      <th>parallax_error</th>\n",
       "      <th>phot_g_mean_mag</th>\n",
       "      <th>ruwe</th>\n",
       "      <th>pmra_sub</th>\n",
       "      <th>pmdec_sub</th>\n",
       "      <th>pmra_eff_error</th>\n",
       "      <th>pmdec_eff_error</th>\n",
       "      <th>pmra_pmdec_eff_corr</th>\n",
       "      <th>dist</th>\n",
       "      <th>dist_error</th>\n",
       "    </tr>\n",
       "  </thead>\n",
       "  <tbody>\n",
       "    <tr>\n",
       "      <th>2</th>\n",
       "      <td>44362718024064</td>\n",
       "      <td>45.506006</td>\n",
       "      <td>0.495456</td>\n",
       "      <td>0.934795</td>\n",
       "      <td>0.320357</td>\n",
       "      <td>0.548966</td>\n",
       "      <td>0.559484</td>\n",
       "      <td>0.174756</td>\n",
       "      <td>-0.145891</td>\n",
       "      <td>0.517803</td>\n",
       "      <td>19.189219</td>\n",
       "      <td>1.194259</td>\n",
       "      <td>-2.704435</td>\n",
       "      <td>3.802161</td>\n",
       "      <td>5.638994</td>\n",
       "      <td>4.544521</td>\n",
       "      <td>-0.203361</td>\n",
       "      <td>2344.7330</td>\n",
       "      <td>1243.50910</td>\n",
       "    </tr>\n",
       "    <tr>\n",
       "      <th>53</th>\n",
       "      <td>1730322064500224</td>\n",
       "      <td>45.290283</td>\n",
       "      <td>2.881603</td>\n",
       "      <td>0.190329</td>\n",
       "      <td>0.388717</td>\n",
       "      <td>0.269778</td>\n",
       "      <td>0.247424</td>\n",
       "      <td>0.201122</td>\n",
       "      <td>-0.043157</td>\n",
       "      <td>0.287954</td>\n",
       "      <td>19.079718</td>\n",
       "      <td>0.958551</td>\n",
       "      <td>-2.508529</td>\n",
       "      <td>4.296689</td>\n",
       "      <td>4.606696</td>\n",
       "      <td>5.243475</td>\n",
       "      <td>-0.866790</td>\n",
       "      <td>2616.0002</td>\n",
       "      <td>1217.72025</td>\n",
       "    </tr>\n",
       "    <tr>\n",
       "      <th>64</th>\n",
       "      <td>2051555554134656</td>\n",
       "      <td>44.117295</td>\n",
       "      <td>3.558818</td>\n",
       "      <td>-0.086195</td>\n",
       "      <td>-0.061058</td>\n",
       "      <td>0.098963</td>\n",
       "      <td>0.090028</td>\n",
       "      <td>0.284681</td>\n",
       "      <td>0.054586</td>\n",
       "      <td>0.106445</td>\n",
       "      <td>17.599989</td>\n",
       "      <td>1.006210</td>\n",
       "      <td>-4.208723</td>\n",
       "      <td>6.673675</td>\n",
       "      <td>8.992337</td>\n",
       "      <td>7.682768</td>\n",
       "      <td>0.625186</td>\n",
       "      <td>4607.2393</td>\n",
       "      <td>1410.70205</td>\n",
       "    </tr>\n",
       "    <tr>\n",
       "      <th>76</th>\n",
       "      <td>2293993573501312</td>\n",
       "      <td>48.161769</td>\n",
       "      <td>2.885859</td>\n",
       "      <td>1.062064</td>\n",
       "      <td>0.288378</td>\n",
       "      <td>0.444607</td>\n",
       "      <td>0.374799</td>\n",
       "      <td>0.133582</td>\n",
       "      <td>0.013780</td>\n",
       "      <td>0.370777</td>\n",
       "      <td>19.562391</td>\n",
       "      <td>1.046555</td>\n",
       "      <td>-2.770720</td>\n",
       "      <td>4.698800</td>\n",
       "      <td>4.079017</td>\n",
       "      <td>4.780795</td>\n",
       "      <td>-0.415122</td>\n",
       "      <td>2452.2930</td>\n",
       "      <td>753.14785</td>\n",
       "    </tr>\n",
       "    <tr>\n",
       "      <th>260</th>\n",
       "      <td>7952905042726912</td>\n",
       "      <td>43.220563</td>\n",
       "      <td>6.349262</td>\n",
       "      <td>-0.258325</td>\n",
       "      <td>-0.695214</td>\n",
       "      <td>0.317765</td>\n",
       "      <td>0.263508</td>\n",
       "      <td>0.156281</td>\n",
       "      <td>-0.130584</td>\n",
       "      <td>0.263905</td>\n",
       "      <td>19.073437</td>\n",
       "      <td>0.992224</td>\n",
       "      <td>-5.155241</td>\n",
       "      <td>4.736531</td>\n",
       "      <td>8.265163</td>\n",
       "      <td>3.868450</td>\n",
       "      <td>-0.682328</td>\n",
       "      <td>3014.5645</td>\n",
       "      <td>1030.42640</td>\n",
       "    </tr>\n",
       "    <tr>\n",
       "      <th>...</th>\n",
       "      <td>...</td>\n",
       "      <td>...</td>\n",
       "      <td>...</td>\n",
       "      <td>...</td>\n",
       "      <td>...</td>\n",
       "      <td>...</td>\n",
       "      <td>...</td>\n",
       "      <td>...</td>\n",
       "      <td>...</td>\n",
       "      <td>...</td>\n",
       "      <td>...</td>\n",
       "      <td>...</td>\n",
       "      <td>...</td>\n",
       "      <td>...</td>\n",
       "      <td>...</td>\n",
       "      <td>...</td>\n",
       "      <td>...</td>\n",
       "      <td>...</td>\n",
       "      <td>...</td>\n",
       "    </tr>\n",
       "    <tr>\n",
       "      <th>61137798</th>\n",
       "      <td>6914657313723434112</td>\n",
       "      <td>310.531135</td>\n",
       "      <td>-4.217265</td>\n",
       "      <td>-0.040953</td>\n",
       "      <td>-0.176929</td>\n",
       "      <td>0.198044</td>\n",
       "      <td>0.166616</td>\n",
       "      <td>0.322804</td>\n",
       "      <td>-0.108888</td>\n",
       "      <td>0.168587</td>\n",
       "      <td>18.520987</td>\n",
       "      <td>1.034639</td>\n",
       "      <td>1.386192</td>\n",
       "      <td>4.201559</td>\n",
       "      <td>3.332869</td>\n",
       "      <td>2.577593</td>\n",
       "      <td>0.244396</td>\n",
       "      <td>5150.7960</td>\n",
       "      <td>1639.59015</td>\n",
       "    </tr>\n",
       "    <tr>\n",
       "      <th>61138009</th>\n",
       "      <td>6915035545723990016</td>\n",
       "      <td>311.761958</td>\n",
       "      <td>-3.769728</td>\n",
       "      <td>-0.054981</td>\n",
       "      <td>-0.335421</td>\n",
       "      <td>0.196297</td>\n",
       "      <td>0.169586</td>\n",
       "      <td>0.377381</td>\n",
       "      <td>0.582755</td>\n",
       "      <td>0.180099</td>\n",
       "      <td>18.513332</td>\n",
       "      <td>1.019746</td>\n",
       "      <td>0.626125</td>\n",
       "      <td>4.694711</td>\n",
       "      <td>5.083669</td>\n",
       "      <td>4.925378</td>\n",
       "      <td>0.217053</td>\n",
       "      <td>1858.4957</td>\n",
       "      <td>600.70540</td>\n",
       "    </tr>\n",
       "    <tr>\n",
       "      <th>61138151</th>\n",
       "      <td>6915443327097818112</td>\n",
       "      <td>315.470345</td>\n",
       "      <td>-3.820810</td>\n",
       "      <td>-0.010056</td>\n",
       "      <td>-0.696565</td>\n",
       "      <td>0.348701</td>\n",
       "      <td>0.281561</td>\n",
       "      <td>0.040716</td>\n",
       "      <td>0.379981</td>\n",
       "      <td>0.323976</td>\n",
       "      <td>19.397343</td>\n",
       "      <td>1.020808</td>\n",
       "      <td>1.077903</td>\n",
       "      <td>4.700766</td>\n",
       "      <td>4.858146</td>\n",
       "      <td>4.030911</td>\n",
       "      <td>0.409669</td>\n",
       "      <td>2972.4620</td>\n",
       "      <td>1213.74560</td>\n",
       "    </tr>\n",
       "    <tr>\n",
       "      <th>61138437</th>\n",
       "      <td>6916390968683209472</td>\n",
       "      <td>316.178217</td>\n",
       "      <td>-1.469753</td>\n",
       "      <td>1.019994</td>\n",
       "      <td>-0.154919</td>\n",
       "      <td>0.445302</td>\n",
       "      <td>0.489206</td>\n",
       "      <td>0.518798</td>\n",
       "      <td>0.887975</td>\n",
       "      <td>0.421485</td>\n",
       "      <td>19.690268</td>\n",
       "      <td>1.057806</td>\n",
       "      <td>1.638456</td>\n",
       "      <td>5.527198</td>\n",
       "      <td>6.644035</td>\n",
       "      <td>5.201203</td>\n",
       "      <td>0.196852</td>\n",
       "      <td>1209.5330</td>\n",
       "      <td>545.10935</td>\n",
       "    </tr>\n",
       "    <tr>\n",
       "      <th>61138714</th>\n",
       "      <td>6917137086109062272</td>\n",
       "      <td>315.802620</td>\n",
       "      <td>-1.331635</td>\n",
       "      <td>0.256124</td>\n",
       "      <td>0.389416</td>\n",
       "      <td>0.437381</td>\n",
       "      <td>0.420011</td>\n",
       "      <td>0.336341</td>\n",
       "      <td>0.094513</td>\n",
       "      <td>0.441763</td>\n",
       "      <td>19.749070</td>\n",
       "      <td>1.018227</td>\n",
       "      <td>0.891170</td>\n",
       "      <td>5.221815</td>\n",
       "      <td>3.940842</td>\n",
       "      <td>4.063959</td>\n",
       "      <td>0.286107</td>\n",
       "      <td>3355.7478</td>\n",
       "      <td>1429.60435</td>\n",
       "    </tr>\n",
       "  </tbody>\n",
       "</table>\n",
       "<p>8655777 rows × 19 columns</p>\n",
       "</div>"
      ],
      "text/plain": [
       "                    source_id          ra       dec      pmra     pmdec  \\\n",
       "2              44362718024064   45.506006  0.495456  0.934795  0.320357   \n",
       "53           1730322064500224   45.290283  2.881603  0.190329  0.388717   \n",
       "64           2051555554134656   44.117295  3.558818 -0.086195 -0.061058   \n",
       "76           2293993573501312   48.161769  2.885859  1.062064  0.288378   \n",
       "260          7952905042726912   43.220563  6.349262 -0.258325 -0.695214   \n",
       "...                       ...         ...       ...       ...       ...   \n",
       "61137798  6914657313723434112  310.531135 -4.217265 -0.040953 -0.176929   \n",
       "61138009  6915035545723990016  311.761958 -3.769728 -0.054981 -0.335421   \n",
       "61138151  6915443327097818112  315.470345 -3.820810 -0.010056 -0.696565   \n",
       "61138437  6916390968683209472  316.178217 -1.469753  1.019994 -0.154919   \n",
       "61138714  6917137086109062272  315.802620 -1.331635  0.256124  0.389416   \n",
       "\n",
       "          pmra_error  pmdec_error  pmra_pmdec_corr  parallax  parallax_error  \\\n",
       "2           0.548966     0.559484         0.174756 -0.145891        0.517803   \n",
       "53          0.269778     0.247424         0.201122 -0.043157        0.287954   \n",
       "64          0.098963     0.090028         0.284681  0.054586        0.106445   \n",
       "76          0.444607     0.374799         0.133582  0.013780        0.370777   \n",
       "260         0.317765     0.263508         0.156281 -0.130584        0.263905   \n",
       "...              ...          ...              ...       ...             ...   \n",
       "61137798    0.198044     0.166616         0.322804 -0.108888        0.168587   \n",
       "61138009    0.196297     0.169586         0.377381  0.582755        0.180099   \n",
       "61138151    0.348701     0.281561         0.040716  0.379981        0.323976   \n",
       "61138437    0.445302     0.489206         0.518798  0.887975        0.421485   \n",
       "61138714    0.437381     0.420011         0.336341  0.094513        0.441763   \n",
       "\n",
       "          phot_g_mean_mag      ruwe  pmra_sub  pmdec_sub  pmra_eff_error  \\\n",
       "2               19.189219  1.194259 -2.704435   3.802161        5.638994   \n",
       "53              19.079718  0.958551 -2.508529   4.296689        4.606696   \n",
       "64              17.599989  1.006210 -4.208723   6.673675        8.992337   \n",
       "76              19.562391  1.046555 -2.770720   4.698800        4.079017   \n",
       "260             19.073437  0.992224 -5.155241   4.736531        8.265163   \n",
       "...                   ...       ...       ...        ...             ...   \n",
       "61137798        18.520987  1.034639  1.386192   4.201559        3.332869   \n",
       "61138009        18.513332  1.019746  0.626125   4.694711        5.083669   \n",
       "61138151        19.397343  1.020808  1.077903   4.700766        4.858146   \n",
       "61138437        19.690268  1.057806  1.638456   5.527198        6.644035   \n",
       "61138714        19.749070  1.018227  0.891170   5.221815        3.940842   \n",
       "\n",
       "          pmdec_eff_error  pmra_pmdec_eff_corr       dist  dist_error  \n",
       "2                4.544521            -0.203361  2344.7330  1243.50910  \n",
       "53               5.243475            -0.866790  2616.0002  1217.72025  \n",
       "64               7.682768             0.625186  4607.2393  1410.70205  \n",
       "76               4.780795            -0.415122  2452.2930   753.14785  \n",
       "260              3.868450            -0.682328  3014.5645  1030.42640  \n",
       "...                   ...                  ...        ...         ...  \n",
       "61137798         2.577593             0.244396  5150.7960  1639.59015  \n",
       "61138009         4.925378             0.217053  1858.4957   600.70540  \n",
       "61138151         4.030911             0.409669  2972.4620  1213.74560  \n",
       "61138437         5.201203             0.196852  1209.5330   545.10935  \n",
       "61138714         4.063959             0.286107  3355.7478  1429.60435  \n",
       "\n",
       "[8655777 rows x 19 columns]"
      ]
     },
     "execution_count": 17,
     "metadata": {},
     "output_type": "execute_result"
    }
   ],
   "source": [
    "df_back"
   ]
  },
  {
   "cell_type": "code",
   "execution_count": 18,
   "metadata": {},
   "outputs": [],
   "source": [
    "df_pm_stats = fn_pm_stats(df_fore, df_back, return_tab=False)  \n",
    "df_pm_stats.to_csv('bg_pm_hist.csv') #write to file"
   ]
  },
  {
   "cell_type": "code",
   "execution_count": 29,
   "metadata": {},
   "outputs": [
    {
     "data": {
      "text/plain": [
       "6941.360075794276"
      ]
     },
     "execution_count": 29,
     "metadata": {},
     "output_type": "execute_result"
    }
   ],
   "source": [
    "np.max(mu_sig_sq)"
   ]
  },
  {
   "cell_type": "code",
   "execution_count": 28,
   "metadata": {},
   "outputs": [
    {
     "data": {
      "text/plain": [
       "(array([8.656093e+06, 0.000000e+00, 0.000000e+00, 0.000000e+00,\n",
       "        0.000000e+00, 0.000000e+00, 0.000000e+00, 0.000000e+00,\n",
       "        0.000000e+00, 0.000000e+00, 0.000000e+00, 0.000000e+00,\n",
       "        0.000000e+00, 0.000000e+00, 0.000000e+00, 0.000000e+00,\n",
       "        0.000000e+00, 0.000000e+00, 0.000000e+00, 0.000000e+00,\n",
       "        0.000000e+00, 0.000000e+00, 0.000000e+00, 0.000000e+00,\n",
       "        0.000000e+00, 0.000000e+00, 0.000000e+00, 0.000000e+00,\n",
       "        0.000000e+00, 0.000000e+00, 0.000000e+00, 0.000000e+00,\n",
       "        0.000000e+00, 0.000000e+00, 0.000000e+00, 0.000000e+00,\n",
       "        0.000000e+00, 0.000000e+00, 0.000000e+00, 0.000000e+00,\n",
       "        0.000000e+00, 0.000000e+00, 0.000000e+00, 0.000000e+00,\n",
       "        0.000000e+00, 0.000000e+00, 0.000000e+00, 0.000000e+00,\n",
       "        0.000000e+00, 1.000000e+00]),\n",
       " array([3.75361473e-07, 1.38827202e+02, 2.77654403e+02, 4.16481605e+02,\n",
       "        5.55308806e+02, 6.94136008e+02, 8.32963209e+02, 9.71790411e+02,\n",
       "        1.11061761e+03, 1.24944481e+03, 1.38827202e+03, 1.52709922e+03,\n",
       "        1.66592642e+03, 1.80475362e+03, 1.94358082e+03, 2.08240802e+03,\n",
       "        2.22123522e+03, 2.36006243e+03, 2.49888963e+03, 2.63771683e+03,\n",
       "        2.77654403e+03, 2.91537123e+03, 3.05419843e+03, 3.19302564e+03,\n",
       "        3.33185284e+03, 3.47068004e+03, 3.60950724e+03, 3.74833444e+03,\n",
       "        3.88716164e+03, 4.02598884e+03, 4.16481605e+03, 4.30364325e+03,\n",
       "        4.44247045e+03, 4.58129765e+03, 4.72012485e+03, 4.85895205e+03,\n",
       "        4.99777925e+03, 5.13660646e+03, 5.27543366e+03, 5.41426086e+03,\n",
       "        5.55308806e+03, 5.69191526e+03, 5.83074246e+03, 5.96956967e+03,\n",
       "        6.10839687e+03, 6.24722407e+03, 6.38605127e+03, 6.52487847e+03,\n",
       "        6.66370567e+03, 6.80253287e+03, 6.94136008e+03]),\n",
       " [<matplotlib.patches.Polygon at 0x7f2dabc91c40>])"
      ]
     },
     "execution_count": 28,
     "metadata": {},
     "output_type": "execute_result"
    },
    {
     "data": {
      "image/png": "[encoded data removed]",
      "text/plain": [
       "<Figure size 640x480 with 1 Axes>"
      ]
     },
     "metadata": {},
     "output_type": "display_data"
    }
   ],
   "source": [
    "plt.hist(mu_sig_sq, bins = 50, histtype='step')"
   ]
  },
  {
   "cell_type": "code",
   "execution_count": 19,
   "metadata": {},
   "outputs": [
    {
     "data": {
      "text/plain": [
       "(2635776, 10)"
      ]
     },
     "execution_count": 19,
     "metadata": {},
     "output_type": "execute_result"
    }
   ],
   "source": [
    "df_pm_stats.shape"
   ]
  },
  {
   "cell_type": "code",
   "execution_count": 20,
   "metadata": {},
   "outputs": [
    {
     "data": {
      "text/html": [
       "<div>\n",
       "<style scoped>\n",
       "    .dataframe tbody tr th:only-of-type {\n",
       "        vertical-align: middle;\n",
       "    }\n",
       "\n",
       "    .dataframe tbody tr th {\n",
       "        vertical-align: top;\n",
       "    }\n",
       "\n",
       "    .dataframe thead th {\n",
       "        text-align: right;\n",
       "    }\n",
       "</style>\n",
       "<table border=\"1\" class=\"dataframe\">\n",
       "  <thead>\n",
       "    <tr style=\"text-align: right;\">\n",
       "      <th></th>\n",
       "      <th>pix</th>\n",
       "      <th>G_bin</th>\n",
       "      <th>bil_bin</th>\n",
       "      <th>dist_bin</th>\n",
       "      <th>number</th>\n",
       "      <th>mean_pmra</th>\n",
       "      <th>mean_pmdec</th>\n",
       "      <th>var_pmra</th>\n",
       "      <th>var_pmdec</th>\n",
       "      <th>var_pmradec</th>\n",
       "    </tr>\n",
       "  </thead>\n",
       "  <tbody>\n",
       "    <tr>\n",
       "      <th>0</th>\n",
       "      <td>0.0</td>\n",
       "      <td>10.0</td>\n",
       "      <td>0.0</td>\n",
       "      <td>0.0</td>\n",
       "      <td>0.0</td>\n",
       "      <td>NaN</td>\n",
       "      <td>NaN</td>\n",
       "      <td>NaN</td>\n",
       "      <td>NaN</td>\n",
       "      <td>NaN</td>\n",
       "    </tr>\n",
       "    <tr>\n",
       "      <th>1</th>\n",
       "      <td>1.0</td>\n",
       "      <td>10.0</td>\n",
       "      <td>0.0</td>\n",
       "      <td>0.0</td>\n",
       "      <td>0.0</td>\n",
       "      <td>NaN</td>\n",
       "      <td>NaN</td>\n",
       "      <td>NaN</td>\n",
       "      <td>NaN</td>\n",
       "      <td>NaN</td>\n",
       "    </tr>\n",
       "    <tr>\n",
       "      <th>2</th>\n",
       "      <td>2.0</td>\n",
       "      <td>10.0</td>\n",
       "      <td>0.0</td>\n",
       "      <td>0.0</td>\n",
       "      <td>0.0</td>\n",
       "      <td>NaN</td>\n",
       "      <td>NaN</td>\n",
       "      <td>NaN</td>\n",
       "      <td>NaN</td>\n",
       "      <td>NaN</td>\n",
       "    </tr>\n",
       "    <tr>\n",
       "      <th>3</th>\n",
       "      <td>3.0</td>\n",
       "      <td>10.0</td>\n",
       "      <td>0.0</td>\n",
       "      <td>0.0</td>\n",
       "      <td>0.0</td>\n",
       "      <td>NaN</td>\n",
       "      <td>NaN</td>\n",
       "      <td>NaN</td>\n",
       "      <td>NaN</td>\n",
       "      <td>NaN</td>\n",
       "    </tr>\n",
       "    <tr>\n",
       "      <th>4</th>\n",
       "      <td>4.0</td>\n",
       "      <td>10.0</td>\n",
       "      <td>0.0</td>\n",
       "      <td>0.0</td>\n",
       "      <td>0.0</td>\n",
       "      <td>NaN</td>\n",
       "      <td>NaN</td>\n",
       "      <td>NaN</td>\n",
       "      <td>NaN</td>\n",
       "      <td>NaN</td>\n",
       "    </tr>\n",
       "    <tr>\n",
       "      <th>...</th>\n",
       "      <td>...</td>\n",
       "      <td>...</td>\n",
       "      <td>...</td>\n",
       "      <td>...</td>\n",
       "      <td>...</td>\n",
       "      <td>...</td>\n",
       "      <td>...</td>\n",
       "      <td>...</td>\n",
       "      <td>...</td>\n",
       "      <td>...</td>\n",
       "    </tr>\n",
       "    <tr>\n",
       "      <th>2635771</th>\n",
       "      <td>3067.0</td>\n",
       "      <td>22.0</td>\n",
       "      <td>3.0</td>\n",
       "      <td>10000.0</td>\n",
       "      <td>0.0</td>\n",
       "      <td>NaN</td>\n",
       "      <td>NaN</td>\n",
       "      <td>NaN</td>\n",
       "      <td>NaN</td>\n",
       "      <td>NaN</td>\n",
       "    </tr>\n",
       "    <tr>\n",
       "      <th>2635772</th>\n",
       "      <td>3068.0</td>\n",
       "      <td>22.0</td>\n",
       "      <td>3.0</td>\n",
       "      <td>10000.0</td>\n",
       "      <td>0.0</td>\n",
       "      <td>NaN</td>\n",
       "      <td>NaN</td>\n",
       "      <td>NaN</td>\n",
       "      <td>NaN</td>\n",
       "      <td>NaN</td>\n",
       "    </tr>\n",
       "    <tr>\n",
       "      <th>2635773</th>\n",
       "      <td>3069.0</td>\n",
       "      <td>22.0</td>\n",
       "      <td>3.0</td>\n",
       "      <td>10000.0</td>\n",
       "      <td>0.0</td>\n",
       "      <td>NaN</td>\n",
       "      <td>NaN</td>\n",
       "      <td>NaN</td>\n",
       "      <td>NaN</td>\n",
       "      <td>NaN</td>\n",
       "    </tr>\n",
       "    <tr>\n",
       "      <th>2635774</th>\n",
       "      <td>3070.0</td>\n",
       "      <td>22.0</td>\n",
       "      <td>3.0</td>\n",
       "      <td>10000.0</td>\n",
       "      <td>0.0</td>\n",
       "      <td>NaN</td>\n",
       "      <td>NaN</td>\n",
       "      <td>NaN</td>\n",
       "      <td>NaN</td>\n",
       "      <td>NaN</td>\n",
       "    </tr>\n",
       "    <tr>\n",
       "      <th>2635775</th>\n",
       "      <td>3071.0</td>\n",
       "      <td>22.0</td>\n",
       "      <td>3.0</td>\n",
       "      <td>10000.0</td>\n",
       "      <td>0.0</td>\n",
       "      <td>NaN</td>\n",
       "      <td>NaN</td>\n",
       "      <td>NaN</td>\n",
       "      <td>NaN</td>\n",
       "      <td>NaN</td>\n",
       "    </tr>\n",
       "  </tbody>\n",
       "</table>\n",
       "<p>2635776 rows × 10 columns</p>\n",
       "</div>"
      ],
      "text/plain": [
       "            pix  G_bin  bil_bin  dist_bin  number  mean_pmra  mean_pmdec  \\\n",
       "0           0.0   10.0      0.0       0.0     0.0        NaN         NaN   \n",
       "1           1.0   10.0      0.0       0.0     0.0        NaN         NaN   \n",
       "2           2.0   10.0      0.0       0.0     0.0        NaN         NaN   \n",
       "3           3.0   10.0      0.0       0.0     0.0        NaN         NaN   \n",
       "4           4.0   10.0      0.0       0.0     0.0        NaN         NaN   \n",
       "...         ...    ...      ...       ...     ...        ...         ...   \n",
       "2635771  3067.0   22.0      3.0   10000.0     0.0        NaN         NaN   \n",
       "2635772  3068.0   22.0      3.0   10000.0     0.0        NaN         NaN   \n",
       "2635773  3069.0   22.0      3.0   10000.0     0.0        NaN         NaN   \n",
       "2635774  3070.0   22.0      3.0   10000.0     0.0        NaN         NaN   \n",
       "2635775  3071.0   22.0      3.0   10000.0     0.0        NaN         NaN   \n",
       "\n",
       "         var_pmra  var_pmdec  var_pmradec  \n",
       "0             NaN        NaN          NaN  \n",
       "1             NaN        NaN          NaN  \n",
       "2             NaN        NaN          NaN  \n",
       "3             NaN        NaN          NaN  \n",
       "4             NaN        NaN          NaN  \n",
       "...           ...        ...          ...  \n",
       "2635771       NaN        NaN          NaN  \n",
       "2635772       NaN        NaN          NaN  \n",
       "2635773       NaN        NaN          NaN  \n",
       "2635774       NaN        NaN          NaN  \n",
       "2635775       NaN        NaN          NaN  \n",
       "\n",
       "[2635776 rows x 10 columns]"
      ]
     },
     "execution_count": 20,
     "metadata": {},
     "output_type": "execute_result"
    }
   ],
   "source": [
    "df_pm_stats"
   ]
  },
  {
   "cell_type": "code",
   "execution_count": 21,
   "metadata": {},
   "outputs": [],
   "source": [
    "a = df_pm_stats['number'].to_numpy()"
   ]
  },
  {
   "cell_type": "code",
   "execution_count": 22,
   "metadata": {},
   "outputs": [
    {
     "data": {
      "image/png": "[encoded data removed]",
      "text/plain": [
       "<Figure size 900x600 with 1 Axes>"
      ]
     },
     "metadata": {},
     "output_type": "display_data"
    }
   ],
   "source": [
    "fig, ax = plt.subplots(1,1, figsize=(6,4),dpi=150)\n",
    "\n",
    "plt.hist(a[a<150], bins = 50, log = True, histtype='step')\n",
    "ax.set_xlabel(r'Number of stars in 4-D pixel')\n",
    "ax.set_ylabel(r'Number of Bins')\n",
    "#plt.axvline(x=30, color='r', linestyle='--', label = r'$N_{\\mathrm{min}} = 30$')\n",
    "ax.axvspan(0, 30 , alpha=0.4, color='red', label = r'$N_{\\mathrm{star}} < 30$', hatch = '/')\n",
    "\n",
    "plt.legend()\n",
    "fig.suptitle(r'Sparsity of Bins')\n",
    "\n",
    "plt.show()"
   ]
  },
  {
   "cell_type": "markdown",
   "metadata": {
    "heading_collapsed": "true"
   },
   "source": [
    "# Tests"
   ]
  },
  {
   "cell_type": "markdown",
   "metadata": {
    "heading_collapsed": "true"
   },
   "source": [
    "## Bin definition"
   ]
  },
  {
   "cell_type": "code",
   "execution_count": 9,
   "metadata": {
    "execution": {
     "iopub.execute_input": "2023-02-14T18:16:53.998517Z",
     "iopub.status.busy": "2023-02-14T18:16:53.997390Z",
     "iopub.status.idle": "2023-02-14T18:16:54.017390Z",
     "shell.execute_reply": "2023-02-14T18:16:54.016318Z",
     "shell.execute_reply.started": "2023-02-14T18:16:53.998440Z"
    }
   },
   "outputs": [
    {
     "data": {
      "text/plain": [
       "(3072, 7, 18, 11)"
      ]
     },
     "execution_count": 9,
     "metadata": {},
     "output_type": "execute_result"
    }
   ],
   "source": [
    "### Fix error with distance bins. Since we approximate the distace pdf with a gaussian, some stars end up having a distribution that extend to negative distances.\n",
    "\n",
    "from bin_defs import *\n",
    "\n",
    "hp.nside2npix(hp.order2nside(n)), len(bins_dist), len(bins_G), len(bins_bil)"
   ]
  },
  {
   "cell_type": "code",
   "execution_count": 89,
   "metadata": {
    "execution": {
     "iopub.execute_input": "2023-02-14T19:12:44.472365Z",
     "iopub.status.busy": "2023-02-14T19:12:44.471744Z",
     "iopub.status.idle": "2023-02-14T19:12:44.478921Z",
     "shell.execute_reply": "2023-02-14T19:12:44.477719Z",
     "shell.execute_reply.started": "2023-02-14T19:12:44.472300Z"
    }
   },
   "outputs": [],
   "source": [
    "bins_G = np.concatenate([[5], np.arange(13,23,1)]) "
   ]
  },
  {
   "cell_type": "code",
   "execution_count": 10,
   "metadata": {
    "execution": {
     "iopub.execute_input": "2023-02-14T18:16:54.502874Z",
     "iopub.status.busy": "2023-02-14T18:16:54.502516Z",
     "iopub.status.idle": "2023-02-14T18:16:54.514610Z",
     "shell.execute_reply": "2023-02-14T18:16:54.513485Z",
     "shell.execute_reply.started": "2023-02-14T18:16:54.502840Z"
    }
   },
   "outputs": [
    {
     "data": {
      "text/plain": [
       "array([     0.        ,   1000.        ,   1778.27941004,   3162.27766017,\n",
       "         5623.4132519 ,  10000.        , 200000.        ])"
      ]
     },
     "execution_count": 10,
     "metadata": {},
     "output_type": "execute_result"
    }
   ],
   "source": [
    "bins_dist"
   ]
  },
  {
   "cell_type": "code",
   "execution_count": 11,
   "metadata": {
    "execution": {
     "iopub.execute_input": "2023-02-14T18:16:55.450884Z",
     "iopub.status.busy": "2023-02-14T18:16:55.450536Z",
     "iopub.status.idle": "2023-02-14T18:16:55.457218Z",
     "shell.execute_reply": "2023-02-14T18:16:55.455532Z",
     "shell.execute_reply.started": "2023-02-14T18:16:55.450851Z"
    }
   },
   "outputs": [
    {
     "data": {
      "text/plain": [
       "array([ 5,  6,  7,  8,  9, 10, 11, 12, 13, 14, 15, 16, 17, 18, 19, 20, 21,\n",
       "       22])"
      ]
     },
     "execution_count": 11,
     "metadata": {},
     "output_type": "execute_result"
    }
   ],
   "source": [
    "bins_G"
   ]
  },
  {
   "cell_type": "code",
   "execution_count": 11,
   "metadata": {
    "execution": {
     "iopub.execute_input": "2023-02-13T16:16:49.257005Z",
     "iopub.status.busy": "2023-02-13T16:16:49.256582Z",
     "iopub.status.idle": "2023-02-13T16:16:49.268528Z",
     "shell.execute_reply": "2023-02-13T16:16:49.266389Z",
     "shell.execute_reply.started": "2023-02-13T16:16:49.256966Z"
    }
   },
   "outputs": [
    {
     "data": {
      "text/plain": [
       "array([0. , 0.3, 0.6, 0.9, 1.2, 1.5, 1.8, 2.1, 2.4, 2.7, 3. , 3.3])"
      ]
     },
     "execution_count": 11,
     "metadata": {},
     "output_type": "execute_result"
    }
   ],
   "source": [
    "bins_bil"
   ]
  },
  {
   "cell_type": "code",
   "execution_count": 12,
   "metadata": {
    "execution": {
     "iopub.execute_input": "2023-02-13T16:16:50.649482Z",
     "iopub.status.busy": "2023-02-13T16:16:50.648765Z",
     "iopub.status.idle": "2023-02-13T16:16:50.660796Z",
     "shell.execute_reply": "2023-02-13T16:16:50.659799Z",
     "shell.execute_reply.started": "2023-02-13T16:16:50.649418Z"
    }
   },
   "outputs": [
    {
     "data": {
      "text/plain": [
       "2634918"
      ]
     },
     "execution_count": 12,
     "metadata": {},
     "output_type": "execute_result"
    }
   ],
   "source": [
    "(hp.nside2npix(hp.order2nside(n))-1) * (len(bins_dist)-1) * (len(bins_G)-1) * (len(bins_bil)-1)"
   ]
  },
  {
   "cell_type": "code",
   "execution_count": 61,
   "metadata": {
    "execution": {
     "iopub.execute_input": "2023-02-14T18:56:33.478810Z",
     "iopub.status.busy": "2023-02-14T18:56:33.478162Z",
     "iopub.status.idle": "2023-02-14T18:56:33.487570Z",
     "shell.execute_reply": "2023-02-14T18:56:33.486332Z",
     "shell.execute_reply.started": "2023-02-14T18:56:33.478744Z"
    }
   },
   "outputs": [
    {
     "data": {
      "text/plain": [
       "3.6645188392718997"
      ]
     },
     "execution_count": 61,
     "metadata": {},
     "output_type": "execute_result"
    }
   ],
   "source": [
    "hp.nside2resol(2**4, arcmin = True)*arcmin/degree"
   ]
  },
  {
   "cell_type": "code",
   "execution_count": 51,
   "metadata": {
    "execution": {
     "iopub.execute_input": "2023-02-10T19:35:34.074421Z",
     "iopub.status.busy": "2023-02-10T19:35:34.074005Z",
     "iopub.status.idle": "2023-02-10T19:35:34.084554Z",
     "shell.execute_reply": "2023-02-10T19:35:34.083237Z",
     "shell.execute_reply.started": "2023-02-10T19:35:34.074382Z"
    }
   },
   "outputs": [
    {
     "data": {
      "text/plain": [
       "3071.9999999999995"
      ]
     },
     "execution_count": 51,
     "metadata": {},
     "output_type": "execute_result"
    }
   ],
   "source": [
    "4*np.pi/(hp.nside2resol(2**n)**2)"
   ]
  },
  {
   "cell_type": "markdown",
   "metadata": {
    "heading_collapsed": "true"
   },
   "source": [
    "## Bin assignement"
   ]
  },
  {
   "cell_type": "code",
   "execution_count": 173,
   "metadata": {
    "execution": {
     "iopub.execute_input": "2023-02-14T19:58:49.474632Z",
     "iopub.status.busy": "2023-02-14T19:58:49.473181Z",
     "iopub.status.idle": "2023-02-14T19:58:49.968988Z",
     "shell.execute_reply": "2023-02-14T19:58:49.968549Z",
     "shell.execute_reply.started": "2023-02-14T19:58:49.474571Z"
    }
   },
   "outputs": [],
   "source": [
    "# assign to healpix bins\n",
    "fac_source_id = 2**(59-2*n)\n",
    "q_pix = np.floor(df_back['source_id'].to_numpy() / fac_source_id).astype(int)\n",
    "bins_pix = np.arange(np.min(np.unique(q_pix)), np.max(np.unique(q_pix))+2,1) # should be +2 to include sources in the last bin\n",
    "q_bin_pix = np.digitize(q_pix, bins_pix) - 1  # need to access the histogram matrix elements"
   ]
  },
  {
   "cell_type": "code",
   "execution_count": 174,
   "metadata": {
    "execution": {
     "iopub.execute_input": "2023-02-14T19:58:50.617633Z",
     "iopub.status.busy": "2023-02-14T19:58:50.617013Z",
     "iopub.status.idle": "2023-02-14T19:58:51.036032Z",
     "shell.execute_reply": "2023-02-14T19:58:51.035672Z",
     "shell.execute_reply.started": "2023-02-14T19:58:50.617564Z"
    }
   },
   "outputs": [],
   "source": [
    "### assign to G bins\n",
    "# assign to G bins\n",
    "bg_G = df_back['phot_g_mean_mag'].to_numpy()\n",
    "q_bin_G = np.digitize(bg_G, bins_G) - 1  "
   ]
  },
  {
   "cell_type": "code",
   "execution_count": 175,
   "metadata": {
    "execution": {
     "iopub.execute_input": "2023-02-14T19:58:51.628484Z",
     "iopub.status.busy": "2023-02-14T19:58:51.627791Z",
     "iopub.status.idle": "2023-02-14T19:58:52.419088Z",
     "shell.execute_reply": "2023-02-14T19:58:52.418736Z",
     "shell.execute_reply.started": "2023-02-14T19:58:51.628414Z"
    }
   },
   "outputs": [],
   "source": [
    "# assign to radial bins\n",
    "## necessary columns\n",
    "fg_ra = df_fore['ra'].to_numpy()\n",
    "fg_dec = df_fore['dec'].to_numpy()\n",
    "bg_ra = df_back['ra'].to_numpy()\n",
    "bg_dec = df_back['dec'].to_numpy()\n",
    "## bil separation vectors\n",
    "l_bilvec = fn_angular_sep(fg_ra*degree, fg_dec*degree, bg_ra*degree, bg_dec*degree)\n",
    "l_bilnormsq = l_bilvec[:, 0]**2 + l_bilvec[:, 1]**2\n",
    "## bin definitions\n",
    "q_bil = np.sqrt(l_bilnormsq)/arcsec\n",
    "q_bin_bil = np.digitize(q_bil, bins_bil) - 1   "
   ]
  },
  {
   "cell_type": "code",
   "execution_count": 176,
   "metadata": {
    "execution": {
     "iopub.execute_input": "2023-02-14T19:58:53.028058Z",
     "iopub.status.busy": "2023-02-14T19:58:53.027419Z",
     "iopub.status.idle": "2023-02-14T19:58:53.779887Z",
     "shell.execute_reply": "2023-02-14T19:58:53.778957Z",
     "shell.execute_reply.started": "2023-02-14T19:58:53.027993Z"
    }
   },
   "outputs": [],
   "source": [
    "### deterministic distance bin assignement - for testing\n",
    "q_bin_dist = np.digitize(df_back['dist'].to_numpy(), bins_dist) - 1   \n",
    "\n",
    "prob_dist = np.zeros((len(df_back),len(bins_dist)-1))\n",
    "for i in range(len(bins_dist)-1):    \n",
    "    prob_dist[q_bin_dist==i, i] = 1"
   ]
  },
  {
   "cell_type": "code",
   "execution_count": 177,
   "metadata": {
    "execution": {
     "iopub.execute_input": "2023-02-14T19:58:54.440874Z",
     "iopub.status.busy": "2023-02-14T19:58:54.440191Z",
     "iopub.status.idle": "2023-02-14T19:58:56.863977Z",
     "shell.execute_reply": "2023-02-14T19:58:56.863640Z",
     "shell.execute_reply.started": "2023-02-14T19:58:54.440817Z"
    }
   },
   "outputs": [],
   "source": [
    "# probabilistic assignment to distance bins\n",
    "bg_dist = df_back['dist'].to_numpy()\n",
    "# bg error is average of posterior width in each direction\n",
    "bg_dist_error = df_back['dist_error'].to_numpy()\n",
    "\n",
    "prob_dist_neg = np.nan * np.ones((len(df_back),len(bins_dist_neg)-1))\n",
    "for i in range(len(bins_dist_neg)-1):\n",
    "    x1_list = (bins_dist_neg[i]-bg_dist)/bg_dist_error/np.sqrt(2)\n",
    "    x2_list = (bins_dist_neg[i+1]-bg_dist)/bg_dist_error/np.sqrt(2)\n",
    "    prob_dist_neg[:,i] = 0.5*(erf(x2_list)-erf(x1_list))"
   ]
  },
  {
   "cell_type": "code",
   "execution_count": 178,
   "metadata": {
    "execution": {
     "iopub.execute_input": "2023-02-14T19:58:57.513097Z",
     "iopub.status.busy": "2023-02-14T19:58:57.512749Z",
     "iopub.status.idle": "2023-02-14T19:58:57.710124Z",
     "shell.execute_reply": "2023-02-14T19:58:57.709702Z",
     "shell.execute_reply.started": "2023-02-14T19:58:57.513064Z"
    }
   },
   "outputs": [
    {
     "data": {
      "text/plain": [
       "0"
      ]
     },
     "execution_count": 178,
     "metadata": {},
     "output_type": "execute_result"
    }
   ],
   "source": [
    "### Check that the total probability adds up to 1\n",
    "prob_test = np.sum(prob_dist_neg, axis=1)\n",
    "len(prob_test[np.abs(prob_test-1)>0.001])"
   ]
  },
  {
   "cell_type": "code",
   "execution_count": 179,
   "metadata": {
    "execution": {
     "iopub.execute_input": "2023-02-14T19:58:58.559396Z",
     "iopub.status.busy": "2023-02-14T19:58:58.558918Z",
     "iopub.status.idle": "2023-02-14T19:58:59.415383Z",
     "shell.execute_reply": "2023-02-14T19:58:59.415043Z",
     "shell.execute_reply.started": "2023-02-14T19:58:58.559345Z"
    }
   },
   "outputs": [],
   "source": [
    "### Add the probability in the negative distance bin to the first non negative bin\n",
    "prob_dist = np.nan * np.ones((len(df_back),len(bins_dist)-1))\n",
    "prob_dist = np.copy(prob_dist_neg[:, 1:])\n",
    "prob_dist[:, 0] += prob_dist_neg[:, 0]"
   ]
  },
  {
   "cell_type": "code",
   "execution_count": 180,
   "metadata": {
    "execution": {
     "iopub.execute_input": "2023-02-14T19:59:02.984096Z",
     "iopub.status.busy": "2023-02-14T19:59:02.983748Z",
     "iopub.status.idle": "2023-02-14T19:59:03.207897Z",
     "shell.execute_reply": "2023-02-14T19:59:03.207559Z",
     "shell.execute_reply.started": "2023-02-14T19:59:02.984061Z"
    }
   },
   "outputs": [
    {
     "data": {
      "text/plain": [
       "array([1., 1., 1., ..., 1., 1., 1.])"
      ]
     },
     "execution_count": 180,
     "metadata": {},
     "output_type": "execute_result"
    }
   ],
   "source": [
    "### Check that the addition has been done correctly\n",
    "aa = prob_dist[:, 0]\n",
    "bb = prob_dist_neg[:, 0]+prob_dist_neg[:, 1]\n",
    "aa[aa>0]/bb[aa>0]"
   ]
  },
  {
   "cell_type": "code",
   "execution_count": 181,
   "metadata": {
    "execution": {
     "iopub.execute_input": "2023-02-14T19:59:04.213756Z",
     "iopub.status.busy": "2023-02-14T19:59:04.213276Z",
     "iopub.status.idle": "2023-02-14T19:59:04.470285Z",
     "shell.execute_reply": "2023-02-14T19:59:04.469967Z",
     "shell.execute_reply.started": "2023-02-14T19:59:04.213720Z"
    }
   },
   "outputs": [
    {
     "data": {
      "text/plain": [
       "0"
      ]
     },
     "execution_count": 181,
     "metadata": {},
     "output_type": "execute_result"
    }
   ],
   "source": [
    "### Check that the total probability adds up to 1\n",
    "prob_test = np.sum(prob_dist, axis=1)\n",
    "len(prob_test[np.abs(prob_test-1)>0.1])"
   ]
  },
  {
   "cell_type": "markdown",
   "metadata": {
    "heading_collapsed": "true"
   },
   "source": [
    "## Remove stars in sparse bins - deterministic distance bin assignement"
   ]
  },
  {
   "cell_type": "code",
   "execution_count": 97,
   "metadata": {
    "execution": {
     "iopub.execute_input": "2023-02-14T19:13:11.187015Z",
     "iopub.status.busy": "2023-02-14T19:13:11.186482Z",
     "iopub.status.idle": "2023-02-14T19:13:13.110478Z",
     "shell.execute_reply": "2023-02-14T19:13:13.109958Z",
     "shell.execute_reply.started": "2023-02-14T19:13:11.186976Z"
    }
   },
   "outputs": [
    {
     "data": {
      "text/plain": [
       "(6, 10, 10, 3072)"
      ]
     },
     "execution_count": 97,
     "metadata": {},
     "output_type": "execute_result"
    }
   ],
   "source": [
    "hist_prob_2 = np.histogramdd(np.array([q_pix, bg_G, q_bil, bg_dist]).T, bins=(bins_pix, bins_G, bins_bil, bins_dist), range=None, density=None, weights=None)[0].T\n",
    "hist_prob_2.shape"
   ]
  },
  {
   "cell_type": "code",
   "execution_count": 99,
   "metadata": {
    "execution": {
     "iopub.execute_input": "2023-02-14T19:13:28.106608Z",
     "iopub.status.busy": "2023-02-14T19:13:28.106179Z",
     "iopub.status.idle": "2023-02-14T19:13:28.405470Z",
     "shell.execute_reply": "2023-02-14T19:13:28.405034Z",
     "shell.execute_reply.started": "2023-02-14T19:13:28.106566Z"
    }
   },
   "outputs": [],
   "source": [
    "hist_prob_2_copy = np.copy(hist_prob_2)\n",
    "hist_prob_2_copy[hist_prob_2_copy<=30] = np.nan\n",
    "stars_count_nan = hist_prob_2_copy[q_bin_dist, q_bin_bil, q_bin_G, q_bin_pix]"
   ]
  },
  {
   "cell_type": "code",
   "execution_count": 101,
   "metadata": {
    "execution": {
     "iopub.execute_input": "2023-02-14T19:13:32.069454Z",
     "iopub.status.busy": "2023-02-14T19:13:32.068976Z",
     "iopub.status.idle": "2023-02-14T19:13:32.369627Z",
     "shell.execute_reply": "2023-02-14T19:13:32.369261Z",
     "shell.execute_reply.started": "2023-02-14T19:13:32.069419Z"
    }
   },
   "outputs": [
    {
     "data": {
      "text/plain": [
       "0.8503368304486877"
      ]
     },
     "execution_count": 101,
     "metadata": {},
     "output_type": "execute_result"
    }
   ],
   "source": [
    "stars_count = hist_prob_2[q_bin_dist, q_bin_bil, q_bin_G, q_bin_pix]\n",
    "len(stars_count[stars_count>30])/len(stars_count)"
   ]
  },
  {
   "cell_type": "code",
   "execution_count": 102,
   "metadata": {
    "execution": {
     "iopub.execute_input": "2023-02-14T19:13:33.975204Z",
     "iopub.status.busy": "2023-02-14T19:13:33.974549Z",
     "iopub.status.idle": "2023-02-14T19:13:34.618858Z",
     "shell.execute_reply": "2023-02-14T19:13:34.618497Z",
     "shell.execute_reply.started": "2023-02-14T19:13:33.975138Z"
    }
   },
   "outputs": [
    {
     "data": {
      "text/plain": [
       "Text(0, 0.5, 'Occurence')"
      ]
     },
     "execution_count": 102,
     "metadata": {},
     "output_type": "execute_result"
    },
    {
     "data": {
      "image/png": "[encoded data removed]",
      "text/plain": [
       "<Figure size 900x600 with 1 Axes>"
      ]
     },
     "metadata": {
      "needs_background": "light"
     },
     "output_type": "display_data"
    }
   ],
   "source": [
    "fig, ax = plt.subplots(1,1, figsize=(6,4),dpi=150)\n",
    "ax.hist(stars_count[stars_count>30], log = True,  density = False, bins = 100, histtype='step', color = 'darkslateblue')\n",
    "ax.hist(stars_count_nan, log = True,  density = False, bins = 100, histtype='step', color = 'red', linewidth=0.5)\n",
    "ax.set_xlabel(r'Hist counts')\n",
    "ax.set_ylabel(r'Occurence')\n",
    "#ax.set_xscale('log')\n",
    "#ax.set_xlim(0.5, 14000)\n",
    "#plt.show()"
   ]
  },
  {
   "cell_type": "markdown",
   "metadata": {},
   "source": [
    "## Remove stars in sparse bins"
   ]
  },
  {
   "cell_type": "code",
   "execution_count": 167,
   "metadata": {
    "execution": {
     "iopub.execute_input": "2023-02-14T19:49:48.465004Z",
     "iopub.status.busy": "2023-02-14T19:49:48.464364Z",
     "iopub.status.idle": "2023-02-14T19:49:48.471046Z",
     "shell.execute_reply": "2023-02-14T19:49:48.469705Z",
     "shell.execute_reply.started": "2023-02-14T19:49:48.464916Z"
    }
   },
   "outputs": [],
   "source": [
    "th_count = 30; prob_sparse_th = 0.2"
   ]
  },
  {
   "cell_type": "code",
   "execution_count": 187,
   "metadata": {
    "execution": {
     "iopub.execute_input": "2023-02-14T20:00:12.490620Z",
     "iopub.status.busy": "2023-02-14T20:00:12.490180Z",
     "iopub.status.idle": "2023-02-14T20:00:13.976913Z",
     "shell.execute_reply": "2023-02-14T20:00:13.976503Z",
     "shell.execute_reply.started": "2023-02-14T20:00:12.490586Z"
    }
   },
   "outputs": [
    {
     "data": {
      "text/plain": [
       "(6, 10, 10, 2919)"
      ]
     },
     "execution_count": 187,
     "metadata": {},
     "output_type": "execute_result"
    }
   ],
   "source": [
    "### histogram of summed probabilities\n",
    "hist_prob = stats.binned_statistic_dd([q_bil, bg_G, q_pix], np.transpose(prob_dist), bins=[bins_bil, bins_G, bins_pix], statistic='sum')[0] \n",
    "hist_prob.shape"
   ]
  },
  {
   "cell_type": "code",
   "execution_count": 188,
   "metadata": {
    "execution": {
     "iopub.execute_input": "2023-02-14T20:00:21.232434Z",
     "iopub.status.busy": "2023-02-14T20:00:21.232067Z",
     "iopub.status.idle": "2023-02-14T20:00:21.535647Z",
     "shell.execute_reply": "2023-02-14T20:00:21.534976Z",
     "shell.execute_reply.started": "2023-02-14T20:00:21.232396Z"
    }
   },
   "outputs": [
    {
     "data": {
      "text/plain": [
       "(8370659, 8370658.999999987)"
      ]
     },
     "execution_count": 188,
     "metadata": {},
     "output_type": "execute_result"
    }
   ],
   "source": [
    "len(q_bil), sum(hist_prob.flatten())"
   ]
  },
  {
   "cell_type": "code",
   "execution_count": 189,
   "metadata": {
    "execution": {
     "iopub.execute_input": "2023-02-14T20:00:27.320794Z",
     "iopub.status.busy": "2023-02-14T20:00:27.320451Z",
     "iopub.status.idle": "2023-02-14T20:00:28.498687Z",
     "shell.execute_reply": "2023-02-14T20:00:28.498185Z",
     "shell.execute_reply.started": "2023-02-14T20:00:27.320762Z"
    }
   },
   "outputs": [
    {
     "data": {
      "text/plain": [
       "(8370659,)"
      ]
     },
     "execution_count": 189,
     "metadata": {},
     "output_type": "execute_result"
    }
   ],
   "source": [
    "### per each star, get the count of the corresponding bin (all the counts for the distance bins)\n",
    "count_prob = hist_prob[:, q_bin_bil, q_bin_G, q_bin_pix].T\n",
    "count_prob.shape\n",
    "\n",
    "### per each star, sum over the counts of the distance bins\n",
    "count_tot = np.sum(count_prob*prob_dist, axis=1)\n",
    "count_tot.shape"
   ]
  },
  {
   "cell_type": "code",
   "execution_count": 190,
   "metadata": {
    "execution": {
     "iopub.execute_input": "2023-02-14T20:00:46.090013Z",
     "iopub.status.busy": "2023-02-14T20:00:46.089608Z",
     "iopub.status.idle": "2023-02-14T20:00:46.289898Z",
     "shell.execute_reply": "2023-02-14T20:00:46.289581Z",
     "shell.execute_reply.started": "2023-02-14T20:00:46.089976Z"
    }
   },
   "outputs": [
    {
     "data": {
      "text/plain": [
       "8214353"
      ]
     },
     "execution_count": 190,
     "metadata": {},
     "output_type": "execute_result"
    }
   ],
   "source": [
    "len(count_tot[count_tot>th_count])"
   ]
  },
  {
   "cell_type": "code",
   "execution_count": 191,
   "metadata": {
    "execution": {
     "iopub.execute_input": "2023-02-14T20:00:54.659747Z",
     "iopub.status.busy": "2023-02-14T20:00:54.658670Z",
     "iopub.status.idle": "2023-02-14T20:00:56.150453Z",
     "shell.execute_reply": "2023-02-14T20:00:56.149905Z",
     "shell.execute_reply.started": "2023-02-14T20:00:54.659708Z"
    }
   },
   "outputs": [
    {
     "data": {
      "text/plain": [
       "8103491"
      ]
     },
     "execution_count": 191,
     "metadata": {},
     "output_type": "execute_result"
    }
   ],
   "source": [
    "### Find all the stars whose distance probability support is mostly in spare bins. Remove stars with more than 20% probability in sparse bins\n",
    "\n",
    "hist_prob_copy = np.copy(hist_prob)\n",
    "hist_prob_copy[hist_prob<th_count] = 1\n",
    "hist_prob_copy[hist_prob>=th_count] = 0\n",
    "count_prob_sparse = hist_prob_copy[:, q_bin_bil, q_bin_G, q_bin_pix].T\n",
    "\n",
    "prob_in_sparse_bin = np.sum(count_prob_sparse*prob_dist, axis=1)\n",
    "\n",
    "len(prob_in_sparse_bin[prob_in_sparse_bin < prob_sparse_th])"
   ]
  },
  {
   "cell_type": "code",
   "execution_count": 168,
   "metadata": {
    "execution": {
     "iopub.execute_input": "2023-02-14T19:49:53.122472Z",
     "iopub.status.busy": "2023-02-14T19:49:53.122087Z",
     "iopub.status.idle": "2023-02-14T19:49:54.855927Z",
     "shell.execute_reply": "2023-02-14T19:49:54.855340Z",
     "shell.execute_reply.started": "2023-02-14T19:49:53.122439Z"
    }
   },
   "outputs": [
    {
     "data": {
      "text/plain": [
       "8370659"
      ]
     },
     "execution_count": 168,
     "metadata": {},
     "output_type": "execute_result"
    }
   ],
   "source": [
    "### Find all the stars whose distance probability support is mostly in spare bins. Remove stars with more than 20% probability in sparse bins\n",
    "\n",
    "hist_prob_copy = np.copy(hist_prob)\n",
    "hist_prob_copy[hist_prob<th_count] = 1\n",
    "hist_prob_copy[hist_prob>=th_count] = 0\n",
    "count_prob_sparse = hist_prob_copy[:, q_bin_bil, q_bin_G, q_bin_pix].T\n",
    "\n",
    "prob_in_sparse_bin = np.sum(count_prob_sparse*prob_dist, axis=1)\n",
    "\n",
    "len(prob_in_sparse_bin[prob_in_sparse_bin < prob_sparse_th])"
   ]
  },
  {
   "cell_type": "code",
   "execution_count": 170,
   "metadata": {
    "execution": {
     "iopub.execute_input": "2023-02-14T19:51:39.564314Z",
     "iopub.status.busy": "2023-02-14T19:51:39.563022Z",
     "iopub.status.idle": "2023-02-14T19:51:46.935838Z",
     "shell.execute_reply": "2023-02-14T19:51:46.934059Z",
     "shell.execute_reply.started": "2023-02-14T19:51:39.564237Z"
    }
   },
   "outputs": [],
   "source": [
    "### Select only stars whose 80% of probability does not fall in sparse bins\n",
    "\n",
    "df_back = df_back[prob_in_sparse_bin < prob_sparse_th]\n",
    "df_fore = df_fore[prob_in_sparse_bin < prob_sparse_th]"
   ]
  },
  {
   "cell_type": "code",
   "execution_count": 169,
   "metadata": {
    "execution": {
     "iopub.execute_input": "2023-02-14T19:49:56.845976Z",
     "iopub.status.busy": "2023-02-14T19:49:56.845570Z",
     "iopub.status.idle": "2023-02-14T19:49:57.481544Z",
     "shell.execute_reply": "2023-02-14T19:49:57.481163Z",
     "shell.execute_reply.started": "2023-02-14T19:49:56.845938Z"
    }
   },
   "outputs": [
    {
     "data": {
      "text/plain": [
       "Text(0, 0.5, 'Occurence')"
      ]
     },
     "execution_count": 169,
     "metadata": {},
     "output_type": "execute_result"
    },
    {
     "data": {
      "image/png": "[encoded data removed]",
      "text/plain": [
       "<Figure size 900x600 with 1 Axes>"
      ]
     },
     "metadata": {
      "needs_background": "light"
     },
     "output_type": "display_data"
    }
   ],
   "source": [
    "fig, ax = plt.subplots(1,1, figsize=(6,4),dpi=150)\n",
    "ax.hist(count_tot[count_tot>th_count], log = True,  density = False, bins = 100, histtype='step', color = 'darkslateblue')\n",
    "ax.hist(count_tot[prob_in_sparse_bin < prob_sparse_th], log = True,  density = False, bins = 100, histtype='step', color = 'red', linewidth=0.5)\n",
    "ax.set_xlabel(r'Hist counts')\n",
    "ax.set_ylabel(r'Occurence')\n",
    "#ax.set_xscale('log')\n",
    "#ax.set_xlim(0.5, 14000)\n",
    "#plt.show()"
   ]
  },
  {
   "cell_type": "markdown",
   "metadata": {},
   "source": [
    "# New procedure"
   ]
  },
  {
   "cell_type": "markdown",
   "metadata": {},
   "source": [
    "## Read in cleaned sample"
   ]
  },
  {
   "cell_type": "code",
   "execution_count": 2,
   "metadata": {
    "execution": {
     "iopub.execute_input": "2023-02-15T16:33:05.755453Z",
     "iopub.status.busy": "2023-02-15T16:33:05.754845Z",
     "iopub.status.idle": "2023-02-15T16:33:39.155921Z",
     "shell.execute_reply": "2023-02-15T16:33:39.145799Z",
     "shell.execute_reply.started": "2023-02-15T16:33:05.755388Z"
    }
   },
   "outputs": [
    {
     "data": {
      "text/plain": [
       "(10448136, 10448136)"
      ]
     },
     "execution_count": 2,
     "metadata": {},
     "output_type": "execute_result"
    }
   ],
   "source": [
    "### Read in the data files for the background and foreground stars\n",
    "df_back = pd.read_csv(DataDir+'bg_ruwe_dist.csv', \n",
    "                      usecols = ['source_id', 'ra', 'dec', 'pmra', 'pmdec','pmra_error', 'pmdec_error', 'pmra_pmdec_corr', 'pmra_eff_error', 'pmdec_eff_error', 'pmra_pmdec_eff_corr', \n",
    "                                 'parallax', 'parallax_error', 'pmra_sub', 'pmdec_sub', 'phot_g_mean_mag', 'ruwe'])\n",
    "df_fore = pd.read_csv(DataDir+'fg_ruwe_dist.csv', \n",
    "                      usecols = ['source_id', 'ra', 'dec', 'pmra', 'pmdec','pmra_error', 'pmdec_error', 'parallax', 'parallax_error', 'phot_g_mean_mag', 'ruwe'])\n",
    "len(df_back), len(df_fore)"
   ]
  },
  {
   "cell_type": "code",
   "execution_count": 3,
   "metadata": {
    "execution": {
     "iopub.execute_input": "2023-02-15T16:37:50.105441Z",
     "iopub.status.busy": "2023-02-15T16:37:50.104237Z",
     "iopub.status.idle": "2023-02-15T16:37:57.893740Z",
     "shell.execute_reply": "2023-02-15T16:37:57.890200Z",
     "shell.execute_reply.started": "2023-02-15T16:37:50.105398Z"
    }
   },
   "outputs": [
    {
     "data": {
      "text/plain": [
       "(10448136, 10448136)"
      ]
     },
     "execution_count": 3,
     "metadata": {},
     "output_type": "execute_result"
    }
   ],
   "source": [
    "### Read in the data files for the Bailer-Jones distances\n",
    "back_dist = pd.read_csv(DataDir+'bg_distances.csv', usecols = ['0', '1', '2', '3'])\n",
    "fore_dist = pd.read_csv(DataDir+'fg_distances.csv', usecols = ['0', '1', '2', '3'])\n",
    "len(back_dist), len(fore_dist)"
   ]
  },
  {
   "cell_type": "code",
   "execution_count": 5,
   "metadata": {
    "execution": {
     "iopub.execute_input": "2023-02-15T16:40:37.856429Z",
     "iopub.status.busy": "2023-02-15T16:40:37.855771Z",
     "iopub.status.idle": "2023-02-15T16:40:38.082989Z",
     "shell.execute_reply": "2023-02-15T16:40:38.082536Z",
     "shell.execute_reply.started": "2023-02-15T16:40:37.856363Z"
    }
   },
   "outputs": [],
   "source": [
    "df_back['dist_50'] = back_dist['1']\n",
    "df_back['dist_14'] = back_dist['2']\n",
    "df_back['dist_86'] = back_dist['3']"
   ]
  },
  {
   "cell_type": "code",
   "execution_count": 8,
   "metadata": {
    "execution": {
     "iopub.execute_input": "2023-02-15T16:42:08.609983Z",
     "iopub.status.busy": "2023-02-15T16:42:08.608583Z",
     "iopub.status.idle": "2023-02-15T16:42:08.934267Z",
     "shell.execute_reply": "2023-02-15T16:42:08.933778Z",
     "shell.execute_reply.started": "2023-02-15T16:42:08.609855Z"
    }
   },
   "outputs": [],
   "source": [
    "### Estimate of a symmetric error\n",
    "df_back['dist_error'] = ((df_back['dist_50'].to_numpy() - df_back['dist_14'].to_numpy()) + \n",
    "                         (df_back['dist_86'].to_numpy() - df_back['dist_50'].to_numpy())) / 2"
   ]
  },
  {
   "cell_type": "code",
   "execution_count": 7,
   "metadata": {
    "execution": {
     "iopub.execute_input": "2023-02-15T16:41:03.166482Z",
     "iopub.status.busy": "2023-02-15T16:41:03.165133Z",
     "iopub.status.idle": "2023-02-15T16:41:03.467214Z",
     "shell.execute_reply": "2023-02-15T16:41:03.466696Z",
     "shell.execute_reply.started": "2023-02-15T16:41:03.166401Z"
    }
   },
   "outputs": [],
   "source": [
    "df_fore['dist_50'] = fore_dist['1']\n",
    "df_fore['dist_14'] = fore_dist['2']\n",
    "df_fore['dist_86'] = fore_dist['3']"
   ]
  },
  {
   "cell_type": "markdown",
   "metadata": {},
   "source": [
    "## Import bin definitions"
   ]
  },
  {
   "cell_type": "code",
   "execution_count": 9,
   "metadata": {
    "execution": {
     "iopub.execute_input": "2023-02-15T16:42:26.087025Z",
     "iopub.status.busy": "2023-02-15T16:42:26.086160Z",
     "iopub.status.idle": "2023-02-15T16:42:26.109834Z",
     "shell.execute_reply": "2023-02-15T16:42:26.109162Z",
     "shell.execute_reply.started": "2023-02-15T16:42:26.086947Z"
    }
   },
   "outputs": [
    {
     "data": {
      "text/plain": [
       "(3072, 7, 18, 11)"
      ]
     },
     "execution_count": 9,
     "metadata": {},
     "output_type": "execute_result"
    }
   ],
   "source": [
    "from bin_defs import *\n",
    "\n",
    "hp.nside2npix(hp.order2nside(n)), len(bins_dist), len(bins_G), len(bins_bil)"
   ]
  },
  {
   "cell_type": "code",
   "execution_count": 10,
   "metadata": {
    "execution": {
     "iopub.execute_input": "2023-02-15T16:42:27.163757Z",
     "iopub.status.busy": "2023-02-15T16:42:27.163398Z",
     "iopub.status.idle": "2023-02-15T16:42:27.175184Z",
     "shell.execute_reply": "2023-02-15T16:42:27.174002Z",
     "shell.execute_reply.started": "2023-02-15T16:42:27.163724Z"
    }
   },
   "outputs": [
    {
     "data": {
      "text/plain": [
       "3132420"
      ]
     },
     "execution_count": 10,
     "metadata": {},
     "output_type": "execute_result"
    }
   ],
   "source": [
    "(hp.nside2npix(hp.order2nside(n))-1) * (len(bins_dist)-1) * (len(bins_G)-1) * (len(bins_bil)-1)"
   ]
  },
  {
   "cell_type": "markdown",
   "metadata": {},
   "source": [
    "## Function definition"
   ]
  },
  {
   "cell_type": "code",
   "execution_count": 15,
   "metadata": {
    "execution": {
     "iopub.execute_input": "2023-02-15T16:50:45.040657Z",
     "iopub.status.busy": "2023-02-15T16:50:45.040097Z",
     "iopub.status.idle": "2023-02-15T16:50:45.091653Z",
     "shell.execute_reply": "2023-02-15T16:50:45.090350Z",
     "shell.execute_reply.started": "2023-02-15T16:50:45.040609Z"
    }
   },
   "outputs": [],
   "source": [
    "def fn_pm_stats(df_fore, df_back, th_count=30, prob_sparse_th = 0.2, n_sigma_out = 3, final_call=False): ### if return_tab=True returns the tab without pm outliers, else returns the data frame with stats \n",
    "\n",
    "    # assign to healpix bins\n",
    "    q_pix = np.floor(df_back['source_id'].to_numpy() / fac_source_id).astype(int)\n",
    "    bins_pix = np.arange(np.min(np.unique(q_pix)), np.max(np.unique(q_pix))+2,1) # should be +2 to include sources in the last bin\n",
    "    q_bin_pix = np.digitize(q_pix, bins_pix) - 1  # need to access the histogram matrix elements\n",
    "\n",
    "    ### assign to G bins\n",
    "    # assign to G bins\n",
    "    bg_G = df_back['phot_g_mean_mag'].to_numpy()\n",
    "    q_bin_G = np.digitize(bg_G, bins_G) - 1  \n",
    "\n",
    "    # assign to radial bins\n",
    "    ## necessary columns\n",
    "    fg_ra = df_fore['ra'].to_numpy()\n",
    "    fg_dec = df_fore['dec'].to_numpy()\n",
    "    bg_ra = df_back['ra'].to_numpy()\n",
    "    bg_dec = df_back['dec'].to_numpy()\n",
    "    ## bil separation vectors\n",
    "    l_bilvec = fn_angular_sep(fg_ra*degree, fg_dec*degree, bg_ra*degree, bg_dec*degree)\n",
    "    l_bilnormsq = l_bilvec[:, 0]**2 + l_bilvec[:, 1]**2\n",
    "    ## bin definitions\n",
    "    q_bil = np.sqrt(l_bilnormsq)/arcsec\n",
    "    q_bin_bil = np.digitize(q_bil, bins_bil) - 1   \n",
    "\n",
    "    # probabilistic assignment to distance bins\n",
    "    bg_dist = df_back['dist_50'].to_numpy()\n",
    "    # bg error is average of posterior width in each direction\n",
    "    bg_dist_error = df_back['dist_error'].to_numpy()\n",
    "    \n",
    "    prob_dist_neg = np.nan * np.ones((len(df_back),len(bins_dist_neg)-1))\n",
    "    for i in range(len(bins_dist_neg)-1):\n",
    "        x1_list = (bins_dist_neg[i]-bg_dist)/bg_dist_error/np.sqrt(2)\n",
    "        x2_list = (bins_dist_neg[i+1]-bg_dist)/bg_dist_error/np.sqrt(2)\n",
    "        prob_dist_neg[:,i] = 0.5*(erf(x2_list)-erf(x1_list))\n",
    "    \n",
    "    ### Add the probability in the negative distance bin to the first non negative bin\n",
    "    prob_dist = np.nan * np.ones((len(df_back),len(bins_dist)-1))\n",
    "    prob_dist = np.copy(prob_dist_neg[:, 1:])\n",
    "    prob_dist[:, 0] += prob_dist_neg[:, 0]\n",
    "\n",
    "    bg_pmra = df_back['pmra'].to_numpy(); bg_pmdec = df_back['pmdec'].to_numpy()\n",
    "    ### histogram of summed probabilities\n",
    "    hist_prob = sp.stats.binned_statistic_dd([q_bil, bg_G, q_pix], np.transpose(prob_dist), bins=[bins_bil, bins_G, bins_pix],statistic='sum')[0] \n",
    "    ### histogram of average pmra weighted by probabilities\n",
    "    hist_pmra = sp.stats.binned_statistic_dd([q_bil, bg_G, q_pix],np.transpose(prob_dist) * bg_pmra, bins=[bins_bil, bins_G, bins_pix],statistic='sum')[0] #sum first in each bin\n",
    "    hist_pmra = hist_pmra / (hist_prob + 1e-20) #then divide by number in each bin\n",
    "    hist_pmdec = sp.stats.binned_statistic_dd([q_bil, bg_G, q_pix],np.transpose(prob_dist) * bg_pmdec, bins=[bins_bil, bins_G, bins_pix], statistic='sum')[0] #sum first in each bin\n",
    "    hist_pmdec = hist_pmdec / (hist_prob + 1e-20) #then divide by number in each bin\n",
    "    \n",
    "    ### For each star, get the mean pm of the corresponding bin\n",
    "    mean_pmra = hist_pmra[:, q_bin_bil, q_bin_G, q_bin_pix].T; mean_pmdec = hist_pmdec[:, q_bin_bil, q_bin_G, q_bin_pix].T\n",
    "\n",
    "    ### histogram of pm variance weighted by dist bin probabilities\n",
    "    hist_pmra_var = sp.stats.binned_statistic_dd([q_bil, bg_G, q_pix],np.transpose(prob_dist) * (mean_pmra.T - bg_pmra)**2,\n",
    "                                                    bins=[bins_bil, bins_G, bins_pix],statistic='sum')[0] #sum first in each bin\n",
    "    hist_pmra_var = hist_pmra_var / (hist_prob - 1 + 1e-20) # the estimator should have a -1 (this matches for example var() computed with panda's groupy)\n",
    "    hist_pmdec_var = sp.stats.binned_statistic_dd([q_bil, bg_G, q_pix],np.transpose(prob_dist) * (mean_pmdec.T - bg_pmdec)**2,\n",
    "                                                    bins=[bins_bil, bins_G, bins_pix],statistic='sum')[0] #sum first in each bin\n",
    "    hist_pmdec_var = hist_pmdec_var / (hist_prob - 1 + 1e-20) \n",
    "    hist_pmradec_var = sp.stats.binned_statistic_dd([q_bil, bg_G, q_pix],np.transpose(prob_dist) * (mean_pmra.T - bg_pmra) * (mean_pmdec.T - bg_pmdec),\n",
    "                                                        bins=[bins_bil, bins_G, bins_pix],statistic='sum')[0] #sum first in each bin\n",
    "    hist_pmradec_var = hist_pmradec_var / (hist_prob - 1 + 1e-20) \n",
    "    \n",
    "    ### set to nan bins where there are too few stars\n",
    "    hist_pmra[hist_prob < th_count] = np.nan; hist_pmdec[hist_prob < th_count] = np.nan\n",
    "    hist_pmra_var[hist_prob < th_count] = np.nan; hist_pmdec_var[hist_prob < th_count] = np.nan; hist_pmradec_var[hist_prob < th_count] = np.nan\n",
    "\n",
    "    ### For each star, get the pm mean and variance of the corresponding bin (after excluding the low count bins)\n",
    "    mean_pmra = hist_pmra[:, q_bin_bil, q_bin_G, q_bin_pix].T; mean_pmdec = hist_pmdec[:, q_bin_bil, q_bin_G, q_bin_pix].T\n",
    "    var_pmra = hist_pmra_var[:, q_bin_bil, q_bin_G, q_bin_pix].T; var_pmdec = hist_pmdec_var[:, q_bin_bil, q_bin_G, q_bin_pix].T; var_pmradec = hist_pmradec_var[:, q_bin_bil, q_bin_G, q_bin_pix].T;    \n",
    "\n",
    "    ###  Get the mean and var for each star\n",
    "    tab_sum_pw = np.sum(prob_dist, axis=1, where=(~np.isnan(mean_pmra)))  # sum of the dist weights for each star using only bins with enough statistics \n",
    "    tab_mean_pmra = np.sum(np.nan_to_num(mean_pmra*prob_dist), axis=1)/(tab_sum_pw + 1e-20)\n",
    "    tab_mean_pmdec = np.sum(np.nan_to_num(mean_pmdec*prob_dist), axis=1)/(tab_sum_pw + 1e-20)\n",
    "    tab_var_pmra = np.sum(np.nan_to_num(var_pmra*prob_dist), axis=1)/(tab_sum_pw + 1e-20)\n",
    "    tab_var_pmdec = np.sum(np.nan_to_num(var_pmdec*prob_dist), axis=1)/(tab_sum_pw + 1e-20)\n",
    "    tab_var_pmradec = np.sum(np.nan_to_num(var_pmradec*prob_dist), axis=1)/(tab_sum_pw + 1e-20)        \n",
    "    \n",
    "    ### Find all the stars whose distance probability support is mostly in spare bins. Remove stars with more than 20% probability in sparse bins\n",
    "    hist_prob_copy = np.copy(hist_prob)\n",
    "    hist_prob_copy[hist_prob<th_count] = 1\n",
    "    hist_prob_copy[hist_prob>=th_count] = 0\n",
    "    count_prob_sparse = hist_prob_copy[:, q_bin_bil, q_bin_G, q_bin_pix].T\n",
    "\n",
    "    prob_in_sparse_bin = np.sum(count_prob_sparse*prob_dist, axis=1)\n",
    "    good_bins = prob_in_sparse_bin < prob_sparse_th\n",
    "    \n",
    "    len_bg = len(df_back)\n",
    "    out_frac=(1-len(prob_in_sparse_bin[good_bins])/len_bg);        \n",
    "    print('Iter '+str(iter_n)+' -- fraction of stars in sparse bins: '+str(out_frac*100)[:8]+' %')\n",
    "    \n",
    "    tab_mean_pmra = tab_mean_pmra[good_bins]; tab_mean_pmdec = tab_mean_pmdec[good_bins]\n",
    "    tab_var_pmra = tab_var_pmra[good_bins]; tab_var_pmdec = tab_var_pmdec[good_bins]; tab_var_pmradec = tab_var_pmradec[good_bins]\n",
    "    \n",
    "    df_fore = df_fore.iloc[good_bins]; df_back = df_back.iloc[good_bins]\n",
    "    \n",
    "    ### subtracted pm and inverse covariance for outlier removal\n",
    "    pm_sub = np.array([df_back['pmra'].to_numpy()-tab_mean_pmra, df_back['pmdec'].to_numpy()-tab_mean_pmdec]).T\n",
    "\n",
    "    if final_call==False: ### remove outliers\n",
    "        inv_cov_pm = np.linalg.inv(np.array([[tab_var_pmra, tab_var_pmradec], [tab_var_pmradec, tab_var_pmdec]]).T)\n",
    "        mu_over_sigma_sq = inv_cov_pm[:, 0, 0]*pm_sub[:, 0]**2 + inv_cov_pm[:, 1, 1]*pm_sub[:, 1]**2 + 2*inv_cov_pm[:, 0, 1]*pm_sub[:, 0]*pm_sub[:, 1]\n",
    "\n",
    "        len_bg = len(df_back)\n",
    "        df_fore = df_fore.iloc[mu_over_sigma_sq < n_sigma_out**2]\n",
    "        df_back = df_back.iloc[mu_over_sigma_sq < n_sigma_out**2]\n",
    "        out_frac=(1-len(df_back)/len_bg);        \n",
    "        print('Iter '+str(iter_n)+' -- fraction of outliers removed: '+str(out_frac*100)[:8]+' %')\n",
    "        \n",
    "        return df_fore, df_back\n",
    "            \n",
    "    else: ### add columns corresponding to subtracted pm motion and effective variance \n",
    "        df_back['pmra_sub_new'] = pm_sub[:, 0]; df_back['pmdec_sub_new'] = pm_sub[:, 1]\n",
    "        \n",
    "        df_back['pmra_eff_error_new'] = np.sqrt(tab_var_pmra)\n",
    "        df_back['pmdec_eff_error_new'] = np.sqrt(tab_var_pmdec)\n",
    "\n",
    "        df_back['pmra_pmdec_eff_corr_new'] = tab_var_pmradec/(np.sqrt(tab_var_pmra)*np.sqrt(tab_var_pmdec))\n",
    "        \n",
    "        return df_fore, df_back"
   ]
  },
  {
   "cell_type": "markdown",
   "metadata": {},
   "source": [
    "## Run"
   ]
  },
  {
   "cell_type": "code",
   "execution_count": 14,
   "metadata": {
    "execution": {
     "iopub.execute_input": "2023-02-15T16:43:17.547147Z",
     "iopub.status.busy": "2023-02-15T16:43:17.546778Z",
     "iopub.status.idle": "2023-02-15T16:50:32.751770Z",
     "shell.execute_reply": "2023-02-15T16:50:32.747380Z",
     "shell.execute_reply.started": "2023-02-15T16:43:17.547108Z"
    }
   },
   "outputs": [
    {
     "name": "stdout",
     "output_type": "stream",
     "text": [
      "Iter 0 -- fraction of stars in sparse bins: 19.8847 %\n",
      "Iter 0 -- fraction of outliers removed: 2.42717 %\n",
      "Iter 1 -- fraction of stars in sparse bins: 3.60718 %\n",
      "Iter 1 -- fraction of outliers removed: 1.54236 %\n",
      "Iter 2 -- fraction of stars in sparse bins: 1.00532 %\n",
      "Iter 2 -- fraction of outliers removed: 0.70235 %\n",
      "Iter 3 -- fraction of stars in sparse bins: 0.21070 %\n",
      "Iter 3 -- fraction of outliers removed: 0.31592 %\n",
      "Iter 4 -- fraction of stars in sparse bins: 0.07265 %\n",
      "Iter 4 -- fraction of outliers removed: 0.14259 %\n",
      "Iter 5 -- fraction of stars in sparse bins: 0.02920 %\n",
      "Iter 5 -- fraction of outliers removed: 0.06779 %\n",
      "Iter 6 -- fraction of stars in sparse bins: 0.01015 %\n",
      "Iter 6 -- fraction of outliers removed: 0.03195 %\n",
      "Iter 7 -- fraction of stars in sparse bins: 0.00570 %\n",
      "Iter 7 -- fraction of outliers removed: 0.01488 %\n",
      "Iter 8 -- fraction of stars in sparse bins: 0.00309 %\n",
      "Iter 8 -- fraction of outliers removed: 0.00793 %\n",
      "Iter 9 -- fraction of stars in sparse bins: 0.00019 %\n",
      "Iter 9 -- fraction of outliers removed: 0.00377 %\n"
     ]
    }
   ],
   "source": [
    "iter_n=0\n",
    "out_frac=1\n",
    "n_iter = 10 # each iteration around 5 minutes\n",
    "n_sigma_out = 3\n",
    "th_count = 30\n",
    "prob_sparse_th = 0.2\n",
    "\n",
    "while (iter_n<n_iter) & (out_frac>1E-5):\n",
    "    df_fore_n, df_back_n = fn_pm_stats(df_fore, df_back, th_count, prob_sparse_th, n_sigma_out, final_call=False)\n",
    "    df_fore, df_back = df_fore_n, df_back_n\n",
    "    iter_n += 1; "
   ]
  },
  {
   "cell_type": "code",
   "execution_count": 16,
   "metadata": {
    "execution": {
     "iopub.execute_input": "2023-02-15T16:50:50.883691Z",
     "iopub.status.busy": "2023-02-15T16:50:50.883323Z",
     "iopub.status.idle": "2023-02-15T16:51:20.579046Z",
     "shell.execute_reply": "2023-02-15T16:51:20.578097Z",
     "shell.execute_reply.started": "2023-02-15T16:50:50.883655Z"
    }
   },
   "outputs": [
    {
     "name": "stdout",
     "output_type": "stream",
     "text": [
      "Iter 10 -- fraction of stars in sparse bins: 0.0 %\n"
     ]
    }
   ],
   "source": [
    "### Do the subtraction one last time without removing the outliers\n",
    "df_fore_n, df_back_n = fn_pm_stats(df_fore, df_back, th_count, prob_sparse_th, n_sigma_out, final_call=True)\n",
    "df_fore, df_back = df_fore_n, df_back_n"
   ]
  },
  {
   "cell_type": "code",
   "execution_count": 19,
   "metadata": {
    "execution": {
     "iopub.execute_input": "2023-02-15T16:52:05.585538Z",
     "iopub.status.busy": "2023-02-15T16:52:05.584915Z",
     "iopub.status.idle": "2023-02-15T16:54:13.463173Z",
     "shell.execute_reply": "2023-02-15T16:54:13.462188Z",
     "shell.execute_reply.started": "2023-02-15T16:52:05.585472Z"
    }
   },
   "outputs": [],
   "source": [
    "### Save the result\n",
    "\n",
    "df_fore.to_csv(DataDir+'fg_subtracted.csv', index=False, chunksize=100000)"
   ]
  },
  {
   "cell_type": "code",
   "execution_count": 20,
   "metadata": {
    "execution": {
     "iopub.execute_input": "2023-02-15T16:54:45.425842Z",
     "iopub.status.busy": "2023-02-15T16:54:45.425009Z",
     "iopub.status.idle": "2023-02-15T16:58:53.158121Z",
     "shell.execute_reply": "2023-02-15T16:58:53.157338Z",
     "shell.execute_reply.started": "2023-02-15T16:54:45.425799Z"
    }
   },
   "outputs": [],
   "source": [
    "df_back.to_csv(DataDir+'bg_subtracted.csv', index=False, chunksize=100000)"
   ]
  },
  {
   "cell_type": "code",
   "execution_count": 17,
   "metadata": {
    "execution": {
     "iopub.execute_input": "2023-02-15T16:51:24.843408Z",
     "iopub.status.busy": "2023-02-15T16:51:24.841256Z",
     "iopub.status.idle": "2023-02-15T16:51:30.845778Z",
     "shell.execute_reply": "2023-02-15T16:51:30.845180Z",
     "shell.execute_reply.started": "2023-02-15T16:51:24.843346Z"
    }
   },
   "outputs": [
    {
     "data": {
      "text/html": [
       "<div>\n",
       "<style scoped>\n",
       "    .dataframe tbody tr th:only-of-type {\n",
       "        vertical-align: middle;\n",
       "    }\n",
       "\n",
       "    .dataframe tbody tr th {\n",
       "        vertical-align: top;\n",
       "    }\n",
       "\n",
       "    .dataframe thead th {\n",
       "        text-align: right;\n",
       "    }\n",
       "</style>\n",
       "<table border=\"1\" class=\"dataframe\">\n",
       "  <thead>\n",
       "    <tr style=\"text-align: right;\">\n",
       "      <th></th>\n",
       "      <th>source_id</th>\n",
       "      <th>ra</th>\n",
       "      <th>dec</th>\n",
       "      <th>pmra</th>\n",
       "      <th>pmdec</th>\n",
       "      <th>pmra_error</th>\n",
       "      <th>pmdec_error</th>\n",
       "      <th>pmra_pmdec_corr</th>\n",
       "      <th>parallax</th>\n",
       "      <th>parallax_error</th>\n",
       "      <th>...</th>\n",
       "      <th>pmra_pmdec_eff_corr</th>\n",
       "      <th>dist_50</th>\n",
       "      <th>dist_14</th>\n",
       "      <th>dist_86</th>\n",
       "      <th>dist_error</th>\n",
       "      <th>pmra_sub_new</th>\n",
       "      <th>pmdec_sub_new</th>\n",
       "      <th>pmra_eff_error_new</th>\n",
       "      <th>pmdec_eff_error_new</th>\n",
       "      <th>pmra_pmdec_eff_corr_new</th>\n",
       "    </tr>\n",
       "  </thead>\n",
       "  <tbody>\n",
       "    <tr>\n",
       "      <th>77837</th>\n",
       "      <td>407652079258216832</td>\n",
       "      <td>26.833258</td>\n",
       "      <td>51.855765</td>\n",
       "      <td>-4.064927</td>\n",
       "      <td>-1.565365</td>\n",
       "      <td>0.126139</td>\n",
       "      <td>0.116540</td>\n",
       "      <td>0.012693</td>\n",
       "      <td>0.406816</td>\n",
       "      <td>0.124430</td>\n",
       "      <td>...</td>\n",
       "      <td>-0.128547</td>\n",
       "      <td>2487.2134</td>\n",
       "      <td>1938.6178</td>\n",
       "      <td>3334.8035</td>\n",
       "      <td>698.09285</td>\n",
       "      <td>-2.706098</td>\n",
       "      <td>-1.160469</td>\n",
       "      <td>1.910270</td>\n",
       "      <td>1.552029</td>\n",
       "      <td>-0.151126</td>\n",
       "    </tr>\n",
       "    <tr>\n",
       "      <th>77850</th>\n",
       "      <td>407670053694081536</td>\n",
       "      <td>26.529999</td>\n",
       "      <td>52.070850</td>\n",
       "      <td>-2.963004</td>\n",
       "      <td>-0.583585</td>\n",
       "      <td>0.075206</td>\n",
       "      <td>0.069984</td>\n",
       "      <td>0.045255</td>\n",
       "      <td>0.351316</td>\n",
       "      <td>0.075596</td>\n",
       "      <td>...</td>\n",
       "      <td>-0.150118</td>\n",
       "      <td>2583.8684</td>\n",
       "      <td>2163.2551</td>\n",
       "      <td>3112.2837</td>\n",
       "      <td>474.51430</td>\n",
       "      <td>-1.590190</td>\n",
       "      <td>-0.191498</td>\n",
       "      <td>1.937944</td>\n",
       "      <td>1.571456</td>\n",
       "      <td>-0.157471</td>\n",
       "    </tr>\n",
       "    <tr>\n",
       "      <th>77883</th>\n",
       "      <td>407745301525056256</td>\n",
       "      <td>28.135469</td>\n",
       "      <td>52.558146</td>\n",
       "      <td>-1.199981</td>\n",
       "      <td>-1.201087</td>\n",
       "      <td>0.088220</td>\n",
       "      <td>0.075072</td>\n",
       "      <td>-0.079274</td>\n",
       "      <td>0.324604</td>\n",
       "      <td>0.076862</td>\n",
       "      <td>...</td>\n",
       "      <td>-0.115182</td>\n",
       "      <td>2983.0005</td>\n",
       "      <td>2442.0657</td>\n",
       "      <td>3889.4458</td>\n",
       "      <td>723.69005</td>\n",
       "      <td>0.119845</td>\n",
       "      <td>-0.760469</td>\n",
       "      <td>1.830878</td>\n",
       "      <td>1.496515</td>\n",
       "      <td>-0.131461</td>\n",
       "    </tr>\n",
       "    <tr>\n",
       "      <th>77921</th>\n",
       "      <td>407818041090608384</td>\n",
       "      <td>27.248774</td>\n",
       "      <td>52.956444</td>\n",
       "      <td>-0.443197</td>\n",
       "      <td>-0.612761</td>\n",
       "      <td>0.097763</td>\n",
       "      <td>0.084193</td>\n",
       "      <td>-0.033119</td>\n",
       "      <td>0.162303</td>\n",
       "      <td>0.086288</td>\n",
       "      <td>...</td>\n",
       "      <td>-0.320283</td>\n",
       "      <td>4404.5340</td>\n",
       "      <td>3299.5427</td>\n",
       "      <td>5740.7360</td>\n",
       "      <td>1220.59665</td>\n",
       "      <td>0.805635</td>\n",
       "      <td>-0.107121</td>\n",
       "      <td>1.676750</td>\n",
       "      <td>1.389788</td>\n",
       "      <td>-0.085938</td>\n",
       "    </tr>\n",
       "    <tr>\n",
       "      <th>77945</th>\n",
       "      <td>407870164811431552</td>\n",
       "      <td>26.579393</td>\n",
       "      <td>52.453189</td>\n",
       "      <td>-0.758300</td>\n",
       "      <td>-0.242869</td>\n",
       "      <td>0.131261</td>\n",
       "      <td>0.101988</td>\n",
       "      <td>-0.218260</td>\n",
       "      <td>0.151688</td>\n",
       "      <td>0.119610</td>\n",
       "      <td>...</td>\n",
       "      <td>-0.138365</td>\n",
       "      <td>4120.2520</td>\n",
       "      <td>3105.4836</td>\n",
       "      <td>5697.6235</td>\n",
       "      <td>1296.06995</td>\n",
       "      <td>0.501472</td>\n",
       "      <td>0.252752</td>\n",
       "      <td>1.701408</td>\n",
       "      <td>1.406761</td>\n",
       "      <td>-0.093967</td>\n",
       "    </tr>\n",
       "    <tr>\n",
       "      <th>...</th>\n",
       "      <td>...</td>\n",
       "      <td>...</td>\n",
       "      <td>...</td>\n",
       "      <td>...</td>\n",
       "      <td>...</td>\n",
       "      <td>...</td>\n",
       "      <td>...</td>\n",
       "      <td>...</td>\n",
       "      <td>...</td>\n",
       "      <td>...</td>\n",
       "      <td>...</td>\n",
       "      <td>...</td>\n",
       "      <td>...</td>\n",
       "      <td>...</td>\n",
       "      <td>...</td>\n",
       "      <td>...</td>\n",
       "      <td>...</td>\n",
       "      <td>...</td>\n",
       "      <td>...</td>\n",
       "      <td>...</td>\n",
       "      <td>...</td>\n",
       "    </tr>\n",
       "    <tr>\n",
       "      <th>10421972</th>\n",
       "      <td>6764395645195995008</td>\n",
       "      <td>286.702925</td>\n",
       "      <td>-24.943808</td>\n",
       "      <td>-6.547409</td>\n",
       "      <td>-4.257561</td>\n",
       "      <td>0.435546</td>\n",
       "      <td>0.345680</td>\n",
       "      <td>-0.025354</td>\n",
       "      <td>-0.632005</td>\n",
       "      <td>0.367965</td>\n",
       "      <td>...</td>\n",
       "      <td>0.159154</td>\n",
       "      <td>6373.3040</td>\n",
       "      <td>4055.6035</td>\n",
       "      <td>9337.4480</td>\n",
       "      <td>2640.92225</td>\n",
       "      <td>-4.303374</td>\n",
       "      <td>0.663257</td>\n",
       "      <td>2.350638</td>\n",
       "      <td>2.942281</td>\n",
       "      <td>0.279406</td>\n",
       "    </tr>\n",
       "    <tr>\n",
       "      <th>10421989</th>\n",
       "      <td>6764400459856491904</td>\n",
       "      <td>286.959903</td>\n",
       "      <td>-24.814410</td>\n",
       "      <td>0.726159</td>\n",
       "      <td>-6.218973</td>\n",
       "      <td>0.333150</td>\n",
       "      <td>0.304717</td>\n",
       "      <td>0.349956</td>\n",
       "      <td>0.266297</td>\n",
       "      <td>0.286263</td>\n",
       "      <td>...</td>\n",
       "      <td>0.173529</td>\n",
       "      <td>4866.0747</td>\n",
       "      <td>3067.2144</td>\n",
       "      <td>6921.4260</td>\n",
       "      <td>1927.10580</td>\n",
       "      <td>2.378090</td>\n",
       "      <td>-1.746547</td>\n",
       "      <td>2.780611</td>\n",
       "      <td>2.774706</td>\n",
       "      <td>0.119460</td>\n",
       "    </tr>\n",
       "    <tr>\n",
       "      <th>10422002</th>\n",
       "      <td>6764403792752241536</td>\n",
       "      <td>286.750590</td>\n",
       "      <td>-24.768030</td>\n",
       "      <td>0.947705</td>\n",
       "      <td>-4.734969</td>\n",
       "      <td>0.214560</td>\n",
       "      <td>0.177042</td>\n",
       "      <td>0.157865</td>\n",
       "      <td>-0.067881</td>\n",
       "      <td>0.190301</td>\n",
       "      <td>...</td>\n",
       "      <td>0.206011</td>\n",
       "      <td>6657.5728</td>\n",
       "      <td>4696.9014</td>\n",
       "      <td>9857.3540</td>\n",
       "      <td>2580.22630</td>\n",
       "      <td>2.700585</td>\n",
       "      <td>-0.247635</td>\n",
       "      <td>2.441819</td>\n",
       "      <td>2.673347</td>\n",
       "      <td>0.050754</td>\n",
       "    </tr>\n",
       "    <tr>\n",
       "      <th>10422003</th>\n",
       "      <td>6764403792752241664</td>\n",
       "      <td>286.749851</td>\n",
       "      <td>-24.768231</td>\n",
       "      <td>-1.230452</td>\n",
       "      <td>-6.258204</td>\n",
       "      <td>0.258761</td>\n",
       "      <td>0.218863</td>\n",
       "      <td>0.186150</td>\n",
       "      <td>0.121720</td>\n",
       "      <td>0.229431</td>\n",
       "      <td>...</td>\n",
       "      <td>0.175015</td>\n",
       "      <td>5900.0522</td>\n",
       "      <td>3815.6404</td>\n",
       "      <td>10095.1720</td>\n",
       "      <td>3139.76580</td>\n",
       "      <td>0.485023</td>\n",
       "      <td>-1.970834</td>\n",
       "      <td>2.558264</td>\n",
       "      <td>2.637472</td>\n",
       "      <td>0.109893</td>\n",
       "    </tr>\n",
       "    <tr>\n",
       "      <th>10422004</th>\n",
       "      <td>6764404205068135168</td>\n",
       "      <td>286.776797</td>\n",
       "      <td>-24.739748</td>\n",
       "      <td>-4.345762</td>\n",
       "      <td>-5.209335</td>\n",
       "      <td>0.197926</td>\n",
       "      <td>0.170472</td>\n",
       "      <td>0.340317</td>\n",
       "      <td>0.198237</td>\n",
       "      <td>0.177872</td>\n",
       "      <td>...</td>\n",
       "      <td>0.164569</td>\n",
       "      <td>6236.1930</td>\n",
       "      <td>3655.5676</td>\n",
       "      <td>9687.8670</td>\n",
       "      <td>3016.14970</td>\n",
       "      <td>-2.629911</td>\n",
       "      <td>-0.920910</td>\n",
       "      <td>2.556403</td>\n",
       "      <td>2.636951</td>\n",
       "      <td>0.110120</td>\n",
       "    </tr>\n",
       "  </tbody>\n",
       "</table>\n",
       "<p>7549936 rows × 26 columns</p>\n",
       "</div>"
      ],
      "text/plain": [
       "                    source_id          ra        dec      pmra     pmdec  \\\n",
       "77837      407652079258216832   26.833258  51.855765 -4.064927 -1.565365   \n",
       "77850      407670053694081536   26.529999  52.070850 -2.963004 -0.583585   \n",
       "77883      407745301525056256   28.135469  52.558146 -1.199981 -1.201087   \n",
       "77921      407818041090608384   27.248774  52.956444 -0.443197 -0.612761   \n",
       "77945      407870164811431552   26.579393  52.453189 -0.758300 -0.242869   \n",
       "...                       ...         ...        ...       ...       ...   \n",
       "10421972  6764395645195995008  286.702925 -24.943808 -6.547409 -4.257561   \n",
       "10421989  6764400459856491904  286.959903 -24.814410  0.726159 -6.218973   \n",
       "10422002  6764403792752241536  286.750590 -24.768030  0.947705 -4.734969   \n",
       "10422003  6764403792752241664  286.749851 -24.768231 -1.230452 -6.258204   \n",
       "10422004  6764404205068135168  286.776797 -24.739748 -4.345762 -5.209335   \n",
       "\n",
       "          pmra_error  pmdec_error  pmra_pmdec_corr  parallax  parallax_error  \\\n",
       "77837       0.126139     0.116540         0.012693  0.406816        0.124430   \n",
       "77850       0.075206     0.069984         0.045255  0.351316        0.075596   \n",
       "77883       0.088220     0.075072        -0.079274  0.324604        0.076862   \n",
       "77921       0.097763     0.084193        -0.033119  0.162303        0.086288   \n",
       "77945       0.131261     0.101988        -0.218260  0.151688        0.119610   \n",
       "...              ...          ...              ...       ...             ...   \n",
       "10421972    0.435546     0.345680        -0.025354 -0.632005        0.367965   \n",
       "10421989    0.333150     0.304717         0.349956  0.266297        0.286263   \n",
       "10422002    0.214560     0.177042         0.157865 -0.067881        0.190301   \n",
       "10422003    0.258761     0.218863         0.186150  0.121720        0.229431   \n",
       "10422004    0.197926     0.170472         0.340317  0.198237        0.177872   \n",
       "\n",
       "          ...  pmra_pmdec_eff_corr    dist_50    dist_14     dist_86  \\\n",
       "77837     ...            -0.128547  2487.2134  1938.6178   3334.8035   \n",
       "77850     ...            -0.150118  2583.8684  2163.2551   3112.2837   \n",
       "77883     ...            -0.115182  2983.0005  2442.0657   3889.4458   \n",
       "77921     ...            -0.320283  4404.5340  3299.5427   5740.7360   \n",
       "77945     ...            -0.138365  4120.2520  3105.4836   5697.6235   \n",
       "...       ...                  ...        ...        ...         ...   \n",
       "10421972  ...             0.159154  6373.3040  4055.6035   9337.4480   \n",
       "10421989  ...             0.173529  4866.0747  3067.2144   6921.4260   \n",
       "10422002  ...             0.206011  6657.5728  4696.9014   9857.3540   \n",
       "10422003  ...             0.175015  5900.0522  3815.6404  10095.1720   \n",
       "10422004  ...             0.164569  6236.1930  3655.5676   9687.8670   \n",
       "\n",
       "          dist_error  pmra_sub_new  pmdec_sub_new  pmra_eff_error_new  \\\n",
       "77837      698.09285     -2.706098      -1.160469            1.910270   \n",
       "77850      474.51430     -1.590190      -0.191498            1.937944   \n",
       "77883      723.69005      0.119845      -0.760469            1.830878   \n",
       "77921     1220.59665      0.805635      -0.107121            1.676750   \n",
       "77945     1296.06995      0.501472       0.252752            1.701408   \n",
       "...              ...           ...            ...                 ...   \n",
       "10421972  2640.92225     -4.303374       0.663257            2.350638   \n",
       "10421989  1927.10580      2.378090      -1.746547            2.780611   \n",
       "10422002  2580.22630      2.700585      -0.247635            2.441819   \n",
       "10422003  3139.76580      0.485023      -1.970834            2.558264   \n",
       "10422004  3016.14970     -2.629911      -0.920910            2.556403   \n",
       "\n",
       "          pmdec_eff_error_new  pmra_pmdec_eff_corr_new  \n",
       "77837                1.552029                -0.151126  \n",
       "77850                1.571456                -0.157471  \n",
       "77883                1.496515                -0.131461  \n",
       "77921                1.389788                -0.085938  \n",
       "77945                1.406761                -0.093967  \n",
       "...                       ...                      ...  \n",
       "10421972             2.942281                 0.279406  \n",
       "10421989             2.774706                 0.119460  \n",
       "10422002             2.673347                 0.050754  \n",
       "10422003             2.637472                 0.109893  \n",
       "10422004             2.636951                 0.110120  \n",
       "\n",
       "[7549936 rows x 26 columns]"
      ]
     },
     "execution_count": 17,
     "metadata": {},
     "output_type": "execute_result"
    }
   ],
   "source": [
    "df_back"
   ]
  },
  {
   "cell_type": "code",
   "execution_count": 18,
   "metadata": {
    "execution": {
     "iopub.execute_input": "2023-02-15T16:51:59.896580Z",
     "iopub.status.busy": "2023-02-15T16:51:59.896100Z",
     "iopub.status.idle": "2023-02-15T16:51:59.927332Z",
     "shell.execute_reply": "2023-02-15T16:51:59.926875Z",
     "shell.execute_reply.started": "2023-02-15T16:51:59.896542Z"
    }
   },
   "outputs": [
    {
     "data": {
      "text/html": [
       "<div>\n",
       "<style scoped>\n",
       "    .dataframe tbody tr th:only-of-type {\n",
       "        vertical-align: middle;\n",
       "    }\n",
       "\n",
       "    .dataframe tbody tr th {\n",
       "        vertical-align: top;\n",
       "    }\n",
       "\n",
       "    .dataframe thead th {\n",
       "        text-align: right;\n",
       "    }\n",
       "</style>\n",
       "<table border=\"1\" class=\"dataframe\">\n",
       "  <thead>\n",
       "    <tr style=\"text-align: right;\">\n",
       "      <th></th>\n",
       "      <th>source_id</th>\n",
       "      <th>ra</th>\n",
       "      <th>dec</th>\n",
       "      <th>pmra</th>\n",
       "      <th>pmdec</th>\n",
       "      <th>pmra_error</th>\n",
       "      <th>pmdec_error</th>\n",
       "      <th>parallax</th>\n",
       "      <th>parallax_error</th>\n",
       "      <th>phot_g_mean_mag</th>\n",
       "      <th>ruwe</th>\n",
       "      <th>dist_50</th>\n",
       "      <th>dist_14</th>\n",
       "      <th>dist_86</th>\n",
       "    </tr>\n",
       "  </thead>\n",
       "  <tbody>\n",
       "    <tr>\n",
       "      <th>77837</th>\n",
       "      <td>407652083551512960</td>\n",
       "      <td>26.833340</td>\n",
       "      <td>51.856516</td>\n",
       "      <td>12.067780</td>\n",
       "      <td>-10.596260</td>\n",
       "      <td>0.561367</td>\n",
       "      <td>0.466178</td>\n",
       "      <td>1.719803</td>\n",
       "      <td>0.519281</td>\n",
       "      <td>20.008286</td>\n",
       "      <td>1.059188</td>\n",
       "      <td>804.16980</td>\n",
       "      <td>566.88280</td>\n",
       "      <td>1088.25060</td>\n",
       "    </tr>\n",
       "    <tr>\n",
       "      <th>77850</th>\n",
       "      <td>407670053697191936</td>\n",
       "      <td>26.531067</td>\n",
       "      <td>52.071347</td>\n",
       "      <td>-2.015311</td>\n",
       "      <td>-2.023124</td>\n",
       "      <td>0.026102</td>\n",
       "      <td>0.025137</td>\n",
       "      <td>0.599444</td>\n",
       "      <td>0.026578</td>\n",
       "      <td>15.117724</td>\n",
       "      <td>1.039073</td>\n",
       "      <td>1569.07780</td>\n",
       "      <td>1506.92970</td>\n",
       "      <td>1628.10730</td>\n",
       "    </tr>\n",
       "    <tr>\n",
       "      <th>77883</th>\n",
       "      <td>407745301522158208</td>\n",
       "      <td>28.136469</td>\n",
       "      <td>52.557591</td>\n",
       "      <td>9.808310</td>\n",
       "      <td>-5.353896</td>\n",
       "      <td>0.753849</td>\n",
       "      <td>0.592664</td>\n",
       "      <td>2.413656</td>\n",
       "      <td>0.569169</td>\n",
       "      <td>20.097862</td>\n",
       "      <td>1.083858</td>\n",
       "      <td>483.05066</td>\n",
       "      <td>372.60986</td>\n",
       "      <td>643.85443</td>\n",
       "    </tr>\n",
       "    <tr>\n",
       "      <th>77921</th>\n",
       "      <td>407818036795554432</td>\n",
       "      <td>27.247790</td>\n",
       "      <td>52.955936</td>\n",
       "      <td>-0.140986</td>\n",
       "      <td>-7.115295</td>\n",
       "      <td>0.315361</td>\n",
       "      <td>0.298617</td>\n",
       "      <td>1.275553</td>\n",
       "      <td>0.308394</td>\n",
       "      <td>19.543024</td>\n",
       "      <td>1.027695</td>\n",
       "      <td>893.59406</td>\n",
       "      <td>708.77530</td>\n",
       "      <td>1202.46510</td>\n",
       "    </tr>\n",
       "    <tr>\n",
       "      <th>77945</th>\n",
       "      <td>407870164813793408</td>\n",
       "      <td>26.578290</td>\n",
       "      <td>52.453678</td>\n",
       "      <td>45.055729</td>\n",
       "      <td>-14.663389</td>\n",
       "      <td>0.060869</td>\n",
       "      <td>0.048567</td>\n",
       "      <td>2.899897</td>\n",
       "      <td>0.055866</td>\n",
       "      <td>16.423018</td>\n",
       "      <td>1.004972</td>\n",
       "      <td>340.61853</td>\n",
       "      <td>334.55960</td>\n",
       "      <td>347.35630</td>\n",
       "    </tr>\n",
       "    <tr>\n",
       "      <th>...</th>\n",
       "      <td>...</td>\n",
       "      <td>...</td>\n",
       "      <td>...</td>\n",
       "      <td>...</td>\n",
       "      <td>...</td>\n",
       "      <td>...</td>\n",
       "      <td>...</td>\n",
       "      <td>...</td>\n",
       "      <td>...</td>\n",
       "      <td>...</td>\n",
       "      <td>...</td>\n",
       "      <td>...</td>\n",
       "      <td>...</td>\n",
       "      <td>...</td>\n",
       "    </tr>\n",
       "    <tr>\n",
       "      <th>10421972</th>\n",
       "      <td>6764395649492439424</td>\n",
       "      <td>286.702410</td>\n",
       "      <td>-24.944334</td>\n",
       "      <td>0.300947</td>\n",
       "      <td>-4.543128</td>\n",
       "      <td>0.688743</td>\n",
       "      <td>0.526774</td>\n",
       "      <td>1.848124</td>\n",
       "      <td>0.564692</td>\n",
       "      <td>19.952463</td>\n",
       "      <td>0.917467</td>\n",
       "      <td>732.37250</td>\n",
       "      <td>523.12976</td>\n",
       "      <td>1028.10010</td>\n",
       "    </tr>\n",
       "    <tr>\n",
       "      <th>10421989</th>\n",
       "      <td>6764400455558270336</td>\n",
       "      <td>286.960385</td>\n",
       "      <td>-24.815074</td>\n",
       "      <td>-1.896755</td>\n",
       "      <td>-9.439440</td>\n",
       "      <td>0.080350</td>\n",
       "      <td>0.071460</td>\n",
       "      <td>1.183686</td>\n",
       "      <td>0.072429</td>\n",
       "      <td>17.161087</td>\n",
       "      <td>0.995648</td>\n",
       "      <td>837.06464</td>\n",
       "      <td>790.42236</td>\n",
       "      <td>881.72485</td>\n",
       "    </tr>\n",
       "    <tr>\n",
       "      <th>10422002</th>\n",
       "      <td>6764403788452938880</td>\n",
       "      <td>286.750486</td>\n",
       "      <td>-24.768752</td>\n",
       "      <td>0.259481</td>\n",
       "      <td>-0.306208</td>\n",
       "      <td>0.075398</td>\n",
       "      <td>0.062280</td>\n",
       "      <td>0.994623</td>\n",
       "      <td>0.066277</td>\n",
       "      <td>16.874763</td>\n",
       "      <td>0.962140</td>\n",
       "      <td>990.98020</td>\n",
       "      <td>920.72797</td>\n",
       "      <td>1075.33960</td>\n",
       "    </tr>\n",
       "    <tr>\n",
       "      <th>10422003</th>\n",
       "      <td>6764403788452938880</td>\n",
       "      <td>286.750486</td>\n",
       "      <td>-24.768752</td>\n",
       "      <td>0.259481</td>\n",
       "      <td>-0.306208</td>\n",
       "      <td>0.075398</td>\n",
       "      <td>0.062280</td>\n",
       "      <td>0.994623</td>\n",
       "      <td>0.066277</td>\n",
       "      <td>16.874763</td>\n",
       "      <td>0.962140</td>\n",
       "      <td>990.98020</td>\n",
       "      <td>920.72797</td>\n",
       "      <td>1075.33960</td>\n",
       "    </tr>\n",
       "    <tr>\n",
       "      <th>10422004</th>\n",
       "      <td>6764404205074924800</td>\n",
       "      <td>286.776322</td>\n",
       "      <td>-24.739036</td>\n",
       "      <td>-7.676609</td>\n",
       "      <td>-1.844757</td>\n",
       "      <td>0.030598</td>\n",
       "      <td>0.025542</td>\n",
       "      <td>1.040395</td>\n",
       "      <td>0.027393</td>\n",
       "      <td>15.038991</td>\n",
       "      <td>1.044617</td>\n",
       "      <td>921.49243</td>\n",
       "      <td>899.16846</td>\n",
       "      <td>944.97980</td>\n",
       "    </tr>\n",
       "  </tbody>\n",
       "</table>\n",
       "<p>7549936 rows × 14 columns</p>\n",
       "</div>"
      ],
      "text/plain": [
       "                    source_id          ra        dec       pmra      pmdec  \\\n",
       "77837      407652083551512960   26.833340  51.856516  12.067780 -10.596260   \n",
       "77850      407670053697191936   26.531067  52.071347  -2.015311  -2.023124   \n",
       "77883      407745301522158208   28.136469  52.557591   9.808310  -5.353896   \n",
       "77921      407818036795554432   27.247790  52.955936  -0.140986  -7.115295   \n",
       "77945      407870164813793408   26.578290  52.453678  45.055729 -14.663389   \n",
       "...                       ...         ...        ...        ...        ...   \n",
       "10421972  6764395649492439424  286.702410 -24.944334   0.300947  -4.543128   \n",
       "10421989  6764400455558270336  286.960385 -24.815074  -1.896755  -9.439440   \n",
       "10422002  6764403788452938880  286.750486 -24.768752   0.259481  -0.306208   \n",
       "10422003  6764403788452938880  286.750486 -24.768752   0.259481  -0.306208   \n",
       "10422004  6764404205074924800  286.776322 -24.739036  -7.676609  -1.844757   \n",
       "\n",
       "          pmra_error  pmdec_error  parallax  parallax_error  phot_g_mean_mag  \\\n",
       "77837       0.561367     0.466178  1.719803        0.519281        20.008286   \n",
       "77850       0.026102     0.025137  0.599444        0.026578        15.117724   \n",
       "77883       0.753849     0.592664  2.413656        0.569169        20.097862   \n",
       "77921       0.315361     0.298617  1.275553        0.308394        19.543024   \n",
       "77945       0.060869     0.048567  2.899897        0.055866        16.423018   \n",
       "...              ...          ...       ...             ...              ...   \n",
       "10421972    0.688743     0.526774  1.848124        0.564692        19.952463   \n",
       "10421989    0.080350     0.071460  1.183686        0.072429        17.161087   \n",
       "10422002    0.075398     0.062280  0.994623        0.066277        16.874763   \n",
       "10422003    0.075398     0.062280  0.994623        0.066277        16.874763   \n",
       "10422004    0.030598     0.025542  1.040395        0.027393        15.038991   \n",
       "\n",
       "              ruwe     dist_50     dist_14     dist_86  \n",
       "77837     1.059188   804.16980   566.88280  1088.25060  \n",
       "77850     1.039073  1569.07780  1506.92970  1628.10730  \n",
       "77883     1.083858   483.05066   372.60986   643.85443  \n",
       "77921     1.027695   893.59406   708.77530  1202.46510  \n",
       "77945     1.004972   340.61853   334.55960   347.35630  \n",
       "...            ...         ...         ...         ...  \n",
       "10421972  0.917467   732.37250   523.12976  1028.10010  \n",
       "10421989  0.995648   837.06464   790.42236   881.72485  \n",
       "10422002  0.962140   990.98020   920.72797  1075.33960  \n",
       "10422003  0.962140   990.98020   920.72797  1075.33960  \n",
       "10422004  1.044617   921.49243   899.16846   944.97980  \n",
       "\n",
       "[7549936 rows x 14 columns]"
      ]
     },
     "execution_count": 18,
     "metadata": {},
     "output_type": "execute_result"
    }
   ],
   "source": [
    "df_fore"
   ]
  },
  {
   "cell_type": "markdown",
   "metadata": {},
   "source": [
    "## Plots"
   ]
  },
  {
   "cell_type": "code",
   "execution_count": 23,
   "metadata": {
    "execution": {
     "iopub.execute_input": "2023-02-15T17:02:49.699171Z",
     "iopub.status.busy": "2023-02-15T17:02:49.697486Z",
     "iopub.status.idle": "2023-02-15T17:02:57.159707Z",
     "shell.execute_reply": "2023-02-15T17:02:57.159365Z",
     "shell.execute_reply.started": "2023-02-15T17:02:49.699053Z"
    }
   },
   "outputs": [
    {
     "data": {
      "text/plain": [
       "Text(0.5, 0.98, 'New Subtraction')"
      ]
     },
     "execution_count": 23,
     "metadata": {},
     "output_type": "execute_result"
    },
    {
     "data": {
      "image/png": "[encoded data removed]",
      "text/plain": [
       "<Figure size 2400x600 with 3 Axes>"
      ]
     },
     "metadata": {
      "needs_background": "light"
     },
     "output_type": "display_data"
    }
   ],
   "source": [
    "fig,ax = plt.subplots(1,3,figsize=(16,4), dpi = 150)\n",
    "\n",
    "xmax, nbins = 15, 70\n",
    "ax[0].hist(df_back['pmra'], bins=np.linspace(-xmax, xmax, nbins), log=False, density=True, histtype='step');\n",
    "ax[0].hist(df_back['pmra_sub_new'], bins=np.linspace(-xmax, xmax, nbins), log=False, density=True, histtype='step');\n",
    "ax[0].hist(df_back['pmdec'], bins=np.linspace(-xmax, xmax, nbins), log=False, density=True, histtype='step');\n",
    "ax[0].hist(df_back['pmdec_sub_new'], bins=np.linspace(-xmax, xmax, nbins), log=False, density=True, histtype='step');\n",
    "ax[0].legend([r'$\\mu_\\alpha$', r'$\\mu_\\alpha - \\langle \\mu_\\alpha \\rangle$', '$\\mu_\\delta$', r'$\\mu_\\delta - \\langle \\mu_\\delta \\rangle$'], loc='upper right', fontsize = 8, frameon=False);\n",
    "ax[0].set_xlabel(r'$\\mu$ [mas/y]'); ax[0].set_ylabel(r'occurrence [$\\%$]');\n",
    "#ax.set_title(r'Velocity template for '+str(len(tau_list[map_count>min_count]))+' subsets', fontsize = 16);\n",
    "\n",
    "xmax, nbins = 15, 70\n",
    "ax[1].hist(df_back['pmra_eff_error'], bins=np.linspace(0, xmax, nbins), log=True, density=True, histtype='step');\n",
    "ax[1].hist(df_back['pmra_eff_error_new'], bins=np.linspace(0, xmax, nbins), log=True, density=True, histtype='step');\n",
    "ax[1].hist(df_back['pmdec_eff_error'], bins=np.linspace(0, xmax, nbins), log=True, density=True, histtype='step');\n",
    "ax[1].hist(df_back['pmdec_eff_error_new'], bins=np.linspace(0, xmax, nbins), log=True, density=True, histtype='step');\n",
    "\n",
    "#ax[1].legend([r'$\\sigma_{\\mu\\alpha, \\mathrm{Gaia}}$', r'$\\sigma_{\\mu\\alpha, eff, \\mathrm{new}}$', r'$\\sigma_{\\mu\\delta, \\mathrm{Gaia}}$', r'$\\sigma_{\\mu\\delta, eff, \\mathrm{new}}$'], \n",
    "#             loc='upper right', fontsize = 8, frameon=False);\n",
    "ax[1].legend([r'$\\sigma_{\\mu\\alpha, eff}$', r'$\\sigma_{\\mu\\alpha, eff, \\mathrm{new}}$', \n",
    "              r'$\\sigma_{\\mu\\delta, eff}$', r'$\\sigma_{\\mu\\delta, eff, \\mathrm{new}}$'], \n",
    "             loc='upper right', fontsize = 8, frameon=False);\n",
    "ax[1].set_xlabel(r'$\\sigma_\\mu [mas/y]$'); #ax[1].set_ylabel(r'occurrence [$\\%$]');\n",
    "\n",
    "xmax, nbins = 6, 70\n",
    "ax[2].hist(df_back['pmra_sub_new']/df_back['pmra_error'], bins=np.linspace(-xmax, xmax, nbins), log=True, density=True, histtype='step');\n",
    "ax[2].hist(df_back['pmra_sub_new']/df_back['pmra_eff_error_new'], bins=np.linspace(-xmax, xmax, nbins), log=True, density=True, histtype='step');\n",
    "ax[2].hist(df_back['pmdec_sub_new']/df_back['pmdec_error'], bins=np.linspace(-xmax, xmax, nbins), log=True, density=True, histtype='step');\n",
    "ax[2].hist(df_back['pmdec_sub_new']/df_back['pmdec_eff_error_new'], bins=np.linspace(-xmax, xmax, nbins), log=True, density=True, histtype='step');\n",
    "ax[2].legend([r'$\\mu_{\\alpha}/\\sigma_{\\mu\\alpha}$', r'$\\mu_{\\alpha}/\\sigma_{\\mu\\alpha, \\mathrm{eff}}$', \n",
    "              r'$\\mu_{\\delta}/\\sigma_{\\mu\\delta}$', r'$\\mu_{\\delta}/\\sigma_{\\mu\\delta, \\mathrm{eff}}$'], loc='upper right', fontsize = 8, frameon=False);\n",
    "ax[2].set_xlabel(r'$\\mu_\\mathrm{subtracted}/\\sigma_\\mu$'); #ax[2].set_ylabel(r'occurrence [$\\%$]');\n",
    "\n",
    "#plt.tight_layout()\n",
    "plt.suptitle('New Subtraction')\n",
    "#fig.savefig(FigDir+'pm_stats.pdf')"
   ]
  },
  {
   "cell_type": "code",
   "execution_count": 24,
   "metadata": {
    "execution": {
     "iopub.execute_input": "2023-02-15T17:03:13.954284Z",
     "iopub.status.busy": "2023-02-15T17:03:13.952523Z",
     "iopub.status.idle": "2023-02-15T17:03:13.970380Z",
     "shell.execute_reply": "2023-02-15T17:03:13.969686Z",
     "shell.execute_reply.started": "2023-02-15T17:03:13.954171Z"
    }
   },
   "outputs": [],
   "source": [
    "## covariance matrix with the new effective variances\n",
    "def fn_cov_pm_eff(df):\n",
    "    \"\"\"\n",
    "    Given a panda data frame df, returns the effective covariance matrix for (pmra, pmdec).\n",
    "    \"\"\"\n",
    "    return np.array([[df['pmra_eff_error_new']**2, df['pmra_pmdec_eff_corr_new']*df['pmra_eff_error_new']*df['pmdec_eff_error_new']], \n",
    "                     [df['pmra_pmdec_eff_corr_new']*df['pmra_eff_error_new']*df['pmdec_eff_error_new'], df['pmdec_eff_error_new']**2]]).T"
   ]
  },
  {
   "cell_type": "code",
   "execution_count": 25,
   "metadata": {
    "execution": {
     "iopub.execute_input": "2023-02-15T17:03:31.304298Z",
     "iopub.status.busy": "2023-02-15T17:03:31.303673Z",
     "iopub.status.idle": "2023-02-15T17:03:33.085808Z",
     "shell.execute_reply": "2023-02-15T17:03:33.084924Z",
     "shell.execute_reply.started": "2023-02-15T17:03:31.304231Z"
    }
   },
   "outputs": [],
   "source": [
    "inv_cov_pm = np.linalg.inv(fn_cov_pm_eff(df_back))\n",
    "pm_sub = np.array([df_back['pmra_sub_new'].to_numpy(), df_back['pmdec_sub_new'].to_numpy()]).T\n",
    "\n",
    "mu_over_sigma_sq = (inv_cov_pm[:, 0, 0]*pm_sub[:, 0]**2 + inv_cov_pm[:, 1, 1]*pm_sub[:, 1]**2 + \n",
    "                    2*inv_cov_pm[:, 0, 1]*pm_sub[:, 0]*pm_sub[:, 1])"
   ]
  },
  {
   "cell_type": "code",
   "execution_count": 38,
   "metadata": {
    "execution": {
     "iopub.execute_input": "2023-02-15T17:07:29.004388Z",
     "iopub.status.busy": "2023-02-15T17:07:29.003722Z",
     "iopub.status.idle": "2023-02-15T17:07:30.211234Z",
     "shell.execute_reply": "2023-02-15T17:07:30.210896Z",
     "shell.execute_reply.started": "2023-02-15T17:07:29.004310Z"
    }
   },
   "outputs": [
    {
     "data": {
      "text/plain": [
       "(4.2136544528934313e-07, 12.454359594697749)"
      ]
     },
     "execution_count": 38,
     "metadata": {},
     "output_type": "execute_result"
    }
   ],
   "source": [
    "min(mu_over_sigma_sq), max(mu_over_sigma_sq)"
   ]
  },
  {
   "cell_type": "code",
   "execution_count": 40,
   "metadata": {
    "execution": {
     "iopub.execute_input": "2023-02-15T17:07:54.592848Z",
     "iopub.status.busy": "2023-02-15T17:07:54.591973Z",
     "iopub.status.idle": "2023-02-15T17:07:55.539534Z",
     "shell.execute_reply": "2023-02-15T17:07:55.539182Z",
     "shell.execute_reply.started": "2023-02-15T17:07:54.592770Z"
    }
   },
   "outputs": [
    {
     "data": {
      "text/plain": [
       "<matplotlib.lines.Line2D at 0x7fa591789400>"
      ]
     },
     "execution_count": 40,
     "metadata": {},
     "output_type": "execute_result"
    },
    {
     "data": {
      "image/png": "[encoded data removed]",
      "text/plain": [
       "<Figure size 750x600 with 1 Axes>"
      ]
     },
     "metadata": {
      "needs_background": "light"
     },
     "output_type": "display_data"
    }
   ],
   "source": [
    "fig,ax = plt.subplots(1,1,figsize=(5,4), dpi = 150)\n",
    "\n",
    "ax.hist(mu_over_sigma_sq, bins=np.linspace(-0.1, 10, 70), log=True, density=True, histtype='step');\n",
    "ax.set_xlabel(r'$\\mu \\cdot \\Sigma^{-1} \\cdot \\mu$ '); ax.set_ylabel(r'occurrence [$\\%$]');\n",
    "ax.axvline(9, color='k', linewidth=0.5)"
   ]
  },
  {
   "cell_type": "markdown",
   "metadata": {},
   "source": [
    "### Plotting the variances"
   ]
  },
  {
   "cell_type": "code",
   "execution_count": 41,
   "metadata": {
    "execution": {
     "iopub.execute_input": "2023-02-15T18:44:59.568312Z",
     "iopub.status.busy": "2023-02-15T18:44:59.567290Z",
     "iopub.status.idle": "2023-02-15T18:45:00.795238Z",
     "shell.execute_reply": "2023-02-15T18:45:00.794689Z",
     "shell.execute_reply.started": "2023-02-15T18:44:59.568257Z"
    }
   },
   "outputs": [],
   "source": [
    "# assign to radial bins\n",
    "## necessary columns\n",
    "fg_ra = df_fore['ra'].to_numpy()\n",
    "fg_dec = df_fore['dec'].to_numpy()\n",
    "bg_ra = df_back['ra'].to_numpy()\n",
    "bg_dec = df_back['dec'].to_numpy()\n",
    "## bil separation vectors\n",
    "l_bilvec = fn_angular_sep(fg_ra*degree, fg_dec*degree, bg_ra*degree, bg_dec*degree)\n",
    "l_bilnormsq = l_bilvec[:, 0]**2 + l_bilvec[:, 1]**2\n",
    "## bin definitions\n",
    "q_bil = np.sqrt(l_bilnormsq)/arcsec\n",
    "q_bin_bil = np.digitize(q_bil, bins_bil) - 1"
   ]
  },
  {
   "cell_type": "code",
   "execution_count": 47,
   "metadata": {
    "execution": {
     "iopub.execute_input": "2023-02-15T18:49:04.624444Z",
     "iopub.status.busy": "2023-02-15T18:49:04.623775Z",
     "iopub.status.idle": "2023-02-15T18:49:04.633946Z",
     "shell.execute_reply": "2023-02-15T18:49:04.632578Z",
     "shell.execute_reply.started": "2023-02-15T18:49:04.624376Z"
    }
   },
   "outputs": [
    {
     "data": {
      "text/plain": [
       "array([0. , 0.3, 0.6, 0.9, 1.2, 1.5, 1.8, 2.1, 2.4, 2.7, 3. ])"
      ]
     },
     "execution_count": 47,
     "metadata": {},
     "output_type": "execute_result"
    }
   ],
   "source": [
    "bins_bil"
   ]
  },
  {
   "cell_type": "code",
   "execution_count": 48,
   "metadata": {
    "execution": {
     "iopub.execute_input": "2023-02-15T18:49:13.914268Z",
     "iopub.status.busy": "2023-02-15T18:49:13.913926Z",
     "iopub.status.idle": "2023-02-15T18:49:15.132982Z",
     "shell.execute_reply": "2023-02-15T18:49:15.132598Z",
     "shell.execute_reply.started": "2023-02-15T18:49:13.914235Z"
    }
   },
   "outputs": [
    {
     "data": {
      "text/plain": [
       "(0.6000153125570444, 2.9999999422979227)"
      ]
     },
     "execution_count": 48,
     "metadata": {},
     "output_type": "execute_result"
    }
   ],
   "source": [
    "min(q_bil), max(q_bil)"
   ]
  },
  {
   "cell_type": "code",
   "execution_count": 43,
   "metadata": {
    "execution": {
     "iopub.execute_input": "2023-02-15T18:47:11.589304Z",
     "iopub.status.busy": "2023-02-15T18:47:11.588638Z",
     "iopub.status.idle": "2023-02-15T18:47:12.291896Z",
     "shell.execute_reply": "2023-02-15T18:47:12.291461Z",
     "shell.execute_reply.started": "2023-02-15T18:47:11.589236Z"
    }
   },
   "outputs": [
    {
     "name": "stderr",
     "output_type": "stream",
     "text": [
      "100%|██████████| 11/11 [00:00<00:00, 19.93it/s]\n"
     ]
    }
   ],
   "source": [
    "direction = df_back['pmra_sub_new']\n",
    "\n",
    "mean_pmra = np.zeros(len(bins_bil))\n",
    "var_pmra = np.zeros(len(bins_bil))\n",
    "\n",
    "for i_b in tqdm(range(len(bins_bil))):\n",
    "    direction_i_b = direction[q_bin_bil == i_b]\n",
    "    mean_pmra[i_b] = np.mean(direction_i_b) \n",
    "    var_pmra[i_b] = np.var(direction_i_b) "
   ]
  },
  {
   "cell_type": "code",
   "execution_count": 44,
   "metadata": {
    "execution": {
     "iopub.execute_input": "2023-02-15T18:47:13.615497Z",
     "iopub.status.busy": "2023-02-15T18:47:13.614832Z",
     "iopub.status.idle": "2023-02-15T18:47:14.038037Z",
     "shell.execute_reply": "2023-02-15T18:47:14.037760Z",
     "shell.execute_reply.started": "2023-02-15T18:47:13.615424Z"
    }
   },
   "outputs": [
    {
     "name": "stderr",
     "output_type": "stream",
     "text": [
      "100%|██████████| 11/11 [00:00<00:00, 26.62it/s]\n"
     ]
    }
   ],
   "source": [
    "direction = df_back['pmdec_sub_new']\n",
    "\n",
    "mean_pmdec = np.zeros(len(bins_bil))\n",
    "var_pmdec = np.zeros(len(bins_bil))\n",
    "\n",
    "for i_b in tqdm(range(len(bins_bil))):\n",
    "    direction_i_b = direction[q_bin_bil == i_b]\n",
    "    mean_pmdec[i_b] = np.mean(direction_i_b) \n",
    "    var_pmdec[i_b] = np.var(direction_i_b) "
   ]
  },
  {
   "cell_type": "code",
   "execution_count": 58,
   "metadata": {
    "execution": {
     "iopub.execute_input": "2023-02-15T18:57:14.393196Z",
     "iopub.status.busy": "2023-02-15T18:57:14.391381Z",
     "iopub.status.idle": "2023-02-15T18:57:15.246139Z",
     "shell.execute_reply": "2023-02-15T18:57:15.245818Z",
     "shell.execute_reply.started": "2023-02-15T18:57:14.393096Z"
    }
   },
   "outputs": [
    {
     "name": "stderr",
     "output_type": "stream",
     "text": [
      "100%|██████████| 11/11 [00:00<00:00, 13.12it/s]\n"
     ]
    }
   ],
   "source": [
    "eff_pmra = df_back['pmra_eff_error_new']\n",
    "eff_pmdec = df_back['pmdec_eff_error_new']\n",
    "\n",
    "var_pm = np.zeros(len(bins_bil))\n",
    "\n",
    "for i_b in tqdm(range(len(bins_bil))):\n",
    "    eff_pmra_i_b = eff_pmra[q_bin_bil == i_b]\n",
    "    eff_pmdec_i_b = eff_pmdec[q_bin_bil == i_b]\n",
    "    var_pm[i_b] = np.mean(eff_pmra_i_b**2 + eff_pmdec_i_b**2)"
   ]
  },
  {
   "cell_type": "code",
   "execution_count": 45,
   "metadata": {
    "execution": {
     "iopub.execute_input": "2023-02-15T18:48:30.539709Z",
     "iopub.status.busy": "2023-02-15T18:48:30.538657Z",
     "iopub.status.idle": "2023-02-15T18:48:30.563534Z",
     "shell.execute_reply": "2023-02-15T18:48:30.562792Z",
     "shell.execute_reply.started": "2023-02-15T18:48:30.539644Z"
    }
   },
   "outputs": [
    {
     "data": {
      "text/plain": [
       "array([            nan,             nan,  5.31787343e-03,  2.43636859e-03,\n",
       "        1.02349475e-03,  5.43076901e-04,  2.81352993e-04,  6.84997582e-05,\n",
       "        8.27649774e-05, -3.83023580e-05,             nan])"
      ]
     },
     "execution_count": 45,
     "metadata": {},
     "output_type": "execute_result"
    }
   ],
   "source": [
    "mean_pmdec"
   ]
  },
  {
   "cell_type": "code",
   "execution_count": 59,
   "metadata": {
    "execution": {
     "iopub.execute_input": "2023-02-15T18:57:17.671607Z",
     "iopub.status.busy": "2023-02-15T18:57:17.670962Z",
     "iopub.status.idle": "2023-02-15T18:57:18.421098Z",
     "shell.execute_reply": "2023-02-15T18:57:18.420807Z",
     "shell.execute_reply.started": "2023-02-15T18:57:17.671540Z"
    }
   },
   "outputs": [
    {
     "name": "stderr",
     "output_type": "stream",
     "text": [
      "100%|██████████| 11/11 [00:00<00:00, 14.85it/s]\n"
     ]
    }
   ],
   "source": [
    "eff_pmra = df_back['pmra_eff_error']\n",
    "eff_pmdec = df_back['pmdec_eff_error']\n",
    "\n",
    "var_pm_old = np.zeros(len(bins_bil))\n",
    "\n",
    "for i_b in tqdm(range(len(bins_bil))):\n",
    "    eff_pmra_i_b = eff_pmra[q_bin_bil == i_b]\n",
    "    eff_pmdec_i_b = eff_pmdec[q_bin_bil == i_b]\n",
    "    var_pm_old[i_b] = np.mean(eff_pmra_i_b**2 + eff_pmdec_i_b**2)"
   ]
  },
  {
   "cell_type": "code",
   "execution_count": 32,
   "metadata": {},
   "outputs": [
    {
     "data": {
      "text/plain": [
       "array([        nan, 15.41906832, 13.29750438, 10.26411139,  9.5200891 ,\n",
       "        9.54142066,  9.47751182,  9.43148313,  9.34536989,  9.29984638,\n",
       "               nan,         nan])"
      ]
     },
     "execution_count": 32,
     "metadata": {},
     "output_type": "execute_result"
    }
   ],
   "source": [
    "var"
   ]
  },
  {
   "cell_type": "code",
   "execution_count": 57,
   "metadata": {
    "execution": {
     "iopub.execute_input": "2023-02-15T18:51:23.838286Z",
     "iopub.status.busy": "2023-02-15T18:51:23.837620Z",
     "iopub.status.idle": "2023-02-15T18:51:23.848009Z",
     "shell.execute_reply": "2023-02-15T18:51:23.847080Z",
     "shell.execute_reply.started": "2023-02-15T18:51:23.838218Z"
    }
   },
   "outputs": [
    {
     "data": {
      "text/plain": [
       "array([       nan,        nan, 6.57739366, 5.40305418, 5.02743929,\n",
       "       5.009933  , 5.01981862, 5.02761508, 5.02225626, 5.02524889,\n",
       "              nan])"
      ]
     },
     "execution_count": 57,
     "metadata": {},
     "output_type": "execute_result"
    }
   ],
   "source": [
    "var_pm_old"
   ]
  },
  {
   "cell_type": "code",
   "execution_count": 65,
   "metadata": {
    "execution": {
     "iopub.execute_input": "2023-02-15T18:59:21.188436Z",
     "iopub.status.busy": "2023-02-15T18:59:21.188073Z",
     "iopub.status.idle": "2023-02-15T18:59:21.559051Z",
     "shell.execute_reply": "2023-02-15T18:59:21.558680Z",
     "shell.execute_reply.started": "2023-02-15T18:59:21.188402Z"
    }
   },
   "outputs": [
    {
     "data": {
      "text/plain": [
       "<matplotlib.legend.Legend at 0x7fa5914955b0>"
      ]
     },
     "execution_count": 65,
     "metadata": {},
     "output_type": "execute_result"
    },
    {
     "data": {
      "image/png": "[encoded data removed]",
      "text/plain": [
       "<Figure size 3000x1800 with 1 Axes>"
      ]
     },
     "metadata": {
      "needs_background": "light"
     },
     "output_type": "display_data"
    }
   ],
   "source": [
    "fig, ax = plt.subplots(1,1, figsize=(10,6),dpi=300)\n",
    "ax.plot(bins_bil, var_pm, label = r'$\\sigma_{eff, new}^2$', lw = 1, color = 'firebrick')\n",
    "ax.plot(bins_bil, var_pm_old, label = r'$\\sigma_{eff, old}^2$', lw = 1, color = 'darkslateblue')\n",
    "ax.plot(bins_bil, var_pmra + var_pmdec, label = r'$\\sigma_{\\alpha}^2 + \\sigma_{\\delta}^2$', lw = 1, color = 'darkorange')\n",
    "\n",
    "ax.set_ylabel(r'Variance [mas/y]$^2$')\n",
    "ax.set_xlabel(r' [arcsec]')\n",
    "fig.suptitle('Comparison of Variances (New vs old motion subtraction)')\n",
    "ax.legend()"
   ]
  },
  {
   "cell_type": "code",
   "execution_count": 68,
   "metadata": {
    "execution": {
     "iopub.execute_input": "2023-02-15T19:00:52.722504Z",
     "iopub.status.busy": "2023-02-15T19:00:52.722106Z",
     "iopub.status.idle": "2023-02-15T19:00:53.193008Z",
     "shell.execute_reply": "2023-02-15T19:00:53.192698Z",
     "shell.execute_reply.started": "2023-02-15T19:00:52.722464Z"
    }
   },
   "outputs": [
    {
     "data": {
      "text/plain": [
       "<matplotlib.legend.Legend at 0x7fa5d010dfa0>"
      ]
     },
     "execution_count": 68,
     "metadata": {},
     "output_type": "execute_result"
    },
    {
     "data": {
      "image/png": "[encoded data removed]",
      "text/plain": [
       "<Figure size 3000x1800 with 1 Axes>"
      ]
     },
     "metadata": {
      "needs_background": "light"
     },
     "output_type": "display_data"
    }
   ],
   "source": [
    "fig, ax = plt.subplots(1,1, figsize=(10,6),dpi=300)\n",
    "ax.plot(bins_bil, mean_pmra, label = r'$\\sigma_{eff, new}^2$', lw = 1, color = 'firebrick')\n",
    "ax.plot(bins_bil, mean_pmdec, label = r'$\\sigma_{eff, new}^2$', lw = 1, color = 'darkslateblue')\n",
    "ax.plot(bins_bil, np.zeros(len(bins_bil)), label = r'', lw = 1, color = 'k')\n",
    "\n",
    "ax.set_ylabel(r'Variance [mas/y]$^2$')\n",
    "ax.set_xlabel(r' [arcsec]')\n",
    "fig.suptitle('Comparison of Variances (New vs old motion subtraction)')\n",
    "ax.legend()"
   ]
  },
  {
   "cell_type": "code",
   "execution_count": null,
   "metadata": {},
   "outputs": [],
   "source": []
  }
 ],
 "metadata": {
  "kernelspec": {
   "display_name": "Python 3",
   "language": "python",
   "name": "python3"
  },
  "language_info": {
   "codemirror_mode": {
    "name": "ipython",
    "version": 3
   },
   "file_extension": ".py",
   "mimetype": "text/x-python",
   "name": "python",
   "nbconvert_exporter": "python",
   "pygments_lexer": "ipython3",
   "version": "3.8.5"
  }
 },
 "nbformat": 4,
 "nbformat_minor": 4
}
