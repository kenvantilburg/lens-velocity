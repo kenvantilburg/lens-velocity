{
 "cells": [
  {
   "cell_type": "code",
   "execution_count": 3,
   "metadata": {},
   "outputs": [],
   "source": [
    "import numpy as np\n",
    "import pandas as pd\n",
    "\n",
    "import healpy as hp\n",
    "from tqdm import tqdm, tqdm_notebook\n",
    "import scipy as sp\n",
    "from scipy.special import erf\n",
    "\n",
    "import sys\n",
    "from my_units import * \n",
    "\n",
    "from angular_fn import *\n",
    "from template_fn import *\n",
    "from cov_matrix_fn import *\n",
    "\n",
    "import matplotlib.pyplot as plt\n",
    "import matplotlib as mpl\n",
    "from mpl_toolkits.axes_grid1 import make_axes_locatable\n",
    "\n",
    "HomeDir = './'\n",
    "DataDir = HomeDir #+ 'code/'\n",
    "### Set this to the directory where you store your data files (see below how to download them)\n",
    "ListDir = HomeDir+'lists/hist_stats/'\n",
    "FigDir = HomeDir+'figures/'"
   ]
  },
  {
   "cell_type": "markdown",
   "metadata": {},
   "source": [
    "# Read in files"
   ]
  },
  {
   "cell_type": "code",
   "execution_count": 2,
   "metadata": {},
   "outputs": [
    {
     "name": "stdout",
     "output_type": "stream",
     "text": [
      "Backgrounds read in.\n",
      "Foregrounds read in.\n"
     ]
    }
   ],
   "source": [
    "df_back = pd.read_csv(DataDir+'pairs_background_ruwe_w_st.csv', usecols = ['ra', 'dec', 'pmra', 'pmdec','pmra_error', 'pmdec_error', 'pmra_pmdec_corr', 'pmra_eff_error', 'pmdec_eff_error', 'pmra_pmdec_eff_corr', 'parallax', 'parallax_error', 'pmra_sub', 'pmdec_sub', 'phot_g_mean_mag', 'l', 'b', 'ruwe'])\n",
    "print('Backgrounds read in.')\n",
    "\n",
    "df_fore = pd.read_csv(DataDir+'pairs_foreground_ruwe_w_st.csv', usecols = ['ra', 'dec', 'pmra', 'pmdec','pmra_error', 'pmdec_error', 'parallax', 'parallax_error', 'phot_g_mean_mag', 'l', 'b', 'ruwe'])\n",
    "print('Foregrounds read in.')"
   ]
  },
  {
   "cell_type": "markdown",
   "metadata": {},
   "source": [
    "# Binning in parallax, $G$-magnitude, and radial distance"
   ]
  },
  {
   "cell_type": "markdown",
   "metadata": {},
   "source": [
    "## Bin definitions"
   ]
  },
  {
   "cell_type": "code",
   "execution_count": 4,
   "metadata": {},
   "outputs": [
    {
     "data": {
      "text/plain": [
       "(12, 14, 27)"
      ]
     },
     "execution_count": 4,
     "metadata": {},
     "output_type": "execute_result"
    }
   ],
   "source": [
    "# parallax bins\n",
    "bins_parallax = np.concatenate([[-1000],np.logspace(np.log10(0.05),np.log10(2),10),[1000]])\n",
    "\n",
    "# g-magnitude bins\n",
    "bins_G = np.arange(10,24,1)\n",
    "\n",
    "# radial separation bins\n",
    "step = 0.1 # Size of bin\n",
    "start = 0.5 # Starting bin in arcsec\n",
    "end = 3 + 2 * step # Ending bin in arcsec\n",
    "bins_bil = np.arange(start, end, step)\n",
    "\n",
    "len(bins_parallax), len(bins_G), len(bins_bil)"
   ]
  },
  {
   "cell_type": "code",
   "execution_count": 5,
   "metadata": {},
   "outputs": [
    {
     "data": {
      "text/plain": [
       "array([-1.00000000e+03,  5.00000000e-02,  7.53315095e-02,  1.13496727e-01,\n",
       "        1.70997595e-01,  2.57630139e-01,  3.88153345e-01,  5.84803548e-01,\n",
       "        8.81082680e-01,  1.32746577e+00,  2.00000000e+00,  1.00000000e+03])"
      ]
     },
     "execution_count": 5,
     "metadata": {},
     "output_type": "execute_result"
    }
   ],
   "source": [
    "bins_parallax"
   ]
  },
  {
   "cell_type": "markdown",
   "metadata": {},
   "source": [
    "## Bin assignments"
   ]
  },
  {
   "cell_type": "code",
   "execution_count": 4,
   "metadata": {},
   "outputs": [],
   "source": [
    "# assign to G bins\n",
    "bg_G = df_back['phot_g_mean_mag'].to_numpy()\n",
    "q_binG = np.digitize(bg_G, bins_G) - 1  \n",
    "\n",
    "# assign to radial bins\n",
    "## necessary columns\n",
    "fg_ra = df_fore['ra'].to_numpy()\n",
    "fg_dec = df_fore['dec'].to_numpy()\n",
    "bg_ra = df_back['ra'].to_numpy()\n",
    "bg_dec = df_back['dec'].to_numpy()\n",
    "## bil separation vectors\n",
    "l_bilvec = fn_angular_sep(fg_ra*degree, fg_dec*degree, bg_ra*degree, bg_dec*degree)\n",
    "l_bilnormsq = l_bilvec[:, 0]**2 + l_bilvec[:, 1]**2\n",
    "## bin definitions\n",
    "q_bil = np.sqrt(l_bilnormsq)/arcsec\n",
    "q_bin_bil = np.digitize(q_bil, bins_bil) - 1"
   ]
  },
  {
   "cell_type": "code",
   "execution_count": 14,
   "metadata": {},
   "outputs": [
    {
     "data": {
      "text/plain": [
       "array([-1.00000000e+03,  5.00000000e-02,  7.53315095e-02,  1.13496727e-01,\n",
       "        1.70997595e-01,  2.57630139e-01,  3.88153345e-01,  5.84803548e-01,\n",
       "        8.81082680e-01,  1.32746577e+00,  2.00000000e+00,  1.00000000e+03])"
      ]
     },
     "execution_count": 14,
     "metadata": {},
     "output_type": "execute_result"
    }
   ],
   "source": [
    "bins_parallax"
   ]
  },
  {
   "cell_type": "code",
   "execution_count": 5,
   "metadata": {},
   "outputs": [
    {
     "name": "stderr",
     "output_type": "stream",
     "text": [
      "100%|██████████| 11/11 [00:40<00:00,  3.71s/it]\n"
     ]
    }
   ],
   "source": [
    "# probabilistic assignment to parallax bins\n",
    "bg_parallax = df_back['parallax'].to_numpy(); bg_parallax_error = df_back['parallax_error'].to_numpy()\n",
    "prob_parallax = np.nan * np.ones((len(df_back),len(bins_parallax)-1))\n",
    "for i in tqdm(range(len(bins_parallax)-1)):\n",
    "    x1_list = (bins_parallax[i]-bg_parallax)/bg_parallax_error/np.sqrt(2)\n",
    "    x2_list = (bins_parallax[i+1]-bg_parallax)/bg_parallax_error/np.sqrt(2)\n",
    "    prob_parallax[:,i] = 0.5*(erf(x2_list)-erf(x1_list))"
   ]
  },
  {
   "cell_type": "code",
   "execution_count": 6,
   "metadata": {},
   "outputs": [
    {
     "data": {
      "text/plain": [
       "(61138843, 11)"
      ]
     },
     "execution_count": 6,
     "metadata": {},
     "output_type": "execute_result"
    }
   ],
   "source": [
    "prob_parallax.shape"
   ]
  },
  {
   "cell_type": "markdown",
   "metadata": {},
   "source": [
    "# Testing"
   ]
  },
  {
   "cell_type": "code",
   "execution_count": 7,
   "metadata": {},
   "outputs": [],
   "source": [
    "bg_pmra = df_back['pmra'].to_numpy(); bg_pmdec = df_back['pmdec'].to_numpy()\n",
    "### histogram of summed probabilities\n",
    "hist_prob = sp.stats.binned_statistic_dd([bg_G,q_bil],np.transpose(prob_parallax), bins=[bins_G,bins_bil],statistic='sum')[0] \n",
    "### histogram of average pmra weighted by probabilities\n",
    "hist_pmra = sp.stats.binned_statistic_dd([bg_G,q_bil],np.transpose(prob_parallax) * bg_pmra, bins=[bins_G,bins_bil],statistic='sum')[0] #sum first in each bin\n",
    "hist_pmra = hist_pmra / (hist_prob + 1e-20) #then divide by number in each bin\n",
    "hist_pmdec = sp.stats.binned_statistic_dd([bg_G,q_bil],np.transpose(prob_parallax) * bg_pmdec, bins=[bins_G,bins_bil],statistic='sum')[0] #sum first in each bin\n",
    "hist_pmdec = hist_pmdec / (hist_prob + 1e-20) #then divide by number in each bin"
   ]
  },
  {
   "cell_type": "code",
   "execution_count": 8,
   "metadata": {},
   "outputs": [],
   "source": [
    "### For each star, get the mean pm of the corresponding bin\n",
    "mean_pmra = hist_pmra[:, q_binG, q_bin_bil].T; mean_pmdec = hist_pmdec[:, q_binG, q_bin_bil].T"
   ]
  },
  {
   "cell_type": "code",
   "execution_count": 9,
   "metadata": {},
   "outputs": [],
   "source": [
    "### histogram of pm variance weighted by parallax bin probabilities\n",
    "hist_pmra_var = sp.stats.binned_statistic_dd([bg_G,q_bil],np.transpose(prob_parallax) * (mean_pmra.T - bg_pmra)**2,\n",
    "                                                  bins=[bins_G,bins_bil],statistic='sum')[0] #sum first in each bin\n",
    "hist_pmra_var = hist_pmra_var / (hist_prob - 1 + 1e-20) # the estimator should have a -1 (this matches for example var() computed with panda's groupy)\n",
    "hist_pmdec_var = sp.stats.binned_statistic_dd([bg_G,q_bil],np.transpose(prob_parallax) * (mean_pmdec.T - bg_pmdec)**2,\n",
    "                                                   bins=[bins_G,bins_bil],statistic='sum')[0] #sum first in each bin\n",
    "hist_pmdec_var = hist_pmdec_var / (hist_prob - 1 + 1e-20) \n",
    "hist_pmradec_var = sp.stats.binned_statistic_dd([bg_G,q_bil],np.transpose(prob_parallax) * (mean_pmra.T - bg_pmra) * (mean_pmdec.T - bg_pmdec),\n",
    "                                                     bins=[bins_G,bins_bil],statistic='sum')[0] #sum first in each bin\n",
    "hist_pmradec_var = hist_pmradec_var / (hist_prob - 1 + 1e-20) "
   ]
  },
  {
   "cell_type": "code",
   "execution_count": 10,
   "metadata": {},
   "outputs": [],
   "source": [
    "th_count = 3\n",
    "### set to nan bins where there are too few stars\n",
    "hist_pmra[hist_prob < th_count] = np.nan; hist_pmdec[hist_prob < th_count] = np.nan\n",
    "hist_pmra_var[hist_prob < th_count] = np.nan; hist_pmdec_var[hist_prob < th_count] = np.nan; hist_pmradec_var[hist_prob < th_count] = np.nan\n"
   ]
  },
  {
   "cell_type": "markdown",
   "metadata": {},
   "source": [
    "## Actual function"
   ]
  },
  {
   "cell_type": "code",
   "execution_count": 11,
   "metadata": {},
   "outputs": [],
   "source": [
    "def fn_pm_stats(df_fore, df_back, th_count=3, return_tab=False, n_sigma_out = 3): ### if return_tab=True returns the tab without pm outliers, else returns the data frame with stats \n",
    "    from scipy.special import erf\n",
    "\n",
    "    ### assign to G bins\n",
    "    # assign to G bins\n",
    "    bg_G = df_back['phot_g_mean_mag'].to_numpy()\n",
    "    q_binG = np.digitize(bg_G, bins_G) - 1  \n",
    "\n",
    "    # assign to radial bins\n",
    "    ## necessary columns\n",
    "    fg_ra = df_fore['ra'].to_numpy()\n",
    "    fg_dec = df_fore['dec'].to_numpy()\n",
    "    bg_ra = df_back['ra'].to_numpy()\n",
    "    bg_dec = df_back['dec'].to_numpy()\n",
    "    ## bil separation vectors\n",
    "    l_bilvec = fn_angular_sep(fg_ra*degree, fg_dec*degree, bg_ra*degree, bg_dec*degree)\n",
    "    l_bilnormsq = l_bilvec[:, 0]**2 + l_bilvec[:, 1]**2\n",
    "    ## bin definitions\n",
    "    q_bil = np.sqrt(l_bilnormsq)/arcsec\n",
    "    q_bin_bil = np.digitize(q_bil, bins_bil) - 1     \n",
    "    \n",
    "    # probabilistic assignment to parallax bins\n",
    "    bg_parallax = df_back['parallax'].to_numpy(); bg_parallax_error = df_back['parallax_error'].to_numpy()\n",
    "    prob_parallax = np.nan * np.ones((len(df_back),len(bins_parallax)-1))\n",
    "    for i in range(len(bins_parallax)-1):\n",
    "        x1_list = (bins_parallax[i]-bg_parallax)/bg_parallax_error/np.sqrt(2)\n",
    "        x2_list = (bins_parallax[i+1]-bg_parallax)/bg_parallax_error/np.sqrt(2)\n",
    "        prob_parallax[:,i] = 0.5*(erf(x2_list)-erf(x1_list))\n",
    "\n",
    "    bg_pmra = df_back['pmra'].to_numpy(); bg_pmdec = df_back['pmdec'].to_numpy()\n",
    "    ### histogram of summed probabilities\n",
    "    hist_prob = sp.stats.binned_statistic_dd([bg_G,q_bil],np.transpose(prob_parallax), bins=[bins_G,bins_bil],statistic='sum')[0] \n",
    "    ### histogram of average pmra weighted by probabilities\n",
    "    hist_pmra = sp.stats.binned_statistic_dd([bg_G,q_bil],np.transpose(prob_parallax) * bg_pmra, bins=[bins_G,bins_bil],statistic='sum')[0] #sum first in each bin\n",
    "    hist_pmra = hist_pmra / (hist_prob + 1e-20) #then divide by number in each bin\n",
    "    hist_pmdec = sp.stats.binned_statistic_dd([bg_G,q_bil],np.transpose(prob_parallax) * bg_pmdec, bins=[bins_G,bins_bil],statistic='sum')[0] #sum first in each bin\n",
    "    hist_pmdec = hist_pmdec / (hist_prob + 1e-20) #then divide by number in each bin\n",
    "    \n",
    "    ### For each star, get the mean pm of the corresponding bin\n",
    "    mean_pmra = hist_pmra[:, q_binG, q_bin_bil].T; mean_pmdec = hist_pmdec[:, q_binG, q_bin_bil].T\n",
    "\n",
    "    ### histogram of pm variance weighted by parallax bin probabilities\n",
    "    hist_pmra_var = sp.stats.binned_statistic_dd([bg_G,q_bil],np.transpose(prob_parallax) * (mean_pmra.T - bg_pmra)**2,\n",
    "                                                    bins=[bins_G,bins_bil],statistic='sum')[0] #sum first in each bin\n",
    "    hist_pmra_var = hist_pmra_var / (hist_prob - 1 + 1e-20) # the estimator should have a -1 (this matches for example var() computed with panda's groupy)\n",
    "    hist_pmdec_var = sp.stats.binned_statistic_dd([bg_G,q_bil],np.transpose(prob_parallax) * (mean_pmdec.T - bg_pmdec)**2,\n",
    "                                                    bins=[bins_G,bins_bil],statistic='sum')[0] #sum first in each bin\n",
    "    hist_pmdec_var = hist_pmdec_var / (hist_prob - 1 + 1e-20) \n",
    "    hist_pmradec_var = sp.stats.binned_statistic_dd([bg_G,q_bil],np.transpose(prob_parallax) * (mean_pmra.T - bg_pmra) * (mean_pmdec.T - bg_pmdec),\n",
    "                                                        bins=[bins_G,bins_bil],statistic='sum')[0] #sum first in each bin\n",
    "    hist_pmradec_var = hist_pmradec_var / (hist_prob - 1 + 1e-20) \n",
    "    \n",
    "    ### set to nan bins where there are too few stars\n",
    "    hist_pmra[hist_prob < th_count] = np.nan; hist_pmdec[hist_prob < th_count] = np.nan\n",
    "    hist_pmra_var[hist_prob < th_count] = np.nan; hist_pmdec_var[hist_prob < th_count] = np.nan; hist_pmradec_var[hist_prob < th_count] = np.nan\n",
    "\n",
    "    if return_tab==False: # returns the data frame with the statistics computed using tab\n",
    "        ###  filler for generalized bins indices\n",
    "        hist_bins_bil = np.ones(np.shape(hist_prob)) * bins_bil[:-1]\n",
    "        hist_bins_G = np.transpose(np.transpose(np.ones(np.shape(hist_prob)),axes=[0,2,1]) * bins_G[:-1],axes=[0,2,1])\n",
    "        hist_bins_parallax = np.transpose(np.transpose(np.ones(np.shape(hist_prob)),axes=[2,1,0]) * bins_parallax[:-1],axes=[2,1,0])\n",
    "\n",
    "        ###  collect data and output\n",
    "        data = np.transpose([hist_bins_bil, hist_bins_G, hist_bins_parallax, hist_prob, hist_pmra, hist_pmdec, hist_pmra_var, hist_pmdec_var, hist_pmradec_var],axes=[1,2,3,0])\n",
    "        data = data.reshape(-1, data.shape[-1])\n",
    "        return pd.DataFrame(data,columns=['bil_bin','G_bin','parallax_bin','number','mean_pmra','mean_pmdec','var_pmra','var_pmdec','var_pmradec'])\n",
    "    \n",
    "    else: # returns tab where the pm outliers more than n_sigma_out away from zero have been removed\n",
    "        ### For each star, get the pm mean and variance of the corresponding bin (after excluding the low count bins)\n",
    "        mean_pmra = hist_pmra[:, q_binG, q_bin_bil].T; mean_pmdec = hist_pmdec[:, q_binG, q_bin_bil].T\n",
    "        var_pmra = hist_pmra_var[:, q_binG, q_bin_bil].T; var_pmdec = hist_pmdec_var[:, q_binG, q_bin_bil].T; var_pmradec = hist_pmradec_var[:, q_binG, q_bin_bil].T;    \n",
    "\n",
    "        ###  Get the mean and var for each star\n",
    "        tab_sum_pw = np.sum(prob_parallax, axis=1, where=(~np.isnan(mean_pmra)))  # sum of the parallax weights for each star using only bins with enough statistics \n",
    "        tab_mean_pmra = np.sum(np.nan_to_num(mean_pmra*prob_parallax), axis=1)/(tab_sum_pw + 1e-20)\n",
    "        tab_mean_pmdec = np.sum(np.nan_to_num(mean_pmdec*prob_parallax), axis=1)/(tab_sum_pw + 1e-20)\n",
    "        tab_var_pmra = np.sum(np.nan_to_num(var_pmra*prob_parallax), axis=1)/(tab_sum_pw + 1e-20)\n",
    "        tab_var_pmdec = np.sum(np.nan_to_num(var_pmdec*prob_parallax), axis=1)/(tab_sum_pw + 1e-20)\n",
    "        tab_var_pmradec = np.sum(np.nan_to_num(var_pmradec*prob_parallax), axis=1)/(tab_sum_pw + 1e-20)        \n",
    "        \n",
    "        ### Replace the effective variance with the measurement errors for stars that have 0 mean (fall into empty bins)\n",
    "        tab_var_pmra[tab_var_pmra==0] = (df_back['pmra_error'].to_numpy()[tab_var_pmra==0])**2\n",
    "        tab_var_pmdec[tab_var_pmdec==0] = (df_back['pmdec_error'].to_numpy()[tab_var_pmdec==0])**2\n",
    "        tab_var_pmradec[tab_var_pmradec==0] = (df_back['pmra_pmdec_corr'].to_numpy()*df_back['pmra_error'].to_numpy()*df_back['pmdec_error'].to_numpy())[tab_var_pmradec==0]\n",
    "        \n",
    "        ### subtracted pm and inverse covariance for outlier removal\n",
    "        pm_sub = np.array([df_back['pmra'].to_numpy()-tab_mean_pmra, df_back['pmdec'].to_numpy()-tab_mean_pmdec]).T\n",
    "        inv_cov_pm = np.linalg.inv(np.array([[tab_var_pmra, tab_var_pmradec], [tab_var_pmradec, tab_var_pmdec]]).T)\n",
    "        mu_over_sigma_sq = inv_cov_pm[:, 0, 0]*pm_sub[:, 0]**2 + inv_cov_pm[:, 1, 1]*pm_sub[:, 1]**2 + 2*inv_cov_pm[:, 0, 1]*pm_sub[:, 0]*pm_sub[:, 1]\n",
    "        \n",
    "        return mu_over_sigma_sq"
   ]
  },
  {
   "cell_type": "code",
   "execution_count": 12,
   "metadata": {},
   "outputs": [
    {
     "name": "stdout",
     "output_type": "stream",
     "text": [
      "Iter 1 -- fraction of outliers removed: 2.52360 %\n",
      "Iter 2 -- fraction of outliers removed: 1.48025 %\n",
      "Iter 3 -- fraction of outliers removed: 0.56995 %\n",
      "Iter 4 -- fraction of outliers removed: 0.21454 %\n",
      "Iter 5 -- fraction of outliers removed: 0.08275 %\n",
      "Iter 6 -- fraction of outliers removed: 0.03317 %\n",
      "Iter 7 -- fraction of outliers removed: 0.01408 %\n"
     ]
    }
   ],
   "source": [
    "i=0\n",
    "out_frac=1\n",
    "n_iter = 7 # each iteration around 5 minutes\n",
    "n_sigma_out = 3\n",
    "\n",
    "while (i<n_iter) & (out_frac>1E-5):\n",
    "    mu_sig_sq = fn_pm_stats(df_fore, df_back, th_count=3, return_tab=True, n_sigma_out = 3)\n",
    "    i+=1; len_bg = len(df_back)\n",
    "    df_back = df_back.iloc[mu_sig_sq < n_sigma_out**2]\n",
    "    df_fore = df_fore.iloc[mu_sig_sq < n_sigma_out**2]\n",
    "    out_frac=(1-len(df_back)/len_bg); \n",
    "    print('Iter '+str(i)+' -- fraction of outliers removed: '+str(out_frac*100)[:7]+' %')\n"
   ]
  },
  {
   "cell_type": "code",
   "execution_count": 13,
   "metadata": {},
   "outputs": [],
   "source": [
    "df_pm_stats = fn_pm_stats(df_fore, df_back, return_tab=False)  \n",
    "#df_pm_stats.to_csv('bg_pm_hist.csv') #write to file"
   ]
  },
  {
   "cell_type": "code",
   "execution_count": 17,
   "metadata": {},
   "outputs": [
    {
     "data": {
      "text/plain": [
       "(3718, 9)"
      ]
     },
     "execution_count": 17,
     "metadata": {},
     "output_type": "execute_result"
    }
   ],
   "source": [
    "df_pm_stats.shape"
   ]
  }
 ],
 "metadata": {
  "kernelspec": {
   "display_name": "my_env",
   "language": "python",
   "name": "my_env"
  },
  "language_info": {
   "codemirror_mode": {
    "name": "ipython",
    "version": 3
   },
   "file_extension": ".py",
   "mimetype": "text/x-python",
   "name": "python",
   "nbconvert_exporter": "python",
   "pygments_lexer": "ipython3",
   "version": "3.9.13"
  },
  "orig_nbformat": 4
 },
 "nbformat": 4,
 "nbformat_minor": 2
}
