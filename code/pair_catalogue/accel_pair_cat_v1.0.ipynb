{
 "cells": [
  {
   "cell_type": "code",
   "execution_count": 267,
   "id": "41ac51d8",
   "metadata": {
    "ExecuteTime": {
     "end_time": "2021-11-30T21:46:19.354594Z",
     "start_time": "2021-11-30T21:46:19.347148Z"
    }
   },
   "outputs": [],
   "source": [
    "import numpy as np\n",
    "import math\n",
    "from timeit import default_timer as timer\n",
    "import scipy\n",
    "import random\n",
    "from random import choices\n",
    "from scipy import integrate\n",
    "from scipy import interpolate\n",
    "from scipy.interpolate import griddata\n",
    "from scipy.sparse import csr_matrix\n",
    "from scipy.sparse import dok_matrix\n",
    "import scipy.stats as st\n",
    "from scipy.optimize import fsolve\n",
    "import heapq\n",
    "import sys\n",
    "import importlib\n",
    "import healpy as hp\n",
    "#import myUnitsCopy1 as myU # customized library for units. All dimensional variables are in GeV and GeV=1\n",
    "import pandas as pd\n",
    "\n",
    "from astropy.time import Time\n",
    "from time import time as tictoc\n",
    "\n",
    "import myUnits as myU\n",
    "\n",
    "from astropy import units as u\n",
    "from astropy.coordinates import SkyCoord\n",
    "from astropy.coordinates import *"
   ]
  },
  {
   "cell_type": "code",
   "execution_count": 268,
   "id": "a4f91894",
   "metadata": {
    "ExecuteTime": {
     "end_time": "2021-11-30T21:46:19.367289Z",
     "start_time": "2021-11-30T21:46:19.356666Z"
    }
   },
   "outputs": [],
   "source": [
    "from astropy.coordinates import SkyCoord\n",
    "from astroquery.gaia import Gaia\n",
    "import astropy.units as u\n",
    "import matplotlib.pyplot as plt"
   ]
  },
  {
   "cell_type": "code",
   "execution_count": 269,
   "id": "3b8df1b5",
   "metadata": {
    "ExecuteTime": {
     "end_time": "2021-11-30T21:46:19.373457Z",
     "start_time": "2021-11-30T21:46:19.369368Z"
    }
   },
   "outputs": [],
   "source": [
    "from os import listdir\n",
    "import gzip"
   ]
  },
  {
   "cell_type": "markdown",
   "id": "495ed3f9",
   "metadata": {},
   "source": [
    "# Load in a single edr3 file"
   ]
  },
  {
   "cell_type": "code",
   "execution_count": 270,
   "id": "54daba13",
   "metadata": {
    "ExecuteTime": {
     "end_time": "2021-11-30T21:46:19.384998Z",
     "start_time": "2021-11-30T21:46:19.375748Z"
    }
   },
   "outputs": [],
   "source": [
    "N_8 = 2**(59-16)\n",
    "N_12 = 2**(59-24)\n",
    "\n",
    "list_dr3_files = listdir('./edr3_data')\n",
    "\n",
    "healpix_numbers_start = np.empty((len(list_dr3_files)),dtype= int)\n",
    "healpix_numbers_end = np.empty((len(list_dr3_files)), dtype = int)\n",
    "for i,file in enumerate(list_dr3_files):\n",
    "    int_1 = int(file[11:17])\n",
    "    int_2 = int(file[18:24])\n",
    "    healpix_numbers_start[i] = int_1\n",
    "    healpix_numbers_end[i] = int_2\n",
    "    \n",
    "dr32_sid_start = [x*N_8 for x in healpix_numbers_start]\n",
    "dr32_sid_end = [x*N_8 for x in healpix_numbers_end]"
   ]
  },
  {
   "cell_type": "code",
   "execution_count": 271,
   "id": "bf07d371",
   "metadata": {
    "ExecuteTime": {
     "end_time": "2021-11-30T21:46:19.391722Z",
     "start_time": "2021-11-30T21:46:19.386607Z"
    }
   },
   "outputs": [
    {
     "name": "stdout",
     "output_type": "stream",
     "text": [
      "Pixels at level 8 (start): [     0  22882 603105]\n",
      "Pixels at level 8 (end): [  3111  23058 603165]\n",
      "Corresponding source IDs in dr2 (start) : [0, 201272200534163456, 5304967682158755840]\n",
      "Corresponding source IDs in dr2 (end) : [27364645392089088, 202820312906072064, 5305495447740088320]\n"
     ]
    }
   ],
   "source": [
    "print(\"Pixels at level 8 (start): \" + str(healpix_numbers_start))\n",
    "print(\"Pixels at level 8 (end): \" + str(healpix_numbers_end))\n",
    "\n",
    "print(\"Corresponding source IDs in dr2 (start) : \" + str(dr32_sid_start))\n",
    "print(\"Corresponding source IDs in dr2 (end) : \" + str(dr32_sid_end))"
   ]
  },
  {
   "cell_type": "code",
   "execution_count": 272,
   "id": "7481ed66",
   "metadata": {
    "ExecuteTime": {
     "end_time": "2021-11-30T21:46:27.487982Z",
     "start_time": "2021-11-30T21:46:19.393437Z"
    }
   },
   "outputs": [],
   "source": [
    "dr3 = pd.read_csv('./edr3_data/GaiaSource_603105-603165.csv')"
   ]
  },
  {
   "cell_type": "markdown",
   "id": "78f49676",
   "metadata": {},
   "source": [
    "## Open the corresponding dr2 files"
   ]
  },
  {
   "cell_type": "code",
   "execution_count": 273,
   "id": "f40ad173",
   "metadata": {
    "ExecuteTime": {
     "end_time": "2021-11-30T21:46:43.361228Z",
     "start_time": "2021-11-30T21:46:27.489798Z"
    }
   },
   "outputs": [
    {
     "name": "stdout",
     "output_type": "stream",
     "text": [
      "total number of EDR2 files = 14\n",
      "first five files:\n",
      "GaiaSource_5304947822231472384_5304989161307350400.csv.gz\n",
      "GaiaSource_5304989191362501248_5305034962840493312.csv.gz\n",
      "GaiaSource_5305034992891527552_5305080764372793856.csv.gz\n",
      "GaiaSource_5305080794421418624_5305121205784160256.csv.gz\n",
      "GaiaSource_5305121235833452288_5305156733754798848.csv.gz\n"
     ]
    }
   ],
   "source": [
    "dr2_data = './dr2_data' # Replace this with the path to dr2 data\n",
    "\n",
    "list_dr2_files = listdir(dr2_data); \n",
    "list_files = [file for file in list_dr2_files if file[-7:]=='.csv.gz'] #select only files ending with 'csv.gz'\n",
    "\n",
    "print('total number of EDR2 files =', len(list_files));\n",
    "print('first five files:')\n",
    "[print(file) for file in list_files[0:5]];\n",
    "\n",
    "dr2 = pd.concat((pd.read_csv('./dr2_data/'+ str(f), compression = 'gzip') for f in list_files))"
   ]
  },
  {
   "cell_type": "markdown",
   "id": "b8ea37f1",
   "metadata": {},
   "source": [
    "# Pair Matching"
   ]
  },
  {
   "cell_type": "markdown",
   "id": "a35d830e",
   "metadata": {},
   "source": [
    "First generate a list of pairs by proximity, then find the most likely dr2 match based on several criteria, described in the \"get_norm\" function."
   ]
  },
  {
   "cell_type": "code",
   "execution_count": 274,
   "id": "69dbccaa",
   "metadata": {
    "ExecuteTime": {
     "end_time": "2021-11-30T21:46:43.370296Z",
     "start_time": "2021-11-30T21:46:43.363391Z"
    }
   },
   "outputs": [],
   "source": [
    "def generate_pairs_list(dr3, dr2):\n",
    "    ra_arr1 = np.asarray(dr3['ra'])\n",
    "    dec_arr1 = np.asarray(dr3['dec'])\n",
    "\n",
    "    ra_arr2 = np.asarray(dr2['ra'])\n",
    "    dec_arr2 = np.asarray(dr2['dec'])\n",
    "    \n",
    "    coord1 = SkyCoord(ra_arr1, dec_arr1, unit = u.degree)\n",
    "    coord2 = SkyCoord(ra_arr2, dec_arr2, unit = u.degree)\n",
    "    \n",
    "    z = search_around_sky(coord1, coord2, 3*u.arcsec, storekdtree = False)\n",
    "    \n",
    "    df1 = dr3.iloc[z[0]]\n",
    "    df2 = dr2.iloc[z[1]]\n",
    "    \n",
    "    df1.reset_index(inplace = True, drop=True)\n",
    "    df2.reset_index(inplace = True, drop=True)\n",
    "    \n",
    "    new_cols = [x+\".1\" for x in df2.columns]\n",
    "    df2.columns= new_cols\n",
    "    result = pd.concat([df1,df2], axis = 1)\n",
    "    return result"
   ]
  },
  {
   "cell_type": "code",
   "execution_count": 275,
   "id": "b60258b0",
   "metadata": {
    "ExecuteTime": {
     "end_time": "2021-11-30T21:46:43.379320Z",
     "start_time": "2021-11-30T21:46:43.372629Z"
    }
   },
   "outputs": [],
   "source": [
    "def propagate_back_linear(ra_g3, dec_g3, pmra_g3, pmdec_g3):\n",
    "    \"\"\"Takes EDR3 position and proper motion, and linearly propagates it by 0.5 year to the DR2 epoch. Output: SkyCoord object in DR2 epoch. Does not take into account parallax.\"\"\"\n",
    "    c = SkyCoord(ra = ra_g3 * u.deg, \n",
    "                 dec = dec_g3 * u.deg, \n",
    "                 distance = 1 * u.kpc, #setting distance to 1 kpc, otherwise it thinks stuff is at 10 Mpc and then returns an exception due to faster than light\n",
    "                 pm_ra_cosdec = pmra_g3 * u.mas/u.yr,\n",
    "                 pm_dec = pmdec_g3 * u.mas/u.yr,\n",
    "                 obstime = Time(2016.0, format='jyear'))\n",
    "    return c.apply_space_motion(Time(2015.5, format='jyear'))"
   ]
  },
  {
   "cell_type": "code",
   "execution_count": 276,
   "id": "8aa8edc7",
   "metadata": {
    "ExecuteTime": {
     "end_time": "2021-11-30T21:46:43.396784Z",
     "start_time": "2021-11-30T21:46:43.382290Z"
    }
   },
   "outputs": [],
   "source": [
    "def get_norm(pairs_list):\n",
    "    \n",
    "    #Propagate back and add two new columns containing the calculated dr2 position\n",
    "    z = propagate_back_linear(pairs_list['ra'].to_numpy(), pairs_list['dec'].to_numpy(), pairs_list['pmra'].to_numpy(), pairs_list['pmdec'].to_numpy())\n",
    "    pairs_list['ra_2'] = z.ra\n",
    "    pairs_list['dec_2'] = z.dec\n",
    "    \n",
    "    #List of conditions\n",
    "    \n",
    "    \n",
    "    conditions = [\n",
    "    (~pairs_list['parallax.1'].isna() & ~pairs_list['phot_bp_mean_flux.1'].isna() & ~pairs_list['phot_rp_mean_flux.1'].isna()),\n",
    "    \n",
    "    (pairs_list['parallax.1'].isna() & ~pairs_list['phot_bp_mean_flux.1'].isna() & ~pairs_list['phot_rp_mean_flux.1'].isna()),\n",
    "    (~pairs_list['parallax.1'].isna() & pairs_list['phot_bp_mean_flux.1'].isna() & ~pairs_list['phot_rp_mean_flux.1'].isna()),\n",
    "    (~pairs_list['parallax.1'].isna() & ~pairs_list['phot_bp_mean_flux.1'].isna() & pairs_list['phot_rp_mean_flux.1'].isna()),\n",
    "    \n",
    "    (~pairs_list['parallax.1'].isna() & pairs_list['phot_bp_mean_flux.1'].isna() & pairs_list['phot_rp_mean_flux.1'].isna()),\n",
    "    (pairs_list['parallax.1'].isna() & ~pairs_list['phot_bp_mean_flux.1'].isna() & pairs_list['phot_rp_mean_flux.1'].isna()),\n",
    "    (pairs_list['parallax.1'].isna() & pairs_list['phot_bp_mean_flux.1'].isna() & ~pairs_list['phot_rp_mean_flux.1'].isna()),\n",
    "    \n",
    "    (pairs_list['parallax.1'].isna() & pairs_list['phot_bp_mean_flux.1'].isna() & pairs_list['phot_rp_mean_flux.1'].isna()),\n",
    "    ]\n",
    "    \n",
    "    #Contingent on each condition, evaluate the following normalized norm:\n",
    "    norms = [\n",
    "    (1/7)*((pairs_list['ra_2']-pairs_list['ra.1'])**2/(pairs_list['ra_error']**2) + (pairs_list['dec_2']-pairs_list['dec.1'])**2/(pairs_list['dec_error']**2) + (pairs_list['pmra']-pairs_list['pmra.1'])**2/(pairs_list['pmra_error']**2) + (pairs_list['pmdec']-pairs_list['pmdec.1'])**2/(pairs_list['pmdec_error']**2) + (pairs_list['parallax']-pairs_list['parallax.1'])**2/(pairs_list['parallax_error']**2) + (pairs_list['phot_bp_mean_flux']-pairs_list['phot_bp_mean_flux.1'])**2/(pairs_list['phot_bp_mean_flux_error']**2) + (pairs_list['phot_rp_mean_flux']-pairs_list['phot_rp_mean_flux.1'])**2/(pairs_list['phot_rp_mean_flux_error']**2)),\n",
    "    \n",
    "    (1/4)*((pairs_list['ra_2']-pairs_list['ra.1'])**2/(pairs_list['ra_error']**2) + (pairs_list['dec_2']-pairs_list['dec.1'])**2/(pairs_list['dec_error']**2)   + (pairs_list['phot_bp_mean_flux']-pairs_list['phot_bp_mean_flux.1'])**2/(pairs_list['phot_bp_mean_flux_error']**2) + (pairs_list['phot_rp_mean_flux']-pairs_list['phot_rp_mean_flux.1'])**2/(pairs_list['phot_rp_mean_flux_error']**2)),\n",
    "    (1/6)*((pairs_list['ra_2']-pairs_list['ra.1'])**2/(pairs_list['ra_error']**2) + (pairs_list['dec_2']-pairs_list['dec.1'])**2/(pairs_list['dec_error']**2) + (pairs_list['pmra']-pairs_list['pmra.1'])**2/(pairs_list['pmra_error']**2) + (pairs_list['pmdec']-pairs_list['pmdec.1'])**2/(pairs_list['pmdec_error']**2) + (pairs_list['parallax']-pairs_list['parallax.1'])**2/(pairs_list['parallax_error']**2)  + (pairs_list['phot_rp_mean_flux']-pairs_list['phot_rp_mean_flux.1'])**2/(pairs_list['phot_rp_mean_flux_error']**2)),\n",
    "    (1/6)*((pairs_list['ra_2']-pairs_list['ra.1'])**2/(pairs_list['ra_error']**2) + (pairs_list['dec_2']-pairs_list['dec.1'])**2/(pairs_list['dec_error']**2) + (pairs_list['pmra']-pairs_list['pmra.1'])**2/(pairs_list['pmra_error']**2) + (pairs_list['pmdec']-pairs_list['pmdec.1'])**2/(pairs_list['pmdec_error']**2) + (pairs_list['parallax']-pairs_list['parallax.1'])**2/(pairs_list['parallax_error']**2)  + (pairs_list['phot_bp_mean_flux']-pairs_list['phot_bp_mean_flux.1'])**2/(pairs_list['phot_bp_mean_flux_error']**2)),\n",
    "    \n",
    "    (1/5)*((pairs_list['ra_2']-pairs_list['ra.1'])**2/(pairs_list['ra_error']**2) + (pairs_list['dec_2']-pairs_list['dec.1'])**2/(pairs_list['dec_error']**2) + (pairs_list['pmra']-pairs_list['pmra.1'])**2/(pairs_list['pmra_error']**2) + (pairs_list['pmdec']-pairs_list['pmdec.1'])**2/(pairs_list['pmdec_error']**2) + (pairs_list['parallax']-pairs_list['parallax.1'])**2/(pairs_list['parallax_error']**2)),\n",
    "    (1/3)*((pairs_list['ra_2']-pairs_list['ra.1'])**2/(pairs_list['ra_error']**2) + (pairs_list['dec_2']-pairs_list['dec.1'])**2/(pairs_list['dec_error']**2)   + (pairs_list['phot_bp_mean_flux']-pairs_list['phot_bp_mean_flux.1'])**2/(pairs_list['phot_bp_mean_flux_error']**2)),\n",
    "    (1/3)*((pairs_list['ra_2']-pairs_list['ra.1'])**2/(pairs_list['ra_error']**2) + (pairs_list['dec_2']-pairs_list['dec.1'])**2/(pairs_list['dec_error']**2)   + (pairs_list['phot_rp_mean_flux']-pairs_list['phot_rp_mean_flux.1'])**2/(pairs_list['phot_rp_mean_flux_error']**2)),\n",
    "    \n",
    "    (1/2)*((pairs_list['ra_2']-pairs_list['ra.1'])**2/(pairs_list['ra_error']**2) + (pairs_list['dec_2']-pairs_list['dec.1'])**2/(pairs_list['dec_error']**2)) \n",
    "    ]\n",
    "\n",
    "    pairs_list['norm'] = np.select(conditions, norms, default=False)\n",
    "    return pairs_list"
   ]
  },
  {
   "cell_type": "code",
   "execution_count": 277,
   "id": "98bd16e8",
   "metadata": {
    "ExecuteTime": {
     "end_time": "2021-11-30T21:46:43.408701Z",
     "start_time": "2021-11-30T21:46:43.398472Z"
    }
   },
   "outputs": [],
   "source": [
    "def match_pairs(pairs_list1):\n",
    "    pairs_list = get_norm(pairs_list1)\n",
    "    #mask by condition norm < 4\n",
    "    first_cut = pairs_list[pairs_list['norm']<4]\n",
    "    first_cut.shape\n",
    "    \n",
    "    #Sort by source id, then norm. The duplicates with the smallest norm are at the top of their respective \"chunk.\"\n",
    "    first_cut.sort_values(['source_id', 'norm'], ascending = [True, True],inplace=True)\n",
    "    \n",
    "    #Drop all duplicates, keep the one with the smallest norm\n",
    "    first_cut.drop_duplicates(subset=['source_id'],keep = 'first', inplace=True)\n",
    "    \n",
    "    #Do the same, except for dr2 source. This ensures that two different dr3 sources don't get matched to the same dr2 source.\n",
    "    #Keep the one with the smallest norm\n",
    "    first_cut.sort_values(['source_id.1', 'norm'], ascending = [True, True],inplace=True)\n",
    "    first_cut.drop_duplicates(subset=['source_id.1'],keep = 'first', inplace=True)\n",
    "    \n",
    "    #Re-sort the dataframe by edr3 source id, for convenience\n",
    "    first_cut.sort_values(['source_id', 'norm'], ascending = [True, True],inplace=True)\n",
    "    \n",
    "    return first_cut"
   ]
  },
  {
   "cell_type": "code",
   "execution_count": 278,
   "id": "7ab39cb0",
   "metadata": {
    "ExecuteTime": {
     "end_time": "2021-11-30T21:46:43.415091Z",
     "start_time": "2021-11-30T21:46:43.410056Z"
    }
   },
   "outputs": [],
   "source": [
    "t3 = 34.12/12\n",
    "t2 = 21.96/12\n",
    "\n",
    "tg3 = 10.6849/12\n",
    "tg2 = 17.26/12\n",
    "\n",
    "#functions to compute the ra of \n",
    "hacky_accel_ra = lambda ra2,ra3, pmra2, pmra3 : 12*((ra2-ra3)*3600000 - pmra2*tg2 + pmra3*tg3)/(t3**2 - t2**2)\n",
    "hacky_accel_dec = lambda dec2,dec3, pmdec2, pmdec3: 12*((dec2-dec3)*3600000 - pmdec2*tg2 + pmdec3*tg3)/(t3**2 - t2**2)\n",
    "\n",
    "#function to find the error of the hacky acceleration\n",
    "hacky_error = lambda sig2,sig3 : 12*(np.sqrt(sig2**2 + sig3**2))/(t3**2 - t2**2)\n",
    "\n",
    "#function to find the magnitude of the acceleration\n",
    "accel_mag = lambda accelra, acceldec : np.sqrt(accelra**2 + acceldec**2)"
   ]
  },
  {
   "cell_type": "code",
   "execution_count": 279,
   "id": "cb3d8f16",
   "metadata": {
    "ExecuteTime": {
     "end_time": "2021-11-30T21:46:46.833473Z",
     "start_time": "2021-11-30T21:46:43.417009Z"
    }
   },
   "outputs": [
    {
     "name": "stderr",
     "output_type": "stream",
     "text": [
      "/home/andreas/anaconda3/envs/lens_project/lib/python3.9/site-packages/erfa/core.py:4721: RuntimeWarning: invalid value encountered in pmsafe\n",
      "  ra2, dec2, pmr2, pmd2, px2, rv2, c_retval = ufunc.pmsafe(\n",
      "/home/andreas/anaconda3/envs/lens_project/lib/python3.9/site-packages/erfa/core.py:154: ErfaWarning: ERFA function \"pmsafe\" yielded 55949 of \"solution didn't converge (Note 8)\"\n",
      "  warnings.warn('ERFA function \"{}\" yielded {}'.format(func_name, wmsg),\n"
     ]
    }
   ],
   "source": [
    "pairs_list = generate_pairs_list(dr3,dr2)\n",
    "pair_df = get_norm(pairs_list)"
   ]
  },
  {
   "cell_type": "code",
   "execution_count": 280,
   "id": "07895d6f",
   "metadata": {
    "ExecuteTime": {
     "end_time": "2021-11-30T21:46:46.843865Z",
     "start_time": "2021-11-30T21:46:46.835866Z"
    }
   },
   "outputs": [],
   "source": [
    "def generate_accel_cat(dr3, dr2):\n",
    "    \n",
    "    pairs_list = generate_pairs_list(dr3,dr2)\n",
    "    pair_df = match_pairs(pairs_list)\n",
    "    pair_df = pair_df[~pair_df['pmra'].isna() & ~pair_df['pmra.1'].isna()]\n",
    "    \n",
    "    #making lists of the function inputs.\n",
    "    ra2_list = np.array(pair_df['ra.1'])\n",
    "    ra3_list = np.array(pair_df['ra'])\n",
    "\n",
    "    dec2_list = np.array(pair_df['dec.1'])\n",
    "    dec3_list = np.array(pair_df['dec'])\n",
    "\n",
    "    ra2_error = np.array(pair_df['ra_error.1'])\n",
    "    ra3_error = np.array(pair_df['ra_error'])\n",
    "\n",
    "    dec2_error = np.array(pair_df['dec_error.1'])\n",
    "    dec3_error = np.array(pair_df['dec_error'])\n",
    "    \n",
    "    pmra3 = np.asarray(pair_df['pmra'])\n",
    "    pmdec3 = np.asarray(pair_df['pmdec'])\n",
    "\n",
    "    pmra2 = np.asarray(pair_df['pmra.1'])\n",
    "    pmdec2 = np.asarray(pair_df['pmdec.1'])\n",
    "    \n",
    "    #compute lists of accelerations\n",
    "    accel_ra = hacky_accel_ra(ra2_list, ra3_list, pmra2, pmra3)\n",
    "    accel_dec = hacky_accel_dec(dec2_list, dec3_list, pmdec2, pmdec3)\n",
    "    accel_mag_list = accel_mag(accel_ra, accel_dec)\n",
    "    \n",
    "    pair_df['accel_ra'] = accel_ra\n",
    "    pair_df['accel_dec'] = accel_dec\n",
    "    pair_df['accel_mag'] = accel_mag_list\n",
    "    \n",
    "    return pair_df"
   ]
  },
  {
   "cell_type": "code",
   "execution_count": 281,
   "id": "dd44e719",
   "metadata": {
    "ExecuteTime": {
     "end_time": "2021-11-30T21:46:52.275661Z",
     "start_time": "2021-11-30T21:46:46.846557Z"
    }
   },
   "outputs": [
    {
     "name": "stderr",
     "output_type": "stream",
     "text": [
      "/tmp/ipykernel_193/2254177642.py:8: SettingWithCopyWarning: \n",
      "A value is trying to be set on a copy of a slice from a DataFrame\n",
      "\n",
      "See the caveats in the documentation: https://pandas.pydata.org/pandas-docs/stable/user_guide/indexing.html#returning-a-view-versus-a-copy\n",
      "  first_cut.sort_values(['source_id', 'norm'], ascending = [True, True],inplace=True)\n",
      "/tmp/ipykernel_193/2254177642.py:11: SettingWithCopyWarning: \n",
      "A value is trying to be set on a copy of a slice from a DataFrame\n",
      "\n",
      "See the caveats in the documentation: https://pandas.pydata.org/pandas-docs/stable/user_guide/indexing.html#returning-a-view-versus-a-copy\n",
      "  first_cut.drop_duplicates(subset=['source_id'],keep = 'first', inplace=True)\n",
      "/tmp/ipykernel_193/2254177642.py:15: SettingWithCopyWarning: \n",
      "A value is trying to be set on a copy of a slice from a DataFrame\n",
      "\n",
      "See the caveats in the documentation: https://pandas.pydata.org/pandas-docs/stable/user_guide/indexing.html#returning-a-view-versus-a-copy\n",
      "  first_cut.sort_values(['source_id.1', 'norm'], ascending = [True, True],inplace=True)\n",
      "/tmp/ipykernel_193/2254177642.py:16: SettingWithCopyWarning: \n",
      "A value is trying to be set on a copy of a slice from a DataFrame\n",
      "\n",
      "See the caveats in the documentation: https://pandas.pydata.org/pandas-docs/stable/user_guide/indexing.html#returning-a-view-versus-a-copy\n",
      "  first_cut.drop_duplicates(subset=['source_id.1'],keep = 'first', inplace=True)\n",
      "/tmp/ipykernel_193/2254177642.py:19: SettingWithCopyWarning: \n",
      "A value is trying to be set on a copy of a slice from a DataFrame\n",
      "\n",
      "See the caveats in the documentation: https://pandas.pydata.org/pandas-docs/stable/user_guide/indexing.html#returning-a-view-versus-a-copy\n",
      "  first_cut.sort_values(['source_id', 'norm'], ascending = [True, True],inplace=True)\n"
     ]
    }
   ],
   "source": [
    "accel_cat = generate_accel_cat(dr3, dr2)"
   ]
  },
  {
   "cell_type": "markdown",
   "id": "2567e39d",
   "metadata": {},
   "source": [
    "# Plots"
   ]
  },
  {
   "cell_type": "code",
   "execution_count": 282,
   "id": "706abeba",
   "metadata": {
    "ExecuteTime": {
     "end_time": "2021-11-30T21:46:52.286211Z",
     "start_time": "2021-11-30T21:46:52.279722Z"
    }
   },
   "outputs": [],
   "source": [
    "accel_mag_list = np.asarray(accel_cat['accel_mag'])\n",
    "accel_ra_list =  np.asarray(accel_cat['accel_ra'])\n",
    "accel_dec_list = np.asarray(accel_cat['accel_dec']) \n",
    "bn = np.logspace(-1,4.5,200)"
   ]
  },
  {
   "cell_type": "markdown",
   "id": "65bd1a14",
   "metadata": {},
   "source": [
    "Acceleration Magnitude:"
   ]
  },
  {
   "cell_type": "code",
   "execution_count": 283,
   "id": "6804373c",
   "metadata": {
    "ExecuteTime": {
     "end_time": "2021-11-30T21:46:53.365734Z",
     "start_time": "2021-11-30T21:46:52.289912Z"
    }
   },
   "outputs": [
    {
     "name": "stdout",
     "output_type": "stream",
     "text": [
      "Average acceleration of this sample: 59.71054906487432 \n",
      "Largest acceleration of this sample: 14871.699116892905\n",
      "Smallest acceleration of this sample: 0.043103822095201236 \n",
      "Variance: 330986.6540340782\n"
     ]
    },
    {
     "data": {
      "image/png": "[encoded data removed]",
      "text/plain": [
       "<Figure size 432x288 with 1 Axes>"
      ]
     },
     "metadata": {
      "needs_background": "light"
     },
     "output_type": "display_data"
    }
   ],
   "source": [
    "plt.hist(accel_mag_list, density=False, log= True, bins=bn) #Diaconis binning\n",
    "plt.ylabel('Probability')\n",
    "plt.xscale('log')\n",
    "plt.xlabel('Acceleration Magnitude (mas/y^2)');\n",
    "plt.title('Histogram of Star Accelerations')\n",
    "print(\"Average acceleration of this sample: \" + str(np.mean(accel_mag_list)) + \" \")\n",
    "print(\"Largest acceleration of this sample: \" + str(np.max(accel_mag_list))+ \"\")\n",
    "print(\"Smallest acceleration of this sample: \" + str(np.min(accel_mag_list))+ \" \")\n",
    "print(\"Variance: \" + str(np.var(accel_mag_list)))"
   ]
  },
  {
   "cell_type": "markdown",
   "id": "99ef95b2",
   "metadata": {},
   "source": [
    "Acceleration in Right Ascension"
   ]
  },
  {
   "cell_type": "code",
   "execution_count": 284,
   "id": "756cf913",
   "metadata": {
    "ExecuteTime": {
     "end_time": "2021-11-30T21:46:54.372217Z",
     "start_time": "2021-11-30T21:46:53.368273Z"
    }
   },
   "outputs": [
    {
     "name": "stdout",
     "output_type": "stream",
     "text": [
      "Average acceleration of this sample: 16.13538535839183 \n",
      "Largest acceleration of this sample: 14870.837519973327\n",
      "Smallest acceleration of this sample: -14797.483478447055 \n",
      "Variance: 261672.48118405524\n"
     ]
    },
    {
     "data": {
      "image/png": "[encoded data removed]",
      "text/plain": [
       "<Figure size 432x288 with 1 Axes>"
      ]
     },
     "metadata": {
      "needs_background": "light"
     },
     "output_type": "display_data"
    }
   ],
   "source": [
    "plt.hist(accel_ra_list, density=False, log= True, bins=bn) #Diaconis binning\n",
    "plt.ylabel('Probability')\n",
    "plt.xscale('log')\n",
    "plt.xlabel('Acceleration RA (mas/y^2)');\n",
    "plt.title('Histogram of Star Accelerations')\n",
    "print(\"Average acceleration of this sample: \" + str(np.mean(accel_ra_list)) + \" \")\n",
    "print(\"Largest acceleration of this sample: \" + str(max(accel_ra_list))+ \"\")\n",
    "print(\"Smallest acceleration of this sample: \" + str(min(accel_ra_list))+ \" \")\n",
    "print(\"Variance: \" + str(np.var(accel_ra_list)))"
   ]
  },
  {
   "cell_type": "code",
   "execution_count": 285,
   "id": "41228fa7",
   "metadata": {
    "ExecuteTime": {
     "end_time": "2021-11-30T21:46:55.419620Z",
     "start_time": "2021-11-30T21:46:54.374846Z"
    }
   },
   "outputs": [
    {
     "name": "stdout",
     "output_type": "stream",
     "text": [
      "Average acceleration of this sample: -10.427068468783737 \n",
      "Largest acceleration of this sample: 7427.150625031959\n",
      "Smallest acceleration of this sample: -7505.532940547233 \n",
      "Variance: 72510.4481021351\n"
     ]
    },
    {
     "data": {
      "image/png": "[encoded data removed]",
      "text/plain": [
       "<Figure size 432x288 with 1 Axes>"
      ]
     },
     "metadata": {
      "needs_background": "light"
     },
     "output_type": "display_data"
    }
   ],
   "source": [
    "plt.hist(accel_dec_list, density=False, log= True, bins=bn) #Diaconis binning\n",
    "plt.ylabel('Probability')\n",
    "plt.xscale('log')\n",
    "plt.xlabel('Acceleration DEC (mas/y^2)');\n",
    "plt.title('Histogram of Star Accelerations')\n",
    "print(\"Average acceleration of this sample: \" + str(np.mean(accel_dec_list)) + \" \")\n",
    "print(\"Largest acceleration of this sample: \" + str(max(accel_dec_list))+ \"\")\n",
    "print(\"Smallest acceleration of this sample: \" + str(min(accel_dec_list))+ \" \")\n",
    "print(\"Variance: \" + str(np.var(accel_dec_list)))"
   ]
  }
 ],
 "metadata": {
  "kernelspec": {
   "display_name": "Python 3",
   "language": "python",
   "name": "python3"
  },
  "language_info": {
   "codemirror_mode": {
    "name": "ipython",
    "version": 3
   },
   "file_extension": ".py",
   "mimetype": "text/x-python",
   "name": "python",
   "nbconvert_exporter": "python",
   "pygments_lexer": "ipython3",
   "version": "3.9.1"
  }
 },
 "nbformat": 4,
 "nbformat_minor": 5
}
