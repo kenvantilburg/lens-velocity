{
 "cells": [
  {
   "cell_type": "code",
   "execution_count": 7,
   "id": "878656c8",
   "metadata": {
    "ExecuteTime": {
     "end_time": "2022-02-28T23:28:00.749441Z",
     "start_time": "2022-02-28T23:28:00.744158Z"
    }
   },
   "outputs": [],
   "source": [
    "import numpy as np\n",
    "import myUnits as myU # customized library for units. All dimensional variables are in GeV and GeV=1\n",
    "import pandas as pd\n",
    "from astropy.coordinates import SkyCoord\n",
    "from astropy.coordinates import *\n",
    "import astropy.units as u\n",
    "from astropy.time import Time\n",
    "from tqdm import tqdm, tqdm_notebook\n",
    "\n",
    "import matplotlib.pyplot as plt\n",
    "import sys\n",
    "from os import listdir\n",
    "import gzip"
   ]
  },
  {
   "cell_type": "code",
   "execution_count": 12,
   "id": "90ff56b4",
   "metadata": {
    "ExecuteTime": {
     "end_time": "2022-03-01T07:26:45.015583Z",
     "start_time": "2022-03-01T07:26:45.011543Z"
    }
   },
   "outputs": [],
   "source": [
    "DataDir = './hist_stats/'"
   ]
  },
  {
   "cell_type": "code",
   "execution_count": 13,
   "id": "b8e264f7",
   "metadata": {
    "ExecuteTime": {
     "end_time": "2022-03-01T07:26:45.283494Z",
     "start_time": "2022-03-01T07:26:45.266649Z"
    }
   },
   "outputs": [
    {
     "name": "stdout",
     "output_type": "stream",
     "text": [
      "Number of files: 26\n"
     ]
    }
   ],
   "source": [
    "list_files = listdir(DataDir)\n",
    "list_files = [file for file in list_files if file[-9:]=='_hist.csv'] #select only files ending with 'csv.gz'\n",
    "print('Number of files: ' + str(len(list_files))); sys.stdout.flush()"
   ]
  },
  {
   "cell_type": "code",
   "execution_count": 14,
   "id": "55525892",
   "metadata": {
    "ExecuteTime": {
     "end_time": "2022-03-01T07:26:45.441669Z",
     "start_time": "2022-03-01T07:26:45.428510Z"
    }
   },
   "outputs": [
    {
     "name": "stdout",
     "output_type": "stream",
     "text": [
      "[-1.00000000e+03  5.00000000e-02  7.53315095e-02  1.13496727e-01\n",
      "  1.70997595e-01  2.57630139e-01  3.88153345e-01  5.84803548e-01\n",
      "  8.81082680e-01  1.32746577e+00  2.00000000e+00  1.00000000e+03]\n",
      "[ 3  4  5  6  7  8  9 10 11 12 13 14 15 16 17 18 19 20 21 22]\n"
     ]
    }
   ],
   "source": [
    "# bin definitions\n",
    "bins_parallax = np.concatenate([[-1000],np.logspace(np.log10(0.05),np.log10(2),10),[1000]])\n",
    "print(bins_parallax)\n",
    "bins_G = np.arange(3,23,1) # floor or the min and max G mag in the entire catalog are 3 and 21\n",
    "print(bins_G)"
   ]
  },
  {
   "cell_type": "code",
   "execution_count": 20,
   "id": "468b9b9f",
   "metadata": {
    "ExecuteTime": {
     "end_time": "2022-03-01T07:45:33.405220Z",
     "start_time": "2022-03-01T07:43:22.788439Z"
    }
   },
   "outputs": [
    {
     "name": "stderr",
     "output_type": "stream",
     "text": [
      "100%|███████████████████████████████████████████████████████████████████████████████████| 26/26 [02:10<00:00,  5.02s/it]\n"
     ]
    }
   ],
   "source": [
    "for i_f in tqdm(range(len(list_files[:])),position=0):\n",
    "    #collect pm results\n",
    "    hist = pd.read_csv(DataDir+list_files[i_f])#Read in 'Gaia_XXXXXX_XXXXXX_hist.csv'\n",
    "    #hist.drop('Unnamed: 0', inplace=True, axis=1) # remove indexed column\n",
    "    for i_p in range(len(bins_parallax)-1):\n",
    "        df = hist[np.abs(hist['parallax_bin']-bins_parallax[i_p])<1e-5]\n",
    "        with open(DataDir+'hist_accel_field_'+str(i_p)+'.csv','a') as f: #open data file, in 'append mode'\n",
    "            df.to_csv(f, header=f.tell()==0, index=False) #write data to file, do not include index, create header if non-existent"
   ]
  },
  {
   "cell_type": "code",
   "execution_count": 16,
   "id": "8d02096c",
   "metadata": {
    "ExecuteTime": {
     "end_time": "2022-03-01T07:30:30.218073Z",
     "start_time": "2022-03-01T07:27:39.152076Z"
    }
   },
   "outputs": [
    {
     "name": "stderr",
     "output_type": "stream",
     "text": [
      "100%|███████████████████████████████████████████████████████████████████████████████████| 11/11 [02:51<00:00, 15.55s/it]\n"
     ]
    }
   ],
   "source": [
    "for i_p in tqdm(range(len(bins_parallax)-1)):\n",
    "    df = pd.read_csv(DataDir+'hist_accel_field_'+str(i_p)+'.csv')\n",
    "    df.sort_values(['pix','G_bin'],inplace=True)\n",
    "    df.to_csv(DataDir+'hist_accel_stats_'+str(i_p)+'.csv', index=False) #write to file"
   ]
  }
 ],
 "metadata": {
  "kernelspec": {
   "display_name": "Python 3",
   "language": "python",
   "name": "python3"
  },
  "language_info": {
   "codemirror_mode": {
    "name": "ipython",
    "version": 3
   },
   "file_extension": ".py",
   "mimetype": "text/x-python",
   "name": "python",
   "nbconvert_exporter": "python",
   "pygments_lexer": "ipython3",
   "version": "3.9.7"
  }
 },
 "nbformat": 4,
 "nbformat_minor": 5
}
