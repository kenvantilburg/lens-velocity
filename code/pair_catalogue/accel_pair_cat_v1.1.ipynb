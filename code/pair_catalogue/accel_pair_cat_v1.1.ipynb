{
 "cells": [
  {
   "cell_type": "code",
   "execution_count": 116,
   "id": "41ac51d8",
   "metadata": {
    "ExecuteTime": {
     "end_time": "2021-12-14T16:28:13.663678Z",
     "start_time": "2021-12-14T16:28:13.445187Z"
    }
   },
   "outputs": [],
   "source": [
    "import numpy as np\n",
    "import math\n",
    "from timeit import default_timer as timer\n",
    "import scipy\n",
    "import random\n",
    "from random import choices\n",
    "from scipy import integrate\n",
    "from scipy import interpolate\n",
    "from scipy.interpolate import griddata\n",
    "from scipy.sparse import csr_matrix\n",
    "from scipy.sparse import dok_matrix\n",
    "import scipy.stats as st\n",
    "from scipy.optimize import fsolve\n",
    "import heapq\n",
    "import sys\n",
    "import importlib\n",
    "import healpy as hp\n",
    "#import myUnitsCopy1 as myU # customized library for units. All dimensional variables are in GeV and GeV=1\n",
    "import pandas as pd\n",
    "\n",
    "from astropy.time import Time\n",
    "from time import time as tictoc\n",
    "\n",
    "import myUnits as myU\n",
    "\n",
    "from astropy import units as u\n",
    "from astropy.coordinates import SkyCoord\n",
    "from astropy.coordinates import *"
   ]
  },
  {
   "cell_type": "code",
   "execution_count": 117,
   "id": "a4f91894",
   "metadata": {
    "ExecuteTime": {
     "end_time": "2021-12-14T16:28:13.699758Z",
     "start_time": "2021-12-14T16:28:13.673199Z"
    }
   },
   "outputs": [],
   "source": [
    "from astropy.coordinates import SkyCoord\n",
    "from astroquery.gaia import Gaia\n",
    "import astropy.units as u\n",
    "import matplotlib.pyplot as plt"
   ]
  },
  {
   "cell_type": "code",
   "execution_count": 118,
   "id": "3b8df1b5",
   "metadata": {
    "ExecuteTime": {
     "end_time": "2021-12-14T16:28:13.720475Z",
     "start_time": "2021-12-14T16:28:13.706348Z"
    }
   },
   "outputs": [],
   "source": [
    "from os import listdir\n",
    "import gzip"
   ]
  },
  {
   "cell_type": "markdown",
   "id": "495ed3f9",
   "metadata": {},
   "source": [
    "# Load in a single edr3 file"
   ]
  },
  {
   "cell_type": "code",
   "execution_count": 119,
   "id": "54daba13",
   "metadata": {
    "ExecuteTime": {
     "end_time": "2021-12-14T16:28:13.815349Z",
     "start_time": "2021-12-14T16:28:13.731681Z"
    }
   },
   "outputs": [],
   "source": [
    "N_8 = 2**(59-16)\n",
    "N_12 = 2**(59-24)\n",
    "\n",
    "list_dr3_files = listdir('./edr3_data')\n",
    "\n",
    "healpix_numbers_start = np.empty((len(list_dr3_files)),dtype= int)\n",
    "healpix_numbers_end = np.empty((len(list_dr3_files)), dtype = int)\n",
    "for i,file in enumerate(list_dr3_files):\n",
    "    int_1 = int(file[11:17])\n",
    "    int_2 = int(file[18:24])\n",
    "    healpix_numbers_start[i] = int_1\n",
    "    healpix_numbers_end[i] = int_2\n",
    "    \n",
    "dr32_sid_start = [x*N_8 for x in healpix_numbers_start]\n",
    "dr32_sid_end = [x*N_8 for x in healpix_numbers_end]"
   ]
  },
  {
   "cell_type": "code",
   "execution_count": 120,
   "id": "bf07d371",
   "metadata": {
    "ExecuteTime": {
     "end_time": "2021-12-14T16:28:13.873668Z",
     "start_time": "2021-12-14T16:28:13.820596Z"
    }
   },
   "outputs": [
    {
     "name": "stdout",
     "output_type": "stream",
     "text": [
      "Pixels at level 8 (start): [     0  22882 603105]\n",
      "Pixels at level 8 (end): [  3111  23058 603165]\n",
      "Corresponding source IDs in dr2 (start) : [0, 201272200534163456, 5304967682158755840]\n",
      "Corresponding source IDs in dr2 (end) : [27364645392089088, 202820312906072064, 5305495447740088320]\n"
     ]
    }
   ],
   "source": [
    "print(\"Pixels at level 8 (start): \" + str(healpix_numbers_start))\n",
    "print(\"Pixels at level 8 (end): \" + str(healpix_numbers_end))\n",
    "\n",
    "print(\"Corresponding source IDs in dr2 (start) : \" + str(dr32_sid_start))\n",
    "print(\"Corresponding source IDs in dr2 (end) : \" + str(dr32_sid_end))"
   ]
  },
  {
   "cell_type": "code",
   "execution_count": 121,
   "id": "7481ed66",
   "metadata": {
    "ExecuteTime": {
     "end_time": "2021-12-14T16:28:29.796836Z",
     "start_time": "2021-12-14T16:28:13.880562Z"
    }
   },
   "outputs": [],
   "source": [
    "dr3 = pd.read_csv('./edr3_data/GaiaSource_603105-603165.csv')"
   ]
  },
  {
   "cell_type": "code",
   "execution_count": 122,
   "id": "civic-sweden",
   "metadata": {},
   "outputs": [
    {
     "data": {
      "text/plain": [
       "(509444, 99)"
      ]
     },
     "execution_count": 122,
     "metadata": {},
     "output_type": "execute_result"
    }
   ],
   "source": [
    "dr3.shape"
   ]
  },
  {
   "cell_type": "markdown",
   "id": "78f49676",
   "metadata": {},
   "source": [
    "## Open the corresponding dr2 files"
   ]
  },
  {
   "cell_type": "code",
   "execution_count": 299,
   "id": "f40ad173",
   "metadata": {
    "ExecuteTime": {
     "end_time": "2021-12-14T16:28:48.975865Z",
     "start_time": "2021-12-14T16:28:29.799077Z"
    }
   },
   "outputs": [
    {
     "name": "stdout",
     "output_type": "stream",
     "text": [
      "total number of EDR2 files = 14\n",
      "first 14 files:\n",
      "GaiaSource_5304947822231472384_5304989161307350400.csv.gz\n",
      "GaiaSource_5304989191362501248_5305034962840493312.csv.gz\n",
      "GaiaSource_5305034992891527552_5305080764372793856.csv.gz\n",
      "GaiaSource_5305080794421418624_5305121205784160256.csv.gz\n",
      "GaiaSource_5305121235833452288_5305156733754798848.csv.gz\n",
      "GaiaSource_5305156763805839360_5305196247455166592.csv.gz\n",
      "GaiaSource_5305196277500038912_5305235142680640768.csv.gz\n",
      "GaiaSource_5305235172731493504_5305276649246318208.csv.gz\n",
      "GaiaSource_5305276679290630272_5305318018372487424.csv.gz\n",
      "GaiaSource_5305318048416606464_5305361552162583424.csv.gz\n",
      "GaiaSource_5305361582201067648_5305404639272393856.csv.gz\n",
      "GaiaSource_5305404669312128256_5305446867391473664.csv.gz\n",
      "GaiaSource_5305446897435766144_5305491672493424640.csv.gz\n"
     ]
    }
   ],
   "source": [
    "dr2_data = './dr2_data' # Replace this with the path to dr2 data\n",
    "\n",
    "list_dr2_files = listdir(dr2_data); \n",
    "list_files = [file for file in list_dr2_files if file[-7:]=='.csv.gz'] #select only files ending with 'csv.gz'\n",
    "\n",
    "print('total number of EDR2 files =', len(list_files));\n",
    "print('first 14 files:')\n",
    "[print(file) for file in list_files[0:13]];\n",
    "\n",
    "dr2 = pd.concat((pd.read_csv('./dr2_data/'+ str(f), compression = 'gzip') for f in list_files))"
   ]
  },
  {
   "cell_type": "code",
   "execution_count": 151,
   "id": "professional-beads",
   "metadata": {},
   "outputs": [
    {
     "data": {
      "text/plain": [
       "(545561, 94)"
      ]
     },
     "execution_count": 151,
     "metadata": {},
     "output_type": "execute_result"
    }
   ],
   "source": [
    "dr2.shape"
   ]
  },
  {
   "cell_type": "markdown",
   "id": "b8ea37f1",
   "metadata": {},
   "source": [
    "# Pair Matching"
   ]
  },
  {
   "cell_type": "markdown",
   "id": "a35d830e",
   "metadata": {},
   "source": [
    "First generate a list of pairs by proximity, then find the most likely dr2 match based on several criteria, described in the \"get_norm\" function. Keep pairs only if they have dr3 pm measurements."
   ]
  },
  {
   "cell_type": "code",
   "execution_count": 152,
   "id": "69dbccaa",
   "metadata": {
    "ExecuteTime": {
     "end_time": "2021-12-14T16:28:48.992022Z",
     "start_time": "2021-12-14T16:28:48.978139Z"
    }
   },
   "outputs": [],
   "source": [
    "def generate_pairs_list(dr3, dr2):\n",
    "    ra_arr1 = np.asarray(dr3['ra'])\n",
    "    dec_arr1 = np.asarray(dr3['dec'])\n",
    "\n",
    "    ra_arr2 = np.asarray(dr2['ra'])\n",
    "    dec_arr2 = np.asarray(dr2['dec'])\n",
    "    \n",
    "    coord1 = SkyCoord(ra_arr1, dec_arr1, unit = u.degree)\n",
    "    coord2 = SkyCoord(ra_arr2, dec_arr2, unit = u.degree)\n",
    "    \n",
    "    z = search_around_sky(coord1, coord2, 3*u.arcsec, storekdtree = False)\n",
    "    \n",
    "    df1 = dr3.iloc[z[0]]\n",
    "    df2 = dr2.iloc[z[1]]\n",
    "    \n",
    "    df1.reset_index(inplace = True, drop=True)\n",
    "    df2.reset_index(inplace = True, drop=True)\n",
    "    \n",
    "    new_cols = [x+\".1\" for x in df2.columns]\n",
    "    df2.columns= new_cols\n",
    "    result = pd.concat([df1,df2], axis = 1)\n",
    "    result = result[(result['astrometric_params_solved']>= 27) & (result['astrometric_params_solved.1']>= 27)]\n",
    "    return result"
   ]
  },
  {
   "cell_type": "code",
   "execution_count": 153,
   "id": "running-shape",
   "metadata": {},
   "outputs": [],
   "source": [
    "dx = generate_pairs_list(dr3,dr2)"
   ]
  },
  {
   "cell_type": "code",
   "execution_count": 154,
   "id": "sensitive-journal",
   "metadata": {},
   "outputs": [
    {
     "data": {
      "text/html": [
       "<div>\n",
       "<style scoped>\n",
       "    .dataframe tbody tr th:only-of-type {\n",
       "        vertical-align: middle;\n",
       "    }\n",
       "\n",
       "    .dataframe tbody tr th {\n",
       "        vertical-align: top;\n",
       "    }\n",
       "\n",
       "    .dataframe thead th {\n",
       "        text-align: right;\n",
       "    }\n",
       "</style>\n",
       "<table border=\"1\" class=\"dataframe\">\n",
       "  <thead>\n",
       "    <tr style=\"text-align: right;\">\n",
       "      <th></th>\n",
       "      <th>solution_id</th>\n",
       "      <th>designation</th>\n",
       "      <th>source_id</th>\n",
       "      <th>random_index</th>\n",
       "      <th>ref_epoch</th>\n",
       "      <th>ra</th>\n",
       "      <th>ra_error</th>\n",
       "      <th>dec</th>\n",
       "      <th>dec_error</th>\n",
       "      <th>parallax</th>\n",
       "      <th>...</th>\n",
       "      <th>e_bp_min_rp_val.1</th>\n",
       "      <th>e_bp_min_rp_percentile_lower.1</th>\n",
       "      <th>e_bp_min_rp_percentile_upper.1</th>\n",
       "      <th>flame_flags.1</th>\n",
       "      <th>radius_val.1</th>\n",
       "      <th>radius_percentile_lower.1</th>\n",
       "      <th>radius_percentile_upper.1</th>\n",
       "      <th>lum_val.1</th>\n",
       "      <th>lum_percentile_lower.1</th>\n",
       "      <th>lum_percentile_upper.1</th>\n",
       "    </tr>\n",
       "  </thead>\n",
       "  <tbody>\n",
       "    <tr>\n",
       "      <th>0</th>\n",
       "      <td>1636042515805110273</td>\n",
       "      <td>Gaia EDR3 5304967682164367744</td>\n",
       "      <td>5304967682164367744</td>\n",
       "      <td>610665498</td>\n",
       "      <td>2016.0</td>\n",
       "      <td>134.252001</td>\n",
       "      <td>0.064894</td>\n",
       "      <td>-56.426537</td>\n",
       "      <td>0.067231</td>\n",
       "      <td>0.318967</td>\n",
       "      <td>...</td>\n",
       "      <td>NaN</td>\n",
       "      <td>NaN</td>\n",
       "      <td>NaN</td>\n",
       "      <td>NaN</td>\n",
       "      <td>NaN</td>\n",
       "      <td>NaN</td>\n",
       "      <td>NaN</td>\n",
       "      <td>NaN</td>\n",
       "      <td>NaN</td>\n",
       "      <td>NaN</td>\n",
       "    </tr>\n",
       "    <tr>\n",
       "      <th>1</th>\n",
       "      <td>1636042515805110273</td>\n",
       "      <td>Gaia EDR3 5304967682164878720</td>\n",
       "      <td>5304967682164878720</td>\n",
       "      <td>808606422</td>\n",
       "      <td>2016.0</td>\n",
       "      <td>134.250017</td>\n",
       "      <td>0.123276</td>\n",
       "      <td>-56.441186</td>\n",
       "      <td>0.136606</td>\n",
       "      <td>1.529219</td>\n",
       "      <td>...</td>\n",
       "      <td>NaN</td>\n",
       "      <td>NaN</td>\n",
       "      <td>NaN</td>\n",
       "      <td>NaN</td>\n",
       "      <td>NaN</td>\n",
       "      <td>NaN</td>\n",
       "      <td>NaN</td>\n",
       "      <td>NaN</td>\n",
       "      <td>NaN</td>\n",
       "      <td>NaN</td>\n",
       "    </tr>\n",
       "    <tr>\n",
       "      <th>2</th>\n",
       "      <td>1636042515805110273</td>\n",
       "      <td>Gaia EDR3 5304967682164882432</td>\n",
       "      <td>5304967682164882432</td>\n",
       "      <td>1335312831</td>\n",
       "      <td>2016.0</td>\n",
       "      <td>134.260537</td>\n",
       "      <td>0.178428</td>\n",
       "      <td>-56.437124</td>\n",
       "      <td>0.195209</td>\n",
       "      <td>-0.175690</td>\n",
       "      <td>...</td>\n",
       "      <td>NaN</td>\n",
       "      <td>NaN</td>\n",
       "      <td>NaN</td>\n",
       "      <td>NaN</td>\n",
       "      <td>NaN</td>\n",
       "      <td>NaN</td>\n",
       "      <td>NaN</td>\n",
       "      <td>NaN</td>\n",
       "      <td>NaN</td>\n",
       "      <td>NaN</td>\n",
       "    </tr>\n",
       "    <tr>\n",
       "      <th>3</th>\n",
       "      <td>1636042515805110273</td>\n",
       "      <td>Gaia EDR3 5304967682164882432</td>\n",
       "      <td>5304967682164882432</td>\n",
       "      <td>1335312831</td>\n",
       "      <td>2016.0</td>\n",
       "      <td>134.260537</td>\n",
       "      <td>0.178428</td>\n",
       "      <td>-56.437124</td>\n",
       "      <td>0.195209</td>\n",
       "      <td>-0.175690</td>\n",
       "      <td>...</td>\n",
       "      <td>NaN</td>\n",
       "      <td>NaN</td>\n",
       "      <td>NaN</td>\n",
       "      <td>NaN</td>\n",
       "      <td>NaN</td>\n",
       "      <td>NaN</td>\n",
       "      <td>NaN</td>\n",
       "      <td>NaN</td>\n",
       "      <td>NaN</td>\n",
       "      <td>NaN</td>\n",
       "    </tr>\n",
       "    <tr>\n",
       "      <th>4</th>\n",
       "      <td>1636042515805110273</td>\n",
       "      <td>Gaia EDR3 5304967682164882944</td>\n",
       "      <td>5304967682164882944</td>\n",
       "      <td>1444571071</td>\n",
       "      <td>2016.0</td>\n",
       "      <td>134.242473</td>\n",
       "      <td>0.247878</td>\n",
       "      <td>-56.435970</td>\n",
       "      <td>0.257689</td>\n",
       "      <td>0.337269</td>\n",
       "      <td>...</td>\n",
       "      <td>NaN</td>\n",
       "      <td>NaN</td>\n",
       "      <td>NaN</td>\n",
       "      <td>NaN</td>\n",
       "      <td>NaN</td>\n",
       "      <td>NaN</td>\n",
       "      <td>NaN</td>\n",
       "      <td>NaN</td>\n",
       "      <td>NaN</td>\n",
       "      <td>NaN</td>\n",
       "    </tr>\n",
       "    <tr>\n",
       "      <th>...</th>\n",
       "      <td>...</td>\n",
       "      <td>...</td>\n",
       "      <td>...</td>\n",
       "      <td>...</td>\n",
       "      <td>...</td>\n",
       "      <td>...</td>\n",
       "      <td>...</td>\n",
       "      <td>...</td>\n",
       "      <td>...</td>\n",
       "      <td>...</td>\n",
       "      <td>...</td>\n",
       "      <td>...</td>\n",
       "      <td>...</td>\n",
       "      <td>...</td>\n",
       "      <td>...</td>\n",
       "      <td>...</td>\n",
       "      <td>...</td>\n",
       "      <td>...</td>\n",
       "      <td>...</td>\n",
       "      <td>...</td>\n",
       "      <td>...</td>\n",
       "    </tr>\n",
       "    <tr>\n",
       "      <th>666027</th>\n",
       "      <td>1636042515805110273</td>\n",
       "      <td>Gaia EDR3 5305504213791424640</td>\n",
       "      <td>5305504213791424640</td>\n",
       "      <td>566170440</td>\n",
       "      <td>2016.0</td>\n",
       "      <td>144.753855</td>\n",
       "      <td>0.783709</td>\n",
       "      <td>-58.361383</td>\n",
       "      <td>0.819308</td>\n",
       "      <td>1.215089</td>\n",
       "      <td>...</td>\n",
       "      <td>NaN</td>\n",
       "      <td>NaN</td>\n",
       "      <td>NaN</td>\n",
       "      <td>NaN</td>\n",
       "      <td>NaN</td>\n",
       "      <td>NaN</td>\n",
       "      <td>NaN</td>\n",
       "      <td>NaN</td>\n",
       "      <td>NaN</td>\n",
       "      <td>NaN</td>\n",
       "    </tr>\n",
       "    <tr>\n",
       "      <th>666028</th>\n",
       "      <td>1636042515805110273</td>\n",
       "      <td>Gaia EDR3 5305504213797704704</td>\n",
       "      <td>5305504213797704704</td>\n",
       "      <td>127270849</td>\n",
       "      <td>2016.0</td>\n",
       "      <td>144.737992</td>\n",
       "      <td>0.031281</td>\n",
       "      <td>-58.358070</td>\n",
       "      <td>0.034421</td>\n",
       "      <td>0.190721</td>\n",
       "      <td>...</td>\n",
       "      <td>NaN</td>\n",
       "      <td>NaN</td>\n",
       "      <td>NaN</td>\n",
       "      <td>NaN</td>\n",
       "      <td>NaN</td>\n",
       "      <td>NaN</td>\n",
       "      <td>NaN</td>\n",
       "      <td>NaN</td>\n",
       "      <td>NaN</td>\n",
       "      <td>NaN</td>\n",
       "    </tr>\n",
       "    <tr>\n",
       "      <th>666029</th>\n",
       "      <td>1636042515805110273</td>\n",
       "      <td>Gaia EDR3 5305504213797704704</td>\n",
       "      <td>5305504213797704704</td>\n",
       "      <td>127270849</td>\n",
       "      <td>2016.0</td>\n",
       "      <td>144.737992</td>\n",
       "      <td>0.031281</td>\n",
       "      <td>-58.358070</td>\n",
       "      <td>0.034421</td>\n",
       "      <td>0.190721</td>\n",
       "      <td>...</td>\n",
       "      <td>NaN</td>\n",
       "      <td>NaN</td>\n",
       "      <td>NaN</td>\n",
       "      <td>NaN</td>\n",
       "      <td>NaN</td>\n",
       "      <td>NaN</td>\n",
       "      <td>NaN</td>\n",
       "      <td>NaN</td>\n",
       "      <td>NaN</td>\n",
       "      <td>NaN</td>\n",
       "    </tr>\n",
       "    <tr>\n",
       "      <th>666030</th>\n",
       "      <td>1636042515805110273</td>\n",
       "      <td>Gaia EDR3 5305504213797704960</td>\n",
       "      <td>5305504213797704960</td>\n",
       "      <td>329010722</td>\n",
       "      <td>2016.0</td>\n",
       "      <td>144.742173</td>\n",
       "      <td>0.045621</td>\n",
       "      <td>-58.358693</td>\n",
       "      <td>0.049993</td>\n",
       "      <td>0.295977</td>\n",
       "      <td>...</td>\n",
       "      <td>NaN</td>\n",
       "      <td>NaN</td>\n",
       "      <td>NaN</td>\n",
       "      <td>NaN</td>\n",
       "      <td>NaN</td>\n",
       "      <td>NaN</td>\n",
       "      <td>NaN</td>\n",
       "      <td>NaN</td>\n",
       "      <td>NaN</td>\n",
       "      <td>NaN</td>\n",
       "    </tr>\n",
       "    <tr>\n",
       "      <th>666032</th>\n",
       "      <td>1636042515805110273</td>\n",
       "      <td>Gaia EDR3 5305504213798212480</td>\n",
       "      <td>5305504213798212480</td>\n",
       "      <td>927098151</td>\n",
       "      <td>2016.0</td>\n",
       "      <td>144.731844</td>\n",
       "      <td>1.128123</td>\n",
       "      <td>-58.356906</td>\n",
       "      <td>0.982105</td>\n",
       "      <td>0.034571</td>\n",
       "      <td>...</td>\n",
       "      <td>NaN</td>\n",
       "      <td>NaN</td>\n",
       "      <td>NaN</td>\n",
       "      <td>NaN</td>\n",
       "      <td>NaN</td>\n",
       "      <td>NaN</td>\n",
       "      <td>NaN</td>\n",
       "      <td>NaN</td>\n",
       "      <td>NaN</td>\n",
       "      <td>NaN</td>\n",
       "    </tr>\n",
       "  </tbody>\n",
       "</table>\n",
       "<p>566103 rows × 193 columns</p>\n",
       "</div>"
      ],
      "text/plain": [
       "                solution_id                    designation  \\\n",
       "0       1636042515805110273  Gaia EDR3 5304967682164367744   \n",
       "1       1636042515805110273  Gaia EDR3 5304967682164878720   \n",
       "2       1636042515805110273  Gaia EDR3 5304967682164882432   \n",
       "3       1636042515805110273  Gaia EDR3 5304967682164882432   \n",
       "4       1636042515805110273  Gaia EDR3 5304967682164882944   \n",
       "...                     ...                            ...   \n",
       "666027  1636042515805110273  Gaia EDR3 5305504213791424640   \n",
       "666028  1636042515805110273  Gaia EDR3 5305504213797704704   \n",
       "666029  1636042515805110273  Gaia EDR3 5305504213797704704   \n",
       "666030  1636042515805110273  Gaia EDR3 5305504213797704960   \n",
       "666032  1636042515805110273  Gaia EDR3 5305504213798212480   \n",
       "\n",
       "                  source_id  random_index  ref_epoch          ra  ra_error  \\\n",
       "0       5304967682164367744     610665498     2016.0  134.252001  0.064894   \n",
       "1       5304967682164878720     808606422     2016.0  134.250017  0.123276   \n",
       "2       5304967682164882432    1335312831     2016.0  134.260537  0.178428   \n",
       "3       5304967682164882432    1335312831     2016.0  134.260537  0.178428   \n",
       "4       5304967682164882944    1444571071     2016.0  134.242473  0.247878   \n",
       "...                     ...           ...        ...         ...       ...   \n",
       "666027  5305504213791424640     566170440     2016.0  144.753855  0.783709   \n",
       "666028  5305504213797704704     127270849     2016.0  144.737992  0.031281   \n",
       "666029  5305504213797704704     127270849     2016.0  144.737992  0.031281   \n",
       "666030  5305504213797704960     329010722     2016.0  144.742173  0.045621   \n",
       "666032  5305504213798212480     927098151     2016.0  144.731844  1.128123   \n",
       "\n",
       "              dec  dec_error  parallax  ...  e_bp_min_rp_val.1  \\\n",
       "0      -56.426537   0.067231  0.318967  ...                NaN   \n",
       "1      -56.441186   0.136606  1.529219  ...                NaN   \n",
       "2      -56.437124   0.195209 -0.175690  ...                NaN   \n",
       "3      -56.437124   0.195209 -0.175690  ...                NaN   \n",
       "4      -56.435970   0.257689  0.337269  ...                NaN   \n",
       "...           ...        ...       ...  ...                ...   \n",
       "666027 -58.361383   0.819308  1.215089  ...                NaN   \n",
       "666028 -58.358070   0.034421  0.190721  ...                NaN   \n",
       "666029 -58.358070   0.034421  0.190721  ...                NaN   \n",
       "666030 -58.358693   0.049993  0.295977  ...                NaN   \n",
       "666032 -58.356906   0.982105  0.034571  ...                NaN   \n",
       "\n",
       "        e_bp_min_rp_percentile_lower.1  e_bp_min_rp_percentile_upper.1  \\\n",
       "0                                  NaN                             NaN   \n",
       "1                                  NaN                             NaN   \n",
       "2                                  NaN                             NaN   \n",
       "3                                  NaN                             NaN   \n",
       "4                                  NaN                             NaN   \n",
       "...                                ...                             ...   \n",
       "666027                             NaN                             NaN   \n",
       "666028                             NaN                             NaN   \n",
       "666029                             NaN                             NaN   \n",
       "666030                             NaN                             NaN   \n",
       "666032                             NaN                             NaN   \n",
       "\n",
       "        flame_flags.1  radius_val.1  radius_percentile_lower.1  \\\n",
       "0                 NaN           NaN                        NaN   \n",
       "1                 NaN           NaN                        NaN   \n",
       "2                 NaN           NaN                        NaN   \n",
       "3                 NaN           NaN                        NaN   \n",
       "4                 NaN           NaN                        NaN   \n",
       "...               ...           ...                        ...   \n",
       "666027            NaN           NaN                        NaN   \n",
       "666028            NaN           NaN                        NaN   \n",
       "666029            NaN           NaN                        NaN   \n",
       "666030            NaN           NaN                        NaN   \n",
       "666032            NaN           NaN                        NaN   \n",
       "\n",
       "        radius_percentile_upper.1  lum_val.1  lum_percentile_lower.1  \\\n",
       "0                             NaN        NaN                     NaN   \n",
       "1                             NaN        NaN                     NaN   \n",
       "2                             NaN        NaN                     NaN   \n",
       "3                             NaN        NaN                     NaN   \n",
       "4                             NaN        NaN                     NaN   \n",
       "...                           ...        ...                     ...   \n",
       "666027                        NaN        NaN                     NaN   \n",
       "666028                        NaN        NaN                     NaN   \n",
       "666029                        NaN        NaN                     NaN   \n",
       "666030                        NaN        NaN                     NaN   \n",
       "666032                        NaN        NaN                     NaN   \n",
       "\n",
       "        lum_percentile_upper.1  \n",
       "0                          NaN  \n",
       "1                          NaN  \n",
       "2                          NaN  \n",
       "3                          NaN  \n",
       "4                          NaN  \n",
       "...                        ...  \n",
       "666027                     NaN  \n",
       "666028                     NaN  \n",
       "666029                     NaN  \n",
       "666030                     NaN  \n",
       "666032                     NaN  \n",
       "\n",
       "[566103 rows x 193 columns]"
      ]
     },
     "execution_count": 154,
     "metadata": {},
     "output_type": "execute_result"
    }
   ],
   "source": [
    "dx"
   ]
  },
  {
   "cell_type": "code",
   "execution_count": 155,
   "id": "b60258b0",
   "metadata": {
    "ExecuteTime": {
     "end_time": "2021-12-14T16:28:49.002095Z",
     "start_time": "2021-12-14T16:28:48.994632Z"
    }
   },
   "outputs": [],
   "source": [
    "def propagate_back_linear(ra_g3, dec_g3, pmra_g3, pmdec_g3):\n",
    "    \"\"\"Takes EDR3 position and proper motion, and linearly propagates it by 0.5 year to the DR2 epoch. Output: SkyCoord object in DR2 epoch. Does not take into account parallax.\"\"\"\n",
    "    c = SkyCoord(ra = ra_g3 * u.deg, \n",
    "                 dec = dec_g3 * u.deg, \n",
    "                 distance = 1 * u.kpc, #setting distance to 1 kpc, otherwise it thinks stuff is at 10 Mpc and then returns an exception due to faster than light\n",
    "                 pm_ra_cosdec = pmra_g3 * u.mas/u.yr,\n",
    "                 pm_dec = pmdec_g3 * u.mas/u.yr,\n",
    "                 obstime = Time(2016.0, format='jyear'))\n",
    "    return c.apply_space_motion(Time(2015.5, format='jyear'))"
   ]
  },
  {
   "cell_type": "code",
   "execution_count": 264,
   "id": "8aa8edc7",
   "metadata": {
    "ExecuteTime": {
     "end_time": "2021-12-14T16:28:49.027645Z",
     "start_time": "2021-12-14T16:28:49.006539Z"
    }
   },
   "outputs": [],
   "source": [
    "def get_norm(pairs_list):\n",
    "    \n",
    "    #Propagate back and add two new columns containing the calculated dr2 position\n",
    "    \n",
    "    z = propagate_back_linear(pairs_list['ra'].to_numpy(), pairs_list['dec'].to_numpy(), pairs_list['pmra'].to_numpy(), pairs_list['pmdec'].to_numpy())\n",
    "    pairs_list['ra_2'] = z.ra\n",
    "    pairs_list['dec_2'] = z.dec\n",
    "    \n",
    "    #List of conditions\n",
    "    \n",
    "    \n",
    "    conditions = [\n",
    "    (~pairs_list['parallax.1'].isna() & ~pairs_list['phot_bp_mean_flux.1'].isna() & ~pairs_list['phot_rp_mean_flux.1'].isna()),\n",
    "    \n",
    "    (pairs_list['parallax.1'].isna() & ~pairs_list['phot_bp_mean_flux.1'].isna() & ~pairs_list['phot_rp_mean_flux.1'].isna()),\n",
    "    (~pairs_list['parallax.1'].isna() & pairs_list['phot_bp_mean_flux.1'].isna() & ~pairs_list['phot_rp_mean_flux.1'].isna()),\n",
    "    (~pairs_list['parallax.1'].isna() & ~pairs_list['phot_bp_mean_flux.1'].isna() & pairs_list['phot_rp_mean_flux.1'].isna()),\n",
    "    \n",
    "    (~pairs_list['parallax.1'].isna() & pairs_list['phot_bp_mean_flux.1'].isna() & pairs_list['phot_rp_mean_flux.1'].isna()),\n",
    "    (pairs_list['parallax.1'].isna() & ~pairs_list['phot_bp_mean_flux.1'].isna() & pairs_list['phot_rp_mean_flux.1'].isna()),\n",
    "    (pairs_list['parallax.1'].isna() & pairs_list['phot_bp_mean_flux.1'].isna() & ~pairs_list['phot_rp_mean_flux.1'].isna()),\n",
    "    \n",
    "    (pairs_list['parallax.1'].isna() & pairs_list['phot_bp_mean_flux.1'].isna() & pairs_list['phot_rp_mean_flux.1'].isna()),\n",
    "    ]\n",
    "    \n",
    "    #Contingent on each condition, evaluate the following normalized norm:\n",
    "    norms = [\n",
    "    (1/7)*(((pairs_list['ra_2']-pairs_list['ra.1'])*np.cos(pairs_list['dec_2']*myU.degree))**2/(pairs_list['ra_error']**2) + (pairs_list['dec_2']-pairs_list['dec.1'])**2/(pairs_list['dec_error']**2) + (pairs_list['pmra']-pairs_list['pmra.1'])**2/(pairs_list['pmra_error']**2) + (pairs_list['pmdec']-pairs_list['pmdec.1'])**2/(pairs_list['pmdec_error']**2) + (pairs_list['parallax']-pairs_list['parallax.1'])**2/(pairs_list['parallax_error']**2) + (pairs_list['phot_bp_mean_flux']-pairs_list['phot_bp_mean_flux.1'])**2/(pairs_list['phot_bp_mean_flux_error']**2) + (pairs_list['phot_rp_mean_flux']-pairs_list['phot_rp_mean_flux.1'])**2/(pairs_list['phot_rp_mean_flux_error']**2)),\n",
    "    \n",
    "    (1/6)*(((pairs_list['ra_2']-pairs_list['ra.1'])*np.cos(pairs_list['dec_2']*myU.degree))**2/(pairs_list['ra_error']**2) + (pairs_list['dec_2']-pairs_list['dec.1'])**2/(pairs_list['dec_error']**2) + (pairs_list['pmra']-pairs_list['pmra.1'])**2/(pairs_list['pmra_error']**2) + (pairs_list['pmdec']-pairs_list['pmdec.1'])**2/(pairs_list['pmdec_error']**2)  + (pairs_list['phot_bp_mean_flux']-pairs_list['phot_bp_mean_flux.1'])**2/(pairs_list['phot_bp_mean_flux_error']**2) + (pairs_list['phot_rp_mean_flux']-pairs_list['phot_rp_mean_flux.1'])**2/(pairs_list['phot_rp_mean_flux_error']**2)),\n",
    "    (1/6)*(((pairs_list['ra_2']-pairs_list['ra.1'])*np.cos(pairs_list['dec_2']*myU.degree))**2/(pairs_list['ra_error']**2) + (pairs_list['dec_2']-pairs_list['dec.1'])**2/(pairs_list['dec_error']**2) + (pairs_list['pmra']-pairs_list['pmra.1'])**2/(pairs_list['pmra_error']**2) + (pairs_list['pmdec']-pairs_list['pmdec.1'])**2/(pairs_list['pmdec_error']**2) + (pairs_list['parallax']-pairs_list['parallax.1'])**2/(pairs_list['parallax_error']**2)  + (pairs_list['phot_rp_mean_flux']-pairs_list['phot_rp_mean_flux.1'])**2/(pairs_list['phot_rp_mean_flux_error']**2)),\n",
    "    (1/6)*(((pairs_list['ra_2']-pairs_list['ra.1'])*np.cos(pairs_list['dec_2']*myU.degree))**2/(pairs_list['ra_error']**2) + (pairs_list['dec_2']-pairs_list['dec.1'])**2/(pairs_list['dec_error']**2) + (pairs_list['pmra']-pairs_list['pmra.1'])**2/(pairs_list['pmra_error']**2) + (pairs_list['pmdec']-pairs_list['pmdec.1'])**2/(pairs_list['pmdec_error']**2) + (pairs_list['parallax']-pairs_list['parallax.1'])**2/(pairs_list['parallax_error']**2)  + (pairs_list['phot_bp_mean_flux']-pairs_list['phot_bp_mean_flux.1'])**2/(pairs_list['phot_bp_mean_flux_error']**2)),\n",
    "    \n",
    "    (1/5)*(((pairs_list['ra_2']-pairs_list['ra.1'])*np.cos(pairs_list['dec_2']*myU.degree))**2/(pairs_list['ra_error']**2) + (pairs_list['dec_2']-pairs_list['dec.1'])**2/(pairs_list['dec_error']**2) + (pairs_list['pmra']-pairs_list['pmra.1'])**2/(pairs_list['pmra_error']**2) + (pairs_list['pmdec']-pairs_list['pmdec.1'])**2/(pairs_list['pmdec_error']**2) + (pairs_list['parallax']-pairs_list['parallax.1'])**2/(pairs_list['parallax_error']**2)),\n",
    "    (1/5)*(((pairs_list['ra_2']-pairs_list['ra.1'])*np.cos(pairs_list['dec_2']*myU.degree))**2/(pairs_list['ra_error']**2) + (pairs_list['dec_2']-pairs_list['dec.1'])**2/(pairs_list['dec_error']**2) + (pairs_list['pmra']-pairs_list['pmra.1'])**2/(pairs_list['pmra_error']**2) + (pairs_list['pmdec']-pairs_list['pmdec.1'])**2/(pairs_list['pmdec_error']**2)   + (pairs_list['phot_bp_mean_flux']-pairs_list['phot_bp_mean_flux.1'])**2/(pairs_list['phot_bp_mean_flux_error']**2)),\n",
    "    (1/5)*(((pairs_list['ra_2']-pairs_list['ra.1'])*np.cos(pairs_list['dec_2']*myU.degree))**2/(pairs_list['ra_error']**2) + (pairs_list['dec_2']-pairs_list['dec.1'])**2/(pairs_list['dec_error']**2) + (pairs_list['pmra']-pairs_list['pmra.1'])**2/(pairs_list['pmra_error']**2) + (pairs_list['pmdec']-pairs_list['pmdec.1'])**2/(pairs_list['pmdec_error']**2)  + (pairs_list['phot_rp_mean_flux']-pairs_list['phot_rp_mean_flux.1'])**2/(pairs_list['phot_rp_mean_flux_error']**2)),\n",
    "    \n",
    "    (1/4)*(((pairs_list['ra_2']-pairs_list['ra.1'])*np.cos(pairs_list['dec_2']*myU.degree))**2/(pairs_list['ra_error']**2) + (pairs_list['dec_2']-pairs_list['dec.1'])**2/(pairs_list['dec_error']**2)) + (pairs_list['pmra']-pairs_list['pmra.1'])**2/(pairs_list['pmra_error']**2) + (pairs_list['pmdec']-pairs_list['pmdec.1'])**2/(pairs_list['pmdec_error']**2)\n",
    "    ]\n",
    "\n",
    "    pairs_list['norm'] = np.select(conditions, norms, default=False)\n",
    "    return pairs_list"
   ]
  },
  {
   "cell_type": "code",
   "execution_count": 265,
   "id": "98bd16e8",
   "metadata": {
    "ExecuteTime": {
     "end_time": "2021-12-14T16:28:49.040501Z",
     "start_time": "2021-12-14T16:28:49.030884Z"
    }
   },
   "outputs": [],
   "source": [
    "def match_pairs(pairs_list1):\n",
    "    pairs_list = get_norm(pairs_list1)\n",
    "    #mask by condition norm < 4\n",
    "    first_cut = pairs_list[pairs_list['norm']<4]\n",
    "    first_cut.shape\n",
    "    \n",
    "    #Sort by source id, then norm. The duplicates with the smallest norm are at the top of their respective \"chunk.\"\n",
    "    first_cut.sort_values(['source_id', 'norm'], ascending = [True, True],inplace=True)\n",
    "    \n",
    "    #Drop all duplicates, keep the one with the smallest norm\n",
    "    first_cut.drop_duplicates(subset=['source_id'],keep = 'first', inplace=True)\n",
    "    \n",
    "    #Do the same, except for dr2 source. This ensures that two different dr3 sources don't get matched to the same dr2 source.\n",
    "    #Keep the one with the smallest norm\n",
    "    first_cut.sort_values(['source_id.1', 'norm'], ascending = [True, True],inplace=True)\n",
    "    first_cut.drop_duplicates(subset=['source_id.1'],keep = 'first', inplace=True)\n",
    "    \n",
    "    #Re-sort the dataframe by edr3 source id, for convenience\n",
    "    first_cut.sort_values(['source_id', 'norm'], ascending = [True, True],inplace=True)\n",
    "    \n",
    "    return first_cut"
   ]
  },
  {
   "cell_type": "code",
   "execution_count": 274,
   "id": "7ab39cb0",
   "metadata": {
    "ExecuteTime": {
     "end_time": "2021-12-14T16:28:49.054142Z",
     "start_time": "2021-12-14T16:28:49.043212Z"
    }
   },
   "outputs": [],
   "source": [
    "t3 = 34.12/12\n",
    "t2 = 21.96/12\n",
    "\n",
    "tg3 = 10.6849/12\n",
    "tg2 = 17.26/12\n",
    "\n",
    "#functions to compute the ra of \n",
    "hacky_accel_ra = lambda ra2,ra3, pmra2, pmra3 : 12*((ra2-ra3)*3600000 - pmra2*tg2 + pmra3*tg3)/(t3**2 - t2**2)\n",
    "hacky_accel_dec = lambda dec2,dec3, pmdec2, pmdec3: 12*((dec2-dec3)*3600000 - pmdec2*tg2 + pmdec3*tg3)/(t3**2 - t2**2)\n",
    "\n",
    "#function to find the error of the hacky acceleration\n",
    "hacky_error = lambda sigra2, sigdec2, sigra3,sigdec3 : 12*(np.sqrt(sigra2**2 + sigdec2**2 + sigra3**2 + sigdec3**2))/(t3**2 - t2**2)\n",
    "\n",
    "\n",
    "#function to find the magnitude of the acceleration\n",
    "accel_mag = lambda accelra, acceldec : np.sqrt(accelra**2 + acceldec**2)\n",
    "\n",
    "mag_over_error = lambda accel_mag, error : accel_mag/error"
   ]
  },
  {
   "cell_type": "code",
   "execution_count": 275,
   "id": "passing-designation",
   "metadata": {},
   "outputs": [],
   "source": [
    "def fn_hacky_accel(th_2, th_3, mu_2, mu_3):\n",
    "    \"\"\"\n",
    "    Function to compute the hacky acceleration vector. \n",
    "    Takes as inputs (N, 2) arrays for the DR2 position, eDR3 position, DR2, proper motion, eDR3 proper motion vectors. \n",
    "    Return (N, 2) array for the acceleration vectors (in mas/y^2).\n",
    "    \"\"\"\n",
    "    delta_th = np.array([(th_2[:, 0] - th_3[:, 0])*np.cos(th_3[:, 1]*myU.degree)*myU.degree/myU.mas, (th_2[:, 1] - th_3[:, 1])*myU.degree/myU.mas]).T\n",
    "    delta_mu = mu_3*tg3 - mu_2*tg2\n",
    "    \n",
    "    acc_vec = 12*(delta_th + delta_mu)/(t3**2 - t2**2) \n",
    "    \n",
    "    return acc_vec"
   ]
  },
  {
   "cell_type": "code",
   "execution_count": 276,
   "id": "painful-alexander",
   "metadata": {},
   "outputs": [
    {
     "name": "stderr",
     "output_type": "stream",
     "text": [
      "<ipython-input-265-8c968b655cfc>:8: SettingWithCopyWarning: \n",
      "A value is trying to be set on a copy of a slice from a DataFrame\n",
      "\n",
      "See the caveats in the documentation: https://pandas.pydata.org/pandas-docs/stable/user_guide/indexing.html#returning-a-view-versus-a-copy\n",
      "  first_cut.sort_values(['source_id', 'norm'], ascending = [True, True],inplace=True)\n",
      "<ipython-input-265-8c968b655cfc>:11: SettingWithCopyWarning: \n",
      "A value is trying to be set on a copy of a slice from a DataFrame\n",
      "\n",
      "See the caveats in the documentation: https://pandas.pydata.org/pandas-docs/stable/user_guide/indexing.html#returning-a-view-versus-a-copy\n",
      "  first_cut.drop_duplicates(subset=['source_id'],keep = 'first', inplace=True)\n",
      "<ipython-input-265-8c968b655cfc>:15: SettingWithCopyWarning: \n",
      "A value is trying to be set on a copy of a slice from a DataFrame\n",
      "\n",
      "See the caveats in the documentation: https://pandas.pydata.org/pandas-docs/stable/user_guide/indexing.html#returning-a-view-versus-a-copy\n",
      "  first_cut.sort_values(['source_id.1', 'norm'], ascending = [True, True],inplace=True)\n",
      "<ipython-input-265-8c968b655cfc>:16: SettingWithCopyWarning: \n",
      "A value is trying to be set on a copy of a slice from a DataFrame\n",
      "\n",
      "See the caveats in the documentation: https://pandas.pydata.org/pandas-docs/stable/user_guide/indexing.html#returning-a-view-versus-a-copy\n",
      "  first_cut.drop_duplicates(subset=['source_id.1'],keep = 'first', inplace=True)\n",
      "<ipython-input-265-8c968b655cfc>:19: SettingWithCopyWarning: \n",
      "A value is trying to be set on a copy of a slice from a DataFrame\n",
      "\n",
      "See the caveats in the documentation: https://pandas.pydata.org/pandas-docs/stable/user_guide/indexing.html#returning-a-view-versus-a-copy\n",
      "  first_cut.sort_values(['source_id', 'norm'], ascending = [True, True],inplace=True)\n"
     ]
    }
   ],
   "source": [
    "pairs_list = generate_pairs_list(dr3,dr2)\n",
    "pair_df1 = get_norm(pairs_list)\n",
    "pair_df = match_pairs(pair_df1)"
   ]
  },
  {
   "cell_type": "code",
   "execution_count": 301,
   "id": "cooperative-insurance",
   "metadata": {},
   "outputs": [
    {
     "data": {
      "text/html": [
       "<div>\n",
       "<style scoped>\n",
       "    .dataframe tbody tr th:only-of-type {\n",
       "        vertical-align: middle;\n",
       "    }\n",
       "\n",
       "    .dataframe tbody tr th {\n",
       "        vertical-align: top;\n",
       "    }\n",
       "\n",
       "    .dataframe thead th {\n",
       "        text-align: right;\n",
       "    }\n",
       "</style>\n",
       "<table border=\"1\" class=\"dataframe\">\n",
       "  <thead>\n",
       "    <tr style=\"text-align: right;\">\n",
       "      <th></th>\n",
       "      <th>solution_id</th>\n",
       "      <th>designation</th>\n",
       "      <th>source_id</th>\n",
       "      <th>random_index</th>\n",
       "      <th>ref_epoch</th>\n",
       "      <th>ra</th>\n",
       "      <th>ra_error</th>\n",
       "      <th>dec</th>\n",
       "      <th>dec_error</th>\n",
       "      <th>parallax</th>\n",
       "      <th>...</th>\n",
       "      <th>flame_flags.1</th>\n",
       "      <th>radius_val.1</th>\n",
       "      <th>radius_percentile_lower.1</th>\n",
       "      <th>radius_percentile_upper.1</th>\n",
       "      <th>lum_val.1</th>\n",
       "      <th>lum_percentile_lower.1</th>\n",
       "      <th>lum_percentile_upper.1</th>\n",
       "      <th>ra_2</th>\n",
       "      <th>dec_2</th>\n",
       "      <th>norm</th>\n",
       "    </tr>\n",
       "  </thead>\n",
       "  <tbody>\n",
       "    <tr>\n",
       "      <th>3</th>\n",
       "      <td>1636042515805110273</td>\n",
       "      <td>Gaia EDR3 5304967682164882432</td>\n",
       "      <td>5304967682164882432</td>\n",
       "      <td>1335312831</td>\n",
       "      <td>2016.0</td>\n",
       "      <td>134.260537</td>\n",
       "      <td>0.178428</td>\n",
       "      <td>-56.437124</td>\n",
       "      <td>0.195209</td>\n",
       "      <td>-0.175690</td>\n",
       "      <td>...</td>\n",
       "      <td>NaN</td>\n",
       "      <td>NaN</td>\n",
       "      <td>NaN</td>\n",
       "      <td>NaN</td>\n",
       "      <td>NaN</td>\n",
       "      <td>NaN</td>\n",
       "      <td>NaN</td>\n",
       "      <td>134.260538</td>\n",
       "      <td>-56.437124</td>\n",
       "      <td>2.021810</td>\n",
       "    </tr>\n",
       "    <tr>\n",
       "      <th>5</th>\n",
       "      <td>1636042515805110273</td>\n",
       "      <td>Gaia EDR3 5304967682164882944</td>\n",
       "      <td>5304967682164882944</td>\n",
       "      <td>1444571071</td>\n",
       "      <td>2016.0</td>\n",
       "      <td>134.242473</td>\n",
       "      <td>0.247878</td>\n",
       "      <td>-56.435970</td>\n",
       "      <td>0.257689</td>\n",
       "      <td>0.337269</td>\n",
       "      <td>...</td>\n",
       "      <td>NaN</td>\n",
       "      <td>NaN</td>\n",
       "      <td>NaN</td>\n",
       "      <td>NaN</td>\n",
       "      <td>NaN</td>\n",
       "      <td>NaN</td>\n",
       "      <td>NaN</td>\n",
       "      <td>134.242474</td>\n",
       "      <td>-56.435970</td>\n",
       "      <td>1.756193</td>\n",
       "    </tr>\n",
       "    <tr>\n",
       "      <th>6</th>\n",
       "      <td>1636042515805110273</td>\n",
       "      <td>Gaia EDR3 5304967682164884608</td>\n",
       "      <td>5304967682164884608</td>\n",
       "      <td>1746916597</td>\n",
       "      <td>2016.0</td>\n",
       "      <td>134.261234</td>\n",
       "      <td>0.121844</td>\n",
       "      <td>-56.434013</td>\n",
       "      <td>0.139065</td>\n",
       "      <td>0.342005</td>\n",
       "      <td>...</td>\n",
       "      <td>NaN</td>\n",
       "      <td>NaN</td>\n",
       "      <td>NaN</td>\n",
       "      <td>NaN</td>\n",
       "      <td>NaN</td>\n",
       "      <td>NaN</td>\n",
       "      <td>NaN</td>\n",
       "      <td>134.261234</td>\n",
       "      <td>-56.434014</td>\n",
       "      <td>2.311549</td>\n",
       "    </tr>\n",
       "    <tr>\n",
       "      <th>7</th>\n",
       "      <td>1636042515805110273</td>\n",
       "      <td>Gaia EDR3 5304967682164884736</td>\n",
       "      <td>5304967682164884736</td>\n",
       "      <td>1517284186</td>\n",
       "      <td>2016.0</td>\n",
       "      <td>134.258238</td>\n",
       "      <td>0.107684</td>\n",
       "      <td>-56.433976</td>\n",
       "      <td>0.121828</td>\n",
       "      <td>0.154727</td>\n",
       "      <td>...</td>\n",
       "      <td>NaN</td>\n",
       "      <td>NaN</td>\n",
       "      <td>NaN</td>\n",
       "      <td>NaN</td>\n",
       "      <td>NaN</td>\n",
       "      <td>NaN</td>\n",
       "      <td>NaN</td>\n",
       "      <td>134.258239</td>\n",
       "      <td>-56.433977</td>\n",
       "      <td>2.394400</td>\n",
       "    </tr>\n",
       "    <tr>\n",
       "      <th>8</th>\n",
       "      <td>1636042515805110273</td>\n",
       "      <td>Gaia EDR3 5304967682164884864</td>\n",
       "      <td>5304967682164884864</td>\n",
       "      <td>600221900</td>\n",
       "      <td>2016.0</td>\n",
       "      <td>134.245005</td>\n",
       "      <td>0.070754</td>\n",
       "      <td>-56.434983</td>\n",
       "      <td>0.074656</td>\n",
       "      <td>0.170320</td>\n",
       "      <td>...</td>\n",
       "      <td>NaN</td>\n",
       "      <td>NaN</td>\n",
       "      <td>NaN</td>\n",
       "      <td>NaN</td>\n",
       "      <td>NaN</td>\n",
       "      <td>NaN</td>\n",
       "      <td>NaN</td>\n",
       "      <td>134.245006</td>\n",
       "      <td>-56.434983</td>\n",
       "      <td>2.240632</td>\n",
       "    </tr>\n",
       "    <tr>\n",
       "      <th>...</th>\n",
       "      <td>...</td>\n",
       "      <td>...</td>\n",
       "      <td>...</td>\n",
       "      <td>...</td>\n",
       "      <td>...</td>\n",
       "      <td>...</td>\n",
       "      <td>...</td>\n",
       "      <td>...</td>\n",
       "      <td>...</td>\n",
       "      <td>...</td>\n",
       "      <td>...</td>\n",
       "      <td>...</td>\n",
       "      <td>...</td>\n",
       "      <td>...</td>\n",
       "      <td>...</td>\n",
       "      <td>...</td>\n",
       "      <td>...</td>\n",
       "      <td>...</td>\n",
       "      <td>...</td>\n",
       "      <td>...</td>\n",
       "      <td>...</td>\n",
       "    </tr>\n",
       "    <tr>\n",
       "      <th>666015</th>\n",
       "      <td>1636042515805110273</td>\n",
       "      <td>Gaia EDR3 5305504213790885504</td>\n",
       "      <td>5305504213790885504</td>\n",
       "      <td>1362302113</td>\n",
       "      <td>2016.0</td>\n",
       "      <td>144.747969</td>\n",
       "      <td>0.572486</td>\n",
       "      <td>-58.365977</td>\n",
       "      <td>0.623483</td>\n",
       "      <td>-0.647407</td>\n",
       "      <td>...</td>\n",
       "      <td>NaN</td>\n",
       "      <td>NaN</td>\n",
       "      <td>NaN</td>\n",
       "      <td>NaN</td>\n",
       "      <td>NaN</td>\n",
       "      <td>NaN</td>\n",
       "      <td>NaN</td>\n",
       "      <td>144.747971</td>\n",
       "      <td>-58.365978</td>\n",
       "      <td>0.690064</td>\n",
       "    </tr>\n",
       "    <tr>\n",
       "      <th>666017</th>\n",
       "      <td>1636042515805110273</td>\n",
       "      <td>Gaia EDR3 5305504213790924672</td>\n",
       "      <td>5305504213790924672</td>\n",
       "      <td>604889548</td>\n",
       "      <td>2016.0</td>\n",
       "      <td>144.755072</td>\n",
       "      <td>0.538898</td>\n",
       "      <td>-58.363640</td>\n",
       "      <td>0.532039</td>\n",
       "      <td>0.913234</td>\n",
       "      <td>...</td>\n",
       "      <td>NaN</td>\n",
       "      <td>NaN</td>\n",
       "      <td>NaN</td>\n",
       "      <td>NaN</td>\n",
       "      <td>NaN</td>\n",
       "      <td>NaN</td>\n",
       "      <td>NaN</td>\n",
       "      <td>144.755073</td>\n",
       "      <td>-58.363640</td>\n",
       "      <td>3.479993</td>\n",
       "    </tr>\n",
       "    <tr>\n",
       "      <th>666020</th>\n",
       "      <td>1636042515805110273</td>\n",
       "      <td>Gaia EDR3 5305504213791410432</td>\n",
       "      <td>5305504213791410432</td>\n",
       "      <td>1572829936</td>\n",
       "      <td>2016.0</td>\n",
       "      <td>144.730174</td>\n",
       "      <td>1.126810</td>\n",
       "      <td>-58.362296</td>\n",
       "      <td>1.691526</td>\n",
       "      <td>-0.473630</td>\n",
       "      <td>...</td>\n",
       "      <td>NaN</td>\n",
       "      <td>NaN</td>\n",
       "      <td>NaN</td>\n",
       "      <td>NaN</td>\n",
       "      <td>NaN</td>\n",
       "      <td>NaN</td>\n",
       "      <td>NaN</td>\n",
       "      <td>144.730174</td>\n",
       "      <td>-58.362296</td>\n",
       "      <td>1.109263</td>\n",
       "    </tr>\n",
       "    <tr>\n",
       "      <th>666026</th>\n",
       "      <td>1636042515805110273</td>\n",
       "      <td>Gaia EDR3 5305504213791424640</td>\n",
       "      <td>5305504213791424640</td>\n",
       "      <td>566170440</td>\n",
       "      <td>2016.0</td>\n",
       "      <td>144.753855</td>\n",
       "      <td>0.783709</td>\n",
       "      <td>-58.361383</td>\n",
       "      <td>0.819308</td>\n",
       "      <td>1.215089</td>\n",
       "      <td>...</td>\n",
       "      <td>NaN</td>\n",
       "      <td>NaN</td>\n",
       "      <td>NaN</td>\n",
       "      <td>NaN</td>\n",
       "      <td>NaN</td>\n",
       "      <td>NaN</td>\n",
       "      <td>NaN</td>\n",
       "      <td>144.753857</td>\n",
       "      <td>-58.361383</td>\n",
       "      <td>0.986318</td>\n",
       "    </tr>\n",
       "    <tr>\n",
       "      <th>666029</th>\n",
       "      <td>1636042515805110273</td>\n",
       "      <td>Gaia EDR3 5305504213797704704</td>\n",
       "      <td>5305504213797704704</td>\n",
       "      <td>127270849</td>\n",
       "      <td>2016.0</td>\n",
       "      <td>144.737992</td>\n",
       "      <td>0.031281</td>\n",
       "      <td>-58.358070</td>\n",
       "      <td>0.034421</td>\n",
       "      <td>0.190721</td>\n",
       "      <td>...</td>\n",
       "      <td>NaN</td>\n",
       "      <td>NaN</td>\n",
       "      <td>NaN</td>\n",
       "      <td>NaN</td>\n",
       "      <td>NaN</td>\n",
       "      <td>NaN</td>\n",
       "      <td>NaN</td>\n",
       "      <td>144.737993</td>\n",
       "      <td>-58.358071</td>\n",
       "      <td>2.683657</td>\n",
       "    </tr>\n",
       "  </tbody>\n",
       "</table>\n",
       "<p>253451 rows × 196 columns</p>\n",
       "</div>"
      ],
      "text/plain": [
       "                solution_id                    designation  \\\n",
       "3       1636042515805110273  Gaia EDR3 5304967682164882432   \n",
       "5       1636042515805110273  Gaia EDR3 5304967682164882944   \n",
       "6       1636042515805110273  Gaia EDR3 5304967682164884608   \n",
       "7       1636042515805110273  Gaia EDR3 5304967682164884736   \n",
       "8       1636042515805110273  Gaia EDR3 5304967682164884864   \n",
       "...                     ...                            ...   \n",
       "666015  1636042515805110273  Gaia EDR3 5305504213790885504   \n",
       "666017  1636042515805110273  Gaia EDR3 5305504213790924672   \n",
       "666020  1636042515805110273  Gaia EDR3 5305504213791410432   \n",
       "666026  1636042515805110273  Gaia EDR3 5305504213791424640   \n",
       "666029  1636042515805110273  Gaia EDR3 5305504213797704704   \n",
       "\n",
       "                  source_id  random_index  ref_epoch          ra  ra_error  \\\n",
       "3       5304967682164882432    1335312831     2016.0  134.260537  0.178428   \n",
       "5       5304967682164882944    1444571071     2016.0  134.242473  0.247878   \n",
       "6       5304967682164884608    1746916597     2016.0  134.261234  0.121844   \n",
       "7       5304967682164884736    1517284186     2016.0  134.258238  0.107684   \n",
       "8       5304967682164884864     600221900     2016.0  134.245005  0.070754   \n",
       "...                     ...           ...        ...         ...       ...   \n",
       "666015  5305504213790885504    1362302113     2016.0  144.747969  0.572486   \n",
       "666017  5305504213790924672     604889548     2016.0  144.755072  0.538898   \n",
       "666020  5305504213791410432    1572829936     2016.0  144.730174  1.126810   \n",
       "666026  5305504213791424640     566170440     2016.0  144.753855  0.783709   \n",
       "666029  5305504213797704704     127270849     2016.0  144.737992  0.031281   \n",
       "\n",
       "              dec  dec_error  parallax  ...  flame_flags.1  radius_val.1  \\\n",
       "3      -56.437124   0.195209 -0.175690  ...            NaN           NaN   \n",
       "5      -56.435970   0.257689  0.337269  ...            NaN           NaN   \n",
       "6      -56.434013   0.139065  0.342005  ...            NaN           NaN   \n",
       "7      -56.433976   0.121828  0.154727  ...            NaN           NaN   \n",
       "8      -56.434983   0.074656  0.170320  ...            NaN           NaN   \n",
       "...           ...        ...       ...  ...            ...           ...   \n",
       "666015 -58.365977   0.623483 -0.647407  ...            NaN           NaN   \n",
       "666017 -58.363640   0.532039  0.913234  ...            NaN           NaN   \n",
       "666020 -58.362296   1.691526 -0.473630  ...            NaN           NaN   \n",
       "666026 -58.361383   0.819308  1.215089  ...            NaN           NaN   \n",
       "666029 -58.358070   0.034421  0.190721  ...            NaN           NaN   \n",
       "\n",
       "        radius_percentile_lower.1  radius_percentile_upper.1  lum_val.1  \\\n",
       "3                             NaN                        NaN        NaN   \n",
       "5                             NaN                        NaN        NaN   \n",
       "6                             NaN                        NaN        NaN   \n",
       "7                             NaN                        NaN        NaN   \n",
       "8                             NaN                        NaN        NaN   \n",
       "...                           ...                        ...        ...   \n",
       "666015                        NaN                        NaN        NaN   \n",
       "666017                        NaN                        NaN        NaN   \n",
       "666020                        NaN                        NaN        NaN   \n",
       "666026                        NaN                        NaN        NaN   \n",
       "666029                        NaN                        NaN        NaN   \n",
       "\n",
       "        lum_percentile_lower.1  lum_percentile_upper.1        ra_2      dec_2  \\\n",
       "3                          NaN                     NaN  134.260538 -56.437124   \n",
       "5                          NaN                     NaN  134.242474 -56.435970   \n",
       "6                          NaN                     NaN  134.261234 -56.434014   \n",
       "7                          NaN                     NaN  134.258239 -56.433977   \n",
       "8                          NaN                     NaN  134.245006 -56.434983   \n",
       "...                        ...                     ...         ...        ...   \n",
       "666015                     NaN                     NaN  144.747971 -58.365978   \n",
       "666017                     NaN                     NaN  144.755073 -58.363640   \n",
       "666020                     NaN                     NaN  144.730174 -58.362296   \n",
       "666026                     NaN                     NaN  144.753857 -58.361383   \n",
       "666029                     NaN                     NaN  144.737993 -58.358071   \n",
       "\n",
       "            norm  \n",
       "3       2.021810  \n",
       "5       1.756193  \n",
       "6       2.311549  \n",
       "7       2.394400  \n",
       "8       2.240632  \n",
       "...          ...  \n",
       "666015  0.690064  \n",
       "666017  3.479993  \n",
       "666020  1.109263  \n",
       "666026  0.986318  \n",
       "666029  2.683657  \n",
       "\n",
       "[253451 rows x 196 columns]"
      ]
     },
     "execution_count": 301,
     "metadata": {},
     "output_type": "execute_result"
    }
   ],
   "source": [
    "pair_df"
   ]
  },
  {
   "cell_type": "code",
   "execution_count": 278,
   "id": "brutal-rover",
   "metadata": {},
   "outputs": [],
   "source": [
    "# New function to find the error of the hacky acceleration\n",
    "hacky_error = lambda sig_th_2,sig_th_3,sig_mu_2,sig_mu_3 : 12*(np.sqrt(sig_th_2**2 + sig_th_3**2 + tg2**2*sig_mu_2**2 + tg3**2*sig_mu_3**2))/(t3**2 - t2**2)\n",
    "\n",
    "ra2_error = pair_df['ra_error.1']\n",
    "dec2_error = pair_df['dec_error.1']\n",
    "\n",
    "pmra2_error = pair_df['pmra_error.1']\n",
    "pmdec2_error = pair_df['pmdec_error.1']\n",
    "\n",
    "\n",
    "ra3_error = pair_df['ra_error']\n",
    "dec3_error = pair_df['dec_error']\n",
    "\n",
    "pmra3_error = pair_df['pmra_error']\n",
    "pmdec3_error = pair_df['pmdec_error']\n",
    "\n",
    "# Example of how to use it inside the function generate_accel_cat\n",
    "accel_ra_error = hacky_error(ra2_error, ra3_error, pmra2_error, pmra3_error)\n",
    "accel_dec_error = hacky_error(dec2_error, dec3_error, pmdec2_error, pmdec3_error)\n",
    "accel_magn_error = np.sqrt(accel_ra_error**2 + accel_dec_error**2)\n"
   ]
  },
  {
   "cell_type": "code",
   "execution_count": 279,
   "id": "above-message",
   "metadata": {},
   "outputs": [],
   "source": [
    "th_2 = np.array(pair_df[['ra.1', 'dec.1']])\n",
    "th_3 = np.array(pair_df[['ra', 'dec']])\n",
    "mu_2 = np.array(pair_df[['pmra.1', 'pmdec.1']])\n",
    "mu_3 = np.array(pair_df[['pmra', 'pmdec']])\n",
    "\n",
    "accels = fn_hacky_accel(th_2, th_3, mu_2, mu_3)"
   ]
  },
  {
   "cell_type": "code",
   "execution_count": 280,
   "id": "considered-match",
   "metadata": {},
   "outputs": [
    {
     "data": {
      "text/plain": [
       "253451"
      ]
     },
     "execution_count": 280,
     "metadata": {},
     "output_type": "execute_result"
    }
   ],
   "source": [
    "len(accels)"
   ]
  },
  {
   "cell_type": "code",
   "execution_count": 281,
   "id": "swiss-recorder",
   "metadata": {},
   "outputs": [],
   "source": [
    "accel_mags = np.array(np.sqrt(accels[:,0]**2 + accels[:,1]**2))"
   ]
  },
  {
   "cell_type": "code",
   "execution_count": 282,
   "id": "third-replacement",
   "metadata": {},
   "outputs": [
    {
     "data": {
      "text/plain": [
       "253451"
      ]
     },
     "execution_count": 282,
     "metadata": {},
     "output_type": "execute_result"
    }
   ],
   "source": [
    "len(accel_mags)"
   ]
  },
  {
   "cell_type": "code",
   "execution_count": 173,
   "id": "compound-colombia",
   "metadata": {},
   "outputs": [],
   "source": [
    "accel_mags_1 = accel_mags[accel_mags < 1000]\n",
    "accel_magn_error_1 = accel_magn_error[accel_mags < 1000]"
   ]
  },
  {
   "cell_type": "code",
   "execution_count": 179,
   "id": "trained-theater",
   "metadata": {},
   "outputs": [],
   "source": [
    "mags_ovr_err_1 = np.array(accel_mags_1/accel_magn_error_1)"
   ]
  },
  {
   "cell_type": "code",
   "execution_count": 287,
   "id": "royal-blair",
   "metadata": {},
   "outputs": [],
   "source": [
    "mags_ovr_err = np.array(accel_mags/accel_magn_error)"
   ]
  },
  {
   "cell_type": "code",
   "execution_count": 193,
   "id": "effective-disorder",
   "metadata": {},
   "outputs": [
    {
     "data": {
      "text/plain": [
       "251758"
      ]
     },
     "execution_count": 193,
     "metadata": {},
     "output_type": "execute_result"
    }
   ],
   "source": [
    "len(mags_ovr_err_1)"
   ]
  },
  {
   "cell_type": "code",
   "execution_count": 208,
   "id": "strange-matrix",
   "metadata": {},
   "outputs": [],
   "source": [
    "xd = mags_ovr_err_1[mags_ovr_err_1<100]"
   ]
  },
  {
   "cell_type": "code",
   "execution_count": 209,
   "id": "vulnerable-modification",
   "metadata": {},
   "outputs": [],
   "source": [
    "bn = np.logspace(-1,4.5,200)"
   ]
  },
  {
   "cell_type": "code",
   "execution_count": 295,
   "id": "beneficial-norfolk",
   "metadata": {},
   "outputs": [],
   "source": [
    "bn1 = np.linspace(0, 100, 100)"
   ]
  },
  {
   "cell_type": "code",
   "execution_count": 284,
   "id": "domestic-absolute",
   "metadata": {},
   "outputs": [
    {
     "name": "stdout",
     "output_type": "stream",
     "text": [
      "Average acceleration of this sample: 48.805828258053836 \n",
      "Largest acceleration of this sample: 7601.52994787086\n",
      "Smallest acceleration of this sample: 0.09980228316112146 \n",
      "Variance: 174344.68053274992\n"
     ]
    },
    {
     "data": {
      "image/png": "[encoded data removed]",
      "text/plain": [
       "<Figure size 432x288 with 1 Axes>"
      ]
     },
     "metadata": {
      "needs_background": "light"
     },
     "output_type": "display_data"
    }
   ],
   "source": [
    "plt.hist(accel_mags, density=False, log= True, bins=bn) #Diaconis binning\n",
    "plt.ylabel('Counts')\n",
    "plt.xscale('log')\n",
    "plt.xlabel('Acceleration Magnitude (mas/y^2)');\n",
    "plt.title('Histogram of Star Accelerations')\n",
    "print(\"Average acceleration of this sample: \" + str(np.mean(accel_mags)) + \" \")\n",
    "print(\"Largest acceleration of this sample: \" + str(np.max(accel_mags))+ \"\")\n",
    "print(\"Smallest acceleration of this sample: \" + str(np.min(accel_mags))+ \" \")\n",
    "print(\"Variance: \" + str(np.var(accel_mags)))"
   ]
  },
  {
   "cell_type": "code",
   "execution_count": 297,
   "id": "associate-click",
   "metadata": {},
   "outputs": [
    {
     "name": "stdout",
     "output_type": "stream",
     "text": [
      "Average acceleration/error of this sample: 7.857390450853537 \n",
      "Largest acceleration/error of this sample: 1280.7327210371554\n",
      "Smallest acceleration/error of this sample: 0.00707508953420519 \n",
      "Variance: 153.09806272261517\n"
     ]
    },
    {
     "data": {
      "image/png": "[encoded data removed]",
      "text/plain": [
       "<Figure size 432x288 with 1 Axes>"
      ]
     },
     "metadata": {
      "needs_background": "light"
     },
     "output_type": "display_data"
    }
   ],
   "source": [
    "plt.hist(mags_ovr_err_1, density=False, log= True, bins = bn1) #Diaconis binning\n",
    "plt.ylabel('Counts')\n",
    "#plt.xscale('log')\n",
    "plt.xlabel('Acceleration Magnitude/error (mas/y^2)');\n",
    "plt.title('Histogram of Star Accelerations')\n",
    "print(\"Average acceleration/error of this sample: \" + str(np.mean(mags_ovr_err_1)) + \" \")\n",
    "print(\"Largest acceleration/error of this sample: \" + str(np.max(mags_ovr_err_1))+ \"\")\n",
    "print(\"Smallest acceleration/error of this sample: \" + str(np.min(mags_ovr_err_1))+ \" \")\n",
    "print(\"Variance: \" + str(np.var(mags_ovr_err_1)))"
   ]
  },
  {
   "cell_type": "code",
   "execution_count": 303,
   "id": "stable-disclaimer",
   "metadata": {},
   "outputs": [],
   "source": [
    "accels_ra = accels[:,0]"
   ]
  },
  {
   "cell_type": "code",
   "execution_count": 307,
   "id": "pointed-patrol",
   "metadata": {},
   "outputs": [],
   "source": [
    "bn2 = np.linspace(-8000, 8000, 200)"
   ]
  },
  {
   "cell_type": "code",
   "execution_count": 308,
   "id": "typical-elimination",
   "metadata": {},
   "outputs": [
    {
     "name": "stdout",
     "output_type": "stream",
     "text": [
      "Average acceleration of this sample: 11.261492853685057 \n",
      "Largest acceleration of this sample: 7594.84464451576\n",
      "Smallest acceleration of this sample: -7581.129131466736 \n",
      "Variance: 89335.64310505737\n"
     ]
    },
    {
     "data": {
      "image/png": "[encoded data removed]",
      "text/plain": [
       "<Figure size 432x288 with 1 Axes>"
      ]
     },
     "metadata": {
      "needs_background": "light"
     },
     "output_type": "display_data"
    }
   ],
   "source": [
    "plt.hist(accels_ra, density=False, log= True, bins=bn2) #Diaconis binning\n",
    "plt.ylabel('Counts')\n",
    "#plt.xscale('log')\n",
    "plt.xlabel('Acceleration Magnitude (mas/y^2)');\n",
    "plt.title('Histogram of Star Accelerations')\n",
    "print(\"Average acceleration of this sample: \" + str(np.mean(accels_ra)) + \" \")\n",
    "print(\"Largest acceleration of this sample: \" + str(np.max(accels_ra))+ \"\")\n",
    "print(\"Smallest acceleration of this sample: \" + str(np.min(accels_ra))+ \" \")\n",
    "print(\"Variance: \" + str(np.var(accels_ra)))"
   ]
  },
  {
   "cell_type": "code",
   "execution_count": 309,
   "id": "advisory-reconstruction",
   "metadata": {},
   "outputs": [],
   "source": [
    "accels_dec = accels[:,1]"
   ]
  },
  {
   "cell_type": "code",
   "execution_count": 310,
   "id": "parallel-andorra",
   "metadata": {},
   "outputs": [
    {
     "name": "stdout",
     "output_type": "stream",
     "text": [
      "Average acceleration of this sample: -10.527157469066447 \n",
      "Largest acceleration of this sample: 7427.150625031956\n",
      "Smallest acceleration of this sample: -7505.532940547233 \n",
      "Variance: 87153.40403397508\n"
     ]
    },
    {
     "data": {
      "image/png": "[encoded data removed]",
      "text/plain": [
       "<Figure size 432x288 with 1 Axes>"
      ]
     },
     "metadata": {
      "needs_background": "light"
     },
     "output_type": "display_data"
    }
   ],
   "source": [
    "plt.hist(accels_dec, density=False, log= True, bins=bn2) #Diaconis binning\n",
    "plt.ylabel('Counts')\n",
    "#plt.xscale('log')\n",
    "plt.xlabel('Acceleration Magnitude (mas/y^2)');\n",
    "plt.title('Histogram of Star Accelerations')\n",
    "print(\"Average acceleration of this sample: \" + str(np.mean(accels_dec)) + \" \")\n",
    "print(\"Largest acceleration of this sample: \" + str(np.max(accels_dec))+ \"\")\n",
    "print(\"Smallest acceleration of this sample: \" + str(np.min(accels_dec))+ \" \")\n",
    "print(\"Variance: \" + str(np.var(accels_dec)))"
   ]
  },
  {
   "cell_type": "markdown",
   "id": "entitled-flashing",
   "metadata": {},
   "source": [
    "# Looking at an Outlier"
   ]
  },
  {
   "cell_type": "code",
   "execution_count": 225,
   "id": "pharmaceutical-array",
   "metadata": {},
   "outputs": [
    {
     "data": {
      "text/plain": [
       "solution_id                         1636042515805110273\n",
       "designation               Gaia EDR3 5305318052732229632\n",
       "source_id                           5305318052732229632\n",
       "random_index                                 1299445472\n",
       "ref_epoch                                          2016\n",
       "                                      ...              \n",
       "lum_percentile_lower.1                              NaN\n",
       "lum_percentile_upper.1                              NaN\n",
       "ra_2                                             143.38\n",
       "dec_2                                          -59.7749\n",
       "norm                                            1.12901\n",
       "Name: 401833, Length: 196, dtype: object"
      ]
     },
     "execution_count": 225,
     "metadata": {},
     "output_type": "execute_result"
    }
   ],
   "source": [
    "outlier_mag = pair_df.iloc[np.argmax(accel_mags)]\n",
    "outlier_mag"
   ]
  },
  {
   "cell_type": "code",
   "execution_count": 290,
   "id": "available-ridge",
   "metadata": {},
   "outputs": [
    {
     "data": {
      "text/plain": [
       "1922.318573843862"
      ]
     },
     "execution_count": 290,
     "metadata": {},
     "output_type": "execute_result"
    }
   ],
   "source": [
    "mags_ovr_err[np.argmax(accel_mags)]"
   ]
  },
  {
   "cell_type": "code",
   "execution_count": 241,
   "id": "material-newsletter",
   "metadata": {},
   "outputs": [
    {
     "name": "stdout",
     "output_type": "stream",
     "text": [
      "RA :(143.3802495410761, 143.37998562893424)\n",
      "DEC :(-59.774931236870174, -59.77575331251915)\n",
      "PMRA :(-4.24265385608839, -3.255564174985812)\n",
      "PMDEC :(2.943723728975175, 2.5294546763291343)\n",
      "PAR :(-0.3294924148927294, -0.0877150898562728)\n",
      "PHOT_BP :(116.63845984519594, nan)\n",
      "PHOT_RP :(224.08149135729823, nan)\n"
     ]
    }
   ],
   "source": [
    "print('RA :' + str((outlier_mag['ra_2'],outlier_mag['ra.1'])))\n",
    "print('DEC :' + str((outlier_mag['dec_2'],outlier_mag['dec.1'])))\n",
    "print('PMRA :' + str((outlier_mag['pmra'],outlier_mag['pmra.1'])))\n",
    "print('PMDEC :' + str((outlier_mag['pmdec'],outlier_mag['pmdec.1'])))\n",
    "print('PAR :' + str((outlier_mag['parallax'],outlier_mag['parallax.1'])))\n",
    "print('PHOT_BP :' + str((outlier_mag['phot_bp_mean_flux'],outlier_mag['phot_bp_mean_flux.1'])))\n",
    "print('PHOT_RP :' + str((outlier_mag['phot_rp_mean_flux'],outlier_mag['phot_rp_mean_flux.1'])))"
   ]
  },
  {
   "cell_type": "code",
   "execution_count": 263,
   "id": "analyzed-camping",
   "metadata": {},
   "outputs": [
    {
     "data": {
      "image/png": "[encoded data removed]",
      "text/plain": [
       "<Figure size 432x288 with 1 Axes>"
      ]
     },
     "metadata": {
      "needs_background": "light"
     },
     "output_type": "display_data"
    }
   ],
   "source": [
    "ra = [outlier_mag['ra'], outlier_mag['ra_2'],outlier_mag['ra.1']]\n",
    "dec = [outlier_mag['dec'], outlier_mag['dec_2'],outlier_mag['dec.1']]\n",
    "circle = plt.Circle((outlier_mag['ra.1'], outlier_mag['dec.1']), 3*myU.arcsec/myU.degree, edgecolor='red',fill =False)\n",
    "fig, ax = plt.subplots() # note we must use plt.subplots, not plt.subplot\n",
    "ax.add_patch(circle)\n",
    "plt.scatter(ra, dec)\n",
    "plt.show()"
   ]
  },
  {
   "cell_type": "code",
   "execution_count": 229,
   "id": "explicit-surgery",
   "metadata": {},
   "outputs": [
    {
     "data": {
      "text/plain": [
       "solution_id                         1636042515805110273\n",
       "designation               Gaia EDR3 5305007990432892416\n",
       "source_id                           5305007990432892416\n",
       "random_index                                  238294138\n",
       "ref_epoch                                          2016\n",
       "                                      ...              \n",
       "lum_percentile_lower.1                              NaN\n",
       "lum_percentile_upper.1                              NaN\n",
       "ra_2                                            134.741\n",
       "dec_2                                          -55.8755\n",
       "norm                                           0.801091\n",
       "Name: 38064, Length: 196, dtype: object"
      ]
     },
     "execution_count": 229,
     "metadata": {},
     "output_type": "execute_result"
    }
   ],
   "source": [
    "outlier_moe = pair_df.iloc[np.argmax(mags_ovr_err)] #outlier with greatest magnitude over error\n",
    "outlier_moe"
   ]
  },
  {
   "cell_type": "code",
   "execution_count": 242,
   "id": "boring-saudi",
   "metadata": {},
   "outputs": [
    {
     "name": "stdout",
     "output_type": "stream",
     "text": [
      "RA :(134.74095741253237, 134.7405663375493)\n",
      "DEC :(-55.875478034380556, -55.8751441060888)\n",
      "PMRA :(-5.754725688960259, -5.729756034215679)\n",
      "PMDEC :(5.999794957262307, 6.032974202188338)\n",
      "PAR :(0.8696854483576261, 0.8229335605134653)\n",
      "PHOT_BP :(28512.629088805406, nan)\n",
      "PHOT_RP :(40804.77554651215, nan)\n"
     ]
    }
   ],
   "source": [
    "print('RA :' + str((outlier_moe['ra_2'],outlier_moe['ra.1'])))\n",
    "print('DEC :' + str((outlier_moe['dec_2'],outlier_moe['dec.1'])))\n",
    "print('PMRA :' + str((outlier_moe['pmra'],outlier_moe['pmra.1'])))\n",
    "print('PMDEC :' + str((outlier_moe['pmdec'],outlier_moe['pmdec.1'])))\n",
    "print('PAR :' + str((outlier_moe['parallax'],outlier_moe['parallax.1'])))\n",
    "print('PHOT_BP :' + str((outlier_moe['phot_bp_mean_flux'],outlier_moe['phot_bp_mean_flux.1'])))\n",
    "print('PHOT_RP :' + str((outlier_moe['phot_rp_mean_flux'],outlier_moe['phot_rp_mean_flux.1'])))"
   ]
  },
  {
   "cell_type": "code",
   "execution_count": 262,
   "id": "union-local",
   "metadata": {},
   "outputs": [
    {
     "data": {
      "image/png": "[encoded data removed]",
      "text/plain": [
       "<Figure size 432x288 with 1 Axes>"
      ]
     },
     "metadata": {
      "needs_background": "light"
     },
     "output_type": "display_data"
    }
   ],
   "source": [
    "ra = [outlier_moe['ra'], outlier_moe['ra_2'],outlier_moe['ra.1']]\n",
    "dec = [outlier_moe['dec'], outlier_moe['dec_2'],outlier_moe['dec.1']]\n",
    "circle = plt.Circle((outlier_moe['ra.1'], outlier_moe['dec.1']), 3*myU.arcsec/myU.degree, edgecolor='red',fill =False)\n",
    "fig, ax = plt.subplots() # note we must use plt.subplots, not plt.subplot\n",
    "ax.add_patch(circle)\n",
    "plt.scatter(ra, dec)\n",
    "plt.show()"
   ]
  },
  {
   "cell_type": "markdown",
   "id": "ecological-smooth",
   "metadata": {},
   "source": [
    "# Old Stuff"
   ]
  },
  {
   "cell_type": "code",
   "execution_count": 43,
   "id": "07895d6f",
   "metadata": {
    "ExecuteTime": {
     "end_time": "2021-12-14T16:28:54.156274Z",
     "start_time": "2021-12-14T16:28:54.146485Z"
    }
   },
   "outputs": [],
   "source": [
    "def generate_accel_cat(dr3, dr2):\n",
    "    \n",
    "    pairs_list = generate_pairs_list(dr3,dr2)\n",
    "    pair_df = match_pairs(pairs_list)\n",
    "    pair_df = pair_df[~pair_df['pmra'].isna() & ~pair_df['pmra.1'].isna()]\n",
    "    \n",
    "    #making lists of the function inputs.\n",
    "    ra2_list = np.array(pair_df['ra.1'])\n",
    "    ra3_list = np.array(pair_df['ra'])\n",
    "\n",
    "    dec2_list = np.array(pair_df['dec.1'])\n",
    "    dec3_list = np.array(pair_df['dec'])\n",
    "\n",
    "    ra2_error = np.array(pair_df['ra_error.1'])\n",
    "    ra3_error = np.array(pair_df['ra_error'])\n",
    "\n",
    "    dec2_error = np.array(pair_df['dec_error.1'])\n",
    "    dec3_error = np.array(pair_df['dec_error'])\n",
    "    \n",
    "    pmra3 = np.asarray(pair_df['pmra'])\n",
    "    pmdec3 = np.asarray(pair_df['pmdec'])\n",
    "\n",
    "    pmra2 = np.asarray(pair_df['pmra.1'])\n",
    "    pmdec2 = np.asarray(pair_df['pmdec.1'])\n",
    "    \n",
    "    #compute lists of accelerations\n",
    "    accel_ra = hacky_accel_ra(ra2_list, ra3_list, pmra2, pmra3)\n",
    "    accel_dec = hacky_accel_dec(dec2_list, dec3_list, pmdec2, pmdec3)\n",
    "    accel_mag_list = accel_mag(accel_ra, accel_dec)\n",
    "    accel_mag_error_list = hacky_error(ra2_error, dec2_error, ra3_error, dec3_error)\n",
    "    mag_ovr_error = mag_over_error(accel_mag_list, accel_mag_error_list)\n",
    "    \n",
    "    pair_df['accel_ra'] = accel_ra\n",
    "    pair_df['accel_dec'] = accel_dec\n",
    "    pair_df['accel_mag'] = accel_mag_list\n",
    "    pair_df['mag_over_error'] = mag_ovr_error\n",
    "    \n",
    "    return pair_df"
   ]
  },
  {
   "cell_type": "code",
   "execution_count": 50,
   "id": "dd44e719",
   "metadata": {
    "ExecuteTime": {
     "end_time": "2021-12-14T16:44:31.891390Z",
     "start_time": "2021-12-14T16:44:23.632380Z"
    }
   },
   "outputs": [
    {
     "name": "stderr",
     "output_type": "stream",
     "text": [
      "/home/andreas/anaconda3/envs/lens_project/lib/python3.9/site-packages/erfa/core.py:4721: RuntimeWarning: invalid value encountered in pmsafe\n",
      "  ra2, dec2, pmr2, pmd2, px2, rv2, c_retval = ufunc.pmsafe(\n",
      "/home/andreas/anaconda3/envs/lens_project/lib/python3.9/site-packages/erfa/core.py:154: ErfaWarning: ERFA function \"pmsafe\" yielded 55949 of \"solution didn't converge (Note 8)\"\n",
      "  warnings.warn('ERFA function \"{}\" yielded {}'.format(func_name, wmsg),\n",
      "/tmp/ipykernel_111/2254177642.py:8: SettingWithCopyWarning: \n",
      "A value is trying to be set on a copy of a slice from a DataFrame\n",
      "\n",
      "See the caveats in the documentation: https://pandas.pydata.org/pandas-docs/stable/user_guide/indexing.html#returning-a-view-versus-a-copy\n",
      "  first_cut.sort_values(['source_id', 'norm'], ascending = [True, True],inplace=True)\n",
      "/tmp/ipykernel_111/2254177642.py:11: SettingWithCopyWarning: \n",
      "A value is trying to be set on a copy of a slice from a DataFrame\n",
      "\n",
      "See the caveats in the documentation: https://pandas.pydata.org/pandas-docs/stable/user_guide/indexing.html#returning-a-view-versus-a-copy\n",
      "  first_cut.drop_duplicates(subset=['source_id'],keep = 'first', inplace=True)\n",
      "/tmp/ipykernel_111/2254177642.py:15: SettingWithCopyWarning: \n",
      "A value is trying to be set on a copy of a slice from a DataFrame\n",
      "\n",
      "See the caveats in the documentation: https://pandas.pydata.org/pandas-docs/stable/user_guide/indexing.html#returning-a-view-versus-a-copy\n",
      "  first_cut.sort_values(['source_id.1', 'norm'], ascending = [True, True],inplace=True)\n",
      "/tmp/ipykernel_111/2254177642.py:16: SettingWithCopyWarning: \n",
      "A value is trying to be set on a copy of a slice from a DataFrame\n",
      "\n",
      "See the caveats in the documentation: https://pandas.pydata.org/pandas-docs/stable/user_guide/indexing.html#returning-a-view-versus-a-copy\n",
      "  first_cut.drop_duplicates(subset=['source_id.1'],keep = 'first', inplace=True)\n",
      "/tmp/ipykernel_111/2254177642.py:19: SettingWithCopyWarning: \n",
      "A value is trying to be set on a copy of a slice from a DataFrame\n",
      "\n",
      "See the caveats in the documentation: https://pandas.pydata.org/pandas-docs/stable/user_guide/indexing.html#returning-a-view-versus-a-copy\n",
      "  first_cut.sort_values(['source_id', 'norm'], ascending = [True, True],inplace=True)\n"
     ]
    }
   ],
   "source": [
    "accel_cat1 = generate_accel_cat(dr3, dr2)"
   ]
  },
  {
   "cell_type": "code",
   "execution_count": 84,
   "id": "7db07630",
   "metadata": {
    "ExecuteTime": {
     "end_time": "2021-12-14T17:45:16.472483Z",
     "start_time": "2021-12-14T17:45:15.842313Z"
    }
   },
   "outputs": [
    {
     "data": {
      "text/html": [
       "<div>\n",
       "<style scoped>\n",
       "    .dataframe tbody tr th:only-of-type {\n",
       "        vertical-align: middle;\n",
       "    }\n",
       "\n",
       "    .dataframe tbody tr th {\n",
       "        vertical-align: top;\n",
       "    }\n",
       "\n",
       "    .dataframe thead th {\n",
       "        text-align: right;\n",
       "    }\n",
       "</style>\n",
       "<table border=\"1\" class=\"dataframe\">\n",
       "  <thead>\n",
       "    <tr style=\"text-align: right;\">\n",
       "      <th></th>\n",
       "      <th>solution_id</th>\n",
       "      <th>designation</th>\n",
       "      <th>source_id</th>\n",
       "      <th>random_index</th>\n",
       "      <th>ref_epoch</th>\n",
       "      <th>ra</th>\n",
       "      <th>ra_error</th>\n",
       "      <th>dec</th>\n",
       "      <th>dec_error</th>\n",
       "      <th>parallax</th>\n",
       "      <th>...</th>\n",
       "      <th>lum_val.1</th>\n",
       "      <th>lum_percentile_lower.1</th>\n",
       "      <th>lum_percentile_upper.1</th>\n",
       "      <th>ra_2</th>\n",
       "      <th>dec_2</th>\n",
       "      <th>norm</th>\n",
       "      <th>accel_ra</th>\n",
       "      <th>accel_dec</th>\n",
       "      <th>accel_mag</th>\n",
       "      <th>mag_over_error</th>\n",
       "    </tr>\n",
       "  </thead>\n",
       "  <tbody>\n",
       "    <tr>\n",
       "      <th>3</th>\n",
       "      <td>1636042515805110273</td>\n",
       "      <td>Gaia EDR3 5304967682164882432</td>\n",
       "      <td>5304967682164882432</td>\n",
       "      <td>1335312831</td>\n",
       "      <td>2016.0</td>\n",
       "      <td>134.260537</td>\n",
       "      <td>0.178428</td>\n",
       "      <td>-56.437124</td>\n",
       "      <td>0.195209</td>\n",
       "      <td>-0.175690</td>\n",
       "      <td>...</td>\n",
       "      <td>NaN</td>\n",
       "      <td>NaN</td>\n",
       "      <td>NaN</td>\n",
       "      <td>134.260538</td>\n",
       "      <td>-56.437124</td>\n",
       "      <td>2.021810</td>\n",
       "      <td>13.488703</td>\n",
       "      <td>-11.501294</td>\n",
       "      <td>17.726389</td>\n",
       "      <td>16.515249</td>\n",
       "    </tr>\n",
       "    <tr>\n",
       "      <th>5</th>\n",
       "      <td>1636042515805110273</td>\n",
       "      <td>Gaia EDR3 5304967682164882944</td>\n",
       "      <td>5304967682164882944</td>\n",
       "      <td>1444571071</td>\n",
       "      <td>2016.0</td>\n",
       "      <td>134.242473</td>\n",
       "      <td>0.247878</td>\n",
       "      <td>-56.435970</td>\n",
       "      <td>0.257689</td>\n",
       "      <td>0.337269</td>\n",
       "      <td>...</td>\n",
       "      <td>NaN</td>\n",
       "      <td>NaN</td>\n",
       "      <td>NaN</td>\n",
       "      <td>134.242474</td>\n",
       "      <td>-56.435970</td>\n",
       "      <td>1.756193</td>\n",
       "      <td>20.962990</td>\n",
       "      <td>-9.522682</td>\n",
       "      <td>23.024518</td>\n",
       "      <td>15.420132</td>\n",
       "    </tr>\n",
       "    <tr>\n",
       "      <th>6</th>\n",
       "      <td>1636042515805110273</td>\n",
       "      <td>Gaia EDR3 5304967682164884608</td>\n",
       "      <td>5304967682164884608</td>\n",
       "      <td>1746916597</td>\n",
       "      <td>2016.0</td>\n",
       "      <td>134.261234</td>\n",
       "      <td>0.121844</td>\n",
       "      <td>-56.434013</td>\n",
       "      <td>0.139065</td>\n",
       "      <td>0.342005</td>\n",
       "      <td>...</td>\n",
       "      <td>NaN</td>\n",
       "      <td>NaN</td>\n",
       "      <td>NaN</td>\n",
       "      <td>134.261234</td>\n",
       "      <td>-56.434014</td>\n",
       "      <td>2.311549</td>\n",
       "      <td>11.162223</td>\n",
       "      <td>-14.011733</td>\n",
       "      <td>17.914349</td>\n",
       "      <td>23.891971</td>\n",
       "    </tr>\n",
       "    <tr>\n",
       "      <th>7</th>\n",
       "      <td>1636042515805110273</td>\n",
       "      <td>Gaia EDR3 5304967682164884736</td>\n",
       "      <td>5304967682164884736</td>\n",
       "      <td>1517284186</td>\n",
       "      <td>2016.0</td>\n",
       "      <td>134.258238</td>\n",
       "      <td>0.107684</td>\n",
       "      <td>-56.433976</td>\n",
       "      <td>0.121828</td>\n",
       "      <td>0.154727</td>\n",
       "      <td>...</td>\n",
       "      <td>NaN</td>\n",
       "      <td>NaN</td>\n",
       "      <td>NaN</td>\n",
       "      <td>134.258239</td>\n",
       "      <td>-56.433977</td>\n",
       "      <td>2.394400</td>\n",
       "      <td>10.263577</td>\n",
       "      <td>-6.805512</td>\n",
       "      <td>12.314869</td>\n",
       "      <td>18.876732</td>\n",
       "    </tr>\n",
       "    <tr>\n",
       "      <th>8</th>\n",
       "      <td>1636042515805110273</td>\n",
       "      <td>Gaia EDR3 5304967682164884864</td>\n",
       "      <td>5304967682164884864</td>\n",
       "      <td>600221900</td>\n",
       "      <td>2016.0</td>\n",
       "      <td>134.245005</td>\n",
       "      <td>0.070754</td>\n",
       "      <td>-56.434983</td>\n",
       "      <td>0.074656</td>\n",
       "      <td>0.170320</td>\n",
       "      <td>...</td>\n",
       "      <td>NaN</td>\n",
       "      <td>NaN</td>\n",
       "      <td>NaN</td>\n",
       "      <td>134.245006</td>\n",
       "      <td>-56.434983</td>\n",
       "      <td>2.240632</td>\n",
       "      <td>12.078442</td>\n",
       "      <td>-16.675219</td>\n",
       "      <td>20.590087</td>\n",
       "      <td>47.900877</td>\n",
       "    </tr>\n",
       "    <tr>\n",
       "      <th>...</th>\n",
       "      <td>...</td>\n",
       "      <td>...</td>\n",
       "      <td>...</td>\n",
       "      <td>...</td>\n",
       "      <td>...</td>\n",
       "      <td>...</td>\n",
       "      <td>...</td>\n",
       "      <td>...</td>\n",
       "      <td>...</td>\n",
       "      <td>...</td>\n",
       "      <td>...</td>\n",
       "      <td>...</td>\n",
       "      <td>...</td>\n",
       "      <td>...</td>\n",
       "      <td>...</td>\n",
       "      <td>...</td>\n",
       "      <td>...</td>\n",
       "      <td>...</td>\n",
       "      <td>...</td>\n",
       "      <td>...</td>\n",
       "      <td>...</td>\n",
       "    </tr>\n",
       "    <tr>\n",
       "      <th>666015</th>\n",
       "      <td>1636042515805110273</td>\n",
       "      <td>Gaia EDR3 5305504213790885504</td>\n",
       "      <td>5305504213790885504</td>\n",
       "      <td>1362302113</td>\n",
       "      <td>2016.0</td>\n",
       "      <td>144.747969</td>\n",
       "      <td>0.572486</td>\n",
       "      <td>-58.365977</td>\n",
       "      <td>0.623483</td>\n",
       "      <td>-0.647407</td>\n",
       "      <td>...</td>\n",
       "      <td>NaN</td>\n",
       "      <td>NaN</td>\n",
       "      <td>NaN</td>\n",
       "      <td>144.747971</td>\n",
       "      <td>-58.365978</td>\n",
       "      <td>0.690064</td>\n",
       "      <td>36.479946</td>\n",
       "      <td>-9.648157</td>\n",
       "      <td>37.734247</td>\n",
       "      <td>11.148155</td>\n",
       "    </tr>\n",
       "    <tr>\n",
       "      <th>666017</th>\n",
       "      <td>1636042515805110273</td>\n",
       "      <td>Gaia EDR3 5305504213790924672</td>\n",
       "      <td>5305504213790924672</td>\n",
       "      <td>604889548</td>\n",
       "      <td>2016.0</td>\n",
       "      <td>144.755072</td>\n",
       "      <td>0.538898</td>\n",
       "      <td>-58.363640</td>\n",
       "      <td>0.532039</td>\n",
       "      <td>0.913234</td>\n",
       "      <td>...</td>\n",
       "      <td>NaN</td>\n",
       "      <td>NaN</td>\n",
       "      <td>NaN</td>\n",
       "      <td>144.755073</td>\n",
       "      <td>-58.363640</td>\n",
       "      <td>3.479993</td>\n",
       "      <td>15.271458</td>\n",
       "      <td>-14.613921</td>\n",
       "      <td>21.137269</td>\n",
       "      <td>7.298480</td>\n",
       "    </tr>\n",
       "    <tr>\n",
       "      <th>666020</th>\n",
       "      <td>1636042515805110273</td>\n",
       "      <td>Gaia EDR3 5305504213791410432</td>\n",
       "      <td>5305504213791410432</td>\n",
       "      <td>1572829936</td>\n",
       "      <td>2016.0</td>\n",
       "      <td>144.730174</td>\n",
       "      <td>1.126810</td>\n",
       "      <td>-58.362296</td>\n",
       "      <td>1.691526</td>\n",
       "      <td>-0.473630</td>\n",
       "      <td>...</td>\n",
       "      <td>NaN</td>\n",
       "      <td>NaN</td>\n",
       "      <td>NaN</td>\n",
       "      <td>144.730174</td>\n",
       "      <td>-58.362296</td>\n",
       "      <td>1.109263</td>\n",
       "      <td>-5.122595</td>\n",
       "      <td>-7.312608</td>\n",
       "      <td>8.928338</td>\n",
       "      <td>1.174746</td>\n",
       "    </tr>\n",
       "    <tr>\n",
       "      <th>666026</th>\n",
       "      <td>1636042515805110273</td>\n",
       "      <td>Gaia EDR3 5305504213791424640</td>\n",
       "      <td>5305504213791424640</td>\n",
       "      <td>566170440</td>\n",
       "      <td>2016.0</td>\n",
       "      <td>144.753855</td>\n",
       "      <td>0.783709</td>\n",
       "      <td>-58.361383</td>\n",
       "      <td>0.819308</td>\n",
       "      <td>1.215089</td>\n",
       "      <td>...</td>\n",
       "      <td>NaN</td>\n",
       "      <td>NaN</td>\n",
       "      <td>NaN</td>\n",
       "      <td>144.753857</td>\n",
       "      <td>-58.361383</td>\n",
       "      <td>0.986318</td>\n",
       "      <td>29.465180</td>\n",
       "      <td>-13.742266</td>\n",
       "      <td>32.512254</td>\n",
       "      <td>6.916535</td>\n",
       "    </tr>\n",
       "    <tr>\n",
       "      <th>666029</th>\n",
       "      <td>1636042515805110273</td>\n",
       "      <td>Gaia EDR3 5305504213797704704</td>\n",
       "      <td>5305504213797704704</td>\n",
       "      <td>127270849</td>\n",
       "      <td>2016.0</td>\n",
       "      <td>144.737992</td>\n",
       "      <td>0.031281</td>\n",
       "      <td>-58.358070</td>\n",
       "      <td>0.034421</td>\n",
       "      <td>0.190721</td>\n",
       "      <td>...</td>\n",
       "      <td>NaN</td>\n",
       "      <td>NaN</td>\n",
       "      <td>NaN</td>\n",
       "      <td>144.737993</td>\n",
       "      <td>-58.358071</td>\n",
       "      <td>2.683657</td>\n",
       "      <td>20.072647</td>\n",
       "      <td>-9.753200</td>\n",
       "      <td>22.316721</td>\n",
       "      <td>120.982536</td>\n",
       "    </tr>\n",
       "  </tbody>\n",
       "</table>\n",
       "<p>246052 rows × 200 columns</p>\n",
       "</div>"
      ],
      "text/plain": [
       "                solution_id                    designation  \\\n",
       "3       1636042515805110273  Gaia EDR3 5304967682164882432   \n",
       "5       1636042515805110273  Gaia EDR3 5304967682164882944   \n",
       "6       1636042515805110273  Gaia EDR3 5304967682164884608   \n",
       "7       1636042515805110273  Gaia EDR3 5304967682164884736   \n",
       "8       1636042515805110273  Gaia EDR3 5304967682164884864   \n",
       "...                     ...                            ...   \n",
       "666015  1636042515805110273  Gaia EDR3 5305504213790885504   \n",
       "666017  1636042515805110273  Gaia EDR3 5305504213790924672   \n",
       "666020  1636042515805110273  Gaia EDR3 5305504213791410432   \n",
       "666026  1636042515805110273  Gaia EDR3 5305504213791424640   \n",
       "666029  1636042515805110273  Gaia EDR3 5305504213797704704   \n",
       "\n",
       "                  source_id  random_index  ref_epoch          ra  ra_error  \\\n",
       "3       5304967682164882432    1335312831     2016.0  134.260537  0.178428   \n",
       "5       5304967682164882944    1444571071     2016.0  134.242473  0.247878   \n",
       "6       5304967682164884608    1746916597     2016.0  134.261234  0.121844   \n",
       "7       5304967682164884736    1517284186     2016.0  134.258238  0.107684   \n",
       "8       5304967682164884864     600221900     2016.0  134.245005  0.070754   \n",
       "...                     ...           ...        ...         ...       ...   \n",
       "666015  5305504213790885504    1362302113     2016.0  144.747969  0.572486   \n",
       "666017  5305504213790924672     604889548     2016.0  144.755072  0.538898   \n",
       "666020  5305504213791410432    1572829936     2016.0  144.730174  1.126810   \n",
       "666026  5305504213791424640     566170440     2016.0  144.753855  0.783709   \n",
       "666029  5305504213797704704     127270849     2016.0  144.737992  0.031281   \n",
       "\n",
       "              dec  dec_error  parallax  ...  lum_val.1  \\\n",
       "3      -56.437124   0.195209 -0.175690  ...        NaN   \n",
       "5      -56.435970   0.257689  0.337269  ...        NaN   \n",
       "6      -56.434013   0.139065  0.342005  ...        NaN   \n",
       "7      -56.433976   0.121828  0.154727  ...        NaN   \n",
       "8      -56.434983   0.074656  0.170320  ...        NaN   \n",
       "...           ...        ...       ...  ...        ...   \n",
       "666015 -58.365977   0.623483 -0.647407  ...        NaN   \n",
       "666017 -58.363640   0.532039  0.913234  ...        NaN   \n",
       "666020 -58.362296   1.691526 -0.473630  ...        NaN   \n",
       "666026 -58.361383   0.819308  1.215089  ...        NaN   \n",
       "666029 -58.358070   0.034421  0.190721  ...        NaN   \n",
       "\n",
       "        lum_percentile_lower.1  lum_percentile_upper.1        ra_2      dec_2  \\\n",
       "3                          NaN                     NaN  134.260538 -56.437124   \n",
       "5                          NaN                     NaN  134.242474 -56.435970   \n",
       "6                          NaN                     NaN  134.261234 -56.434014   \n",
       "7                          NaN                     NaN  134.258239 -56.433977   \n",
       "8                          NaN                     NaN  134.245006 -56.434983   \n",
       "...                        ...                     ...         ...        ...   \n",
       "666015                     NaN                     NaN  144.747971 -58.365978   \n",
       "666017                     NaN                     NaN  144.755073 -58.363640   \n",
       "666020                     NaN                     NaN  144.730174 -58.362296   \n",
       "666026                     NaN                     NaN  144.753857 -58.361383   \n",
       "666029                     NaN                     NaN  144.737993 -58.358071   \n",
       "\n",
       "            norm   accel_ra  accel_dec  accel_mag  mag_over_error  \n",
       "3       2.021810  13.488703 -11.501294  17.726389       16.515249  \n",
       "5       1.756193  20.962990  -9.522682  23.024518       15.420132  \n",
       "6       2.311549  11.162223 -14.011733  17.914349       23.891971  \n",
       "7       2.394400  10.263577  -6.805512  12.314869       18.876732  \n",
       "8       2.240632  12.078442 -16.675219  20.590087       47.900877  \n",
       "...          ...        ...        ...        ...             ...  \n",
       "666015  0.690064  36.479946  -9.648157  37.734247       11.148155  \n",
       "666017  3.479993  15.271458 -14.613921  21.137269        7.298480  \n",
       "666020  1.109263  -5.122595  -7.312608   8.928338        1.174746  \n",
       "666026  0.986318  29.465180 -13.742266  32.512254        6.916535  \n",
       "666029  2.683657  20.072647  -9.753200  22.316721      120.982536  \n",
       "\n",
       "[246052 rows x 200 columns]"
      ]
     },
     "execution_count": 84,
     "metadata": {},
     "output_type": "execute_result"
    }
   ],
   "source": [
    "accel_cat1"
   ]
  },
  {
   "cell_type": "code",
   "execution_count": 61,
   "id": "c267f453",
   "metadata": {
    "ExecuteTime": {
     "end_time": "2021-12-14T16:49:25.472616Z",
     "start_time": "2021-12-14T16:49:25.461757Z"
    }
   },
   "outputs": [],
   "source": [
    "outlier = accel_cat1.iloc[np.argmax(accel_cat1['mag_over_error'])]"
   ]
  },
  {
   "cell_type": "code",
   "execution_count": 79,
   "id": "d54184ac",
   "metadata": {
    "ExecuteTime": {
     "end_time": "2021-12-14T16:58:56.239558Z",
     "start_time": "2021-12-14T16:58:56.235416Z"
    }
   },
   "outputs": [],
   "source": [
    "outl3 = [outlier['ra'], outlier['dec'], outlier['pmra'], outlier['pmdec'], outlier['parallax'], outlier['phot_bp_mean_flux'], outlier['phot_rp_mean_flux'] ]"
   ]
  },
  {
   "cell_type": "code",
   "execution_count": 80,
   "id": "d055ee41",
   "metadata": {
    "ExecuteTime": {
     "end_time": "2021-12-14T16:58:56.666689Z",
     "start_time": "2021-12-14T16:58:56.659054Z"
    }
   },
   "outputs": [
    {
     "data": {
      "text/plain": [
       "[134.74095598779627,\n",
       " -55.8754772010757,\n",
       " -5.754725688960259,\n",
       " 5.999794957262308,\n",
       " 0.8696854483576261,\n",
       " 28512.629088805403,\n",
       " 40804.77554651215]"
      ]
     },
     "execution_count": 80,
     "metadata": {},
     "output_type": "execute_result"
    }
   ],
   "source": [
    "outl3"
   ]
  },
  {
   "cell_type": "code",
   "execution_count": null,
   "id": "e7e77df4",
   "metadata": {},
   "outputs": [],
   "source": []
  },
  {
   "cell_type": "code",
   "execution_count": 81,
   "id": "305844de",
   "metadata": {
    "ExecuteTime": {
     "end_time": "2021-12-14T16:59:27.497401Z",
     "start_time": "2021-12-14T16:59:27.492913Z"
    }
   },
   "outputs": [],
   "source": [
    "outl2 = [outlier['ra.1'], outlier['dec.1'], outlier['pmra.1'], outlier['pmdec.1'], outlier['parallax.1'], outlier['phot_bp_mean_flux.1'], outlier['phot_rp_mean_flux.1'] ]"
   ]
  },
  {
   "cell_type": "code",
   "execution_count": 82,
   "id": "2a417beb",
   "metadata": {
    "ExecuteTime": {
     "end_time": "2021-12-14T16:59:33.238660Z",
     "start_time": "2021-12-14T16:59:33.232976Z"
    }
   },
   "outputs": [
    {
     "data": {
      "text/plain": [
       "[134.7405663375493,\n",
       " -55.8751441060888,\n",
       " -5.72975603421568,\n",
       " 6.032974202188338,\n",
       " 0.8229335605134653,\n",
       " nan,\n",
       " nan]"
      ]
     },
     "execution_count": 82,
     "metadata": {},
     "output_type": "execute_result"
    }
   ],
   "source": [
    "outl2"
   ]
  },
  {
   "cell_type": "code",
   "execution_count": 83,
   "id": "cb2f1d4a",
   "metadata": {
    "ExecuteTime": {
     "end_time": "2021-12-14T17:00:09.760571Z",
     "start_time": "2021-12-14T17:00:09.754927Z"
    }
   },
   "outputs": [
    {
     "data": {
      "text/plain": [
       "0.8011048698785528"
      ]
     },
     "execution_count": 83,
     "metadata": {},
     "output_type": "execute_result"
    }
   ],
   "source": [
    "outlier['norm']"
   ]
  },
  {
   "cell_type": "markdown",
   "id": "2567e39d",
   "metadata": {},
   "source": [
    "# Plots"
   ]
  },
  {
   "cell_type": "code",
   "execution_count": 68,
   "id": "706abeba",
   "metadata": {
    "ExecuteTime": {
     "end_time": "2021-12-14T16:55:04.565472Z",
     "start_time": "2021-12-14T16:55:04.557172Z"
    }
   },
   "outputs": [],
   "source": [
    "accel_mag_list = np.asarray(accel_cat['accel_mag'])\n",
    "accel_ra_list =  np.asarray(accel_cat['accel_ra'])\n",
    "accel_dec_list = np.asarray(accel_cat['accel_dec'])\n",
    "mag_ovr_error = np.asarray(accel_cat['mag_over_error'])\n",
    "bn = np.logspace(-1,4.5,200)"
   ]
  },
  {
   "cell_type": "code",
   "execution_count": null,
   "id": "9f65e1ed",
   "metadata": {},
   "outputs": [],
   "source": []
  },
  {
   "cell_type": "markdown",
   "id": "65bd1a14",
   "metadata": {},
   "source": [
    "Acceleration Magnitude:"
   ]
  },
  {
   "cell_type": "code",
   "execution_count": 171,
   "id": "6804373c",
   "metadata": {
    "ExecuteTime": {
     "end_time": "2021-12-14T17:48:46.628484Z",
     "start_time": "2021-12-14T17:48:46.112568Z"
    }
   },
   "outputs": [
    {
     "ename": "NameError",
     "evalue": "name 'mag_ovr_error' is not defined",
     "output_type": "error",
     "traceback": [
      "\u001b[0;31m---------------------------------------------------------------------------\u001b[0m",
      "\u001b[0;31mNameError\u001b[0m                                 Traceback (most recent call last)",
      "\u001b[0;32m<ipython-input-171-0683dc6c4926>\u001b[0m in \u001b[0;36m<module>\u001b[0;34m\u001b[0m\n\u001b[0;32m----> 1\u001b[0;31m \u001b[0mplt\u001b[0m\u001b[0;34m.\u001b[0m\u001b[0mhist\u001b[0m\u001b[0;34m(\u001b[0m\u001b[0mmag_ovr_error\u001b[0m\u001b[0;34m,\u001b[0m \u001b[0mdensity\u001b[0m\u001b[0;34m=\u001b[0m\u001b[0;32mFalse\u001b[0m\u001b[0;34m,\u001b[0m \u001b[0mlog\u001b[0m\u001b[0;34m=\u001b[0m \u001b[0;32mTrue\u001b[0m\u001b[0;34m,\u001b[0m \u001b[0mbins\u001b[0m\u001b[0;34m=\u001b[0m\u001b[0mbn\u001b[0m\u001b[0;34m)\u001b[0m \u001b[0;31m#Diaconis binning\u001b[0m\u001b[0;34m\u001b[0m\u001b[0;34m\u001b[0m\u001b[0m\n\u001b[0m\u001b[1;32m      2\u001b[0m \u001b[0mplt\u001b[0m\u001b[0;34m.\u001b[0m\u001b[0mylabel\u001b[0m\u001b[0;34m(\u001b[0m\u001b[0;34m'Counts'\u001b[0m\u001b[0;34m)\u001b[0m\u001b[0;34m\u001b[0m\u001b[0;34m\u001b[0m\u001b[0m\n\u001b[1;32m      3\u001b[0m \u001b[0mplt\u001b[0m\u001b[0;34m.\u001b[0m\u001b[0mxlabel\u001b[0m\u001b[0;34m(\u001b[0m\u001b[0;34m'Acceleration Magnitude (mas/y^2)'\u001b[0m\u001b[0;34m)\u001b[0m\u001b[0;34m;\u001b[0m\u001b[0;34m\u001b[0m\u001b[0;34m\u001b[0m\u001b[0m\n\u001b[1;32m      4\u001b[0m \u001b[0mplt\u001b[0m\u001b[0;34m.\u001b[0m\u001b[0mtitle\u001b[0m\u001b[0;34m(\u001b[0m\u001b[0;34m'Histogram of Star Accelerations (RUWE < 1.4)'\u001b[0m\u001b[0;34m)\u001b[0m\u001b[0;34m\u001b[0m\u001b[0;34m\u001b[0m\u001b[0m\n\u001b[1;32m      5\u001b[0m \u001b[0mprint\u001b[0m\u001b[0;34m(\u001b[0m\u001b[0;34m\"Average acceleration of this sample: \"\u001b[0m \u001b[0;34m+\u001b[0m \u001b[0mstr\u001b[0m\u001b[0;34m(\u001b[0m\u001b[0mnp\u001b[0m\u001b[0;34m.\u001b[0m\u001b[0mmean\u001b[0m\u001b[0;34m(\u001b[0m\u001b[0maccel_mag_list\u001b[0m\u001b[0;34m)\u001b[0m\u001b[0;34m)\u001b[0m \u001b[0;34m+\u001b[0m \u001b[0;34m\" \"\u001b[0m\u001b[0;34m)\u001b[0m\u001b[0;34m\u001b[0m\u001b[0;34m\u001b[0m\u001b[0m\n",
      "\u001b[0;31mNameError\u001b[0m: name 'mag_ovr_error' is not defined"
     ]
    }
   ],
   "source": [
    "plt.hist(mag_ovr_error, density=False, log= True, bins=bn) #Diaconis binning\n",
    "plt.ylabel('Counts')\n",
    "plt.xlabel('Acceleration Magnitude (mas/y^2)');\n",
    "plt.title('Histogram of Star Accelerations (RUWE < 1.4)')\n",
    "print(\"Average acceleration of this sample: \" + str(np.mean(accel_mag_list)) + \" \")\n",
    "print(\"Largest acceleration of this sample: \" + str(np.max(accel_mag_list))+ \"\")\n",
    "print(\"Smallest acceleration of this sample: \" + str(np.min(accel_mag_list))+ \" \")\n",
    "print(\"Variance: \" + str(np.var(accel_mag_list)))"
   ]
  },
  {
   "cell_type": "code",
   "execution_count": 70,
   "id": "4c5be22f",
   "metadata": {
    "ExecuteTime": {
     "end_time": "2021-12-14T16:55:08.071128Z",
     "start_time": "2021-12-14T16:55:08.064710Z"
    }
   },
   "outputs": [],
   "source": [
    "accel_mag_list = np.asarray(accel_cat1['accel_mag'])\n",
    "accel_ra_list =  np.asarray(accel_cat1['accel_ra'])\n",
    "accel_dec_list = np.asarray(accel_cat1['accel_dec'])\n",
    "mag_ovr_error = np.asarray(accel_cat1['mag_over_error'])\n",
    "bn = np.logspace(-1,4.5,200)"
   ]
  },
  {
   "cell_type": "code",
   "execution_count": 71,
   "id": "13f2baa8",
   "metadata": {
    "ExecuteTime": {
     "end_time": "2021-12-14T16:55:09.239670Z",
     "start_time": "2021-12-14T16:55:08.434328Z"
    }
   },
   "outputs": [
    {
     "name": "stdout",
     "output_type": "stream",
     "text": [
      "Average acceleration of this sample: 59.71054906487432 \n",
      "Largest acceleration of this sample: 14871.699116892905\n",
      "Smallest acceleration of this sample: 0.043103822095201236 \n",
      "Variance: 330986.6540340782\n"
     ]
    },
    {
     "data": {
      "image/png": "[encoded data removed]",
      "text/plain": [
       "<Figure size 432x288 with 1 Axes>"
      ]
     },
     "metadata": {
      "needs_background": "light"
     },
     "output_type": "display_data"
    }
   ],
   "source": [
    "plt.hist(mag_ovr_error, density=False, log= True, bins=bn) #Diaconis binning\n",
    "plt.ylabel('Counts')\n",
    "plt.xscale('log')\n",
    "plt.xlabel('Acceleration Magnitude (mas/y^2)');\n",
    "plt.title('Histogram of Star Accelerations')\n",
    "print(\"Average acceleration of this sample: \" + str(np.mean(accel_mag_list)) + \" \")\n",
    "print(\"Largest acceleration of this sample: \" + str(np.max(accel_mag_list))+ \"\")\n",
    "print(\"Smallest acceleration of this sample: \" + str(np.min(accel_mag_list))+ \" \")\n",
    "print(\"Variance: \" + str(np.var(accel_mag_list)))"
   ]
  },
  {
   "cell_type": "markdown",
   "id": "99ef95b2",
   "metadata": {},
   "source": [
    "Acceleration in Right Ascension"
   ]
  },
  {
   "cell_type": "code",
   "execution_count": 47,
   "id": "756cf913",
   "metadata": {
    "ExecuteTime": {
     "end_time": "2021-12-14T16:29:11.043333Z",
     "start_time": "2021-12-14T16:29:09.919887Z"
    }
   },
   "outputs": [
    {
     "name": "stdout",
     "output_type": "stream",
     "text": [
      "Average acceleration of this sample: 16.13538535839183 \n",
      "Largest acceleration of this sample: 14870.837519973327\n",
      "Smallest acceleration of this sample: -14797.483478447055 \n",
      "Variance: 261672.48118405524\n"
     ]
    },
    {
     "data": {
      "image/png": "[encoded data removed]",
      "text/plain": [
       "<Figure size 432x288 with 1 Axes>"
      ]
     },
     "metadata": {
      "needs_background": "light"
     },
     "output_type": "display_data"
    }
   ],
   "source": [
    "plt.hist(accel_ra_list, density=False, log= True, bins=bn) #Diaconis binning\n",
    "plt.ylabel('Probability')\n",
    "plt.xscale('log')\n",
    "plt.xlabel('Acceleration RA (mas/y^2)');\n",
    "plt.title('Histogram of Star Accelerations')\n",
    "print(\"Average acceleration of this sample: \" + str(np.mean(accel_ra_list)) + \" \")\n",
    "print(\"Largest acceleration of this sample: \" + str(max(accel_ra_list))+ \"\")\n",
    "print(\"Smallest acceleration of this sample: \" + str(min(accel_ra_list))+ \" \")\n",
    "print(\"Variance: \" + str(np.var(accel_ra_list)))"
   ]
  },
  {
   "cell_type": "code",
   "execution_count": 48,
   "id": "41228fa7",
   "metadata": {
    "ExecuteTime": {
     "end_time": "2021-12-14T16:29:11.932343Z",
     "start_time": "2021-12-14T16:29:11.045739Z"
    }
   },
   "outputs": [
    {
     "name": "stdout",
     "output_type": "stream",
     "text": [
      "Average acceleration of this sample: -10.427068468783737 \n",
      "Largest acceleration of this sample: 7427.150625031959\n",
      "Smallest acceleration of this sample: -7505.532940547233 \n",
      "Variance: 72510.4481021351\n"
     ]
    },
    {
     "data": {
      "image/png": "[encoded data removed]",
      "text/plain": [
       "<Figure size 432x288 with 1 Axes>"
      ]
     },
     "metadata": {
      "needs_background": "light"
     },
     "output_type": "display_data"
    }
   ],
   "source": [
    "plt.hist(accel_dec_list, density=False, log= True, bins=bn) #Diaconis binning\n",
    "plt.ylabel('Probability')\n",
    "plt.xscale('log')\n",
    "plt.xlabel('Acceleration DEC (mas/y^2)');\n",
    "plt.title('Histogram of Star Accelerations')\n",
    "print(\"Average acceleration of this sample: \" + str(np.mean(accel_dec_list)) + \" \")\n",
    "print(\"Largest acceleration of this sample: \" + str(max(accel_dec_list))+ \"\")\n",
    "print(\"Smallest acceleration of this sample: \" + str(min(accel_dec_list))+ \" \")\n",
    "print(\"Variance: \" + str(np.var(accel_dec_list)))"
   ]
  }
 ],
 "metadata": {
  "kernelspec": {
   "display_name": "Python 3",
   "language": "python",
   "name": "python3"
  },
  "language_info": {
   "codemirror_mode": {
    "name": "ipython",
    "version": 3
   },
   "file_extension": ".py",
   "mimetype": "text/x-python",
   "name": "python",
   "nbconvert_exporter": "python",
   "pygments_lexer": "ipython3",
   "version": "3.8.8"
  }
 },
 "nbformat": 4,
 "nbformat_minor": 5
}
