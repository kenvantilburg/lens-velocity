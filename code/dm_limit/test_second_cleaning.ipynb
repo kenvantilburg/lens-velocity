{
 "cells": [
  {
   "cell_type": "code",
   "execution_count": 1,
   "metadata": {
    "execution": {
     "iopub.execute_input": "2021-11-19T16:34:01.191750Z",
     "iopub.status.busy": "2021-11-19T16:34:01.191625Z",
     "iopub.status.idle": "2021-11-19T16:34:02.265899Z",
     "shell.execute_reply": "2021-11-19T16:34:02.265551Z",
     "shell.execute_reply.started": "2021-11-19T16:34:01.191715Z"
    }
   },
   "outputs": [],
   "source": [
    "from my_units import * \n",
    "from angular_fn import *\n",
    "from data_cleaning_fn import *\n",
    "from sky_patch_class import *\n",
    "\n",
    "HomeDir = '../../'\n",
    "DataDir = '../../../../data/' ### Set this to the directory where you store your data files\n",
    "ListDir = HomeDir+'lists/'\n",
    "FigDir = HomeDir+'figs/'"
   ]
  },
  {
   "cell_type": "markdown",
   "metadata": {},
   "source": [
    "# Example of iterative background subtraction and computation of the effective weights"
   ]
  },
  {
   "cell_type": "markdown",
   "metadata": {},
   "source": [
    "## Preamble"
   ]
  },
  {
   "cell_type": "code",
   "execution_count": 2,
   "metadata": {
    "execution": {
     "iopub.execute_input": "2021-11-19T16:34:02.348316Z",
     "iopub.status.busy": "2021-11-19T16:34:02.348051Z",
     "iopub.status.idle": "2021-11-19T16:34:02.360700Z",
     "shell.execute_reply": "2021-11-19T16:34:02.359992Z",
     "shell.execute_reply.started": "2021-11-19T16:34:02.348293Z"
    }
   },
   "outputs": [],
   "source": [
    "### Define the patch on the sky where the analysis is done. Currently only works with a circle selection on the sphere.\n",
    "#sky_p = sky_patch(81.28, -69.78, 5*degree, 50*kpc, 'LMC_disc_5', np.array([1.871, 0.391]), pm_esc=0.2) ### For the LMC\n",
    "sky_p = sky_patch(12.80, -73.15, 4*degree, 60*kpc, 'SMC_disc_4', np.array([0.686, -1.237]), pm_esc=0.2) ### For the SMC"
   ]
  },
  {
   "cell_type": "code",
   "execution_count": 3,
   "metadata": {
    "execution": {
     "iopub.execute_input": "2021-11-19T16:34:02.891235Z",
     "iopub.status.busy": "2021-11-19T16:34:02.890889Z",
     "iopub.status.idle": "2021-11-19T16:34:02.900348Z",
     "shell.execute_reply": "2021-11-19T16:34:02.897005Z",
     "shell.execute_reply.started": "2021-11-19T16:34:02.891201Z"
    }
   },
   "outputs": [],
   "source": [
    "### Parameters for data cleaning\n",
    "beta_kernel_sub_0 = 0.1*degree; beta_kernel_sub = 0.06*degree;   # gaussian kernels for background subtraction \n",
    "n_sigma_out = 3;                                                 # number of sigmas for outlier removal\n",
    "n_iter_sub = 3;                                                  # number of iterations for the background subtraction\n",
    "disc_radius_no_edge = sky_p.disc_radius - beta_kernel_sub_0 - (n_iter_sub+1)*beta_kernel_sub\n",
    "gmag_bin_size=0.1; rad_bin_size=1                                # g mag and radial bins used to compute the effective dispersion"
   ]
  },
  {
   "cell_type": "code",
   "execution_count": 4,
   "metadata": {
    "execution": {
     "iopub.execute_input": "2021-11-19T16:34:04.256642Z",
     "iopub.status.busy": "2021-11-19T16:34:04.256286Z",
     "iopub.status.idle": "2021-11-19T16:34:10.318047Z",
     "shell.execute_reply": "2021-11-19T16:34:10.317585Z",
     "shell.execute_reply.started": "2021-11-19T16:34:04.256609Z"
    }
   },
   "outputs": [
    {
     "data": {
      "text/plain": [
       "(2419001, 22)"
      ]
     },
     "execution_count": 4,
     "metadata": {},
     "output_type": "execute_result"
    }
   ],
   "source": [
    "### Import the data\n",
    "data = pd.read_csv(DataDir+sky_p.data_file_name+'_clean.csv')  \n",
    "data.shape"
   ]
  },
  {
   "cell_type": "markdown",
   "metadata": {},
   "source": [
    "## Execution"
   ]
  },
  {
   "cell_type": "code",
   "execution_count": 5,
   "metadata": {
    "execution": {
     "iopub.execute_input": "2021-11-19T16:34:10.319204Z",
     "iopub.status.busy": "2021-11-19T16:34:10.319091Z",
     "iopub.status.idle": "2021-11-19T16:34:25.237327Z",
     "shell.execute_reply": "2021-11-19T16:34:25.236546Z",
     "shell.execute_reply.started": "2021-11-19T16:34:10.319191Z"
    }
   },
   "outputs": [],
   "source": [
    "### Subtract the average pm and parallax and remove the outliers using a gaussian distance kernel of size beta_kernel_sub_0 = 0.06 deg, iterating 3 times\n",
    "### Prepare the data for the iterative background subtraction and outlier removal\n",
    "disc_pix, nb_pixel_list, n = fn_prepare_back_sub(data, sky_p.disc_center, sky_p.disc_radius, beta_kernel_sub)"
   ]
  },
  {
   "cell_type": "code",
   "execution_count": 6,
   "metadata": {
    "execution": {
     "iopub.execute_input": "2021-11-19T16:34:25.247130Z",
     "iopub.status.busy": "2021-11-19T16:34:25.247007Z",
     "iopub.status.idle": "2021-11-19T16:41:32.915472Z",
     "shell.execute_reply": "2021-11-19T16:41:32.913916Z",
     "shell.execute_reply.started": "2021-11-19T16:34:25.247117Z"
    }
   },
   "outputs": [
    {
     "name": "stdout",
     "output_type": "stream",
     "text": [
      "sub is set to True.\n"
     ]
    },
    {
     "name": "stderr",
     "output_type": "stream",
     "text": [
      "100%|██████████| 246575/246575 [01:31<00:00, 2687.16it/s]\n"
     ]
    },
    {
     "name": "stdout",
     "output_type": "stream",
     "text": [
      "Iter 0 -- fraction of outliers removed: 3.76361 %\n",
      "sub is set to True.\n"
     ]
    },
    {
     "name": "stderr",
     "output_type": "stream",
     "text": [
      "100%|██████████| 246575/246575 [01:33<00:00, 2625.05it/s]\n"
     ]
    },
    {
     "name": "stdout",
     "output_type": "stream",
     "text": [
      "Iter 1 -- fraction of outliers removed: 0.01529 %\n",
      "sub is set to True.\n"
     ]
    },
    {
     "name": "stderr",
     "output_type": "stream",
     "text": [
      "100%|██████████| 246575/246575 [01:32<00:00, 2666.46it/s]\n"
     ]
    },
    {
     "name": "stdout",
     "output_type": "stream",
     "text": [
      "Iter 2 -- fraction of outliers removed: 0.00893 %\n",
      "sub is set to True.\n"
     ]
    },
    {
     "name": "stderr",
     "output_type": "stream",
     "text": [
      "100%|██████████| 246575/246575 [01:34<00:00, 2606.43it/s]\n"
     ]
    },
    {
     "data": {
      "text/plain": [
       "(2327395, 23)"
      ]
     },
     "execution_count": 6,
     "metadata": {},
     "output_type": "execute_result"
    }
   ],
   "source": [
    "### Iterative background subtraction and outlier removal\n",
    "for i in range(n_iter_sub):\n",
    "    fn_back_field_sub(data, disc_pix, nb_pixel_list, n, beta_kernel=beta_kernel_sub, sub=True) ### sub=True can be used only after this function has been already called once with sub=False\n",
    "    data, f_out = fn_rem_outliers(data, sky_p.pm_esc, sky_p.distance/kpc, n_sigma_out)\n",
    "    #data, f_out = fn_rem_outliers(data, sky_p.pm_esc, 50, n_sigma_out) ### this is what I was using before\n",
    "    print('Iter '+str(i)+' -- fraction of outliers removed: '+str(f_out*100)[:7]+' %')\n",
    "    \n",
    "fn_back_field_sub(data, disc_pix, nb_pixel_list, n, beta_kernel=beta_kernel_sub, sub=True)\n",
    "data.shape"
   ]
  },
  {
   "cell_type": "code",
   "execution_count": 7,
   "metadata": {
    "execution": {
     "iopub.execute_input": "2021-11-19T16:45:11.149968Z",
     "iopub.status.busy": "2021-11-19T16:45:11.149457Z",
     "iopub.status.idle": "2021-11-19T16:45:12.842140Z",
     "shell.execute_reply": "2021-11-19T16:45:12.841660Z",
     "shell.execute_reply.started": "2021-11-19T16:45:11.149943Z"
    }
   },
   "outputs": [
    {
     "data": {
      "text/plain": [
       "(2296580, 23)"
      ]
     },
     "execution_count": 7,
     "metadata": {},
     "output_type": "execute_result"
    }
   ],
   "source": [
    "### Remove stars at the boundary to avoid edge effects due to gaussian kernel field subtraction\n",
    "data = fn_rem_edges(data, sky_p.disc_center, disc_radius_no_edge)\n",
    "data.shape ### it used to be (2296652, 23)"
   ]
  },
  {
   "cell_type": "code",
   "execution_count": 8,
   "metadata": {
    "execution": {
     "iopub.execute_input": "2021-11-19T16:45:36.080883Z",
     "iopub.status.busy": "2021-11-19T16:45:36.080265Z",
     "iopub.status.idle": "2021-11-19T16:45:37.424896Z",
     "shell.execute_reply": "2021-11-19T16:45:37.424545Z",
     "shell.execute_reply.started": "2021-11-19T16:45:36.080852Z"
    }
   },
   "outputs": [
    {
     "data": {
      "text/plain": [
       "(2296580, 25)"
      ]
     },
     "execution_count": 8,
     "metadata": {},
     "output_type": "execute_result"
    }
   ],
   "source": [
    "### Compute the effective weights\n",
    "fn_effective_w(data, sky_p.disc_center, gmag_bin_size, rad_bin_size)\n",
    "data.shape"
   ]
  },
  {
   "cell_type": "code",
   "execution_count": 88,
   "metadata": {
    "execution": {
     "iopub.execute_input": "2021-10-15T18:36:36.279916Z",
     "iopub.status.busy": "2021-10-15T18:36:36.279544Z",
     "iopub.status.idle": "2021-10-15T18:38:04.930293Z",
     "shell.execute_reply": "2021-10-15T18:38:04.929296Z",
     "shell.execute_reply.started": "2021-10-15T18:36:36.279882Z"
    }
   },
   "outputs": [],
   "source": [
    "# Exporting the final data file as a csv file\n",
    "#data.to_csv(DataDir+sky_p.data_file_name+'_final.csv', index=False)"
   ]
  },
  {
   "cell_type": "code",
   "execution_count": 89,
   "metadata": {
    "execution": {
     "iopub.execute_input": "2021-10-15T18:40:32.264112Z",
     "iopub.status.busy": "2021-10-15T18:40:32.262317Z",
     "iopub.status.idle": "2021-10-15T18:40:32.969961Z",
     "shell.execute_reply": "2021-10-15T18:40:32.969574Z",
     "shell.execute_reply.started": "2021-10-15T18:40:32.264059Z"
    }
   },
   "outputs": [],
   "source": [
    "### Export the final data for the template scan - saving to a npy file makes it much faster to upload.\n",
    "### Saving only the quantities that will be used to compute the template\n",
    "#np.save(DataDir+sky_p.data_file_name+'_final', np.array([data['ra'].to_numpy(), data['dec'].to_numpy(), data['ecl_lon'].to_numpy(), data['ecl_lat'].to_numpy(), \n",
    "#                                                         (data['pm_eff_error'].to_numpy())**2, data['pmra_sub'].to_numpy()/data['pm_eff_error'].to_numpy()**2, data['pmdec_sub'].to_numpy()/data['pm_eff_error'].to_numpy()**2,\n",
    "#                                                         (data['parallax_eff_error'].to_numpy())**2, data['parallax_sub'].to_numpy()/data['parallax_eff_error'].to_numpy()**2]).T)"
   ]
  }
 ],
 "metadata": {
  "kernelspec": {
   "display_name": "Python 3",
   "language": "python",
   "name": "python3"
  },
  "language_info": {
   "codemirror_mode": {
    "name": "ipython",
    "version": 3
   },
   "file_extension": ".py",
   "mimetype": "text/x-python",
   "name": "python",
   "nbconvert_exporter": "python",
   "pygments_lexer": "ipython3",
   "version": "3.8.5"
  }
 },
 "nbformat": 4,
 "nbformat_minor": 4
}
