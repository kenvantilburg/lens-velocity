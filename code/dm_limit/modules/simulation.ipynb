{
 "cells": [
  {
   "cell_type": "code",
   "execution_count": 1,
   "metadata": {
    "execution": {
     "iopub.execute_input": "2022-01-10T20:51:35.048008Z",
     "iopub.status.busy": "2022-01-10T20:51:35.047587Z",
     "iopub.status.idle": "2022-01-10T20:51:36.916747Z",
     "shell.execute_reply": "2022-01-10T20:51:36.916331Z",
     "shell.execute_reply.started": "2022-01-10T20:51:35.047900Z"
    }
   },
   "outputs": [],
   "source": [
    "from time import time as tictoc\n",
    "import sys\n",
    "from sky_patch_class import *\n",
    "from my_units import * \n",
    "from angular_fn import *\n",
    "from template_fn import *\n",
    "from sim_setup_fn import *\n",
    "from sim_injection_fn import *\n",
    "from data_cleaning_fn import *\n",
    "from sim_analysis_fn import *\n",
    "\n",
    "HomeDir = '../'\n",
    "DataDir = HomeDir+'data/'\n",
    "ListDir = HomeDir+'lists/'\n",
    "ListResDir = HomeDir+'lists/sim/'"
   ]
  },
  {
   "cell_type": "markdown",
   "metadata": {},
   "source": [
    "Notebook to run the simulation for a given paramter space point (M_l, r_l, f_l) on a given stellar target (LMC or SMC). This notebook should be converted to a python script and run on a cluster. Some parameters for the simulation are read in from the command line. For example, the python script to do the 0-th simulation on the LMC for (M_l, r_l, f_l) = (10^8 M_solar, 1 pc, 1) should be run as:\n",
    "\n",
    "python simulation.py LMC 80 30 30 0\n",
    "\n",
    "Takes as input:\n",
    "* data_file_name+'_clean.npy', the cleaned data generated in the notebook data_cleaning.ipynb\n",
    "\n",
    "where data_file_name are 'LMC_disc_5' or 'SMC_disc_4'. Generate as output the minumum chi^2 (optimal test statistic) with its corresponding beta_t value and location, i.e.\n",
    "* data_file_name+'_80_30_30_0.csv'"
   ]
  },
  {
   "cell_type": "markdown",
   "metadata": {},
   "source": [
    "# Automatic simulation evaluation"
   ]
  },
  {
   "cell_type": "markdown",
   "metadata": {},
   "source": [
    "## Preamble"
   ]
  },
  {
   "cell_type": "code",
   "execution_count": 3,
   "metadata": {
    "execution": {
     "iopub.execute_input": "2022-01-10T20:51:36.922496Z",
     "iopub.status.busy": "2022-01-10T20:51:36.922408Z",
     "iopub.status.idle": "2022-01-10T20:51:36.936773Z",
     "shell.execute_reply": "2022-01-10T20:51:36.936323Z",
     "shell.execute_reply.started": "2022-01-10T20:51:36.922484Z"
    }
   },
   "outputs": [],
   "source": [
    "tic = tictoc()\n",
    "\n",
    "### Define the sky patches used for the analysis\n",
    "### Parameters taken from the paper Gaia Early Data Release 3: Structure and properties of the Magellanic Clouds (see Table 4)\n",
    "LMC_sky_patch = sky_patch(81.28, -69.78, 5*degree, 50*kpc, 'LMC_disc_5', np.array([1.871, 0.391]), pm_esc = 0.2, sigma_pm = 0.125)\n",
    "SMC_sky_patch = sky_patch(12.80, -73.15, 4*degree, 60*kpc, 'SMC_disc_4', np.array([0.686, -1.237]), pm_esc = 0.2, sigma_pm = 0.105)\n",
    "\n",
    "all_sky_patches = [LMC_sky_patch, SMC_sky_patch]"
   ]
  },
  {
   "cell_type": "code",
   "execution_count": null,
   "metadata": {},
   "outputs": [],
   "source": [
    "### Read in paramters from the command line\n",
    "sky_patch_name = sys.argv[1] # LMC or SMC\n",
    "M_l = math.pow(10, float(sys.argv[2])/10)*MSolar\n",
    "r_l = math.pow(10, (-3 + float(sys.argv[3])/10))*pc\n",
    "f_l = math.pow(10, (-3 + float(sys.argv[4])/10))"
   ]
  },
  {
   "cell_type": "code",
   "execution_count": 5,
   "metadata": {
    "execution": {
     "iopub.execute_input": "2022-01-10T20:51:42.247923Z",
     "iopub.status.busy": "2022-01-10T20:51:42.247725Z",
     "iopub.status.idle": "2022-01-10T20:51:42.251636Z",
     "shell.execute_reply": "2022-01-10T20:51:42.251118Z",
     "shell.execute_reply.started": "2022-01-10T20:51:42.247908Z"
    }
   },
   "outputs": [],
   "source": [
    "### Define sky patch to use in this simulation\n",
    "if sky_patch_name == 'LMC':    \n",
    "    sky_p = LMC_sky_patch\n",
    "    print(' ********** Running the '+sys.argv[5]+'th simulation analysis on the LMC **********\\n')\n",
    "elif sky_patch_name == 'SMC':\n",
    "    sky_p = SMC_sky_patch\n",
    "    print(' ********** Running the '+sys.argv[5]+'th simulation analysis on the SMC **********\\n')\n",
    "else:\n",
    "    print('ERROR: wrong name provided for the sky patch!')\n",
    "sys.stdout.flush()"
   ]
  },
  {
   "cell_type": "code",
   "execution_count": null,
   "metadata": {},
   "outputs": [],
   "source": [
    "result_file_name = sky_p.data_file_name+'_'+sys.argv[2]+'_'+sys.argv[3]+'_'+sys.argv[4]+'_'+sys.argv[5]\n",
    "print('Result will be saved in the file '+result_file_name)"
   ]
  },
  {
   "cell_type": "code",
   "execution_count": 8,
   "metadata": {
    "execution": {
     "iopub.execute_input": "2022-01-10T20:51:48.789460Z",
     "iopub.status.busy": "2022-01-10T20:51:48.789301Z",
     "iopub.status.idle": "2022-01-10T20:51:48.793013Z",
     "shell.execute_reply": "2022-01-10T20:51:48.792572Z",
     "shell.execute_reply.started": "2022-01-10T20:51:48.789447Z"
    }
   },
   "outputs": [],
   "source": [
    "### Parameters for data cleaning\n",
    "beta_kernel_sub_0 = 0.1*degree; beta_kernel_sub = 0.06*degree;   # gaussian kernels for background subtraction \n",
    "n_sigma_out = 3;                                                 # number of sigmas for outlier removal\n",
    "n_iter_sub = 3;                                                  # number of iterations for the background subtraction\n",
    "disc_radius_no_edge = sky_p.disc_radius - beta_kernel_sub_0 - 2*(n_iter_sub+1)*beta_kernel_sub\n",
    "gmag_bin_size=0.1; rad_bin_size=1                                # g mag and radial bins used to compute the effective dispersion\n",
    "\n",
    "### Parameters for the template scan and simulation\n",
    "n_betat = 6; n_betat_inj = 6; \n",
    "min_beta_t = 0.006*degree                                        # for point-like lenses, inject signal on stars around the lens within n_betat*min_beta_t \n",
    "min_mask = 0.01*degree                                           # minimum radius of the mask used to compute the template \n",
    "beta_step = 1/9;                                                 # beta_t step used in the second step of the fine scanning, \n",
    "                                                                 # needed to determine positions around the lens locations where to compute the template\n",
    "\n",
    "n_lens_max = 200                                                 # maximum number of the lenses to keep for the signal injection and analysis (the closest to the observer are kept)\n",
    "gmag_bin_size_noise = 0.05                                       # g mag bin size used to inject the noise "
   ]
  },
  {
   "cell_type": "code",
   "execution_count": 9,
   "metadata": {
    "execution": {
     "iopub.execute_input": "2022-01-10T20:51:51.073394Z",
     "iopub.status.busy": "2022-01-10T20:51:51.073253Z",
     "iopub.status.idle": "2022-01-10T20:51:51.090877Z",
     "shell.execute_reply": "2022-01-10T20:51:51.090506Z",
     "shell.execute_reply.started": "2022-01-10T20:51:51.073381Z"
    }
   },
   "outputs": [
    {
     "name": "stdout",
     "output_type": "stream",
     "text": [
      "\n",
      "Optimal beta_t value: 0.00582  deg.\n",
      "Computing the template for beta_t = [0.0065 0.006  0.0055]\n"
     ]
    }
   ],
   "source": [
    "### Load list of beta_t values and convert to radians\n",
    "beta_t_list = np.genfromtxt(ListDir+'beta_t_list.dat', delimiter='\\n')/10000*degree  #np.load(ListDir+'beta_t_list.npy')/10000*degree \n",
    "### Optimal value of beta_t for the lens population parameters\n",
    "beta_t_opt = fn_beta_t_opt(M_l, r_l, f_l, all_sky_patches)\n",
    "### Find the beta_t values from the beta_t_list closest to the optimal beta_t\n",
    "beta_t_opt_list = fn_beta_t_opt_list(beta_t_opt, beta_t_list)\n",
    "\n",
    "print('\\nOptimal beta_t value:', str(beta_t_opt/degree)[:7], ' deg.') \n",
    "print('Computing the template for beta_t =', str(str(beta_t_opt_list/degree)))\n",
    "sys.stdout.flush()"
   ]
  },
  {
   "cell_type": "code",
   "execution_count": null,
   "metadata": {},
   "outputs": [],
   "source": [
    "### Loading the data -- loading an npy file is much faster than loading the csv file with pd.rad_csv\n",
    "data_np = np.load(DataDir+sky_p.data_file_name+'_clean.npy')\n",
    "columns_df = ['ra', 'dec', 'pmra', 'pmdec', 'pmra_error', 'pmdec_error', 'phot_g_mean_mag', 'pmra_sub', 'pmdec_sub']\n",
    "data = pd.DataFrame(data_np, columns=columns_df)"
   ]
  },
  {
   "cell_type": "markdown",
   "metadata": {},
   "source": [
    "## Execution"
   ]
  },
  {
   "cell_type": "code",
   "execution_count": 9,
   "metadata": {
    "execution": {
     "iopub.execute_input": "2021-12-22T22:27:06.849462Z",
     "iopub.status.busy": "2021-12-22T22:27:06.847692Z",
     "iopub.status.idle": "2021-12-22T22:27:06.962189Z",
     "shell.execute_reply": "2021-12-22T22:27:06.961772Z",
     "shell.execute_reply.started": "2021-12-22T22:27:06.849379Z"
    }
   },
   "outputs": [
    {
     "name": "stdout",
     "output_type": "stream",
     "text": [
      "10 lenses in front of the stellar target.\n"
     ]
    }
   ],
   "source": [
    "### Generating the lens population\n",
    "n_lens, lens_pop = fn_lens_population(M_l, f_l, sky_p, n_lens_max)\n",
    "print(n_lens, 'lenses in front of the stellar target.'); sys.stdout.flush()    "
   ]
  },
  {
   "cell_type": "code",
   "execution_count": null,
   "metadata": {},
   "outputs": [],
   "source": [
    "columns_res = ['ra', 'dec', 'beta_t', 'min_chi_sq']\n",
    "\n",
    "if n_lens == 0: ### If there are no lenses in front of the stellar target, skip the analysis and set the resulting chi^2 to zero\n",
    "    res_df = pd.DataFrame([np.zeros(len(columns_res))], columns=columns_res)\n",
    "    res_df.to_csv(ListResDir+result_file_name+'.csv', index=False)\n",
    "    toc = tictoc()    \n",
    "    print('Simulation done in', str(toc - tic), 's.')        \n",
    "    sys.stdout.flush()          \n",
    "else:\n",
    "    print('\\nPreparing the mock data..'); sys.stdout.flush()    \n",
    "    ### Injecting the noise\n",
    "    fn_noise_inj(data, sky_p, gmag_bin_size_noise, rad_bin_size, noise=True)\n",
    "    ### Injecting the noise\n",
    "    fn_signal_inj(data, M_l, r_l, n_lens, lens_pop, sky_p, n_betat_inj, min_beta_t)    \n",
    "\n",
    "    # For SMC only: cut on the pm to remove stars from the foreground globular clusters\n",
    "    if sky_p.data_file_name == 'SMC_disc_4':   \n",
    "        orig_len = len(data)\n",
    "        data = data[(data['pmra_sim'] < 0.685 + 2) & (data['pmra_sim'] > 0.685 - 2) &\n",
    "                    (data['pmdec_sim'] < -1.230 + 2) & (data['pmdec_sim'] > -1.230 - 2)]\n",
    "    \n",
    "    ### Prepare the mock data for the iterative background subtraction and outlier removal\n",
    "    disc_pix, nb_pixel_list, n = fn_prepare_back_sub(data, sky_p.disc_center, sky_p.disc_radius, beta_kernel_sub)\n",
    "    \n",
    "    print('\\nBackground subtraction..'); sys.stdout.flush()    \n",
    "    ### Iterative background subtraction and outlier removal\n",
    "    for i in range(n_iter_sub):        \n",
    "        fn_back_field_sub(data, disc_pix, nb_pixel_list, n, beta_kernel=beta_kernel_sub, sub=False, sim=True) ### sub=True can be used only after this function has been already called once with sub=False\n",
    "        data, f_out = fn_rem_outliers(data, sky_p.pm_esc, sky_p.distance/kpc, n_sigma_out, sim=True)\n",
    "        print('Iter '+str(i)+' -- fraction of outliers removed: '+str(f_out*100)[:7]+' %')\n",
    "    fn_back_field_sub(data, disc_pix, nb_pixel_list, n, beta_kernel=beta_kernel_sub, sub=False, sim=True)\n",
    "\n",
    "    ### Remove stars at the boundary to avoid edge effect due to gaussian kernel field subtraction\n",
    "    data = fn_rem_edges(data, sky_p.disc_center, disc_radius_no_edge)       \n",
    "    ### Compute the effective weights\n",
    "    fn_effective_w(data, sky_p.disc_center, gmag_bin_size, rad_bin_size, sim=True)\n",
    "    \n",
    "    data_final = np.array([data['ra'].to_numpy(), data['dec'].to_numpy(), (data['pm_eff_error'].to_numpy())**2, \n",
    "                           data['pmra_sim'].to_numpy()/data['pm_eff_error'].to_numpy()**2, data['pmdec_sim'].to_numpy()/data['pm_eff_error'].to_numpy()**2]).T\n",
    "    \n",
    "    ### Run the analysis on the mock data to compute the template at the lens locations and compute the chi^2\n",
    "    chi_sq = [];\n",
    "    for beta_t in beta_t_opt_list:\n",
    "        chi_sq.extend(fn_run_analysis(data_final, beta_t, n_betat, min_mask, beta_step, M_l, r_l, n_lens, lens_pop, sky_p)); \n",
    "    chi_sq = np.array(chi_sq)\n",
    "    \n",
    "    ### Save the result into a file\n",
    "    res_df = pd.DataFrame([chi_sq[np.argmin(chi_sq[:, 3])]], columns=columns_res)\n",
    "    res_df.to_csv(ListResDir+result_file_name+'.csv', index=False)\n",
    "\n",
    "    toc = tictoc()    \n",
    "    print('Simulation done in', str(toc - tic), 's.')        \n",
    "    sys.stdout.flush()"
   ]
  }
 ],
 "metadata": {
  "kernelspec": {
   "display_name": "Python 3",
   "language": "python",
   "name": "python3"
  },
  "language_info": {
   "codemirror_mode": {
    "name": "ipython",
    "version": 3
   },
   "file_extension": ".py",
   "mimetype": "text/x-python",
   "name": "python",
   "nbconvert_exporter": "python",
   "pygments_lexer": "ipython3",
   "version": "3.8.5"
  }
 },
 "nbformat": 4,
 "nbformat_minor": 4
}
