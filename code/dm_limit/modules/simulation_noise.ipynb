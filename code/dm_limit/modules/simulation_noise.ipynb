{
 "cells": [
  {
   "cell_type": "code",
   "execution_count": 1,
   "metadata": {
    "execution": {
     "iopub.execute_input": "2022-01-12T22:50:24.694098Z",
     "iopub.status.busy": "2022-01-12T22:50:24.693908Z",
     "iopub.status.idle": "2022-01-12T22:50:26.096253Z",
     "shell.execute_reply": "2022-01-12T22:50:26.095899Z",
     "shell.execute_reply.started": "2022-01-12T22:50:24.694057Z"
    }
   },
   "outputs": [],
   "source": [
    "from time import time as tictoc\n",
    "import sys\n",
    "from sky_patch_class import *\n",
    "from my_units import * \n",
    "from angular_fn import *\n",
    "from template_fn import *\n",
    "from sim_setup_fn import *\n",
    "from sim_injection_fn import *\n",
    "from data_cleaning_fn import *\n",
    "from sim_analysis_fn import *\n",
    "\n",
    "HomeDir = '../'\n",
    "DataDir = '../../../../data/' #HomeDir+'data/'\n",
    "ListDir = HomeDir+'lists/'\n",
    "ListResDir = HomeDir+'lists/sim/'"
   ]
  },
  {
   "cell_type": "markdown",
   "metadata": {},
   "source": [
    "Notebook to generate mock data with proper motion noise (no signal). It can be run locally.\n",
    "\n",
    "Takes as input:\n",
    "* data_file_name+'_clean.npy', the cleaned data generated in the notebook data_cleaning.ipynb\n",
    "\n",
    "where data_file_name are 'LMC_disc_5' or 'SMC_disc_4'. Generate as output \n",
    "* data_file_name+'_sim_noise_final.npy', to be used as input for the mock data template scan (data_template_scan.ipynb and data_template_scan_fine.ipynb)"
   ]
  },
  {
   "cell_type": "markdown",
   "metadata": {},
   "source": [
    "# Noise only simulation - LMC"
   ]
  },
  {
   "cell_type": "markdown",
   "metadata": {},
   "source": [
    "## Preamble"
   ]
  },
  {
   "cell_type": "code",
   "execution_count": 2,
   "metadata": {
    "execution": {
     "iopub.execute_input": "2022-01-12T22:32:57.208560Z",
     "iopub.status.busy": "2022-01-12T22:32:57.207249Z",
     "iopub.status.idle": "2022-01-12T22:32:57.236828Z",
     "shell.execute_reply": "2022-01-12T22:32:57.236290Z",
     "shell.execute_reply.started": "2022-01-12T22:32:57.208485Z"
    }
   },
   "outputs": [],
   "source": [
    "### Define the patch on the sky where the analysis is done. Currently only works with a circle selection on the sphere.\n",
    "### Parameters taken from the paper Gaia Early Data Release 3: Structure and properties of the Magellanic Clouds (see Table 4)\n",
    "sky_p = sky_patch(81.28, -69.78, 5*degree, 50*kpc, 'LMC_disc_5', np.array([1.871, 0.391]), pm_esc = 0.2, sigma_pm = 0.125) ### For the LMC"
   ]
  },
  {
   "cell_type": "code",
   "execution_count": 6,
   "metadata": {
    "execution": {
     "iopub.execute_input": "2022-01-12T22:36:40.025239Z",
     "iopub.status.busy": "2022-01-12T22:36:40.024558Z",
     "iopub.status.idle": "2022-01-12T22:36:40.035857Z",
     "shell.execute_reply": "2022-01-12T22:36:40.034069Z",
     "shell.execute_reply.started": "2022-01-12T22:36:40.025175Z"
    }
   },
   "outputs": [],
   "source": [
    "### Parameters for data cleaning\n",
    "beta_kernel_sub_0 = 0.1*degree; beta_kernel_sub = 0.06*degree;   # gaussian kernels for background subtraction \n",
    "n_sigma_out = 3;                                                 # number of sigmas for outlier removal\n",
    "n_iter_sub = 3;                                                  # number of iterations for the background subtraction\n",
    "disc_radius_no_edge = sky_p.disc_radius - beta_kernel_sub_0 - 2*(n_iter_sub+1)*beta_kernel_sub\n",
    "gmag_bin_size=0.1; rad_bin_size=1                                # g mag and radial bins used to compute the effective dispersion\n",
    "\n",
    "gmag_bin_size_noise = 0.05                                       # g mag bin size used to inject the noise "
   ]
  },
  {
   "cell_type": "code",
   "execution_count": 4,
   "metadata": {
    "execution": {
     "iopub.execute_input": "2022-01-12T22:33:42.300120Z",
     "iopub.status.busy": "2022-01-12T22:33:42.299062Z",
     "iopub.status.idle": "2022-01-12T22:33:42.957317Z",
     "shell.execute_reply": "2022-01-12T22:33:42.956547Z",
     "shell.execute_reply.started": "2022-01-12T22:33:42.300037Z"
    }
   },
   "outputs": [],
   "source": [
    "### Loading the data -- loading an npy file is much faster than loading the csv file with pd.rad_csv\n",
    "data_np = np.load(DataDir+sky_p.data_file_name+'_clean.npy')\n",
    "columns_df = ['ra', 'dec', 'pmra', 'pmdec', 'pmra_error', 'pmdec_error', 'phot_g_mean_mag', 'pmra_sub', 'pmdec_sub']\n",
    "data = pd.DataFrame(data_np, columns=columns_df)"
   ]
  },
  {
   "cell_type": "markdown",
   "metadata": {},
   "source": [
    "## Execution"
   ]
  },
  {
   "cell_type": "code",
   "execution_count": 7,
   "metadata": {
    "execution": {
     "iopub.execute_input": "2022-01-12T22:36:41.486111Z",
     "iopub.status.busy": "2022-01-12T22:36:41.485425Z",
     "iopub.status.idle": "2022-01-12T22:37:11.935296Z",
     "shell.execute_reply": "2022-01-12T22:37:11.934535Z",
     "shell.execute_reply.started": "2022-01-12T22:36:41.486041Z"
    }
   },
   "outputs": [
    {
     "name": "stdout",
     "output_type": "stream",
     "text": [
      "\n",
      "Preparing the mock data..\n"
     ]
    }
   ],
   "source": [
    "print('Preparing the mock data..'); \n",
    "### Injecting the noise\n",
    "fn_noise_inj(data, sky_p, gmag_bin_size_noise, rad_bin_size, noise=True)"
   ]
  },
  {
   "cell_type": "code",
   "execution_count": 8,
   "metadata": {
    "execution": {
     "iopub.execute_input": "2022-01-12T22:37:36.822110Z",
     "iopub.status.busy": "2022-01-12T22:37:36.821384Z",
     "iopub.status.idle": "2022-01-12T22:38:04.080938Z",
     "shell.execute_reply": "2022-01-12T22:38:04.080153Z",
     "shell.execute_reply.started": "2022-01-12T22:37:36.822029Z"
    }
   },
   "outputs": [],
   "source": [
    "### Subtract the average pm and remove the outliers using a gaussian distance kernel of size beta_kernel_sub_0 = 0.06 deg, iterating 3 times\n",
    "### Prepare the data for the iterative background subtraction and outlier removal\n",
    "disc_pix, nb_pixel_list, n = fn_prepare_back_sub(data, sky_p.disc_center, sky_p.disc_radius, beta_kernel_sub)"
   ]
  },
  {
   "cell_type": "code",
   "execution_count": 9,
   "metadata": {
    "execution": {
     "iopub.execute_input": "2022-01-12T22:39:28.743501Z",
     "iopub.status.busy": "2022-01-12T22:39:28.741987Z",
     "iopub.status.idle": "2022-01-12T22:48:26.885463Z",
     "shell.execute_reply": "2022-01-12T22:48:26.884652Z",
     "shell.execute_reply.started": "2022-01-12T22:39:28.743423Z"
    }
   },
   "outputs": [
    {
     "name": "stdout",
     "output_type": "stream",
     "text": [
      "Iter 0 -- fraction of outliers removed: 1.47078 %\n",
      "Iter 1 -- fraction of outliers removed: 0.00340 %\n",
      "Iter 2 -- fraction of outliers removed: 0.00162 %\n"
     ]
    },
    {
     "data": {
      "text/plain": [
       "(12525856, 12)"
      ]
     },
     "execution_count": 9,
     "metadata": {},
     "output_type": "execute_result"
    }
   ],
   "source": [
    "### Iterative background subtraction and outlier removal\n",
    "for i in range(n_iter_sub):\n",
    "    fn_back_field_sub(data, disc_pix, nb_pixel_list, n, beta_kernel=beta_kernel_sub, sub=False, sim=True) ### sub=True can be used only after this function has been already called once with sub=False\n",
    "    data, f_out = fn_rem_outliers(data, sky_p.pm_esc, sky_p.distance/kpc, n_sigma_out, sim=True)\n",
    "    print('Iter '+str(i)+' -- fraction of outliers removed: '+str(f_out*100)[:7]+' %')\n",
    "    \n",
    "fn_back_field_sub(data, disc_pix, nb_pixel_list, n, beta_kernel=beta_kernel_sub, sub=False, sim=True)\n",
    "data.shape"
   ]
  },
  {
   "cell_type": "code",
   "execution_count": 10,
   "metadata": {
    "execution": {
     "iopub.execute_input": "2022-01-12T22:48:59.710523Z",
     "iopub.status.busy": "2022-01-12T22:48:59.710068Z",
     "iopub.status.idle": "2022-01-12T22:49:04.762970Z",
     "shell.execute_reply": "2022-01-12T22:49:04.762501Z",
     "shell.execute_reply.started": "2022-01-12T22:48:59.710487Z"
    }
   },
   "outputs": [
    {
     "data": {
      "text/plain": [
       "(11998102, 12)"
      ]
     },
     "execution_count": 10,
     "metadata": {},
     "output_type": "execute_result"
    }
   ],
   "source": [
    "### Remove stars at the boundary to avoid edge effects due to gaussian kernel field subtraction\n",
    "data = fn_rem_edges(data, sky_p.disc_center, disc_radius_no_edge)\n",
    "data.shape "
   ]
  },
  {
   "cell_type": "code",
   "execution_count": 11,
   "metadata": {
    "execution": {
     "iopub.execute_input": "2022-01-12T22:49:10.699560Z",
     "iopub.status.busy": "2022-01-12T22:49:10.699058Z",
     "iopub.status.idle": "2022-01-12T22:49:14.667921Z",
     "shell.execute_reply": "2022-01-12T22:49:14.667632Z",
     "shell.execute_reply.started": "2022-01-12T22:49:10.699480Z"
    }
   },
   "outputs": [
    {
     "data": {
      "text/plain": [
       "(11998102, 13)"
      ]
     },
     "execution_count": 11,
     "metadata": {},
     "output_type": "execute_result"
    }
   ],
   "source": [
    "### Compute the effective weights\n",
    "fn_effective_w(data, sky_p.disc_center, gmag_bin_size, rad_bin_size, sim=True)\n",
    "data.shape"
   ]
  },
  {
   "cell_type": "code",
   "execution_count": 12,
   "metadata": {
    "execution": {
     "iopub.execute_input": "2022-01-12T22:49:30.409747Z",
     "iopub.status.busy": "2022-01-12T22:49:30.409334Z",
     "iopub.status.idle": "2022-01-12T22:49:31.583868Z",
     "shell.execute_reply": "2022-01-12T22:49:31.583337Z",
     "shell.execute_reply.started": "2022-01-12T22:49:30.409712Z"
    }
   },
   "outputs": [],
   "source": [
    "### Export the final data for the template scan - saving to a npy file makes it much faster to upload.\n",
    "### Saving only the quantities that will be used to compute the template\n",
    "np.save(DataDir+sky_p.data_file_name+'_sim_noise_final', np.array([data['ra'].to_numpy(), data['dec'].to_numpy(), (data['pm_eff_error'].to_numpy())**2, \n",
    "                                                                   data['pmra_sim'].to_numpy()/data['pm_eff_error'].to_numpy()**2, \n",
    "                                                                   data['pmdec_sim'].to_numpy()/data['pm_eff_error'].to_numpy()**2]).T)"
   ]
  },
  {
   "cell_type": "markdown",
   "metadata": {},
   "source": [
    "# Noise only simulation - SMC"
   ]
  },
  {
   "cell_type": "markdown",
   "metadata": {},
   "source": [
    "## Preamble"
   ]
  },
  {
   "cell_type": "code",
   "execution_count": 2,
   "metadata": {
    "execution": {
     "iopub.execute_input": "2022-01-12T22:50:33.237526Z",
     "iopub.status.busy": "2022-01-12T22:50:33.237163Z",
     "iopub.status.idle": "2022-01-12T22:50:33.261280Z",
     "shell.execute_reply": "2022-01-12T22:50:33.260623Z",
     "shell.execute_reply.started": "2022-01-12T22:50:33.237494Z"
    }
   },
   "outputs": [],
   "source": [
    "### Define the patch on the sky where the analysis is done. Currently only works with a circle selection on the sphere.\n",
    "### Parameters taken from the paper Gaia Early Data Release 3: Structure and properties of the Magellanic Clouds (see Table 4)\n",
    "sky_p = sky_patch(12.80, -73.15, 4*degree, 60*kpc, 'SMC_disc_4', np.array([0.686, -1.237]), pm_esc = 0.2, sigma_pm = 0.105) ### For the SMC"
   ]
  },
  {
   "cell_type": "code",
   "execution_count": 3,
   "metadata": {
    "execution": {
     "iopub.execute_input": "2022-01-12T22:50:34.288274Z",
     "iopub.status.busy": "2022-01-12T22:50:34.287923Z",
     "iopub.status.idle": "2022-01-12T22:50:34.295162Z",
     "shell.execute_reply": "2022-01-12T22:50:34.293538Z",
     "shell.execute_reply.started": "2022-01-12T22:50:34.288241Z"
    }
   },
   "outputs": [],
   "source": [
    "### Parameters for data cleaning\n",
    "beta_kernel_sub_0 = 0.1*degree; beta_kernel_sub = 0.06*degree;   # gaussian kernels for background subtraction \n",
    "n_sigma_out = 3;                                                 # number of sigmas for outlier removal\n",
    "n_iter_sub = 3;                                                  # number of iterations for the background subtraction\n",
    "disc_radius_no_edge = sky_p.disc_radius - beta_kernel_sub_0 - 2*(n_iter_sub+1)*beta_kernel_sub\n",
    "gmag_bin_size=0.1; rad_bin_size=1                                # g mag and radial bins used to compute the effective dispersion\n",
    "\n",
    "gmag_bin_size_noise = 0.05                                       # g mag bin size used to inject the noise "
   ]
  },
  {
   "cell_type": "code",
   "execution_count": 4,
   "metadata": {
    "execution": {
     "iopub.execute_input": "2022-01-12T22:50:36.556545Z",
     "iopub.status.busy": "2022-01-12T22:50:36.556115Z",
     "iopub.status.idle": "2022-01-12T22:50:36.639158Z",
     "shell.execute_reply": "2022-01-12T22:50:36.638713Z",
     "shell.execute_reply.started": "2022-01-12T22:50:36.556509Z"
    }
   },
   "outputs": [],
   "source": [
    "### Loading the data -- loading an npy file is much faster than loading the csv file with pd.rad_csv\n",
    "data_np = np.load(DataDir+sky_p.data_file_name+'_clean.npy')\n",
    "columns_df = ['ra', 'dec', 'pmra', 'pmdec', 'pmra_error', 'pmdec_error', 'phot_g_mean_mag', 'pmra_sub', 'pmdec_sub']\n",
    "data = pd.DataFrame(data_np, columns=columns_df)"
   ]
  },
  {
   "cell_type": "markdown",
   "metadata": {},
   "source": [
    "## Execution"
   ]
  },
  {
   "cell_type": "code",
   "execution_count": 5,
   "metadata": {
    "execution": {
     "iopub.execute_input": "2022-01-12T22:50:52.277411Z",
     "iopub.status.busy": "2022-01-12T22:50:52.276901Z",
     "iopub.status.idle": "2022-01-12T22:50:55.712333Z",
     "shell.execute_reply": "2022-01-12T22:50:55.711985Z",
     "shell.execute_reply.started": "2022-01-12T22:50:52.277362Z"
    }
   },
   "outputs": [
    {
     "name": "stdout",
     "output_type": "stream",
     "text": [
      "Preparing the mock data..\n"
     ]
    }
   ],
   "source": [
    "print('Preparing the mock data..'); \n",
    "### Injecting the noise\n",
    "fn_noise_inj(data, sky_p, gmag_bin_size_noise, rad_bin_size, noise=True)"
   ]
  },
  {
   "cell_type": "code",
   "execution_count": 6,
   "metadata": {
    "execution": {
     "iopub.execute_input": "2022-01-12T22:50:57.064992Z",
     "iopub.status.busy": "2022-01-12T22:50:57.064566Z",
     "iopub.status.idle": "2022-01-12T22:50:57.348250Z",
     "shell.execute_reply": "2022-01-12T22:50:57.347857Z",
     "shell.execute_reply.started": "2022-01-12T22:50:57.064925Z"
    }
   },
   "outputs": [
    {
     "name": "stdout",
     "output_type": "stream",
     "text": [
      "0.9118251685393258\n"
     ]
    }
   ],
   "source": [
    "# For SMC only: cut on the pm to remove stars from the foreground globular clusters\n",
    "if sky_p.data_file_name == 'SMC_disc_4':   \n",
    "    orig_len = len(data)\n",
    "    data = data[(data['pmra_sim'] < 0.685 + 2) & (data['pmra_sim'] > 0.685 - 2) &\n",
    "                (data['pmdec_sim'] < -1.230 + 2) & (data['pmdec_sim'] > -1.230 - 2)]\n",
    "    print(len(data)/orig_len)"
   ]
  },
  {
   "cell_type": "code",
   "execution_count": 7,
   "metadata": {
    "execution": {
     "iopub.execute_input": "2022-01-12T22:51:24.206292Z",
     "iopub.status.busy": "2022-01-12T22:51:24.205695Z",
     "iopub.status.idle": "2022-01-12T22:51:37.963517Z",
     "shell.execute_reply": "2022-01-12T22:51:37.954557Z",
     "shell.execute_reply.started": "2022-01-12T22:51:24.206246Z"
    }
   },
   "outputs": [],
   "source": [
    "### Subtract the average pm and remove the outliers using a gaussian distance kernel of size beta_kernel_sub_0 = 0.06 deg, iterating 3 times\n",
    "### Prepare the data for the iterative background subtraction and outlier removal\n",
    "disc_pix, nb_pixel_list, n = fn_prepare_back_sub(data, sky_p.disc_center, sky_p.disc_radius, beta_kernel_sub)"
   ]
  },
  {
   "cell_type": "code",
   "execution_count": 8,
   "metadata": {
    "execution": {
     "iopub.execute_input": "2022-01-12T22:51:39.558211Z",
     "iopub.status.busy": "2022-01-12T22:51:39.557602Z",
     "iopub.status.idle": "2022-01-12T22:56:55.019396Z",
     "shell.execute_reply": "2022-01-12T22:56:55.018934Z",
     "shell.execute_reply.started": "2022-01-12T22:51:39.558148Z"
    }
   },
   "outputs": [
    {
     "name": "stdout",
     "output_type": "stream",
     "text": [
      "Iter 0 -- fraction of outliers removed: 0.17680 %\n",
      "Iter 1 -- fraction of outliers removed: 0.00083 %\n",
      "Iter 2 -- fraction of outliers removed: 0.00069 %\n"
     ]
    },
    {
     "data": {
      "text/plain": [
       "(2025193, 12)"
      ]
     },
     "execution_count": 8,
     "metadata": {},
     "output_type": "execute_result"
    }
   ],
   "source": [
    "### Iterative background subtraction and outlier removal\n",
    "for i in range(n_iter_sub):\n",
    "    fn_back_field_sub(data, disc_pix, nb_pixel_list, n, beta_kernel=beta_kernel_sub, sub=False, sim=True) ### sub=True can be used only after this function has been already called once with sub=False\n",
    "    data, f_out = fn_rem_outliers(data, sky_p.pm_esc, sky_p.distance/kpc, n_sigma_out, sim=True)\n",
    "    print('Iter '+str(i)+' -- fraction of outliers removed: '+str(f_out*100)[:7]+' %')\n",
    "    \n",
    "fn_back_field_sub(data, disc_pix, nb_pixel_list, n, beta_kernel=beta_kernel_sub, sub=False, sim=True)\n",
    "data.shape"
   ]
  },
  {
   "cell_type": "code",
   "execution_count": 9,
   "metadata": {
    "execution": {
     "iopub.execute_input": "2022-01-12T22:56:55.020725Z",
     "iopub.status.busy": "2022-01-12T22:56:55.020604Z",
     "iopub.status.idle": "2022-01-12T22:56:55.581079Z",
     "shell.execute_reply": "2022-01-12T22:56:55.580685Z",
     "shell.execute_reply.started": "2022-01-12T22:56:55.020712Z"
    }
   },
   "outputs": [
    {
     "data": {
      "text/plain": [
       "(2001813, 12)"
      ]
     },
     "execution_count": 9,
     "metadata": {},
     "output_type": "execute_result"
    }
   ],
   "source": [
    "### Remove stars at the boundary to avoid edge effects due to gaussian kernel field subtraction\n",
    "data = fn_rem_edges(data, sky_p.disc_center, disc_radius_no_edge)\n",
    "data.shape "
   ]
  },
  {
   "cell_type": "code",
   "execution_count": 10,
   "metadata": {
    "execution": {
     "iopub.execute_input": "2022-01-12T22:56:58.783293Z",
     "iopub.status.busy": "2022-01-12T22:56:58.782954Z",
     "iopub.status.idle": "2022-01-12T22:56:59.431575Z",
     "shell.execute_reply": "2022-01-12T22:56:59.431265Z",
     "shell.execute_reply.started": "2022-01-12T22:56:58.783260Z"
    }
   },
   "outputs": [
    {
     "data": {
      "text/plain": [
       "(2001813, 13)"
      ]
     },
     "execution_count": 10,
     "metadata": {},
     "output_type": "execute_result"
    }
   ],
   "source": [
    "### Compute the effective weights\n",
    "fn_effective_w(data, sky_p.disc_center, gmag_bin_size, rad_bin_size, sim=True)\n",
    "data.shape"
   ]
  },
  {
   "cell_type": "code",
   "execution_count": 12,
   "metadata": {
    "execution": {
     "iopub.execute_input": "2022-01-12T22:57:08.535157Z",
     "iopub.status.busy": "2022-01-12T22:57:08.534386Z",
     "iopub.status.idle": "2022-01-12T22:57:08.701560Z",
     "shell.execute_reply": "2022-01-12T22:57:08.701182Z",
     "shell.execute_reply.started": "2022-01-12T22:57:08.535086Z"
    }
   },
   "outputs": [],
   "source": [
    "### Export the final data for the template scan - saving to a npy file makes it much faster to upload.\n",
    "### Saving only the quantities that will be used to compute the template\n",
    "np.save(DataDir+sky_p.data_file_name+'_sim_noise_final', np.array([data['ra'].to_numpy(), data['dec'].to_numpy(), (data['pm_eff_error'].to_numpy())**2, \n",
    "                                                                   data['pmra_sim'].to_numpy()/data['pm_eff_error'].to_numpy()**2, \n",
    "                                                                   data['pmdec_sim'].to_numpy()/data['pm_eff_error'].to_numpy()**2]).T)"
   ]
  },
  {
   "cell_type": "code",
   "execution_count": 13,
   "metadata": {
    "execution": {
     "iopub.execute_input": "2022-01-12T22:57:10.013828Z",
     "iopub.status.busy": "2022-01-12T22:57:10.012986Z",
     "iopub.status.idle": "2022-01-12T22:57:45.052870Z",
     "shell.execute_reply": "2022-01-12T22:57:45.052113Z",
     "shell.execute_reply.started": "2022-01-12T22:57:10.013752Z"
    }
   },
   "outputs": [],
   "source": [
    "# Exporting the final data as a csv file. This is not going to be needed in the analysis, but can be saved for reference.\n",
    "data.to_csv(DataDir+sky_p.data_file_name+'_sim_noise_clean.csv', index=False)"
   ]
  }
 ],
 "metadata": {
  "kernelspec": {
   "display_name": "Python 3",
   "language": "python",
   "name": "python3"
  },
  "language_info": {
   "codemirror_mode": {
    "name": "ipython",
    "version": 3
   },
   "file_extension": ".py",
   "mimetype": "text/x-python",
   "name": "python",
   "nbconvert_exporter": "python",
   "pygments_lexer": "ipython3",
   "version": "3.8.5"
  }
 },
 "nbformat": 4,
 "nbformat_minor": 4
}
