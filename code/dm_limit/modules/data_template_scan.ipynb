{
 "cells": [
  {
   "cell_type": "code",
   "execution_count": 1,
   "metadata": {
    "execution": {
     "iopub.execute_input": "2021-12-06T23:07:13.814360Z",
     "iopub.status.busy": "2021-12-06T23:07:13.813291Z",
     "iopub.status.idle": "2021-12-06T23:07:15.462332Z",
     "shell.execute_reply": "2021-12-06T23:07:15.461993Z",
     "shell.execute_reply.started": "2021-12-06T23:07:13.814137Z"
    }
   },
   "outputs": [],
   "source": [
    "from time import time as tictoc\n",
    "import sys\n",
    "from sky_patch_class import *\n",
    "from my_units import * \n",
    "from angular_fn import *\n",
    "from template_fn import *\n",
    "\n",
    "HomeDir = '../'\n",
    "DataDir = HomeDir+'data/' ### Set this to the directory where you store your data files\n",
    "ListDir = HomeDir+'lists/'\n",
    "ListTauDir = ListDir+'/data_tau/'"
   ]
  },
  {
   "cell_type": "markdown",
   "metadata": {},
   "source": [
    "Notebook to run the coarse template scan at a scale of approximately beta_t. This notebook should be converted to a python script and run on a cluster, splitting the template scanning locations between multiple cores. Some parameters for the analysis are read in from the command line. For example, the python script to do the template scan on the LMC for beta_t = 0.03 deg should be run as:\n",
    "\n",
    "python data_template_scan.py LMC 300 40 0\n",
    "\n",
    "In this case the number of scanning locations are divided in 40 subsets (<= number of cores available) and the 0-th subset is run.\n",
    "\n",
    "Takes as input:\n",
    "* data_file_name+'_final.npy', the cleaned data generated in the notebook data_cleaning.ipynb\n",
    "\n",
    "where data_file_name are 'LMC_disc_5' or 'SMC_disc_4'. Generate as output the tau values (and normalization) at each location:\n",
    "* data_file_name+'_tau_b'+beta_t_deg+'_'+str(i_step)+'.npy'\n",
    "\n",
    "where beta_t_deg is the beta_t value used in the analysis given in units of degree/10000 (i.e. 300 for beta_t = 0.03 deg) and i_step is the i-th subset of all the scanning locations."
   ]
  },
  {
   "cell_type": "markdown",
   "metadata": {},
   "source": [
    "# Automatic template scan "
   ]
  },
  {
   "cell_type": "markdown",
   "metadata": {},
   "source": [
    "## Preamble"
   ]
  },
  {
   "cell_type": "code",
   "execution_count": 27,
   "metadata": {
    "execution": {
     "iopub.execute_input": "2021-11-15T15:54:41.478660Z",
     "iopub.status.busy": "2021-11-15T15:54:41.477835Z",
     "iopub.status.idle": "2021-11-15T15:54:41.484893Z",
     "shell.execute_reply": "2021-11-15T15:54:41.483337Z",
     "shell.execute_reply.started": "2021-11-15T15:54:41.478567Z"
    }
   },
   "outputs": [],
   "source": [
    "### Read in paramters from the command line.\n",
    "sky_patch_name = sys.argv[1]  # 'LMC' or 'SMC'\n",
    "beta_t_deg = sys.argv[2]      # beta_t value to use for the analysis (given in units of degree/10000)\n",
    "n_steps = int(sys.argv[3])    # i.e. 40 (equal or smaller than the number of cores available)\n",
    "i_step = int(sys.argv[4])     # from 0 to n_steps-1"
   ]
  },
  {
   "cell_type": "code",
   "execution_count": 25,
   "metadata": {
    "execution": {
     "iopub.execute_input": "2021-11-18T19:58:04.944340Z",
     "iopub.status.busy": "2021-11-18T19:58:04.943987Z",
     "iopub.status.idle": "2021-11-18T19:58:04.950293Z",
     "shell.execute_reply": "2021-11-18T19:58:04.949083Z",
     "shell.execute_reply.started": "2021-11-18T19:58:04.944300Z"
    }
   },
   "outputs": [],
   "source": [
    "### Define sky patch to use in the analysis\n",
    "if sky_patch_name == 'LMC':    \n",
    "    sky_p = sky_patch(81.28, -69.78, 5*degree, 50*kpc, 'LMC_disc_5', np.array([1.871, 0.391]), pm_esc=0.2, sigma_pm = 0.125)\n",
    "    print('********** Template analysis on the LMC for beta_t_deg =', beta_t_deg, '**********')\n",
    "elif sky_patch_name == 'SMC':\n",
    "    sky_p = sky_patch(12.80, -73.15, 4*degree, 60*kpc, 'SMC_disc_4', np.array([0.686, -1.237]), pm_esc=0.2, sigma_pm = 0.105)\n",
    "    print('********** Template analysis on the SMC for beta_t_deg =', beta_t_deg, '**********')\n",
    "else:\n",
    "    print('ERROR: wrong name provided for the sky patch!')\n",
    "sys.stdout.flush()"
   ]
  },
  {
   "cell_type": "code",
   "execution_count": 51,
   "metadata": {
    "execution": {
     "iopub.execute_input": "2021-11-19T20:36:25.868027Z",
     "iopub.status.busy": "2021-11-19T20:36:25.866687Z",
     "iopub.status.idle": "2021-11-19T20:36:25.880717Z",
     "shell.execute_reply": "2021-11-19T20:36:25.879562Z",
     "shell.execute_reply.started": "2021-11-19T20:36:25.867937Z"
    }
   },
   "outputs": [],
   "source": [
    "### Parameters for data cleaning\n",
    "beta_kernel_sub_0 = 0.1*degree; beta_kernel_sub = 0.06*degree;   # gaussian kernels for background subtraction \n",
    "n_iter_sub = 3;                                                  # number of iterations for the background subtraction\n",
    "disc_radius_no_edge = sky_p.disc_radius - beta_kernel_sub_0 - (n_iter_sub+1)*beta_kernel_sub\n",
    "\n",
    "### Parameters for the template scan\n",
    "n_betat = 6; ### the template is computed for stars within a circle of radius n_betat*beta_t from the template location\n",
    "beta_t = float(beta_t_deg)/10000*degree\n",
    "min_mask = 0.01*degree ### minimum radius of the mask used to compute the template "
   ]
  },
  {
   "cell_type": "code",
   "execution_count": 4,
   "metadata": {
    "execution": {
     "iopub.execute_input": "2021-11-19T19:46:15.498164Z",
     "iopub.status.busy": "2021-11-19T19:46:15.497819Z",
     "iopub.status.idle": "2021-11-19T19:46:15.638541Z",
     "shell.execute_reply": "2021-11-19T19:46:15.638015Z",
     "shell.execute_reply.started": "2021-11-19T19:46:15.498129Z"
    }
   },
   "outputs": [],
   "source": [
    "### Import the final data\n",
    "data = np.load(DataDir+sky_p.data_file_name+'_final.npy') \n",
    "### np array with n_rows = n_stars and each row must be:\n",
    "### [ra, dec, proper_motion_weight, weighted_pmra, weighted_pmdec]"
   ]
  },
  {
   "cell_type": "markdown",
   "metadata": {},
   "source": [
    "## Execution "
   ]
  },
  {
   "cell_type": "code",
   "execution_count": null,
   "metadata": {},
   "outputs": [],
   "source": [
    "### Determine coordinates for the coarse scanning:\n",
    "### Pixels within a disc of radius disc_radius_no_edge - n_betat*beta_t from the stellar target center,\n",
    "### at an angular scale of approximatly beta_t.\n",
    "scan_coord = fn_coarse_scan_coord(sky_p.disc_center, disc_radius_no_edge, beta_t, n_betat)\n",
    "n_locations = len(scan_coord[0])\n",
    "step = math.ceil(n_locations/n_steps)\n",
    "max_i_step = math.ceil(n_locations/step)\n",
    "print('Number of template locations: '+str(n_locations)+'. Dividing in '+str(n_steps)+' steps. Number of locations per step: '+str(step)+'.')\n",
    "sys.stdout.flush()\n",
    "\n",
    "if i_step >= max_i_step:\n",
    "    print('The step = '+str(i_step)+' is grater than the maximum allowed step = '+str(max_i_step)+'. Not running the template scan.')\n",
    "    sys.stdout.flush()\n",
    "else: \n",
    "    print('Running step = '+str(i_step)+'.')\n",
    "    sys.stdout.flush()\n",
    "    first_loc = step*i_step; last_loc = min(step*(i_step+1), n_locations)\n",
    "    \n",
    "    ### Prepare the data for the template scan at beta_t. Pixelate at angular scale approximatly beta_t/10.\n",
    "    ### Append the stars pixel number as the first column of the array data\n",
    "    nside, scan_pix, data = fn_prepare_template_scan(data, [scan_coord[0][first_loc:last_loc], scan_coord[1][first_loc:last_loc]], beta_t)\n",
    "\n",
    "    tic = tictoc()\n",
    "    ### Compute the templates\n",
    "    template_res = fn_template_scan(nside, scan_pix, n_betat, beta_t, data, min_mask)\n",
    "    ### Save the result of the template scan\n",
    "    np.save(ListTauDir+sky_p.data_file_name+'_tau_b'+beta_t_deg+'_'+str(i_step), template_res)\n",
    "    ### The result is saved as a numpy array with n_rows = n_locations and each row is:\n",
    "    ### [ra, dec, tau_ra, tau_dec, normalization, tau_monopole, normalization_monopole]\n",
    "    ### The monopole template is computed to have a background-only channel.\n",
    "    toc = tictoc()    \n",
    "\n",
    "    print('Template scan completed in', str(toc - tic), 's.')\n",
    "    sys.stdout.flush()"
   ]
  }
 ],
 "metadata": {
  "kernelspec": {
   "display_name": "Python 3",
   "language": "python",
   "name": "python3"
  },
  "language_info": {
   "codemirror_mode": {
    "name": "ipython",
    "version": 3
   },
   "file_extension": ".py",
   "mimetype": "text/x-python",
   "name": "python",
   "nbconvert_exporter": "python",
   "pygments_lexer": "ipython3",
   "version": "3.8.5"
  }
 },
 "nbformat": 4,
 "nbformat_minor": 4
}
