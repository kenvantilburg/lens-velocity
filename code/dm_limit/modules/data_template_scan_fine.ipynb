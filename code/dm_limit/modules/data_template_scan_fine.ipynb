{
 "cells": [
  {
   "cell_type": "code",
   "execution_count": 1,
   "metadata": {
    "execution": {
     "iopub.execute_input": "2021-12-16T22:37:37.494746Z",
     "iopub.status.busy": "2021-12-16T22:37:37.494292Z",
     "iopub.status.idle": "2021-12-16T22:37:38.832629Z",
     "shell.execute_reply": "2021-12-16T22:37:38.832242Z",
     "shell.execute_reply.started": "2021-12-16T22:37:37.494646Z"
    }
   },
   "outputs": [],
   "source": [
    "from time import time as tictoc\n",
    "import sys\n",
    "from sky_patch_class import *\n",
    "from my_units import * \n",
    "from angular_fn import *\n",
    "from template_fn import *\n",
    "\n",
    "HomeDir = '../'\n",
    "DataDir = HomeDir+'data/' ### Set this to the directory where you store your data files\n",
    "ListDir = HomeDir+'lists/'\n",
    "ListTauDir = ListDir+'/data_tau/' ### Folder where the tau values from the coarse scanning are saved"
   ]
  },
  {
   "cell_type": "markdown",
   "metadata": {},
   "source": [
    "Notebook to run the fine template scan (fine step 1 or fine step 2). This notebook should be converted to a python script and run on a cluster. For the fine step 1, the template scanning locations are split between multiple cores (similarly to the coarse template scan done in data_template_scan.ipynb). For the fine step 2, the template scanning locations are run all at the same time. Some parameters for the analysis are read in from the command line. For example, the python script to do the template scan fine step 1 on the LMC for beta_t = 0.03 deg should be run as:\n",
    "\n",
    "python data_template_scan_fine.py LMC 300 fine1 40 0\n",
    "\n",
    "In this case the number of scanning locations are divided in 40 subsets (<= number of cores available) and the 0-th subset is run. The python script to do the template scan fine step 2 on the LMC for beta_t = 0.03 deg should be run as:\n",
    "\n",
    "python data_template_scan_fine.py LMC 300 fine2 \n",
    "\n",
    "Takes as input:\n",
    "* data_file_name+'_final.npy', the cleaned data generated in the notebook data_cleaning.ipynb\n",
    "* the tau values from the coarse scan generated in the notebook data_template_scan.ipynb and stored in the folder ListTauDir\n",
    "\n",
    "where data_file_name are 'LMC_disc_5' or 'SMC_disc_4'. Generate as output the tau values (and normalization) at each location:\n",
    "* data_file_name+'_tau_b'+beta_t_deg+'_fine1'+'_'+str(i_step)+'.npy' or\n",
    "* data_file_name+'_tau_b'+beta_t_deg+'_fine2.npy'\n",
    "\n",
    "where beta_t_deg is the beta_t value used in the analysis given in units of degree/10000 (i.e. 300 for beta_t = 0.03 deg) and i_step is the i-th subset of all the scanning locations."
   ]
  },
  {
   "cell_type": "markdown",
   "metadata": {},
   "source": [
    "# Automatic template scan "
   ]
  },
  {
   "cell_type": "markdown",
   "metadata": {},
   "source": [
    "## Preamble"
   ]
  },
  {
   "cell_type": "code",
   "execution_count": 27,
   "metadata": {
    "execution": {
     "iopub.execute_input": "2021-11-15T15:54:41.478660Z",
     "iopub.status.busy": "2021-11-15T15:54:41.477835Z",
     "iopub.status.idle": "2021-11-15T15:54:41.484893Z",
     "shell.execute_reply": "2021-11-15T15:54:41.483337Z",
     "shell.execute_reply.started": "2021-11-15T15:54:41.478567Z"
    }
   },
   "outputs": [],
   "source": [
    "### Read in paramters from the command line.\n",
    "sky_patch_name = sys.argv[1]  # 'LMC' or 'SMC'\n",
    "beta_t_deg = sys.argv[2]      # beta_t value to use for the analysis (given in units of degree/10000)\n",
    "fine_step = sys.argv[3]       # fine scanning step, can be fine1 (requires sys.arg[4]=n_steps and sys.arg[5]=i_step) of fine2"
   ]
  },
  {
   "cell_type": "code",
   "execution_count": 25,
   "metadata": {
    "execution": {
     "iopub.execute_input": "2021-11-18T19:58:04.944340Z",
     "iopub.status.busy": "2021-11-18T19:58:04.943987Z",
     "iopub.status.idle": "2021-11-18T19:58:04.950293Z",
     "shell.execute_reply": "2021-11-18T19:58:04.949083Z",
     "shell.execute_reply.started": "2021-11-18T19:58:04.944300Z"
    }
   },
   "outputs": [],
   "source": [
    "### Define sky patch to use in the analysis\n",
    "if sky_patch_name == 'LMC':    \n",
    "    sky_p = sky_patch(81.28, -69.78, 5*degree, 50*kpc, 'LMC_disc_5', np.array([1.871, 0.391]), pm_esc=0.2, sigma_pm = 0.125)\n",
    "    print('********** Template analysis on the LMC for beta_t_deg =', beta_t_deg, '**********')\n",
    "elif sky_patch_name == 'SMC':\n",
    "    sky_p = sky_patch(12.80, -73.15, 4*degree, 60*kpc, 'SMC_disc_4', np.array([0.686, -1.237]), pm_esc=0.2, sigma_pm = 0.105)\n",
    "    print('********** Template analysis on the SMC for beta_t_deg =', beta_t_deg, '**********')\n",
    "else:\n",
    "    print('ERROR: wrong name provided for the sky patch!')\n",
    "sys.stdout.flush()"
   ]
  },
  {
   "cell_type": "code",
   "execution_count": 51,
   "metadata": {
    "execution": {
     "iopub.execute_input": "2021-11-19T20:36:25.868027Z",
     "iopub.status.busy": "2021-11-19T20:36:25.866687Z",
     "iopub.status.idle": "2021-11-19T20:36:25.880717Z",
     "shell.execute_reply": "2021-11-19T20:36:25.879562Z",
     "shell.execute_reply.started": "2021-11-19T20:36:25.867937Z"
    }
   },
   "outputs": [],
   "source": [
    "### Parameters for data cleaning\n",
    "beta_kernel_sub_0 = 0.1*degree; beta_kernel_sub = 0.06*degree;   # gaussian kernels for background subtraction \n",
    "n_iter_sub = 3;                                                  # number of iterations for the background subtraction\n",
    "disc_radius_no_edge = sky_p.disc_radius - beta_kernel_sub_0 - (n_iter_sub+1)*beta_kernel_sub\n",
    "\n",
    "### Parameters for the template scan\n",
    "n_betat = 6; ### the template is computed for stars within a circle of radius n_betat*beta_t from the template location\n",
    "beta_t = float(beta_t_deg)/10000*degree\n",
    "min_mask = 0.01*degree ### minimum radius of the mask used to compute the template \n",
    "\n",
    "### Parameters for the fine template scan\n",
    "frac_1 = 0.25; beta_step_1 = 1/3;\n",
    "frac_2 = 0.5; beta_step_2 = 1/9;"
   ]
  },
  {
   "cell_type": "code",
   "execution_count": 4,
   "metadata": {
    "execution": {
     "iopub.execute_input": "2021-11-19T19:46:15.498164Z",
     "iopub.status.busy": "2021-11-19T19:46:15.497819Z",
     "iopub.status.idle": "2021-11-19T19:46:15.638541Z",
     "shell.execute_reply": "2021-11-19T19:46:15.638015Z",
     "shell.execute_reply.started": "2021-11-19T19:46:15.498129Z"
    }
   },
   "outputs": [],
   "source": [
    "### Import the final data\n",
    "data = np.load(DataDir+sky_p.data_file_name+'_final.npy') \n",
    "### np array with n_rows = n_stars and each row must be:\n",
    "### [ra, dec, proper_motion_weight, weighted_pmra, weighted_pmdec]"
   ]
  },
  {
   "cell_type": "markdown",
   "metadata": {},
   "source": [
    "## Execution "
   ]
  },
  {
   "cell_type": "code",
   "execution_count": null,
   "metadata": {},
   "outputs": [],
   "source": [
    "if fine_step=='fine1':\n",
    "    n_steps = int(sys.argv[4])    # i.e. 40 (or equal to the number of cores available)\n",
    "    i_step = int(sys.argv[5])     # from 0 to n_steps-1\n",
    "    print('********** FIRST fine scanning step: dividing the total number of scan locations in steps. ********** '); sys.stdout.flush()\n",
    "\n",
    "    ### Find the large tau values and locations around then where to do the fine scanning\n",
    "    fine_scan_coord, large_tau = fn_fine_scan_loc(sky_p, beta_t_deg, beta_t, ListTauDir, frac_1, beta_step_1)\n",
    "    \n",
    "    ### Prepare the data for the template scan at beta_t. Pixelate at angular scale approximatly beta_t/10.\n",
    "    ### Append the stars pixel number as the first column of the array data\n",
    "    nside, scan_pix, data = fn_prepare_template_scan_fine(data, fine_scan_coord, beta_t, large_tau)\n",
    "\n",
    "    n_locations = len(scan_pix)\n",
    "    step = math.ceil(n_locations/n_steps)\n",
    "    max_i_step = math.ceil(n_locations/step)\n",
    "    print('Number of template locations for the fine scanning: '+str(len(scan_pix))+'. Dividing in '+str(n_steps)+' steps. Number of locations per step: '+str(step)+'.'); sys.stdout.flush()\n",
    "\n",
    "    if i_step >= max_i_step:\n",
    "        print('The step = '+str(i_step)+' is grater than the maximum allowed step = '+str(max_i_step)+'. Not running the template scan.')\n",
    "        sys.stdout.flush()\n",
    "    else: \n",
    "        print('Running step = '+str(i_step)+'.')\n",
    "        sys.stdout.flush()\n",
    "        first_loc = step*i_step; last_loc = min(step*(i_step+1), n_locations)\n",
    "\n",
    "        tic = tictoc()\n",
    "        ### Compute the templates\n",
    "        template_res = fn_template_scan(nside, scan_pix[first_loc:last_loc], n_betat, beta_t, data, min_mask)\n",
    "        ### Save the result of the template scan\n",
    "        np.save(ListTauDir+sky_p.data_file_name+'_tau_b'+beta_t_deg+'_fine1'+'_'+str(i_step), template_res)\n",
    "        toc = tictoc()    \n",
    "\n",
    "        print('Template scan completed in', str(toc - tic), 's.'); sys.stdout.flush()\n",
    "        \n",
    "elif fine_step=='fine2':\n",
    "    print('********** SECOND fine scanning step ********** '); sys.stdout.flush()\n",
    "\n",
    "    ### Find the large tau values and locations around then where to do the fine scanning\n",
    "    fine_scan_coord, large_tau = fn_fine_scan_loc(sky_p, beta_t_deg, beta_t, ListTauDir, frac_2, beta_step_2)\n",
    "\n",
    "    nside, scan_pix, data = fn_prepare_template_scan_fine(data, fine_scan_coord, beta_t, large_tau)\n",
    "    print('Number of template locations for the fine scanning: '+str(len(scan_pix))+'.\\n'); sys.stdout.flush()\n",
    "\n",
    "    tic = tictoc()\n",
    "    ### Compute the templates\n",
    "    template_res = fn_template_scan(nside, scan_pix, n_betat, beta_t, data, min_mask)\n",
    "    ### Save the result of the template scan\n",
    "    np.save(ListTauDir+sky_p.data_file_name+'_tau_b'+beta_t_deg+'_fine2', template_res)\n",
    "    toc = tictoc()    \n",
    "    print('Template scan completed in', str(toc - tic), 's.'); sys.stdout.flush()\n",
    "    \n",
    "else:\n",
    "    print('ERROR: Invalide fine step provided. Use fine1 or fine2 only.'); sys.stdout.flush()"
   ]
  }
 ],
 "metadata": {
  "kernelspec": {
   "display_name": "Python 3",
   "language": "python",
   "name": "python3"
  },
  "language_info": {
   "codemirror_mode": {
    "name": "ipython",
    "version": 3
   },
   "file_extension": ".py",
   "mimetype": "text/x-python",
   "name": "python",
   "nbconvert_exporter": "python",
   "pygments_lexer": "ipython3",
   "version": "3.8.5"
  }
 },
 "nbformat": 4,
 "nbformat_minor": 4
}
