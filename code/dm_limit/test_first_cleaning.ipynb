{
 "cells": [
  {
   "cell_type": "code",
   "execution_count": 18,
   "metadata": {
    "execution": {
     "iopub.execute_input": "2021-11-19T16:55:43.736214Z",
     "iopub.status.busy": "2021-11-19T16:55:43.734386Z",
     "iopub.status.idle": "2021-11-19T16:55:43.766254Z",
     "shell.execute_reply": "2021-11-19T16:55:43.764268Z",
     "shell.execute_reply.started": "2021-11-19T16:55:43.735846Z"
    }
   },
   "outputs": [],
   "source": [
    "from my_units import * \n",
    "from angular_fn import *\n",
    "from data_cleaning_fn import *\n",
    "from sky_patch_class import *\n",
    "\n",
    "HomeDir = '../../'\n",
    "DataDir = '../../../../data/' ### Set this to the directory where you store your data files (see below how to download them)\n",
    "ListDir = HomeDir+'lists/'\n",
    "FigDir = HomeDir+'figs/'"
   ]
  },
  {
   "cell_type": "markdown",
   "metadata": {},
   "source": [
    "# Example of first data cleaning"
   ]
  },
  {
   "cell_type": "markdown",
   "metadata": {},
   "source": [
    "## Preamble"
   ]
  },
  {
   "cell_type": "code",
   "execution_count": 2,
   "metadata": {
    "execution": {
     "iopub.execute_input": "2021-11-19T15:59:57.416724Z",
     "iopub.status.busy": "2021-11-19T15:59:57.416007Z",
     "iopub.status.idle": "2021-11-19T15:59:57.440375Z",
     "shell.execute_reply": "2021-11-19T15:59:57.439625Z",
     "shell.execute_reply.started": "2021-11-19T15:59:57.416656Z"
    }
   },
   "outputs": [],
   "source": [
    "### Define the patch on the sky where the analysis is done. Currently only works with a circle selection on the sphere.\n",
    "#sky_p = sky_patch(81.28, -69.78, 5*degree, 50*kpc, 'LMC_disc_5', np.array([1.871, 0.391]), pm_esc=0.2) ### For the LMC\n",
    "sky_p = sky_patch(12.80, -73.15, 4*degree, 60*kpc, 'SMC_disc_4', np.array([0.686, -1.237]), pm_esc=0.2) ### For the SMC\n",
    "\n",
    "### Download the files here:\n",
    "### LMC @ https://www.dropbox.com/s/33ivjtdr0k0u45l/LMC_disc_5.csv?dl=0\n",
    "### SMC @ https://www.dropbox.com/s/79sc5gq8euz4qwy/SMC_disc_4.csv?dl=0"
   ]
  },
  {
   "cell_type": "code",
   "execution_count": 4,
   "metadata": {
    "execution": {
     "iopub.execute_input": "2021-11-19T16:00:16.760619Z",
     "iopub.status.busy": "2021-11-19T16:00:16.759930Z",
     "iopub.status.idle": "2021-11-19T16:00:16.770843Z",
     "shell.execute_reply": "2021-11-19T16:00:16.769709Z",
     "shell.execute_reply.started": "2021-11-19T16:00:16.760551Z"
    }
   },
   "outputs": [],
   "source": [
    "### Parameters for data cleaning\n",
    "beta_kernel_clump = 0.1*degree  # gaussian kernel for first clump removal\n",
    "f_clump = 2.5                   # multiple of the avg density field for first clump removal\n",
    "\n",
    "beta_kernel_sub_0 = 0.1*degree;  # gaussian kernels for background subtraction \n",
    "n_sigma_out_0 = 5;               # number of sigmas for outlier removal"
   ]
  },
  {
   "cell_type": "code",
   "execution_count": 3,
   "metadata": {
    "execution": {
     "iopub.execute_input": "2021-11-19T15:59:59.887303Z",
     "iopub.status.busy": "2021-11-19T15:59:59.886777Z",
     "iopub.status.idle": "2021-11-19T16:00:07.674675Z",
     "shell.execute_reply": "2021-11-19T16:00:07.674063Z",
     "shell.execute_reply.started": "2021-11-19T15:59:59.887216Z"
    }
   },
   "outputs": [
    {
     "data": {
      "text/plain": [
       "(3318945, 18)"
      ]
     },
     "execution_count": 3,
     "metadata": {},
     "output_type": "execute_result"
    }
   ],
   "source": [
    "### Import the data\n",
    "data = pd.read_csv(DataDir+sky_p.data_file_name+'.csv')  \n",
    "data.shape #LMC 16709625, SMC 3318945"
   ]
  },
  {
   "cell_type": "code",
   "execution_count": 6,
   "metadata": {
    "execution": {
     "iopub.execute_input": "2021-11-19T16:00:28.450115Z",
     "iopub.status.busy": "2021-11-19T16:00:28.449373Z",
     "iopub.status.idle": "2021-11-19T16:00:29.001201Z",
     "shell.execute_reply": "2021-11-19T16:00:29.000853Z",
     "shell.execute_reply.started": "2021-11-19T16:00:28.450057Z"
    }
   },
   "outputs": [
    {
     "data": {
      "text/plain": [
       "0.7763349498108586"
      ]
     },
     "execution_count": 6,
     "metadata": {},
     "output_type": "execute_result"
    }
   ],
   "source": [
    "# For SMC only: cut on the pm to remove stars from the foreground globular clusters\n",
    "if sky_p.data_file_name == 'SMC_disc_4':   \n",
    "    orig_len = len(data)\n",
    "    data = data[(data['pmra'] < 0.685 + 2) & (data['pmra'] > 0.685 - 2) &\n",
    "                (data['pmdec'] < -1.230 + 2) & (data['pmdec'] > -1.230 - 2) & \n",
    "                (data['parallax']/data['parallax_error'] < 5)]\n",
    "len(data)/orig_len"
   ]
  },
  {
   "cell_type": "markdown",
   "metadata": {},
   "source": [
    "## Execution"
   ]
  },
  {
   "cell_type": "code",
   "execution_count": 7,
   "metadata": {
    "execution": {
     "iopub.execute_input": "2021-11-19T16:00:37.166784Z",
     "iopub.status.busy": "2021-11-19T16:00:37.166361Z",
     "iopub.status.idle": "2021-11-19T16:01:01.792508Z",
     "shell.execute_reply": "2021-11-19T16:01:01.792005Z",
     "shell.execute_reply.started": "2021-11-19T16:00:37.166748Z"
    }
   },
   "outputs": [
    {
     "name": "stderr",
     "output_type": "stream",
     "text": [
      "100%|██████████| 61991/61991 [00:16<00:00, 3674.97it/s]\n"
     ]
    }
   ],
   "source": [
    "### First compute the average pm and parallax fields using a gaussian distance kernel of size beta_kernel_sub_0 = 0.1 deg\n",
    "### Computing the avg field \n",
    "disc_pix, nb_pixel_list, n = fn_prepare_back_sub(data, sky_p.disc_center, sky_p.disc_radius, beta_kernel_sub_0)\n",
    "fn_back_field_sub(data, disc_pix, nb_pixel_list, n, beta_kernel=beta_kernel_sub_0, sub=False)"
   ]
  },
  {
   "cell_type": "code",
   "execution_count": 8,
   "metadata": {
    "execution": {
     "iopub.execute_input": "2021-11-19T16:01:01.793743Z",
     "iopub.status.busy": "2021-11-19T16:01:01.793638Z",
     "iopub.status.idle": "2021-11-19T16:02:47.767110Z",
     "shell.execute_reply": "2021-11-19T16:02:47.766588Z",
     "shell.execute_reply.started": "2021-11-19T16:01:01.793729Z"
    }
   },
   "outputs": [
    {
     "name": "stdout",
     "output_type": "stream",
     "text": [
      "Linear pixel size =  0.014314526715905858  degree\n"
     ]
    },
    {
     "name": "stderr",
     "output_type": "stream",
     "text": [
      "100%|██████████| 246575/246575 [01:43<00:00, 2371.75it/s]\n"
     ]
    },
    {
     "name": "stdout",
     "output_type": "stream",
     "text": [
      "(2536757, 22)\n",
      "Stars removed from the clumps 1.54684 %\n"
     ]
    }
   ],
   "source": [
    "### Clump removal at angular scale beta_kernel_clump = 0.1 deg. Removing clumps which are f_clump = 2.5 denser\n",
    "n_stars_before = len(data)\n",
    "data, clumps = fn_remove_clumps(data, sky_p.disc_center, sky_p.disc_radius, beta_kernel=beta_kernel_clump, f_clumps=f_clump)\n",
    "if sky_p.data_file_name == 'SMC_disc_4':  \n",
    "    clumps = clumps[0]-360*np.heaviside(clumps[0]-300, 0), clumps[1]\n",
    "print(data.shape)\n",
    "print('Stars removed from the clumps', round(100*(1-len(data)/n_stars_before), 5), '%')\n",
    "#np.save(ListDir+sky_p.data_file_name+'_clumps', clumps)"
   ]
  },
  {
   "cell_type": "code",
   "execution_count": 9,
   "metadata": {
    "execution": {
     "iopub.execute_input": "2021-11-19T16:02:53.161878Z",
     "iopub.status.busy": "2021-11-19T16:02:53.161453Z",
     "iopub.status.idle": "2021-11-19T16:02:53.199499Z",
     "shell.execute_reply": "2021-11-19T16:02:53.198464Z",
     "shell.execute_reply.started": "2021-11-19T16:02:53.161834Z"
    }
   },
   "outputs": [
    {
     "data": {
      "text/plain": [
       "((9969,), (9969,))"
      ]
     },
     "execution_count": 9,
     "metadata": {},
     "output_type": "execute_result"
    }
   ],
   "source": [
    "old_clumps_SMC = np.load(ListDir+'SMC_clumps.npy')\n",
    "old_clumps_SMC[0].shape, clumps[0].shape"
   ]
  },
  {
   "cell_type": "code",
   "execution_count": 17,
   "metadata": {
    "execution": {
     "iopub.execute_input": "2021-11-18T22:37:27.090314Z",
     "iopub.status.busy": "2021-11-18T22:37:27.088650Z",
     "iopub.status.idle": "2021-11-18T22:37:27.115749Z",
     "shell.execute_reply": "2021-11-18T22:37:27.115283Z",
     "shell.execute_reply.started": "2021-11-18T22:37:27.090228Z"
    }
   },
   "outputs": [],
   "source": [
    "old_clumps_1 = np.load(ListDir+'LMC_clumps_1.npy')\n",
    "old_clumps_2 = np.load(ListDir+'LMC_clumps_2.npy')\n",
    "old_clumps_1[1].shape, old_clumps_2[0].shape"
   ]
  },
  {
   "cell_type": "code",
   "execution_count": 10,
   "metadata": {
    "execution": {
     "iopub.execute_input": "2021-11-19T16:02:56.410972Z",
     "iopub.status.busy": "2021-11-19T16:02:56.410538Z",
     "iopub.status.idle": "2021-11-19T16:02:56.922326Z",
     "shell.execute_reply": "2021-11-19T16:02:56.921738Z",
     "shell.execute_reply.started": "2021-11-19T16:02:56.410937Z"
    }
   },
   "outputs": [
    {
     "name": "stdout",
     "output_type": "stream",
     "text": [
      "Fraction of outliers removed: 0.58184 %\n"
     ]
    }
   ],
   "source": [
    "### Removal of pm and parallax outliers at more than 5 signa\n",
    "### Notice: for the SMC this has changed slightly because I was using a distance of 50 kpc instead of 60 kpc. Before the fraction of outliers removed was 0.57896 %, now it's 0.58184 %\n",
    "data, f_out = fn_rem_outliers(data, sky_p.pm_esc, sky_p.distance/kpc, n_sigma_out_0) \n",
    "print('Fraction of outliers removed: '+str(f_out*100)[:7]+' %')"
   ]
  },
  {
   "cell_type": "code",
   "execution_count": 11,
   "metadata": {
    "execution": {
     "iopub.execute_input": "2021-11-19T16:04:59.798006Z",
     "iopub.status.busy": "2021-11-19T16:04:59.796595Z",
     "iopub.status.idle": "2021-11-19T16:05:00.345914Z",
     "shell.execute_reply": "2021-11-19T16:05:00.345433Z",
     "shell.execute_reply.started": "2021-11-19T16:04:59.797901Z"
    }
   },
   "outputs": [
    {
     "data": {
      "text/plain": [
       "0.9591407126971205"
      ]
     },
     "execution_count": 11,
     "metadata": {},
     "output_type": "execute_result"
    }
   ],
   "source": [
    "### Additional cuts based on the quality of the astrometric fit\n",
    "old_len = len(data)\n",
    "data = data[(data['ruwe'] < 1.4) & (data['ipd_gof_harmonic_amplitude'] < 0.4) & \n",
    "            (data['ipd_frac_multi_peak'] < 40) & (data['ipd_frac_odd_win'] < 40)]  ### Not using the cut on the parallax\n",
    "len(data)/old_len"
   ]
  },
  {
   "cell_type": "code",
   "execution_count": 39,
   "metadata": {
    "execution": {
     "iopub.execute_input": "2021-10-15T17:48:01.331372Z",
     "iopub.status.busy": "2021-10-15T17:48:01.331052Z",
     "iopub.status.idle": "2021-10-15T17:49:56.708300Z",
     "shell.execute_reply": "2021-10-15T17:49:56.707442Z",
     "shell.execute_reply.started": "2021-10-15T17:48:01.331339Z"
    }
   },
   "outputs": [],
   "source": [
    "# Exporting the cleaned data file as a csv file\n",
    "#data.to_csv(DataDir+sky_p.data_file_name+'_clean.csv', index=False)\n",
    "\n",
    "### Notice: for the SMC, because of the wrong outlier cut on the parallax, the number of stars in the file SMC_disc_4_clean has changed. Previously it was 2419001 (the one currently used for the analysis and the sim)\n",
    "### Using the correct parallax cut, the number of stars should be 2418950"
   ]
  },
  {
   "cell_type": "code",
   "execution_count": null,
   "metadata": {},
   "outputs": [],
   "source": [
    "### Export the cleaned data for the simulation - saving to a npy file makes it much faster to upload.\n",
    "#columns_to_keep = ['ra', 'dec', 'pmra', 'pmdec', 'parallax', 'pmra_error', 'pmdec_error', 'parallax_error', 'phot_g_mean_mag', 'ecl_lon', 'ecl_lat', 'pmra_sub', 'pmdec_sub', 'parallax_sub']\n",
    "#np.save(DataDir+sky_p.data_file_name+'_clean', data[columns_to_keep].to_numpy())"
   ]
  },
  {
   "cell_type": "code",
   "execution_count": 14,
   "metadata": {
    "execution": {
     "iopub.execute_input": "2021-11-19T16:05:53.896352Z",
     "iopub.status.busy": "2021-11-19T16:05:53.895265Z",
     "iopub.status.idle": "2021-11-19T16:05:54.272026Z",
     "shell.execute_reply": "2021-11-19T16:05:54.271603Z",
     "shell.execute_reply.started": "2021-11-19T16:05:53.896294Z"
    }
   },
   "outputs": [
    {
     "data": {
      "text/plain": [
       "(2418950, 14)"
      ]
     },
     "execution_count": 14,
     "metadata": {},
     "output_type": "execute_result"
    }
   ],
   "source": [
    "new_data = data[['ra', 'dec', 'pmra', 'pmdec', 'parallax', 'pmra_error', 'pmdec_error', 'parallax_error', 'phot_g_mean_mag', 'ecl_lon', 'ecl_lat', 'pmra_sub', 'pmdec_sub', 'parallax_sub']].to_numpy()\n",
    "new_data.shape"
   ]
  },
  {
   "cell_type": "code",
   "execution_count": 15,
   "metadata": {
    "execution": {
     "iopub.execute_input": "2021-11-19T16:06:01.074065Z",
     "iopub.status.busy": "2021-11-19T16:06:01.072688Z",
     "iopub.status.idle": "2021-11-19T16:06:01.287096Z",
     "shell.execute_reply": "2021-11-19T16:06:01.286658Z",
     "shell.execute_reply.started": "2021-11-19T16:06:01.073975Z"
    }
   },
   "outputs": [
    {
     "data": {
      "text/plain": [
       "(2419001, 14)"
      ]
     },
     "execution_count": 15,
     "metadata": {},
     "output_type": "execute_result"
    }
   ],
   "source": [
    "old_data_file = np.load(DataDir+sky_p.data_file_name+'_clean.npy')\n",
    "old_data_file.shape"
   ]
  },
  {
   "cell_type": "code",
   "execution_count": 17,
   "metadata": {
    "execution": {
     "iopub.execute_input": "2021-11-19T16:08:49.532508Z",
     "iopub.status.busy": "2021-11-19T16:08:49.531209Z",
     "iopub.status.idle": "2021-11-19T16:08:57.204629Z",
     "shell.execute_reply": "2021-11-19T16:08:57.204144Z",
     "shell.execute_reply.started": "2021-11-19T16:08:49.532435Z"
    }
   },
   "outputs": [
    {
     "data": {
      "text/plain": [
       "(2419001, 22)"
      ]
     },
     "execution_count": 17,
     "metadata": {},
     "output_type": "execute_result"
    }
   ],
   "source": [
    "data_csv = pd.read_csv(DataDir+sky_p.data_file_name+'_clean.csv')  \n",
    "data_csv.shape"
   ]
  },
  {
   "cell_type": "code",
   "execution_count": null,
   "metadata": {},
   "outputs": [],
   "source": []
  }
 ],
 "metadata": {
  "kernelspec": {
   "display_name": "Python 3",
   "language": "python",
   "name": "python3"
  },
  "language_info": {
   "codemirror_mode": {
    "name": "ipython",
    "version": 3
   },
   "file_extension": ".py",
   "mimetype": "text/x-python",
   "name": "python",
   "nbconvert_exporter": "python",
   "pygments_lexer": "ipython3",
   "version": "3.8.5"
  }
 },
 "nbformat": 4,
 "nbformat_minor": 4
}
