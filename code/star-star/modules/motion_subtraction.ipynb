{
 "cells": [
  {
   "cell_type": "code",
   "execution_count": 3,
   "metadata": {
    "ExecuteTime": {
     "end_time": "2022-02-28T14:18:42.873188Z",
     "start_time": "2022-02-28T14:18:40.959580Z"
    },
    "execution": {
     "iopub.execute_input": "2022-02-24T22:04:44.556139Z",
     "iopub.status.busy": "2022-02-24T22:04:44.555668Z",
     "iopub.status.idle": "2022-02-24T22:04:46.150396Z",
     "shell.execute_reply": "2022-02-24T22:04:46.150043Z",
     "shell.execute_reply.started": "2022-02-24T22:04:44.556029Z"
    }
   },
   "outputs": [],
   "source": [
    "import healpy as hp\n",
    "import numpy as np\n",
    "import math\n",
    "import pandas as pd\n",
    "import seaborn as sns\n",
    "from tqdm import tqdm, tqdm_notebook\n",
    "from scipy.special import erf\n",
    "import matplotlib.pyplot as plt\n",
    "import matplotlib as mpl\n",
    "\n",
    "import sys\n",
    "from my_units import * \n",
    "\n",
    "\n",
    "HomeDir = './'\n",
    "DataDir = HomeDir+'data/' ### Set this to the directory where you store your data files (see below how to download them)\n",
    "ListDir = HomeDir+'lists/'\n",
    "FigDir = HomeDir+'figures/'"
   ]
  },
  {
   "cell_type": "markdown",
   "metadata": {},
   "source": [
    "# Background motion subtraction"
   ]
  },
  {
   "cell_type": "markdown",
   "metadata": {},
   "source": [
    "Use the proper motion, acceleration and parallax stats histograms to subtract the mean motion from the background stars and replace the measurement errors with the effective dispersion."
   ]
  },
  {
   "cell_type": "markdown",
   "metadata": {
    "heading_collapsed": "true"
   },
   "source": [
    "## Import data and define bins for the background stars"
   ]
  },
  {
   "cell_type": "code",
   "execution_count": 9,
   "metadata": {
    "ExecuteTime": {
     "end_time": "2022-02-28T14:20:15.711713Z",
     "start_time": "2022-02-28T14:20:14.894932Z"
    },
    "execution": {
     "iopub.execute_input": "2022-02-08T21:56:00.774904Z",
     "iopub.status.busy": "2022-02-08T21:56:00.774282Z",
     "iopub.status.idle": "2022-02-08T21:57:05.786216Z",
     "shell.execute_reply": "2022-02-08T21:57:05.783834Z",
     "shell.execute_reply.started": "2022-02-08T21:56:00.774831Z"
    }
   },
   "outputs": [
    {
     "name": "stdout",
     "output_type": "stream",
     "text": [
      "56862 56658\n",
      "\n",
      "All pairs have been read in.\n"
     ]
    }
   ],
   "source": [
    "all_df = pd.read_csv(HomeDir+ 'accidental_pairs/all_pairs.csv') #All foreground-background pairs.\n",
    "\n",
    "#Make shallow copies of fg-bg sources, separating them into dfs. This makes the code clearer.\n",
    "\n",
    "df_fore = all_df.copy(deep = False).iloc[:,0:18] #Foreground Sources\n",
    "stars_df = all_df.copy(deep = False).iloc[:,18:] #Background sources\n",
    "\n",
    "df_fore.columns = ['source_id', 'ra', 'dec', 'ra_error', 'dec_error',\n",
    "       'ra_dec_corr', 'pmra', 'pmdec', 'pmra_error',\n",
    "       'pmdec_error', 'pmra_pmdec_corr', 'parallax',\n",
    "       'parallax_error', 'ecl_lon', 'ecl_lat', 'phot_g_mean_mag',\n",
    "       'l', 'b']\n",
    "\n",
    "stars_df.columns = ['source_id', 'ra', 'dec', 'ra_error', 'dec_error',\n",
    "       'ra_dec_corr', 'pmra', 'pmdec', 'pmra_error',\n",
    "       'pmdec_error', 'pmra_pmdec_corr', 'parallax',\n",
    "       'parallax_error', 'ecl_lon', 'ecl_lat', 'phot_g_mean_mag',\n",
    "       'acc_ra', 'acc_ra_error', 'acc_dec',\n",
    "       'acc_dec_error', 'l', 'b']\n",
    "\n",
    "# Keep only stars with G mag measurement\n",
    "length_before = len(stars_df)\n",
    "stars_df = stars_df[~np.isnan(stars_df['phot_g_mean_mag'])]\n",
    "print(length_before, len(stars_df))\n",
    "\n",
    "print('\\nAll pairs have been read in.'); sys.stdout.flush()"
   ]
  },
  {
   "cell_type": "code",
   "execution_count": 10,
   "metadata": {
    "ExecuteTime": {
     "end_time": "2022-02-28T14:20:17.297197Z",
     "start_time": "2022-02-28T14:20:17.292263Z"
    },
    "execution": {
     "iopub.execute_input": "2022-02-08T21:57:14.933642Z",
     "iopub.status.busy": "2022-02-08T21:57:14.933280Z",
     "iopub.status.idle": "2022-02-08T21:57:14.959893Z",
     "shell.execute_reply": "2022-02-08T21:57:14.958899Z",
     "shell.execute_reply.started": "2022-02-08T21:57:14.933608Z"
    }
   },
   "outputs": [],
   "source": [
    "### Parallax and G mag bin definition\n",
    "bins_parallax = np.concatenate([[-1000],np.logspace(np.log10(0.05),np.log10(2),10),[1000]])\n",
    "bins_G = np.arange(3,23,1) # the min and max G mag in the entire catalog are 3 and 21\n",
    "\n",
    "### Spatial pixelation with healpy pixels at level 8 (as used in EDR3)\n",
    "n = 8\n",
    "fac_source_id = 2**(59-2*n) # factorization used to extract the healpy bin from the source id"
   ]
  },
  {
   "cell_type": "code",
   "execution_count": 11,
   "metadata": {
    "ExecuteTime": {
     "end_time": "2022-02-28T14:20:17.770623Z",
     "start_time": "2022-02-28T14:20:17.681861Z"
    },
    "execution": {
     "iopub.execute_input": "2022-02-08T21:57:28.424881Z",
     "iopub.status.busy": "2022-02-08T21:57:28.424230Z",
     "iopub.status.idle": "2022-02-08T21:57:30.667759Z",
     "shell.execute_reply": "2022-02-08T21:57:30.667320Z",
     "shell.execute_reply.started": "2022-02-08T21:57:28.424801Z"
    }
   },
   "outputs": [],
   "source": [
    "### Get the bin index for the background stars\n",
    "q_pix = np.floor(stars_df['source_id'].to_numpy() / fac_source_id).astype(int) # healpix bin\n",
    "\n",
    "q_G = np.digitize(stars_df['phot_g_mean_mag'], bins_G)-1 # G mag bin\n",
    "\n",
    "### Probabilistic assignment to parallax bins\n",
    "stars_parallax = stars_df['parallax'].to_numpy(); stars_parallax_error = stars_df['parallax_error'].to_numpy();\n",
    "prob_parallax = np.nan * np.ones((len(stars_df),len(bins_parallax)-1))\n",
    "for i in range(len(bins_parallax)-1):\n",
    "    x1_list = (bins_parallax[i]-stars_parallax)/stars_parallax_error/np.sqrt(2)\n",
    "    x2_list = (bins_parallax[i+1]-stars_parallax)/stars_parallax_error/np.sqrt(2)\n",
    "    prob_parallax[:,i] = 0.5*(erf(x2_list)-erf(x1_list))"
   ]
  },
  {
   "cell_type": "markdown",
   "metadata": {
    "heading_collapsed": "true"
   },
   "source": [
    "## Get stats for each star and save result"
   ]
  },
  {
   "cell_type": "markdown",
   "metadata": {
    "execution": {
     "iopub.execute_input": "2022-02-08T23:07:32.010255Z",
     "iopub.status.busy": "2022-02-08T23:07:32.009836Z",
     "iopub.status.idle": "2022-02-08T23:07:32.020284Z",
     "shell.execute_reply": "2022-02-08T23:07:32.018164Z",
     "shell.execute_reply.started": "2022-02-08T23:07:32.010153Z"
    }
   },
   "source": [
    "Download proper motion and parallax stats histograms here:\n",
    "https://www.dropbox.com/sh/9lk85sttj8bl6wj/AAAFQqA2mud7kpEjAvFzDLo7a?dl=0"
   ]
  },
  {
   "cell_type": "code",
   "execution_count": 12,
   "metadata": {
    "ExecuteTime": {
     "end_time": "2022-02-28T14:20:19.253073Z",
     "start_time": "2022-02-28T14:20:19.247040Z"
    },
    "execution": {
     "iopub.execute_input": "2022-02-08T21:57:32.925997Z",
     "iopub.status.busy": "2022-02-08T21:57:32.925195Z",
     "iopub.status.idle": "2022-02-08T21:57:32.948128Z",
     "shell.execute_reply": "2022-02-08T21:57:32.946677Z",
     "shell.execute_reply.started": "2022-02-08T21:57:32.925942Z"
    }
   },
   "outputs": [
    {
     "name": "stdout",
     "output_type": "stream",
     "text": [
      "\n",
      "Number of pairs: 56658\n"
     ]
    }
   ],
   "source": [
    "### Indices of the stars in the flattened stats histogram\n",
    "stars_i = q_G + q_pix*(len(bins_G)-1) \n",
    "print('\\nNumber of pairs: ' + str(len(stars_i))); sys.stdout.flush()"
   ]
  },
  {
   "cell_type": "code",
   "execution_count": 60,
   "metadata": {
    "ExecuteTime": {
     "end_time": "2022-02-28T19:13:21.797194Z",
     "start_time": "2022-02-28T19:09:12.017695Z"
    },
    "execution": {
     "iopub.execute_input": "2022-02-08T21:57:34.043508Z",
     "iopub.status.busy": "2022-02-08T21:57:34.043080Z",
     "iopub.status.idle": "2022-02-08T22:00:25.651129Z",
     "shell.execute_reply": "2022-02-08T22:00:25.648908Z",
     "shell.execute_reply.started": "2022-02-08T21:57:34.043469Z"
    }
   },
   "outputs": [
    {
     "name": "stderr",
     "output_type": "stream",
     "text": [
      "\r",
      "  0%|                                                                                            | 0/11 [00:00<?, ?it/s]"
     ]
    },
    {
     "name": "stdout",
     "output_type": "stream",
     "text": [
      "(14942208, 9)\n"
     ]
    },
    {
     "name": "stderr",
     "output_type": "stream",
     "text": [
      "\r",
      "  9%|███████▋                                                                            | 1/11 [00:19<03:14, 19.45s/it]"
     ]
    },
    {
     "name": "stdout",
     "output_type": "stream",
     "text": [
      "(14942208, 9)\n"
     ]
    },
    {
     "name": "stderr",
     "output_type": "stream",
     "text": [
      "\r",
      " 18%|███████████████▎                                                                    | 2/11 [00:35<02:38, 17.60s/it]"
     ]
    },
    {
     "name": "stdout",
     "output_type": "stream",
     "text": [
      "(14942208, 9)\n"
     ]
    },
    {
     "name": "stderr",
     "output_type": "stream",
     "text": [
      "\r",
      " 27%|██████████████████████▉                                                             | 3/11 [00:56<02:33, 19.18s/it]"
     ]
    },
    {
     "name": "stdout",
     "output_type": "stream",
     "text": [
      "(14942208, 9)\n"
     ]
    },
    {
     "name": "stderr",
     "output_type": "stream",
     "text": [
      "\r",
      " 36%|██████████████████████████████▌                                                     | 4/11 [01:18<02:21, 20.17s/it]"
     ]
    },
    {
     "name": "stdout",
     "output_type": "stream",
     "text": [
      "(14942208, 9)\n"
     ]
    },
    {
     "name": "stderr",
     "output_type": "stream",
     "text": [
      "\r",
      " 45%|██████████████████████████████████████▏                                             | 5/11 [01:45<02:14, 22.47s/it]"
     ]
    },
    {
     "name": "stdout",
     "output_type": "stream",
     "text": [
      "(14942208, 9)\n"
     ]
    },
    {
     "name": "stderr",
     "output_type": "stream",
     "text": [
      "\r",
      " 55%|█████████████████████████████████████████████▊                                      | 6/11 [02:08<01:53, 22.72s/it]"
     ]
    },
    {
     "name": "stdout",
     "output_type": "stream",
     "text": [
      "(14942208, 9)\n"
     ]
    },
    {
     "name": "stderr",
     "output_type": "stream",
     "text": [
      "\r",
      " 64%|█████████████████████████████████████████████████████▍                              | 7/11 [02:32<01:32, 23.08s/it]"
     ]
    },
    {
     "name": "stdout",
     "output_type": "stream",
     "text": [
      "(14942208, 9)\n"
     ]
    },
    {
     "name": "stderr",
     "output_type": "stream",
     "text": [
      "\r",
      " 73%|█████████████████████████████████████████████████████████████                       | 8/11 [02:55<01:09, 23.33s/it]"
     ]
    },
    {
     "name": "stdout",
     "output_type": "stream",
     "text": [
      "(14942208, 9)\n"
     ]
    },
    {
     "name": "stderr",
     "output_type": "stream",
     "text": [
      "\r",
      " 82%|████████████████████████████████████████████████████████████████████▋               | 9/11 [03:20<00:47, 23.77s/it]"
     ]
    },
    {
     "name": "stdout",
     "output_type": "stream",
     "text": [
      "(14942208, 9)\n"
     ]
    },
    {
     "name": "stderr",
     "output_type": "stream",
     "text": [
      "\r",
      " 91%|███████████████████████████████████████████████████████████████████████████▍       | 10/11 [03:48<00:25, 25.08s/it]"
     ]
    },
    {
     "name": "stdout",
     "output_type": "stream",
     "text": [
      "(14942208, 9)\n"
     ]
    },
    {
     "name": "stderr",
     "output_type": "stream",
     "text": [
      "100%|███████████████████████████████████████████████████████████████████████████████████| 11/11 [04:09<00:00, 22.71s/it]\n"
     ]
    }
   ],
   "source": [
    "### Get proper motion stats (need to loop over parallax bins)\n",
    "\n",
    "w_pm_st = np.zeros((len(stars_df), 5)); w_pm_sum = np.zeros((len(stars_df), 5));\n",
    "tot_pm = 0\n",
    "\n",
    "for i in tqdm(range(len(bins_parallax)-1)):\n",
    "\n",
    "    hist_pm = pd.read_csv(ListDir+'hist_stats/hist_pm_stats_'+str(i)+'.csv') # read in histogram\n",
    "    print(hist_pm.shape)\n",
    "    tot_pm += hist_pm.shape[0]\n",
    "    hist_pm.sort_values(['pix','G_bin'],inplace=True) # sort histogram\n",
    "    stars_stat = hist_pm.iloc[stars_i] # get stats for the stars in the list\n",
    "    st = stars_stat[['mean_pmra', 'mean_pmdec', 'var_pmra', 'var_pmdec', 'var_pmradec']].to_numpy()\n",
    "    \n",
    "    no_nan_loc_to_1 = (~np.isnan(st)).astype(int) # convert to 1 non-nan elements and to 0 nan elements (to sum over weights)\n",
    "    w_pm_sum += (no_nan_loc_to_1.T * prob_parallax[:, i]).T        \n",
    "    st[np.isnan(st)] = 0 # replace nan values with zero\n",
    "    w_pm_st += (st.T * prob_parallax[:, i]).T # weighted statistic for i-th parallax bin   \n",
    "    \n",
    "w_pm_st = w_pm_st/(w_pm_sum + 1E-20)"
   ]
  },
  {
   "cell_type": "code",
   "execution_count": 61,
   "metadata": {
    "ExecuteTime": {
     "end_time": "2022-02-28T19:13:21.808245Z",
     "start_time": "2022-02-28T19:13:21.802640Z"
    }
   },
   "outputs": [
    {
     "name": "stdout",
     "output_type": "stream",
     "text": [
      "\n",
      "Proper motion stats have been read in.\n"
     ]
    }
   ],
   "source": [
    "print('\\nProper motion stats have been read in.'); sys.stdout.flush()"
   ]
  },
  {
   "cell_type": "code",
   "execution_count": 63,
   "metadata": {
    "ExecuteTime": {
     "end_time": "2022-02-28T19:17:56.384293Z",
     "start_time": "2022-02-28T19:13:21.853036Z"
    }
   },
   "outputs": [
    {
     "name": "stderr",
     "output_type": "stream",
     "text": [
      "\r",
      "  0%|                                                                                            | 0/11 [00:00<?, ?it/s]"
     ]
    },
    {
     "name": "stdout",
     "output_type": "stream",
     "text": [
      "(14942132, 9)\n"
     ]
    },
    {
     "name": "stderr",
     "output_type": "stream",
     "text": [
      "\r",
      "  9%|███████▋                                                                            | 1/11 [00:29<04:53, 29.31s/it]"
     ]
    },
    {
     "name": "stdout",
     "output_type": "stream",
     "text": [
      "(14942132, 9)\n"
     ]
    },
    {
     "name": "stderr",
     "output_type": "stream",
     "text": [
      "\r",
      " 18%|███████████████▎                                                                    | 2/11 [00:48<03:30, 23.38s/it]"
     ]
    },
    {
     "name": "stdout",
     "output_type": "stream",
     "text": [
      "(14942132, 9)\n"
     ]
    },
    {
     "name": "stderr",
     "output_type": "stream",
     "text": [
      "\r",
      " 27%|██████████████████████▉                                                             | 3/11 [01:13<03:12, 24.02s/it]"
     ]
    },
    {
     "name": "stdout",
     "output_type": "stream",
     "text": [
      "(14942132, 9)\n"
     ]
    },
    {
     "name": "stderr",
     "output_type": "stream",
     "text": [
      "\r",
      " 36%|██████████████████████████████▌                                                     | 4/11 [01:44<03:07, 26.82s/it]"
     ]
    },
    {
     "name": "stdout",
     "output_type": "stream",
     "text": [
      "(14942132, 9)\n"
     ]
    },
    {
     "name": "stderr",
     "output_type": "stream",
     "text": [
      "\r",
      " 45%|██████████████████████████████████████▏                                             | 5/11 [02:05<02:29, 24.91s/it]"
     ]
    },
    {
     "name": "stdout",
     "output_type": "stream",
     "text": [
      "(14942132, 9)\n"
     ]
    },
    {
     "name": "stderr",
     "output_type": "stream",
     "text": [
      "\r",
      " 55%|█████████████████████████████████████████████▊                                      | 6/11 [02:31<02:05, 25.14s/it]"
     ]
    },
    {
     "name": "stdout",
     "output_type": "stream",
     "text": [
      "(14942132, 9)\n"
     ]
    },
    {
     "name": "stderr",
     "output_type": "stream",
     "text": [
      "\r",
      " 64%|█████████████████████████████████████████████████████▍                              | 7/11 [02:53<01:36, 24.22s/it]"
     ]
    },
    {
     "name": "stdout",
     "output_type": "stream",
     "text": [
      "(14942132, 9)\n"
     ]
    },
    {
     "name": "stderr",
     "output_type": "stream",
     "text": [
      "\r",
      " 73%|█████████████████████████████████████████████████████████████                       | 8/11 [03:17<01:11, 23.92s/it]"
     ]
    },
    {
     "name": "stdout",
     "output_type": "stream",
     "text": [
      "(14942132, 9)\n"
     ]
    },
    {
     "name": "stderr",
     "output_type": "stream",
     "text": [
      "\r",
      " 82%|████████████████████████████████████████████████████████████████████▋               | 9/11 [03:39<00:47, 23.57s/it]"
     ]
    },
    {
     "name": "stdout",
     "output_type": "stream",
     "text": [
      "(14942132, 9)\n"
     ]
    },
    {
     "name": "stderr",
     "output_type": "stream",
     "text": [
      "\r",
      " 91%|███████████████████████████████████████████████████████████████████████████▍       | 10/11 [04:10<00:25, 25.79s/it]"
     ]
    },
    {
     "name": "stdout",
     "output_type": "stream",
     "text": [
      "(14942132, 9)\n"
     ]
    },
    {
     "name": "stderr",
     "output_type": "stream",
     "text": [
      "100%|███████████████████████████████████████████████████████████████████████████████████| 11/11 [04:34<00:00, 24.96s/it]\n"
     ]
    }
   ],
   "source": [
    "### Get acceleration stats (need to loop over parallax bins)\n",
    "\n",
    "w_acc_st = np.zeros((len(stars_df), 5)); w_acc_sum = np.zeros((len(stars_df), 5));\n",
    "tot_acc = 0\n",
    "for i in tqdm(range(len(bins_parallax)-1)):\n",
    "\n",
    "    hist_acc = pd.read_csv(ListDir+'hist_stats/hist_accel_stats_'+str(i)+'.csv') # read in histogram\n",
    "    print(hist_acc.shape)\n",
    "    hist_acc.sort_values(['pix','G_bin'],inplace=True) # sort histogram\n",
    "    stars_stat = hist_acc.iloc[stars_i] # get stats for the stars in the list\n",
    "    st = stars_stat[['mean_acc_ra', 'mean_acc_dec', 'var_acc_ra', 'var_acc_dec', 'var_acc_radec']].to_numpy()\n",
    "    \n",
    "    no_nan_loc_to_1 = (~np.isnan(st)).astype(int) # convert to 1 non-nan elements and to 0 nan elements (to sum over weights)\n",
    "    w_acc_sum += (no_nan_loc_to_1.T * prob_parallax[:, i]).T        \n",
    "    st[np.isnan(st)] = 0 # replace nan values with zero\n",
    "    w_acc_st += (st.T * prob_parallax[:, i]).T # weighted statistic for i-th parallax bin   \n",
    "    \n",
    "w_acc_st = w_acc_st/(w_acc_sum + 1E-20)"
   ]
  },
  {
   "cell_type": "code",
   "execution_count": 43,
   "metadata": {
    "ExecuteTime": {
     "end_time": "2022-02-28T18:25:27.825880Z",
     "start_time": "2022-02-28T18:25:27.820232Z"
    }
   },
   "outputs": [
    {
     "name": "stdout",
     "output_type": "stream",
     "text": [
      "\n",
      "Acceleration stats have been read in.\n"
     ]
    }
   ],
   "source": [
    "print('\\nAcceleration stats have been read in.'); sys.stdout.flush()"
   ]
  },
  {
   "cell_type": "code",
   "execution_count": 45,
   "metadata": {
    "ExecuteTime": {
     "end_time": "2022-02-28T18:25:52.754540Z",
     "start_time": "2022-02-28T18:25:39.302269Z"
    },
    "execution": {
     "iopub.execute_input": "2022-02-08T22:00:25.655784Z",
     "iopub.status.busy": "2022-02-08T22:00:25.655523Z",
     "iopub.status.idle": "2022-02-08T22:00:34.829164Z",
     "shell.execute_reply": "2022-02-08T22:00:34.828404Z",
     "shell.execute_reply.started": "2022-02-08T22:00:25.655768Z"
    }
   },
   "outputs": [],
   "source": [
    "### Get parallax stats\n",
    "\n",
    "hist = pd.read_csv(ListDir+'hist_stats/hist_par_stats.csv') # read in histogram\n",
    "hist.sort_values(['pix','G_bin'],inplace=True) # sort histogram\n",
    "stars_par_stat = hist.iloc[stars_i] # get stats for the stars in the list\n",
    "st_par = stars_par_stat[['mean_parallax', 'parallax_error']].to_numpy()"
   ]
  },
  {
   "cell_type": "code",
   "execution_count": 46,
   "metadata": {
    "ExecuteTime": {
     "end_time": "2022-02-28T18:25:52.763224Z",
     "start_time": "2022-02-28T18:25:52.757384Z"
    }
   },
   "outputs": [
    {
     "name": "stdout",
     "output_type": "stream",
     "text": [
      "\n",
      "Parallax stats have been read in.\n"
     ]
    }
   ],
   "source": [
    "print('\\nParallax stats have been read in.'); sys.stdout.flush()"
   ]
  },
  {
   "cell_type": "code",
   "execution_count": 47,
   "metadata": {
    "ExecuteTime": {
     "end_time": "2022-02-28T18:25:52.807390Z",
     "start_time": "2022-02-28T18:25:52.766792Z"
    },
    "execution": {
     "iopub.execute_input": "2022-02-08T22:00:34.837674Z",
     "iopub.status.busy": "2022-02-08T22:00:34.837511Z",
     "iopub.status.idle": "2022-02-08T22:00:35.367667Z",
     "shell.execute_reply": "2022-02-08T22:00:35.367313Z",
     "shell.execute_reply.started": "2022-02-08T22:00:34.837660Z"
    }
   },
   "outputs": [],
   "source": [
    "### Join pm and parallax stats \n",
    "stats_df = pd.DataFrame(np.concatenate((w_pm_st, w_acc_st, st_par), axis=1), columns=['mean_pmra', 'mean_pmdec', 'var_pmra', 'var_pmdec', 'var_pmradec', 'mean_acc_ra', 'mean_acc_dec', 'var_acc_ra', 'var_acc_dec', 'var_acc_radec','mean_parallax', 'parallax_error'])\n",
    "### For some stars stats info is not avaliable. Replace nan values with zero.\n",
    "stats_df.replace(np.nan, 0, inplace=True)"
   ]
  },
  {
   "cell_type": "code",
   "execution_count": 48,
   "metadata": {
    "ExecuteTime": {
     "end_time": "2022-02-28T18:25:52.867148Z",
     "start_time": "2022-02-28T18:25:52.811510Z"
    },
    "execution": {
     "iopub.execute_input": "2022-02-08T22:03:54.228508Z",
     "iopub.status.busy": "2022-02-08T22:03:54.227354Z",
     "iopub.status.idle": "2022-02-08T22:03:54.625227Z",
     "shell.execute_reply": "2022-02-08T22:03:54.624810Z",
     "shell.execute_reply.started": "2022-02-08T22:03:54.228408Z"
    }
   },
   "outputs": [],
   "source": [
    "### Add columns to the stars data fram with the subtracted quantities and the effective errors\n",
    "stars_df['pmra_sub'] = stars_df['pmra'] - stats_df['mean_pmra'].to_numpy()\n",
    "stars_df['pmdec_sub'] = stars_df['pmdec'] - stats_df['mean_pmdec'].to_numpy()\n",
    "stars_df['parallax_sub'] = stars_df['parallax'] - stats_df['mean_parallax'].to_numpy()\n",
    "stars_df['acc_ra_sub'] = stars_df['acc_ra'] - stats_df['mean_acc_ra'].to_numpy()\n",
    "stars_df['acc_dec_sub'] = stars_df['acc_dec'] - stats_df['mean_acc_dec'].to_numpy()\n",
    "\n",
    "stars_df['parallax_eff_error'] = stats_df['parallax_error'].to_numpy()\n",
    "stars_df['pmra_eff_error'] = np.sqrt(stats_df['var_pmra'].to_numpy())\n",
    "stars_df['pmdec_eff_error'] = np.sqrt(stats_df['var_pmdec'].to_numpy())\n",
    "stars_df['acc_ra_eff_error'] = np.sqrt(stats_df['var_acc_ra'].to_numpy())\n",
    "stars_df['acc_dec_eff_error'] = np.sqrt(stats_df['var_acc_dec'].to_numpy())"
   ]
  },
  {
   "cell_type": "code",
   "execution_count": 49,
   "metadata": {
    "ExecuteTime": {
     "end_time": "2022-02-28T18:25:52.897614Z",
     "start_time": "2022-02-28T18:25:52.869898Z"
    },
    "execution": {
     "iopub.execute_input": "2022-02-08T22:07:19.102087Z",
     "iopub.status.busy": "2022-02-08T22:07:19.101457Z",
     "iopub.status.idle": "2022-02-08T22:07:19.339830Z",
     "shell.execute_reply": "2022-02-08T22:07:19.339409Z",
     "shell.execute_reply.started": "2022-02-08T22:07:19.102021Z"
    }
   },
   "outputs": [
    {
     "name": "stdout",
     "output_type": "stream",
     "text": [
      "4814 3310\n"
     ]
    },
    {
     "name": "stderr",
     "output_type": "stream",
     "text": [
      "/home/andreas/anaconda3/envs/lens_project/lib/python3.9/site-packages/pandas/core/indexing.py:1637: SettingWithCopyWarning: \n",
      "A value is trying to be set on a copy of a slice from a DataFrame\n",
      "\n",
      "See the caveats in the documentation: https://pandas.pydata.org/pandas-docs/stable/user_guide/indexing.html#returning-a-view-versus-a-copy\n",
      "  self._setitem_single_block(indexer, value, name)\n"
     ]
    }
   ],
   "source": [
    "### For stars that do not have stats info, use the instrumental error instead of the effective error\n",
    "zero_ind_pm = (stats_df['mean_pmra'].to_numpy()==0)\n",
    "zero_ind_acc = (stats_df['mean_acc_ra'].to_numpy()==0)\n",
    "zero_ind_par = (stats_df['mean_parallax'].to_numpy()==0)\n",
    "print(len(stats_df[zero_ind_pm]), len(stats_df[zero_ind_par]))\n",
    "\n",
    "stars_df['pmra_eff_error'].iloc[zero_ind_pm] = stars_df['pmra_error'].iloc[zero_ind_pm]\n",
    "stars_df['pmdec_eff_error'].iloc[zero_ind_pm] = stars_df['pmdec_error'].iloc[zero_ind_pm]\n",
    "stars_df['acc_ra_eff_error'].iloc[zero_ind_acc] = stars_df['acc_ra_error'].iloc[zero_ind_acc]\n",
    "stars_df['acc_dec_eff_error'].iloc[zero_ind_acc] = stars_df['acc_dec_error'].iloc[zero_ind_acc]\n",
    "\n",
    "stars_df['parallax_eff_error'].iloc[zero_ind_par] = stars_df['parallax_error'].iloc[zero_ind_par]"
   ]
  },
  {
   "cell_type": "code",
   "execution_count": 50,
   "metadata": {
    "ExecuteTime": {
     "end_time": "2022-02-28T18:25:52.915275Z",
     "start_time": "2022-02-28T18:25:52.902537Z"
    },
    "execution": {
     "iopub.execute_input": "2022-02-08T22:08:19.919493Z",
     "iopub.status.busy": "2022-02-08T22:08:19.919050Z",
     "iopub.status.idle": "2022-02-08T22:08:32.055673Z",
     "shell.execute_reply": "2022-02-08T22:08:32.054492Z",
     "shell.execute_reply.started": "2022-02-08T22:08:19.919452Z"
    }
   },
   "outputs": [],
   "source": [
    "### Add column for the pmra and pmdec correlation\n",
    "stars_df['pmra_pmdec_eff_corr'] = stats_df['var_pmradec'].to_numpy()/(stars_df['pmra_eff_error'].to_numpy()*stars_df['pmdec_eff_error'].to_numpy())\n",
    "stars_df['pmra_pmdec_eff_corr'].iloc[zero_ind_pm] = stars_df['pmra_pmdec_corr'].iloc[zero_ind_pm]"
   ]
  },
  {
   "cell_type": "code",
   "execution_count": 53,
   "metadata": {
    "ExecuteTime": {
     "end_time": "2022-02-28T18:26:22.904005Z",
     "start_time": "2022-02-28T18:26:18.684948Z"
    },
    "execution": {
     "iopub.execute_input": "2021-05-20T21:45:15.545004Z",
     "iopub.status.busy": "2021-05-20T21:45:15.544397Z",
     "iopub.status.idle": "2021-05-20T21:52:10.803781Z",
     "shell.execute_reply": "2021-05-20T21:52:10.801279Z",
     "shell.execute_reply.started": "2021-05-20T21:45:15.544937Z"
    }
   },
   "outputs": [
    {
     "name": "stdout",
     "output_type": "stream",
     "text": [
      "\n",
      "Background pairs w/ stats have been saved.\n",
      "\n",
      "Foreground pairs have been saved.\n"
     ]
    }
   ],
   "source": [
    "### Save file with the subtracted motion and effective error\n",
    "stars_df.to_csv('pairs_background_w_st.csv', index=False, chunksize=100000)\n",
    "print('\\nBackground pairs w/ stats have been saved.'); sys.stdout.flush()\n",
    "\n",
    "df_fore.to_csv('pairs_foreground', index=False, chunksize=100000)\n",
    "print('\\nForeground pairs have been saved.'); sys.stdout.flush()"
   ]
  },
  {
   "cell_type": "markdown",
   "metadata": {
    "heading_collapsed": "true"
   },
   "source": [
    "## Plots"
   ]
  },
  {
   "cell_type": "code",
   "execution_count": 54,
   "metadata": {
    "ExecuteTime": {
     "end_time": "2022-02-28T18:26:36.710304Z",
     "start_time": "2022-02-28T18:26:34.118457Z"
    },
    "execution": {
     "iopub.execute_input": "2022-02-08T22:17:25.778355Z",
     "iopub.status.busy": "2022-02-08T22:17:25.777431Z",
     "iopub.status.idle": "2022-02-08T22:17:30.039214Z",
     "shell.execute_reply": "2022-02-08T22:17:30.038827Z",
     "shell.execute_reply.started": "2022-02-08T22:17:25.778294Z"
    }
   },
   "outputs": [
    {
     "data": {
      "image/png": "[encoded data removed]",
      "text/plain": [
       "<Figure size 1152x288 with 3 Axes>"
      ]
     },
     "metadata": {
      "needs_background": "light"
     },
     "output_type": "display_data"
    }
   ],
   "source": [
    "fig,ax = plt.subplots(1,3,figsize=(16,4))\n",
    "\n",
    "xmax, nbins = 15, 70\n",
    "ax[0].hist(stars_df['pmra'], bins=np.linspace(-xmax, xmax, nbins), log=False, density=True, histtype='step');\n",
    "ax[0].hist(stars_df['pmra_sub'], bins=np.linspace(-xmax, xmax, nbins), log=False, density=True, histtype='step');\n",
    "ax[0].hist(stars_df['pmdec'], bins=np.linspace(-xmax, xmax, nbins), log=False, density=True, histtype='step');\n",
    "ax[0].hist(stars_df['pmdec_sub'], bins=np.linspace(-xmax, xmax, nbins), log=False, density=True, histtype='step');\n",
    "ax[0].legend([r'$\\mu_\\alpha$', r'$\\mu_\\alpha - \\langle \\mu_\\alpha \\rangle$', '$\\mu_\\delta$', r'$\\mu_\\delta - \\langle \\mu_\\delta \\rangle$'], loc='upper right', fontsize = 8, frameon=False);\n",
    "ax[0].set_xlabel(r'$\\mu$ [mas/y]'); ax[0].set_ylabel(r'occurrence [$\\%$]');\n",
    "#ax.set_title(r'Velocity template for '+str(len(tau_list[map_count>min_count]))+' subsets', fontsize = 16);\n",
    "\n",
    "xmax, nbins = 30, 70\n",
    "ax[1].hist(stars_df['pmra_error'], bins=np.linspace(0, xmax, nbins), log=True, density=True, histtype='step');\n",
    "ax[1].hist(stars_df['pmra_eff_error'], bins=np.linspace(0, xmax, nbins), log=True, density=True, histtype='step');\n",
    "ax[1].hist(stars_df['pmdec_error'], bins=np.linspace(0, xmax, nbins), log=True, density=True, histtype='step');\n",
    "ax[1].hist(stars_df['pmdec_eff_error'], bins=np.linspace(0, xmax, nbins), log=True, density=True, histtype='step');\n",
    "ax[1].legend([r'$\\sigma_{\\mu\\alpha, \\mathrm{Gaia}}$', r'$\\sigma_{\\mu\\alpha, \\mathrm{eff}}$', r'$\\sigma_{\\mu\\delta, \\mathrm{Gaia}}$', r'$\\sigma_{\\mu\\delta, \\mathrm{eff}}$'], \n",
    "             loc='upper right', fontsize = 8, frameon=False);\n",
    "ax[1].set_xlabel(r'$\\sigma_\\mu [mas/y]$'); #ax[1].set_ylabel(r'occurrence [$\\%$]');\n",
    "\n",
    "xmax, nbins = 30, 70\n",
    "ax[2].hist(stars_df['pmra_sub']/stars_df['pmra_error'], bins=np.linspace(-xmax, xmax, nbins), log=True, density=True, histtype='step');\n",
    "ax[2].hist(stars_df['pmra_sub']/stars_df['pmra_eff_error'], bins=np.linspace(-xmax, xmax, nbins), log=True, density=True, histtype='step');\n",
    "ax[2].hist(stars_df['pmdec_sub']/stars_df['pmdec_error'], bins=np.linspace(-xmax, xmax, nbins), log=True, density=True, histtype='step');\n",
    "ax[2].hist(stars_df['pmdec_sub']/stars_df['pmdec_eff_error'], bins=np.linspace(-xmax, xmax, nbins), log=True, density=True, histtype='step');\n",
    "ax[2].legend([r'$\\mu_{\\alpha}/\\sigma_{\\mu\\alpha}$', r'$\\mu_{\\alpha}/\\sigma_{\\mu\\alpha, \\mathrm{eff}}$', \n",
    "              r'$\\mu_{\\delta}/\\sigma_{\\mu\\delta}$', r'$\\mu_{\\delta}/\\sigma_{\\mu\\delta, \\mathrm{eff}}$'], loc='upper right', fontsize = 8, frameon=False);\n",
    "ax[2].set_xlabel(r'$\\mu_\\mathrm{subtracted}/\\sigma_\\mu$'); #ax[2].set_ylabel(r'occurrence [$\\%$]');\n",
    "\n",
    "plt.tight_layout()\n",
    "fig.savefig(FigDir+'pm_stats.pdf')"
   ]
  },
  {
   "cell_type": "code",
   "execution_count": 55,
   "metadata": {
    "ExecuteTime": {
     "end_time": "2022-02-28T18:26:36.722338Z",
     "start_time": "2022-02-28T18:26:36.714261Z"
    }
   },
   "outputs": [
    {
     "name": "stdout",
     "output_type": "stream",
     "text": [
      "\n",
      "Proper motion plots have been made.\n"
     ]
    }
   ],
   "source": [
    "print('\\nProper motion plots have been made.'); sys.stdout.flush()"
   ]
  },
  {
   "cell_type": "code",
   "execution_count": 56,
   "metadata": {
    "ExecuteTime": {
     "end_time": "2022-02-28T18:26:38.752385Z",
     "start_time": "2022-02-28T18:26:36.726326Z"
    }
   },
   "outputs": [
    {
     "data": {
      "image/png": "[encoded data removed]",
      "text/plain": [
       "<Figure size 1152x288 with 3 Axes>"
      ]
     },
     "metadata": {
      "needs_background": "light"
     },
     "output_type": "display_data"
    }
   ],
   "source": [
    "fig,ax = plt.subplots(1,3,figsize=(16,4))\n",
    "\n",
    "xmax, nbins = 15, 70\n",
    "ax[0].hist(stars_df['acc_ra'], bins=np.linspace(-xmax, xmax, nbins), log=False, density=True, histtype='step');\n",
    "ax[0].hist(stars_df['acc_ra_sub'], bins=np.linspace(-xmax, xmax, nbins), log=False, density=True, histtype='step');\n",
    "ax[0].hist(stars_df['acc_dec'], bins=np.linspace(-xmax, xmax, nbins), log=False, density=True, histtype='step');\n",
    "ax[0].hist(stars_df['acc_dec_sub'], bins=np.linspace(-xmax, xmax, nbins), log=False, density=True, histtype='step');\n",
    "ax[0].legend([r'$\\alpha_\\alpha$', r'$\\alpha_\\alpha - \\langle \\alpha_\\alpha \\rangle$', r'$\\alpha_\\delta$', r'$\\alpha_\\delta - \\langle \\alpha_\\delta \\rangle$'], loc='upper right', fontsize = 8, frameon=False);\n",
    "ax[0].set_xlabel(r'$\\mu$ [mas/y]'); ax[0].set_ylabel(r'occurrence [$\\%$]');\n",
    "\n",
    "xmax, nbins = 30, 70\n",
    "ax[1].hist(stars_df['acc_ra_error'], bins=np.linspace(0, xmax, nbins), log=True, density=True, histtype='step');\n",
    "ax[1].hist(stars_df['acc_ra_eff_error'], bins=np.linspace(0, xmax, nbins), log=True, density=True, histtype='step');\n",
    "ax[1].hist(stars_df['acc_dec_error'], bins=np.linspace(0, xmax, nbins), log=True, density=True, histtype='step');\n",
    "ax[1].hist(stars_df['acc_dec_eff_error'], bins=np.linspace(0, xmax, nbins), log=True, density=True, histtype='step');\n",
    "ax[1].legend([r'$\\sigma_{\\alpha\\alpha, \\mathrm{Gaia}}$', r'$\\sigma_{\\alpha\\alpha, \\mathrm{eff}}$', r'$\\sigma_{\\alpha\\delta, \\mathrm{Gaia}}$', r'$\\sigma_{\\alpha\\delta, \\mathrm{eff}}$'], \n",
    "             loc='upper right', fontsize = 8, frameon=False);\n",
    "ax[1].set_xlabel(r'$\\sigma_\\alpha [mas/y]$'); #ax[1].set_ylabel(r'occurrence [$\\%$]');\n",
    "\n",
    "xmax, nbins = 30, 70\n",
    "ax[2].hist(stars_df['acc_ra_sub']/stars_df['acc_ra_error'], bins=np.linspace(-xmax, xmax, nbins), log=True, density=True, histtype='step');\n",
    "ax[2].hist(stars_df['acc_ra_sub']/stars_df['acc_ra_eff_error'], bins=np.linspace(-xmax, xmax, nbins), log=True, density=True, histtype='step');\n",
    "ax[2].hist(stars_df['acc_dec_sub']/stars_df['acc_dec_error'], bins=np.linspace(-xmax, xmax, nbins), log=True, density=True, histtype='step');\n",
    "ax[2].hist(stars_df['acc_dec_sub']/stars_df['acc_dec_eff_error'], bins=np.linspace(-xmax, xmax, nbins), log=True, density=True, histtype='step');\n",
    "ax[2].legend([r'$\\alpha_{\\alpha}/\\sigma_{\\alpha\\alpha}$', r'$\\alpha_{\\alpha}/\\sigma_{\\alpha\\alpha, \\mathrm{eff}}$', \n",
    "              r'$\\alpha_{\\delta}/\\sigma_{\\alpha\\delta}$', r'$\\alpha_{\\delta}/\\sigma_{\\alpha\\delta, \\mathrm{eff}}$'], loc='upper right', fontsize = 8, frameon=False);\n",
    "ax[2].set_xlabel(r'$\\alpha_\\mathrm{subtracted}/\\sigma_\\alpha$'); #ax[2].set_ylabel(r'occurrence [$\\%$]');\n",
    "\n",
    "\n",
    "plt.tight_layout()\n",
    "fig.savefig(FigDir+'accel_stats.pdf')"
   ]
  },
  {
   "cell_type": "code",
   "execution_count": 57,
   "metadata": {
    "ExecuteTime": {
     "end_time": "2022-02-28T18:26:38.763098Z",
     "start_time": "2022-02-28T18:26:38.756333Z"
    }
   },
   "outputs": [
    {
     "name": "stdout",
     "output_type": "stream",
     "text": [
      "\n",
      "Acceleration plots have been made.\n"
     ]
    }
   ],
   "source": [
    "print('\\nAcceleration plots have been made.'); sys.stdout.flush()"
   ]
  },
  {
   "cell_type": "code",
   "execution_count": 58,
   "metadata": {
    "ExecuteTime": {
     "end_time": "2022-02-28T18:26:40.719758Z",
     "start_time": "2022-02-28T18:26:38.766329Z"
    },
    "execution": {
     "iopub.execute_input": "2022-02-08T22:19:58.695703Z",
     "iopub.status.busy": "2022-02-08T22:19:58.694576Z",
     "iopub.status.idle": "2022-02-08T22:20:04.005584Z",
     "shell.execute_reply": "2022-02-08T22:20:04.005121Z",
     "shell.execute_reply.started": "2022-02-08T22:19:58.695633Z"
    }
   },
   "outputs": [
    {
     "data": {
      "image/png": "[encoded data removed]",
      "text/plain": [
       "<Figure size 1152x288 with 3 Axes>"
      ]
     },
     "metadata": {
      "needs_background": "light"
     },
     "output_type": "display_data"
    }
   ],
   "source": [
    "fig,ax = plt.subplots(1,3,figsize=(16,4))\n",
    "font_size = 14\n",
    "\n",
    "xmin, xmax, nbins = -3, 2, 70\n",
    "ax[0].hist(stars_df['parallax'], bins=np.linspace(xmin, xmax, nbins), log=True, density=True, histtype='step');\n",
    "ax[0].hist(stars_df['parallax_sub'], bins=np.linspace(xmin, xmax, nbins), log=True, density=True, histtype='step');\n",
    "ax[0].legend([r'$\\varpi$', r'$\\varpi - \\langle \\varpi \\rangle$'], loc='upper left', fontsize = font_size, frameon=False);\n",
    "ax[0].set_xlabel(r'$\\varpi$ [mas]'); ax[0].set_ylabel(r'occurrence [$\\%$]');\n",
    "#ax.set_title(r'Velocity template for '+str(len(tau_list[map_count>min_count]))+' subsets', fontsize = 16);\n",
    "\n",
    "xmax, nbins = 20, 70\n",
    "ax[1].hist(stars_df['parallax_error'], bins=np.linspace(0, xmax, nbins), log=True, density=True, histtype='step');\n",
    "ax[1].hist(stars_df['parallax_eff_error'], bins=np.linspace(0, xmax, nbins), log=True, density=True, histtype='step');\n",
    "ax[1].legend([r'$\\sigma_{\\varpi, \\mathrm{Gaia}}$', r'$\\sigma_{\\varpi, \\mathrm{eff}}$'], loc='upper right', fontsize = font_size, frameon=False);\n",
    "ax[1].set_xlabel(r'$\\sigma_\\varpi [mas]$'); #ax[1].set_ylabel(r'occurrence [$\\%$]');\n",
    "\n",
    "xmax, nbins = 10, 70\n",
    "ax[2].hist(stars_df['parallax_sub']/stars_df['parallax_error'], bins=np.linspace(-xmax, xmax, nbins), log=False, density=True, histtype='step');\n",
    "ax[2].hist(stars_df['parallax_sub']/stars_df['parallax_eff_error'], bins=np.linspace(-xmax, xmax, nbins), log=False, density=True, histtype='step');\n",
    "ax[2].legend([r'$\\varpi/\\sigma_{\\varpi, \\mathrm{Gaia}}$', r'$\\varpi/\\sigma_{\\varpi, \\mathrm{eff}}$'], loc='upper right', fontsize = font_size, frameon=False);\n",
    "ax[2].set_xlabel(r'$\\mu_\\mathrm{subtracted}/\\sigma_\\mu$'); #ax[2].set_ylabel('occurrence [%]');\n",
    "\n",
    "plt.tight_layout()\n",
    "fig.savefig(FigDir+'par_stats.pdf')"
   ]
  },
  {
   "cell_type": "code",
   "execution_count": 59,
   "metadata": {
    "ExecuteTime": {
     "end_time": "2022-02-28T18:26:40.730155Z",
     "start_time": "2022-02-28T18:26:40.722973Z"
    }
   },
   "outputs": [
    {
     "name": "stdout",
     "output_type": "stream",
     "text": [
      "\n",
      "Parallax plots have been made.\n"
     ]
    }
   ],
   "source": [
    "print('\\nParallax plots have been made.'); sys.stdout.flush()"
   ]
  }
 ],
 "metadata": {
  "kernelspec": {
   "display_name": "Python 3",
   "language": "python",
   "name": "python3"
  },
  "language_info": {
   "codemirror_mode": {
    "name": "ipython",
    "version": 3
   },
   "file_extension": ".py",
   "mimetype": "text/x-python",
   "name": "python",
   "nbconvert_exporter": "python",
   "pygments_lexer": "ipython3",
   "version": "3.9.7"
  }
 },
 "nbformat": 4,
 "nbformat_minor": 4
}
