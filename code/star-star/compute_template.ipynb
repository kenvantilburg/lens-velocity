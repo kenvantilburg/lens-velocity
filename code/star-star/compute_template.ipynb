{
 "cells": [
  {
   "cell_type": "markdown",
   "metadata": {},
   "source": [
    "# Set up"
   ]
  },
  {
   "cell_type": "code",
   "execution_count": 1,
   "metadata": {
    "execution": {
     "iopub.execute_input": "2023-07-24T20:22:39.774582Z",
     "iopub.status.busy": "2023-07-24T20:22:39.773971Z",
     "iopub.status.idle": "2023-07-24T20:22:40.276698Z",
     "shell.execute_reply": "2023-07-24T20:22:40.276323Z",
     "shell.execute_reply.started": "2023-07-24T20:22:39.774432Z"
    }
   },
   "outputs": [],
   "source": [
    "import numpy as np\n",
    "import pandas as pd\n",
    "import sys\n",
    "import importlib"
   ]
  },
  {
   "cell_type": "code",
   "execution_count": 2,
   "metadata": {
    "execution": {
     "iopub.execute_input": "2023-07-24T20:22:40.277672Z",
     "iopub.status.busy": "2023-07-24T20:22:40.277570Z",
     "iopub.status.idle": "2023-07-24T20:22:40.281506Z",
     "shell.execute_reply": "2023-07-24T20:22:40.281234Z",
     "shell.execute_reply.started": "2023-07-24T20:22:40.277659Z"
    }
   },
   "outputs": [],
   "source": [
    "# import our modules\n",
    "sys.path.insert(0, './utils')\n",
    "\n",
    "from my_units import * \n",
    "from template import Template "
   ]
  },
  {
   "cell_type": "code",
   "execution_count": 3,
   "metadata": {
    "execution": {
     "iopub.execute_input": "2023-07-24T20:22:40.733770Z",
     "iopub.status.busy": "2023-07-24T20:22:40.733409Z",
     "iopub.status.idle": "2023-07-24T20:22:40.739866Z",
     "shell.execute_reply": "2023-07-24T20:22:40.738996Z",
     "shell.execute_reply.started": "2023-07-24T20:22:40.733737Z"
    }
   },
   "outputs": [],
   "source": [
    "importlib.reload(sys.modules['template'])\n",
    "from template import Template "
   ]
  },
  {
   "cell_type": "code",
   "execution_count": 4,
   "metadata": {
    "execution": {
     "iopub.execute_input": "2023-07-24T20:22:41.374242Z",
     "iopub.status.busy": "2023-07-24T20:22:41.373902Z",
     "iopub.status.idle": "2023-07-24T20:22:41.377882Z",
     "shell.execute_reply": "2023-07-24T20:22:41.377001Z",
     "shell.execute_reply.started": "2023-07-24T20:22:41.374209Z"
    }
   },
   "outputs": [],
   "source": [
    "# setup path to directories where data are stored\n",
    "HomeDir = './'\n",
    "DataDir = '/Users/crimondino/Dropbox (PI)/LensVelocity2/data/star_star/' "
   ]
  },
  {
   "cell_type": "markdown",
   "metadata": {
    "heading_collapsed": "true"
   },
   "source": [
    "# Template for all the pairs"
   ]
  },
  {
   "cell_type": "code",
   "execution_count": 106,
   "metadata": {
    "execution": {
     "iopub.execute_input": "2023-07-14T17:42:01.308466Z",
     "iopub.status.busy": "2023-07-14T17:42:01.308096Z",
     "iopub.status.idle": "2023-07-14T17:42:39.721345Z",
     "shell.execute_reply": "2023-07-14T17:42:39.720083Z",
     "shell.execute_reply.started": "2023-07-14T17:42:01.308431Z"
    }
   },
   "outputs": [
    {
     "data": {
      "text/plain": [
       "(11690246, 11690246)"
      ]
     },
     "execution_count": 106,
     "metadata": {},
     "output_type": "execute_result"
    }
   ],
   "source": [
    "# read in the clean data files (after the ruwe and distance cuts)\n",
    "df_fore = pd.read_csv(DataDir+'fg_subtracted.csv', usecols = ['ra', 'dec', 'pmra', 'pmdec','pmra_error', 'pmdec_error', 'dist_50'])\n",
    "df_back = pd.read_csv(DataDir+'bg_subtracted.csv', usecols = ['ra', 'dec', 'pmra', 'pmdec','pmra_error', 'pmdec_error', 'dist_50', 'pmra_sub', 'pmdec_sub', 'pmra_eff_error', 'pmdec_eff_error', 'pmra_pmdec_eff_corr'])\n",
    "len(df_back), len(df_fore)"
   ]
  },
  {
   "cell_type": "code",
   "execution_count": 117,
   "metadata": {
    "execution": {
     "iopub.execute_input": "2023-07-14T19:28:28.885907Z",
     "iopub.status.busy": "2023-07-14T19:28:28.884256Z",
     "iopub.status.idle": "2023-07-14T19:28:49.772162Z",
     "shell.execute_reply": "2023-07-14T19:28:49.771667Z",
     "shell.execute_reply.started": "2023-07-14T19:28:28.885854Z"
    }
   },
   "outputs": [
    {
     "name": "stdout",
     "output_type": "stream",
     "text": [
      "17  stellar pairs do not satisfy the template condition (impact parameter is too small).\n"
     ]
    },
    {
     "data": {
      "text/plain": [
       "(1.2522518945585084,\n",
       " 0.33518202909558686,\n",
       " 3.7360353057633424,\n",
       " 11.146287633153218)"
      ]
     },
     "execution_count": 117,
     "metadata": {},
     "output_type": "execute_result"
    }
   ],
   "source": [
    "# create an instance of the class Template to compute tau and its normalization \n",
    "templ = Template(template_type='proper motion', matched_filter='dipole', rot_angle=0, observation_t=2.833*Year)\n",
    "tau, n = templ.template_mu(df_fore, df_back, no_corr=False)\n",
    "tau, n, tau/n, tau/n**2"
   ]
  },
  {
   "cell_type": "code",
   "execution_count": 112,
   "metadata": {
    "execution": {
     "iopub.execute_input": "2023-07-14T17:52:31.643755Z",
     "iopub.status.busy": "2023-07-14T17:52:31.643233Z",
     "iopub.status.idle": "2023-07-14T17:52:50.660056Z",
     "shell.execute_reply": "2023-07-14T17:52:50.659644Z",
     "shell.execute_reply.started": "2023-07-14T17:52:31.643698Z"
    }
   },
   "outputs": [
    {
     "name": "stdout",
     "output_type": "stream",
     "text": [
      "17  stellar pairs do not satisfy the template condition (impact parameter is too small).\n"
     ]
    },
    {
     "data": {
      "text/plain": [
       "(0.7694012577342704, 0.3196155399331101, 2.4072711167150773)"
      ]
     },
     "execution_count": 112,
     "metadata": {},
     "output_type": "execute_result"
    }
   ],
   "source": [
    "# using the diagonal proper motion covariance matrix (no ra-dec correlation)\n",
    "tau, n = templ.template_mu(df_fore, df_back, no_corr=True)\n",
    "tau, n, tau/n"
   ]
  },
  {
   "cell_type": "code",
   "execution_count": 113,
   "metadata": {
    "execution": {
     "iopub.execute_input": "2023-07-14T17:53:39.730162Z",
     "iopub.status.busy": "2023-07-14T17:53:39.729050Z",
     "iopub.status.idle": "2023-07-14T17:54:02.521283Z",
     "shell.execute_reply": "2023-07-14T17:54:02.520799Z",
     "shell.execute_reply.started": "2023-07-14T17:53:39.730102Z"
    }
   },
   "outputs": [
    {
     "name": "stdout",
     "output_type": "stream",
     "text": [
      "Rotating the dipole profile by 90.0 deg\n",
      "17  stellar pairs do not satisfy the template condition (impact parameter is too small).\n"
     ]
    },
    {
     "data": {
      "text/plain": [
       "(0.3150070335617748, 0.36646396122614844, 0.8595852986683755)"
      ]
     },
     "execution_count": 113,
     "metadata": {},
     "output_type": "execute_result"
    }
   ],
   "source": [
    "# proper motion template with a dipole matched filter rotated by 90 degrees\n",
    "templ_rot90 = Template(template_type='proper motion', matched_filter='dipole', rot_angle=90*degree, observation_t=2.833*Year)\n",
    "tau, n = templ_rot90.template_mu(df_fore, df_back)\n",
    "tau, n, tau/n"
   ]
  },
  {
   "cell_type": "code",
   "execution_count": 115,
   "metadata": {
    "execution": {
     "iopub.execute_input": "2023-07-14T17:54:34.324147Z",
     "iopub.status.busy": "2023-07-14T17:54:34.323599Z",
     "iopub.status.idle": "2023-07-14T17:54:54.418750Z",
     "shell.execute_reply": "2023-07-14T17:54:54.418272Z",
     "shell.execute_reply.started": "2023-07-14T17:54:34.324109Z"
    }
   },
   "outputs": [
    {
     "name": "stdout",
     "output_type": "stream",
     "text": [
      "17  stellar pairs do not satisfy the template condition (impact parameter is too small).\n"
     ]
    },
    {
     "data": {
      "text/plain": [
       "(0.7377954698061034, 0.3409664789657949, 2.1638357883272086)"
      ]
     },
     "execution_count": 115,
     "metadata": {},
     "output_type": "execute_result"
    }
   ],
   "source": [
    "# proper motion template with a monopole matched filter \n",
    "templ_monopole = Template(template_type='proper motion', matched_filter='monopole', rot_angle=0, observation_t=2.833*Year)\n",
    "tau, n = templ_monopole.template_mu(df_fore, df_back)\n",
    "tau, n, tau/n"
   ]
  },
  {
   "cell_type": "code",
   "execution_count": 116,
   "metadata": {
    "execution": {
     "iopub.execute_input": "2023-07-14T17:54:54.420108Z",
     "iopub.status.busy": "2023-07-14T17:54:54.419972Z",
     "iopub.status.idle": "2023-07-14T17:55:10.877721Z",
     "shell.execute_reply": "2023-07-14T17:55:10.877244Z",
     "shell.execute_reply.started": "2023-07-14T17:54:54.420095Z"
    }
   },
   "outputs": [
    {
     "name": "stdout",
     "output_type": "stream",
     "text": [
      "17  stellar pairs do not satisfy the template condition (impact parameter is too small).\n"
     ]
    },
    {
     "data": {
      "text/plain": [
       "(-0.048212926591470424, 0.3440814682852698, -0.14012067209472098)"
      ]
     },
     "execution_count": 116,
     "metadata": {},
     "output_type": "execute_result"
    }
   ],
   "source": [
    "# proper motion template with a quadrupole matched filter \n",
    "templ_quadrupole = Template(template_type='proper motion', matched_filter='quadrupole', rot_angle=0, observation_t=2.833*Year)\n",
    "tau, n = templ_quadrupole.template_mu(df_fore, df_back)\n",
    "tau, n, tau/n"
   ]
  },
  {
   "cell_type": "code",
   "execution_count": null,
   "metadata": {},
   "outputs": [],
   "source": []
  },
  {
   "cell_type": "markdown",
   "metadata": {
    "heading_collapsed": "true"
   },
   "source": [
    "# Template on the closest lenses"
   ]
  },
  {
   "cell_type": "code",
   "execution_count": 14,
   "metadata": {
    "execution": {
     "iopub.execute_input": "2023-07-24T14:17:37.309238Z",
     "iopub.status.busy": "2023-07-24T14:17:37.308350Z",
     "iopub.status.idle": "2023-07-24T14:18:12.503977Z",
     "shell.execute_reply": "2023-07-24T14:18:12.503438Z",
     "shell.execute_reply.started": "2023-07-24T14:17:37.309177Z"
    }
   },
   "outputs": [
    {
     "data": {
      "text/plain": [
       "(11690246, 11690246)"
      ]
     },
     "execution_count": 14,
     "metadata": {},
     "output_type": "execute_result"
    }
   ],
   "source": [
    "# read in the clean data files (after the ruwe and distance cuts)\n",
    "df_fore = pd.read_csv(DataDir+'fg_subtracted.csv', usecols = ['ra', 'dec', 'pmra', 'pmdec','pmra_error', 'pmdec_error', 'dist_50'])\n",
    "df_back = pd.read_csv(DataDir+'bg_subtracted.csv', usecols = ['ra', 'dec', 'pmra', 'pmdec','pmra_error', 'pmdec_error', 'dist_50', 'pmra_sub', 'pmdec_sub', 'pmra_eff_error', 'pmdec_eff_error', 'pmra_pmdec_eff_corr'])\n",
    "len(df_back), len(df_fore)"
   ]
  },
  {
   "cell_type": "code",
   "execution_count": 15,
   "metadata": {
    "execution": {
     "iopub.execute_input": "2023-07-24T14:18:14.275522Z",
     "iopub.status.busy": "2023-07-24T14:18:14.271733Z",
     "iopub.status.idle": "2023-07-24T14:18:16.538294Z",
     "shell.execute_reply": "2023-07-24T14:18:16.536551Z",
     "shell.execute_reply.started": "2023-07-24T14:18:14.275460Z"
    }
   },
   "outputs": [],
   "source": [
    "# select only lenses that are closer than 300 pc\n",
    "select = df_fore['dist_50'] < 300\n",
    "df_fore = df_fore[select]\n",
    "df_back = df_back[select]\n",
    "len(df_back)"
   ]
  },
  {
   "cell_type": "code",
   "execution_count": 23,
   "metadata": {
    "execution": {
     "iopub.execute_input": "2023-07-24T14:42:46.165456Z",
     "iopub.status.busy": "2023-07-24T14:42:46.164978Z",
     "iopub.status.idle": "2023-07-24T14:42:47.593277Z",
     "shell.execute_reply": "2023-07-24T14:42:47.591923Z",
     "shell.execute_reply.started": "2023-07-24T14:42:46.165417Z"
    }
   },
   "outputs": [
    {
     "name": "stdout",
     "output_type": "stream",
     "text": [
      "17  stellar pairs do not satisfy the template condition (impact parameter is too small).\n"
     ]
    },
    {
     "data": {
      "text/plain": [
       "(0.20040788933271297,\n",
       " 0.3272330667127078,\n",
       " 0.6124316571853657,\n",
       " 1.8715457558665554)"
      ]
     },
     "execution_count": 23,
     "metadata": {},
     "output_type": "execute_result"
    }
   ],
   "source": [
    "# create an instance of the class Template to compute tau and its normalization \n",
    "templ = Template(template_type='proper motion', matched_filter='dipole', rot_angle=0, observation_t=2.833*Year)\n",
    "tau, n = templ.template_mu(df_fore, df_back, no_corr=False)\n",
    "tau, n, tau/n, tau/n**2"
   ]
  },
  {
   "cell_type": "code",
   "execution_count": 17,
   "metadata": {
    "execution": {
     "iopub.execute_input": "2023-07-24T14:18:54.553860Z",
     "iopub.status.busy": "2023-07-24T14:18:54.553515Z",
     "iopub.status.idle": "2023-07-24T14:18:55.602719Z",
     "shell.execute_reply": "2023-07-24T14:18:55.602403Z",
     "shell.execute_reply.started": "2023-07-24T14:18:54.553827Z"
    }
   },
   "outputs": [
    {
     "name": "stdout",
     "output_type": "stream",
     "text": [
      "17  stellar pairs do not satisfy the template condition (impact parameter is too small).\n"
     ]
    },
    {
     "data": {
      "text/plain": [
       "(0.006746009119762549, 0.3123676815408063, 0.021596373499610206)"
      ]
     },
     "execution_count": 17,
     "metadata": {},
     "output_type": "execute_result"
    }
   ],
   "source": [
    "# using the diagonal proper motion covariance matrix (no ra-dec correlation)\n",
    "tau, n = templ.template_mu(df_fore, df_back, no_corr=True)\n",
    "tau, n, tau/n"
   ]
  },
  {
   "cell_type": "code",
   "execution_count": 19,
   "metadata": {
    "execution": {
     "iopub.execute_input": "2023-07-24T14:19:31.503807Z",
     "iopub.status.busy": "2023-07-24T14:19:31.502644Z",
     "iopub.status.idle": "2023-07-24T14:19:32.742840Z",
     "shell.execute_reply": "2023-07-24T14:19:32.742450Z",
     "shell.execute_reply.started": "2023-07-24T14:19:31.503740Z"
    }
   },
   "outputs": [
    {
     "name": "stdout",
     "output_type": "stream",
     "text": [
      "Rotating the dipole profile by 90.0 deg\n",
      "17  stellar pairs do not satisfy the template condition (impact parameter is too small).\n"
     ]
    },
    {
     "data": {
      "text/plain": [
       "(0.260598799464368, 0.3592581908609105, 0.7253802588046232)"
      ]
     },
     "execution_count": 19,
     "metadata": {},
     "output_type": "execute_result"
    }
   ],
   "source": [
    "# proper motion template with a dipole matched filter rotated by 90 degrees\n",
    "templ_rot90 = Template(template_type='proper motion', matched_filter='dipole', rot_angle=90*degree, observation_t=2.833*Year)\n",
    "tau, n = templ_rot90.template_mu(df_fore, df_back)\n",
    "tau, n, tau/n"
   ]
  },
  {
   "cell_type": "code",
   "execution_count": 20,
   "metadata": {
    "execution": {
     "iopub.execute_input": "2023-07-24T14:19:38.838491Z",
     "iopub.status.busy": "2023-07-24T14:19:38.838132Z",
     "iopub.status.idle": "2023-07-24T14:19:39.997603Z",
     "shell.execute_reply": "2023-07-24T14:19:39.997264Z",
     "shell.execute_reply.started": "2023-07-24T14:19:38.838458Z"
    }
   },
   "outputs": [
    {
     "name": "stdout",
     "output_type": "stream",
     "text": [
      "17  stellar pairs do not satisfy the template condition (impact parameter is too small).\n"
     ]
    },
    {
     "data": {
      "text/plain": [
       "(0.39394687597794725, 0.3331396366664328, 1.1825277830040972)"
      ]
     },
     "execution_count": 20,
     "metadata": {},
     "output_type": "execute_result"
    }
   ],
   "source": [
    "# proper motion template with a monopole matched filter \n",
    "templ_monopole = Template(template_type='proper motion', matched_filter='monopole', rot_angle=0, observation_t=2.833*Year)\n",
    "tau, n = templ_monopole.template_mu(df_fore, df_back)\n",
    "tau, n, tau/n"
   ]
  },
  {
   "cell_type": "code",
   "execution_count": 21,
   "metadata": {
    "execution": {
     "iopub.execute_input": "2023-07-24T14:19:42.459156Z",
     "iopub.status.busy": "2023-07-24T14:19:42.458815Z",
     "iopub.status.idle": "2023-07-24T14:19:43.478870Z",
     "shell.execute_reply": "2023-07-24T14:19:43.478568Z",
     "shell.execute_reply.started": "2023-07-24T14:19:42.459123Z"
    }
   },
   "outputs": [
    {
     "name": "stdout",
     "output_type": "stream",
     "text": [
      "17  stellar pairs do not satisfy the template condition (impact parameter is too small).\n"
     ]
    },
    {
     "data": {
      "text/plain": [
       "(-0.056569894524740774, 0.3363311858302482, -0.1681969942367834)"
      ]
     },
     "execution_count": 21,
     "metadata": {},
     "output_type": "execute_result"
    }
   ],
   "source": [
    "# proper motion template with a quadrupole matched filter \n",
    "templ_quadrupole = Template(template_type='proper motion', matched_filter='quadrupole', rot_angle=0, observation_t=2.833*Year)\n",
    "tau, n = templ_quadrupole.template_mu(df_fore, df_back)\n",
    "tau, n, tau/n"
   ]
  },
  {
   "cell_type": "code",
   "execution_count": null,
   "metadata": {},
   "outputs": [],
   "source": []
  },
  {
   "cell_type": "markdown",
   "metadata": {},
   "source": [
    "# Template for the lenses with astrophysical parameters"
   ]
  },
  {
   "cell_type": "code",
   "execution_count": 5,
   "metadata": {
    "execution": {
     "iopub.execute_input": "2023-07-24T20:24:21.264168Z",
     "iopub.status.busy": "2023-07-24T20:24:21.257468Z",
     "iopub.status.idle": "2023-07-24T20:25:00.527185Z",
     "shell.execute_reply": "2023-07-24T20:25:00.525736Z",
     "shell.execute_reply.started": "2023-07-24T20:24:21.262020Z"
    }
   },
   "outputs": [
    {
     "data": {
      "text/plain": [
       "(11690246, 11690246)"
      ]
     },
     "execution_count": 5,
     "metadata": {},
     "output_type": "execute_result"
    }
   ],
   "source": [
    "# read in the clean data files (after the ruwe and distance cuts)\n",
    "df_fore = pd.read_csv(DataDir+'fg_subtracted.csv', usecols = ['source_id', 'ra', 'dec', 'pmra', 'pmdec','pmra_error', 'pmdec_error', 'dist_50'])\n",
    "df_back = pd.read_csv(DataDir+'bg_subtracted.csv', usecols = ['ra', 'dec', 'pmra', 'pmdec','pmra_error', 'pmdec_error', 'dist_50', 'pmra_sub', 'pmdec_sub', 'pmra_eff_error', 'pmdec_eff_error', 'pmra_pmdec_eff_corr'])\n",
    "len(df_back), len(df_fore)"
   ]
  },
  {
   "cell_type": "code",
   "execution_count": 6,
   "metadata": {
    "execution": {
     "iopub.execute_input": "2023-07-24T20:25:00.531266Z",
     "iopub.status.busy": "2023-07-24T20:25:00.531129Z",
     "iopub.status.idle": "2023-07-24T20:25:04.850901Z",
     "shell.execute_reply": "2023-07-24T20:25:04.850074Z",
     "shell.execute_reply.started": "2023-07-24T20:25:00.531252Z"
    }
   },
   "outputs": [],
   "source": [
    "# read in the astrophysical parameters for the foreground stars (a subset of the full sample has astro params)\n",
    "df_fore_params = pd.read_csv(DataDir+'fg_params.csv') "
   ]
  },
  {
   "cell_type": "code",
   "execution_count": 7,
   "metadata": {
    "execution": {
     "iopub.execute_input": "2023-07-24T20:25:04.852773Z",
     "iopub.status.busy": "2023-07-24T20:25:04.852637Z",
     "iopub.status.idle": "2023-07-24T20:25:17.356940Z",
     "shell.execute_reply": "2023-07-24T20:25:17.356513Z",
     "shell.execute_reply.started": "2023-07-24T20:25:04.852758Z"
    }
   },
   "outputs": [
    {
     "data": {
      "text/html": [
       "<div>\n",
       "<style scoped>\n",
       "    .dataframe tbody tr th:only-of-type {\n",
       "        vertical-align: middle;\n",
       "    }\n",
       "\n",
       "    .dataframe tbody tr th {\n",
       "        vertical-align: top;\n",
       "    }\n",
       "\n",
       "    .dataframe thead th {\n",
       "        text-align: right;\n",
       "    }\n",
       "</style>\n",
       "<table border=\"1\" class=\"dataframe\">\n",
       "  <thead>\n",
       "    <tr style=\"text-align: right;\">\n",
       "      <th></th>\n",
       "      <th>source_id</th>\n",
       "      <th>ra</th>\n",
       "      <th>dec</th>\n",
       "      <th>pmra</th>\n",
       "      <th>pmdec</th>\n",
       "      <th>pmra_error</th>\n",
       "      <th>pmdec_error</th>\n",
       "      <th>dist_50</th>\n",
       "      <th>mass</th>\n",
       "      <th>mass_lower</th>\n",
       "      <th>mass_upper</th>\n",
       "      <th>lum</th>\n",
       "      <th>lum_lower</th>\n",
       "      <th>lum_upper</th>\n",
       "      <th>teff</th>\n",
       "      <th>teff_lower</th>\n",
       "      <th>teff_upper</th>\n",
       "      <th>mg</th>\n",
       "      <th>mg_lower</th>\n",
       "      <th>mg_upper</th>\n",
       "    </tr>\n",
       "  </thead>\n",
       "  <tbody>\n",
       "    <tr>\n",
       "      <th>0</th>\n",
       "      <td>200427470665898112</td>\n",
       "      <td>76.130394</td>\n",
       "      <td>39.222123</td>\n",
       "      <td>-0.374506</td>\n",
       "      <td>-3.049042</td>\n",
       "      <td>0.073945</td>\n",
       "      <td>0.050893</td>\n",
       "      <td>911.2742</td>\n",
       "      <td>NaN</td>\n",
       "      <td>NaN</td>\n",
       "      <td>NaN</td>\n",
       "      <td>0.430176</td>\n",
       "      <td>0.396672</td>\n",
       "      <td>0.490564</td>\n",
       "      <td>4884.6343</td>\n",
       "      <td>4736.7695</td>\n",
       "      <td>4940.7170</td>\n",
       "      <td>5.8188</td>\n",
       "      <td>5.7304</td>\n",
       "      <td>5.8941</td>\n",
       "    </tr>\n",
       "    <tr>\n",
       "      <th>1</th>\n",
       "      <td>200427711181020928</td>\n",
       "      <td>76.101224</td>\n",
       "      <td>39.239983</td>\n",
       "      <td>8.761902</td>\n",
       "      <td>-2.793202</td>\n",
       "      <td>0.256774</td>\n",
       "      <td>0.171470</td>\n",
       "      <td>896.7083</td>\n",
       "      <td>NaN</td>\n",
       "      <td>NaN</td>\n",
       "      <td>NaN</td>\n",
       "      <td>NaN</td>\n",
       "      <td>NaN</td>\n",
       "      <td>NaN</td>\n",
       "      <td>3745.7334</td>\n",
       "      <td>3654.5570</td>\n",
       "      <td>3793.7205</td>\n",
       "      <td>9.7425</td>\n",
       "      <td>9.4261</td>\n",
       "      <td>9.9665</td>\n",
       "    </tr>\n",
       "    <tr>\n",
       "      <th>2</th>\n",
       "      <td>200454099459500032</td>\n",
       "      <td>76.275385</td>\n",
       "      <td>39.420701</td>\n",
       "      <td>-2.659706</td>\n",
       "      <td>-26.709012</td>\n",
       "      <td>0.327435</td>\n",
       "      <td>0.224562</td>\n",
       "      <td>1019.8183</td>\n",
       "      <td>NaN</td>\n",
       "      <td>NaN</td>\n",
       "      <td>NaN</td>\n",
       "      <td>NaN</td>\n",
       "      <td>NaN</td>\n",
       "      <td>NaN</td>\n",
       "      <td>NaN</td>\n",
       "      <td>NaN</td>\n",
       "      <td>NaN</td>\n",
       "      <td>NaN</td>\n",
       "      <td>NaN</td>\n",
       "      <td>NaN</td>\n",
       "    </tr>\n",
       "    <tr>\n",
       "      <th>3</th>\n",
       "      <td>200457226196149248</td>\n",
       "      <td>76.576459</td>\n",
       "      <td>39.450735</td>\n",
       "      <td>-7.590164</td>\n",
       "      <td>4.000013</td>\n",
       "      <td>0.516483</td>\n",
       "      <td>0.323750</td>\n",
       "      <td>775.7488</td>\n",
       "      <td>NaN</td>\n",
       "      <td>NaN</td>\n",
       "      <td>NaN</td>\n",
       "      <td>NaN</td>\n",
       "      <td>NaN</td>\n",
       "      <td>NaN</td>\n",
       "      <td>NaN</td>\n",
       "      <td>NaN</td>\n",
       "      <td>NaN</td>\n",
       "      <td>NaN</td>\n",
       "      <td>NaN</td>\n",
       "      <td>NaN</td>\n",
       "    </tr>\n",
       "    <tr>\n",
       "      <th>4</th>\n",
       "      <td>200466812565980416</td>\n",
       "      <td>76.196052</td>\n",
       "      <td>39.465721</td>\n",
       "      <td>0.725715</td>\n",
       "      <td>-3.046217</td>\n",
       "      <td>0.054715</td>\n",
       "      <td>0.039876</td>\n",
       "      <td>2296.4202</td>\n",
       "      <td>NaN</td>\n",
       "      <td>NaN</td>\n",
       "      <td>NaN</td>\n",
       "      <td>NaN</td>\n",
       "      <td>NaN</td>\n",
       "      <td>NaN</td>\n",
       "      <td>NaN</td>\n",
       "      <td>NaN</td>\n",
       "      <td>NaN</td>\n",
       "      <td>NaN</td>\n",
       "      <td>NaN</td>\n",
       "      <td>NaN</td>\n",
       "    </tr>\n",
       "  </tbody>\n",
       "</table>\n",
       "</div>"
      ],
      "text/plain": [
       "            source_id         ra        dec      pmra      pmdec  pmra_error  \\\n",
       "0  200427470665898112  76.130394  39.222123 -0.374506  -3.049042    0.073945   \n",
       "1  200427711181020928  76.101224  39.239983  8.761902  -2.793202    0.256774   \n",
       "2  200454099459500032  76.275385  39.420701 -2.659706 -26.709012    0.327435   \n",
       "3  200457226196149248  76.576459  39.450735 -7.590164   4.000013    0.516483   \n",
       "4  200466812565980416  76.196052  39.465721  0.725715  -3.046217    0.054715   \n",
       "\n",
       "   pmdec_error    dist_50  mass  mass_lower  mass_upper       lum  lum_lower  \\\n",
       "0     0.050893   911.2742   NaN         NaN         NaN  0.430176   0.396672   \n",
       "1     0.171470   896.7083   NaN         NaN         NaN       NaN        NaN   \n",
       "2     0.224562  1019.8183   NaN         NaN         NaN       NaN        NaN   \n",
       "3     0.323750   775.7488   NaN         NaN         NaN       NaN        NaN   \n",
       "4     0.039876  2296.4202   NaN         NaN         NaN       NaN        NaN   \n",
       "\n",
       "   lum_upper       teff  teff_lower  teff_upper      mg  mg_lower  mg_upper  \n",
       "0   0.490564  4884.6343   4736.7695   4940.7170  5.8188    5.7304    5.8941  \n",
       "1        NaN  3745.7334   3654.5570   3793.7205  9.7425    9.4261    9.9665  \n",
       "2        NaN        NaN         NaN         NaN     NaN       NaN       NaN  \n",
       "3        NaN        NaN         NaN         NaN     NaN       NaN       NaN  \n",
       "4        NaN        NaN         NaN         NaN     NaN       NaN       NaN  "
      ]
     },
     "execution_count": 7,
     "metadata": {},
     "output_type": "execute_result"
    }
   ],
   "source": [
    "# add astrophysical parameters to the foreground stars\n",
    "df_fore = df_fore.merge(df_fore_params, how='left', on='source_id', validate='many_to_one')\n",
    "df_fore.head()"
   ]
  },
  {
   "cell_type": "code",
   "execution_count": 9,
   "metadata": {
    "execution": {
     "iopub.execute_input": "2023-07-24T20:25:23.423469Z",
     "iopub.status.busy": "2023-07-24T20:25:23.422858Z",
     "iopub.status.idle": "2023-07-24T20:25:46.480566Z",
     "shell.execute_reply": "2023-07-24T20:25:46.480082Z",
     "shell.execute_reply.started": "2023-07-24T20:25:23.423424Z"
    }
   },
   "outputs": [
    {
     "name": "stdout",
     "output_type": "stream",
     "text": [
      "17  stellar pairs do not satisfy the template condition (impact parameter is too small).\n"
     ]
    },
    {
     "data": {
      "text/plain": [
       "(1.2522518945585084, 0.33518202909558686)"
      ]
     },
     "execution_count": 9,
     "metadata": {},
     "output_type": "execute_result"
    }
   ],
   "source": [
    "# create an instance of the class Template to compute tau and its normalization \n",
    "tau = Template(template_type='proper motion', matched_filter='dipole', observation_t=2.833*Year)\n",
    "tau_all, n_all = tau.template_mu(df_fore, df_back, mass_weight=None)\n",
    "tau_all, n_all"
   ]
  },
  {
   "cell_type": "code",
   "execution_count": 10,
   "metadata": {
    "execution": {
     "iopub.execute_input": "2023-07-24T20:25:46.481916Z",
     "iopub.status.busy": "2023-07-24T20:25:46.481801Z",
     "iopub.status.idle": "2023-07-24T20:25:57.791103Z",
     "shell.execute_reply": "2023-07-24T20:25:57.790553Z",
     "shell.execute_reply.started": "2023-07-24T20:25:46.481903Z"
    }
   },
   "outputs": [
    {
     "data": {
      "text/plain": [
       "(-0.002314716910050793, 0.045862435796818264)"
      ]
     },
     "execution_count": 10,
     "metadata": {},
     "output_type": "execute_result"
    }
   ],
   "source": [
    "rows_wmass = ~df_fore['mass'].isna() \n",
    "\n",
    "# template for the subset of pairs with mass measurement for the foreground star, without including the mass weight\n",
    "tau_sub, n_sub = tau.template_mu(df_fore[rows_wmass], df_back[rows_wmass], mass_weight=None)\n",
    "tau_sub, n_sub"
   ]
  },
  {
   "cell_type": "code",
   "execution_count": 100,
   "metadata": {
    "execution": {
     "iopub.execute_input": "2023-07-14T16:53:21.160634Z",
     "iopub.status.busy": "2023-07-14T16:53:21.160502Z",
     "iopub.status.idle": "2023-07-14T16:53:26.443408Z",
     "shell.execute_reply": "2023-07-14T16:53:26.442987Z",
     "shell.execute_reply.started": "2023-07-14T16:53:21.160619Z"
    }
   },
   "outputs": [
    {
     "name": "stdout",
     "output_type": "stream",
     "text": [
      "Including mass weights for the lenses:  mass\n"
     ]
    },
    {
     "data": {
      "text/plain": [
       "(0.021809598158113504, 0.030962035522813104)"
      ]
     },
     "execution_count": 100,
     "metadata": {},
     "output_type": "execute_result"
    }
   ],
   "source": [
    "# template for the subset of pairs with mass measurement for the foreground star, including the mass weight\n",
    "tau_sub_w, n_sub_w = tau.template_mu(df_fore[rows_wmass], df_back[rows_wmass], mass_weight='mass')\n",
    "tau_sub_w, n_sub_w"
   ]
  },
  {
   "cell_type": "code",
   "execution_count": 101,
   "metadata": {
    "execution": {
     "iopub.execute_input": "2023-07-14T16:53:26.445529Z",
     "iopub.status.busy": "2023-07-14T16:53:26.445410Z",
     "iopub.status.idle": "2023-07-14T16:53:27.872658Z",
     "shell.execute_reply": "2023-07-14T16:53:27.872229Z",
     "shell.execute_reply.started": "2023-07-14T16:53:26.445515Z"
    }
   },
   "outputs": [
    {
     "data": {
      "text/plain": [
       "(0.42197367375101547, 0.13682844489177332)"
      ]
     },
     "execution_count": 101,
     "metadata": {},
     "output_type": "execute_result"
    }
   ],
   "source": [
    "exp_reduction_SNR = np.sqrt(len(df_fore[rows_wmass])/(len(df_fore)-17) )\n",
    "exp_reduction_SNR, n_sub/n_all"
   ]
  },
  {
   "cell_type": "code",
   "execution_count": 12,
   "metadata": {
    "execution": {
     "iopub.execute_input": "2023-07-24T20:26:19.767598Z",
     "iopub.status.busy": "2023-07-24T20:26:19.767081Z",
     "iopub.status.idle": "2023-07-24T20:26:20.961053Z",
     "shell.execute_reply": "2023-07-24T20:26:20.960439Z",
     "shell.execute_reply.started": "2023-07-24T20:26:19.767556Z"
    }
   },
   "outputs": [
    {
     "data": {
      "text/plain": [
       "(2081583, 11690229)"
      ]
     },
     "execution_count": 12,
     "metadata": {},
     "output_type": "execute_result"
    }
   ],
   "source": [
    "len(df_fore[rows_wmass]), (len(df_fore)-17) "
   ]
  },
  {
   "cell_type": "code",
   "execution_count": 18,
   "metadata": {
    "execution": {
     "iopub.execute_input": "2023-07-24T20:32:17.457813Z",
     "iopub.status.busy": "2023-07-24T20:32:17.456116Z",
     "iopub.status.idle": "2023-07-24T20:32:20.021851Z",
     "shell.execute_reply": "2023-07-24T20:32:20.021386Z",
     "shell.execute_reply.started": "2023-07-24T20:32:17.457774Z"
    }
   },
   "outputs": [
    {
     "data": {
      "text/plain": [
       "(0.9815092532048122, 0.88945013)"
      ]
     },
     "execution_count": 18,
     "metadata": {},
     "output_type": "execute_result"
    }
   ],
   "source": [
    "df_fore[rows_wmass]['mass'].mean(), df_fore[rows_wmass]['mass'].median()"
   ]
  },
  {
   "cell_type": "code",
   "execution_count": null,
   "metadata": {},
   "outputs": [],
   "source": []
  }
 ],
 "metadata": {
  "kernelspec": {
   "display_name": "Python 3",
   "language": "python",
   "name": "python3"
  },
  "language_info": {
   "codemirror_mode": {
    "name": "ipython",
    "version": 3
   },
   "file_extension": ".py",
   "mimetype": "text/x-python",
   "name": "python",
   "nbconvert_exporter": "python",
   "pygments_lexer": "ipython3",
   "version": "3.8.5"
  }
 },
 "nbformat": 4,
 "nbformat_minor": 4
}
