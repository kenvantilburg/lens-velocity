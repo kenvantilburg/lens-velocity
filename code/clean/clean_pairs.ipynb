{
 "cells": [
  {
   "cell_type": "code",
   "execution_count": null,
   "metadata": {},
   "outputs": [],
   "source": [
    "import numpy as np\n",
    "import pandas as pd\n",
    "import seaborn as sns\n",
    "\n",
    "import healpy as hp\n",
    "from tqdm import tqdm, tqdm_notebook\n",
    "import scipy as sp\n",
    "from scipy.special import erf\n",
    "from scipy import stats\n",
    "\n",
    "import sys\n",
    "from my_units import * \n",
    "\n",
    "from angular_fn import *\n",
    "from template_fn import *\n",
    "from cov_matrix_fn import *\n",
    "\n",
    "import matplotlib.pyplot as plt\n",
    "import matplotlib as mpl\n",
    "from mpl_toolkits.axes_grid1 import make_axes_locatable\n",
    "\n",
    "\n",
    "HomeDir = './'\n",
    "DataDir = '/Users/crimondino/Dropbox (PI)/LensVelocity2/data/pairs_ruwe_dist/'#HomeDir #+ 'code/'\n",
    "### Set this to the directory where you store your data files (see below how to download them)\n",
    "ListDir = HomeDir+'lists/hist_stats/'\n",
    "FigDir = '../../../figures/'"
   ]
  },
  {
   "cell_type": "code",
   "execution_count": null,
   "metadata": {},
   "outputs": [],
   "source": [
    "### Read in the data files for the background and foreground stars\n",
    "df_back = pd.read_csv(DataDir+'bg_ruwe_dist.csv', \n",
    "                      usecols = ['source_id', 'ra', 'dec', 'pmra', 'pmdec','pmra_error', 'pmdec_error', 'pmra_pmdec_corr', 'pmra_eff_error', 'pmdec_eff_error', 'pmra_pmdec_eff_corr', \n",
    "                                 'parallax', 'parallax_error', 'pmra_sub', 'pmdec_sub', 'phot_g_mean_mag', 'ruwe'])\n",
    "df_fore = pd.read_csv(DataDir+'fg_ruwe_dist.csv', \n",
    "                      usecols = ['source_id', 'ra', 'dec', 'pmra', 'pmdec','pmra_error', 'pmdec_error', 'parallax', 'parallax_error', 'phot_g_mean_mag', 'ruwe'])\n",
    "\n",
    "                      \n",
    "len(df_back), len(df_fore)"
   ]
  },
  {
   "cell_type": "code",
   "execution_count": null,
   "metadata": {},
   "outputs": [],
   "source": [
    "### Read in the data files for the Bailer-Jones distances\n",
    "back_dist = pd.read_csv(DataDir+'bg_distances.csv', usecols = ['0', '1', '2', '3'])\n",
    "fore_dist = pd.read_csv(DataDir+'fg_distances.csv', usecols = ['0', '1', '2', '3'])\n",
    "len(back_dist), len(fore_dist)"
   ]
  },
  {
   "attachments": {},
   "cell_type": "markdown",
   "metadata": {},
   "source": [
    "# Quality cuts"
   ]
  },
  {
   "cell_type": "code",
   "execution_count": null,
   "metadata": {},
   "outputs": [],
   "source": [
    "max_ruwe = 1.4\n",
    "nsigma = 2"
   ]
  },
  {
   "cell_type": "code",
   "execution_count": null,
   "metadata": {},
   "outputs": [],
   "source": [
    "## cut out stars with ruwe > 1.4\n",
    "\n",
    "df_fore = df_fore[df_back['ruwe'] < max_ruwe]\n",
    "back_dist = back_dist[df_back['ruwe'] < max_ruwe]\n",
    "fore_dist = fore_dist[df_back['ruwe'] < max_ruwe]\n",
    "\n",
    "df_back = df_back[df_back['ruwe'] < max_ruwe]\n",
    "\n",
    "\n",
    "df_back = df_back[df_fore['ruwe'] < max_ruwe]\n",
    "back_dist = back_dist[df_fore['ruwe'] < max_ruwe]\n",
    "fore_dist = fore_dist[df_fore['ruwe'] < max_ruwe]\n",
    "\n",
    "df_fore = df_fore[df_fore['ruwe'] < max_ruwe]\n",
    "\n",
    "\n",
    "print(len(df_fore))"
   ]
  },
  {
   "cell_type": "code",
   "execution_count": null,
   "metadata": {},
   "outputs": [],
   "source": [
    "back_dist_med = back_dist['1'].to_numpy()\n",
    "back_dist_lo = back_dist['2'].to_numpy()\n",
    "back_dist_hi = back_dist['3'].to_numpy()\n",
    "\n",
    "fore_dist_med = fore_dist['1'].to_numpy()\n",
    "fore_dist_lo = fore_dist['2'].to_numpy()\n",
    "fore_dist_hi = fore_dist['3'].to_numpy()\n",
    "\n",
    "condition = fore_dist_med + nsigma * (fore_dist_hi - fore_dist_med) < back_dist_med - nsigma * (back_dist_med - back_dist_lo)\n",
    "\n",
    "df_fore = df_fore[condition]\n",
    "df_back = df_back[condition]\n",
    "\n",
    "fore_dist = fore_dist[condition]\n",
    "back_dist = back_dist[condition]\n",
    "\n",
    "back_dist_med = back_dist['1'].to_numpy()\n",
    "back_dist_lo = back_dist['2'].to_numpy()\n",
    "back_dist_hi = back_dist['3'].to_numpy()\n",
    "\n",
    "fore_dist_med = fore_dist['1'].to_numpy()\n",
    "fore_dist_lo = fore_dist['2'].to_numpy()\n",
    "fore_dist_hi = fore_dist['3'].to_numpy()\n",
    "print(len(df_fore))"
   ]
  },
  {
   "cell_type": "code",
   "execution_count": null,
   "metadata": {},
   "outputs": [],
   "source": [
    "df_back['dist'] = back_dist_med\n",
    "# take average of posterior widths\n",
    "df_back['dist_error'] = ((back_dist_med - back_dist_lo) + (back_dist_hi - back_dist_med)) / 2"
   ]
  },
  {
   "cell_type": "code",
   "execution_count": null,
   "metadata": {},
   "outputs": [],
   "source": [
    "fig, ax = plt.subplots(1,1, figsize=(6,4),dpi=150)\n",
    "ax.hist(fore_dist['1']/back_dist['1'], log = True,  density = True, bins = 100, histtype='step', color = 'darkslateblue')\n",
    "ax.set_xlabel(r'Bailer-Jones distance [pc]')\n",
    "fig.suptitle('Histograms of background distances')\n",
    "plt.show()"
   ]
  },
  {
   "cell_type": "code",
   "execution_count": null,
   "metadata": {},
   "outputs": [],
   "source": []
  }
 ],
 "metadata": {
  "language_info": {
   "name": "python"
  },
  "orig_nbformat": 4
 },
 "nbformat": 4,
 "nbformat_minor": 2
}
