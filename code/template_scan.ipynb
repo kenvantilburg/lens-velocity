{
 "cells": [
  {
   "cell_type": "markdown",
   "metadata": {},
   "source": [
    "# Preamble"
   ]
  },
  {
   "cell_type": "code",
   "execution_count": 2,
   "metadata": {
    "execution": {
     "iopub.execute_input": "2021-09-13T14:36:43.205971Z",
     "iopub.status.busy": "2021-09-13T14:36:43.205618Z",
     "iopub.status.idle": "2021-09-13T14:36:45.117477Z",
     "shell.execute_reply": "2021-09-13T14:36:45.117123Z",
     "shell.execute_reply.started": "2021-09-13T14:36:43.205936Z"
    }
   },
   "outputs": [],
   "source": [
    "HomeDir = '../'\n",
    "DataDir = HomeDir+'data/'\n",
    "ListDir = HomeDir+'lists/'\n",
    "ListTauDir = HomeDir+'lists/coarse_tau/'\n",
    "\n",
    "import healpy as hp\n",
    "import numpy as np\n",
    "import math\n",
    "import copy\n",
    "from tqdm import tqdm, tqdm_notebook\n",
    "from time import time as tictoc\n",
    "import pandas as pd\n",
    "from scipy.interpolate import griddata\n",
    "from scipy import interpolate\n",
    "import sys\n",
    "import os\n",
    "from joblib import Parallel, delayed\n",
    "import multiprocessing\n",
    "\n",
    "from MyUnits import *"
   ]
  },
  {
   "cell_type": "markdown",
   "metadata": {},
   "source": [
    "# Functions"
   ]
  },
  {
   "cell_type": "markdown",
   "metadata": {},
   "source": [
    "## Angular separation"
   ]
  },
  {
   "cell_type": "code",
   "execution_count": 2,
   "metadata": {
    "execution": {
     "iopub.execute_input": "2021-08-31T20:01:13.497655Z",
     "iopub.status.busy": "2021-08-31T20:01:13.497033Z",
     "iopub.status.idle": "2021-08-31T20:01:13.506695Z",
     "shell.execute_reply": "2021-08-31T20:01:13.505618Z",
     "shell.execute_reply.started": "2021-08-31T20:01:13.497588Z"
    }
   },
   "outputs": [],
   "source": [
    "def angular_sep(ra1, dec1, ra2, dec2):\n",
    "    \"\"\"Computes 2d angular separations vector for stars close to each other\"\"\"\n",
    "    return np.array([(ra1-ra2)*np.cos((dec1+dec2)/2), (dec1-dec2)]).T"
   ]
  },
  {
   "cell_type": "markdown",
   "metadata": {},
   "source": [
    "## Equatorial to ecliptic coordinate transformation"
   ]
  },
  {
   "cell_type": "markdown",
   "metadata": {},
   "source": [
    "From https://gea.esac.esa.int/archive/documentation/GEDR3/Gaia_archive/chap_datamodel/sec_dm_main_tables/ssec_dm_gaia_source.html and section 1.5.3 of https://www.cosmos.esa.int/documents/532822/552851/vol1_all.pdf"
   ]
  },
  {
   "cell_type": "code",
   "execution_count": 4,
   "metadata": {
    "execution": {
     "iopub.execute_input": "2021-09-17T21:03:45.506152Z",
     "iopub.status.busy": "2021-09-17T21:03:45.505486Z",
     "iopub.status.idle": "2021-09-17T21:03:45.521117Z",
     "shell.execute_reply": "2021-09-17T21:03:45.519998Z",
     "shell.execute_reply.started": "2021-09-17T21:03:45.506084Z"
    }
   },
   "outputs": [],
   "source": [
    "rot_matrix = np.array([[1, 0, 0], [0, 0.9174821334228558, 0.39777699135300065], [0, -0.39777699135300065, 0.9174821334228558]])\n",
    "ra_offset = 0.05542*arcsec\n",
    "  \n",
    "def fn_eq_to_ecl_array(ra, dec):\n",
    "    \"\"\"Function to convert the equatoria coordinates (ra, dec) to ecliptic longitude and latitude according to the Gaia reference frame\"\"\"\n",
    "    \"\"\"Works only if ra and dec are numpy arrays. Takes angle in deg and returns in deg\"\"\"\n",
    "    \n",
    "    ra_s, dec_s = ra*degree + ra_offset, dec*degree\n",
    "    x_vec_eq = np.array([np.cos(dec_s)*np.cos(ra_s), np.cos(dec_s)*np.sin(ra_s), np.sin(dec_s)])\n",
    "    x_vec_ecl = (rot_matrix @ x_vec_eq).T\n",
    "    \n",
    "    ecl_lon, ecl_lat = (np.arctan2(x_vec_ecl[:, 1], x_vec_ecl[:, 0])), np.arctan2(x_vec_ecl[:, 2], np.sqrt(x_vec_ecl[:, 0]**2 + x_vec_ecl[:, 1]**2))\n",
    "    ecl_lon = ecl_lon + 2*np.pi*np.heaviside(-ecl_lon, 0) ### shift the interval from [-pi, pi] to [0, 2*pi]\n",
    "\n",
    "    return ecl_lon/degree, ecl_lat/degree"
   ]
  },
  {
   "cell_type": "markdown",
   "metadata": {},
   "source": [
    "## Matched filter"
   ]
  },
  {
   "cell_type": "code",
   "execution_count": null,
   "metadata": {},
   "outputs": [],
   "source": [
    "# Uploading lists for the G_0 function and it's derivative. G_0 is the enclosed lens mass within a cylinder oriented along the line of sight. \n",
    "# See Eq.(3.10)=(3.11) of 1804.01991 or Eq.(2) of 2002.01938\n",
    "# For the NFW truncated lens profile given by Eq.(3) of 2002.01938 the enclosed mass cannot be computed analytically. We use an interpolation function.\n",
    "\n",
    "logxG0_list = np.loadtxt(ListDir+'G0NFWtrunc.txt');  logxG0_prime_list = np.loadtxt(ListDir+'G0pNFWtrunc.txt');  #logxG0_second_list = np.loadtxt(ListDir+'G0ppNFWtrunc.txt');\n",
    "logG0_fnc = interpolate.interp1d(logxG0_list[:, 0], logxG0_list[:, 1], kind='cubic', bounds_error=False, fill_value=(logxG0_list[0, 1], logxG0_list[-1, 1]))\n",
    "logG0_p_fnc = interpolate.interp1d(logxG0_prime_list[:, 0], logxG0_prime_list[:, 1], kind='cubic', bounds_error=False, fill_value=(logxG0_prime_list[0, 1], logxG0_prime_list[-1, 1]))\n",
    "\n",
    "\"Returns the lens enclosed mass within the distance x = beta/beta_l\"\n",
    "def G0_fnc(x): return np.power(10, logG0_fnc(np.log10(x+1E-20)))\n",
    "def G0_p_fnc(x): return np.power(10, logG0_p_fnc(np.log10(x+1E-20)))\n",
    "\n",
    "def dipole_mf(b_l, b_vec):\n",
    "    \"\"\"Returns the pm dipole-like profile\"\"\"\n",
    "    b_norm = np.sqrt(b_vec[:, 0]**2 + b_vec[:, 1]**2)\n",
    "    b_hat = np.array([b_vec[:,0]/(b_norm+1E-20), b_vec[:,1]/(b_norm+1E-20)]).T; x = b_norm/b_l\n",
    "    G0_over_xsq = G0_fnc(x)/(x**2+1E-20); G0p_over_x = G0_p_fnc(x)/(x+1E-20)\n",
    "\n",
    "    remove_inf = np.heaviside(b_norm, 0) # set to zero values corresponding to b_vec = [0, 0], remove infinity at the origin\n",
    "    \n",
    "    dipole_ra = np.array([(G0_over_xsq*(2*b_hat[:, 0]*b_hat[:, 0] - 1) - G0p_over_x*b_hat[:,0]*b_hat[:,0])*remove_inf, \n",
    "                          (G0_over_xsq*(2*b_hat[:, 1]*b_hat[:, 0]) - G0p_over_x*b_hat[:, 1]*b_hat[:, 0])*remove_inf]).T\n",
    "    dipole_dec = np.array([(G0_over_xsq*(2*b_hat[:, 0]*b_hat[:, 1]) - G0p_over_x*b_hat[:, 1]*b_hat[:, 0])*remove_inf, \n",
    "                           (G0_over_xsq*(2*b_hat[:, 1]*b_hat[:, 1] - 1) - G0p_over_x*b_hat[:, 1]*b_hat[:, 1])*remove_inf]).T\n",
    "    isotropic_dipole_magn = (G0_over_xsq**2 + 0.5*(G0p_over_x**2-2*G0_over_xsq*G0p_over_x))*remove_inf # for the normalization; see Eq. (13) of 2002.01938\n",
    "    \n",
    "    ### compute the monopole to check the background\n",
    "    monopole = np.array([(G0_over_xsq*b_hat[:, 0])*remove_inf, (G0_over_xsq*b_hat[:, 1])*remove_inf]).T\n",
    "    monopole_magn = G0_over_xsq**2*remove_inf\n",
    "        \n",
    "    return dipole_ra, dipole_dec, isotropic_dipole_magn, monopole, monopole_magn"
   ]
  },
  {
   "cell_type": "code",
   "execution_count": 16,
   "metadata": {
    "execution": {
     "iopub.execute_input": "2021-09-17T21:04:15.392691Z",
     "iopub.status.busy": "2021-09-17T21:04:15.392108Z",
     "iopub.status.idle": "2021-09-17T21:04:15.404182Z",
     "shell.execute_reply": "2021-09-17T21:04:15.403264Z",
     "shell.execute_reply.started": "2021-09-17T21:04:15.392623Z"
    }
   },
   "outputs": [],
   "source": [
    "def parallax_mf(b_l, b_vec, sinb):\n",
    "    \"\"\"Returns the parallax profile\"\"\"\n",
    "    b_norm = np.sqrt(b_vec[:, 0]**2 + b_vec[:, 1]**2)\n",
    "    b_hat = np.array([b_vec[:,0]/(b_norm+1E-20), b_vec[:,1]/(b_norm+1E-20)]).T; x = b_norm/b_l\n",
    "    G0_over_xsq = G0_fnc(x)/(x**2+1E-20); G0p_over_x = G0_p_fnc(x)/(x+1E-20)\n",
    "       \n",
    "    return -(G0_over_xsq*(2*b_hat[:, 1]**2-1)*(1-sinb**2) + G0p_over_x*(1 - (1-sinb**2)*b_hat[:, 1]**2))/(1+sinb**2)   "
   ]
  },
  {
   "cell_type": "markdown",
   "metadata": {},
   "source": [
    "## Template"
   ]
  },
  {
   "cell_type": "code",
   "execution_count": 19,
   "metadata": {
    "execution": {
     "iopub.execute_input": "2021-09-17T21:04:21.566915Z",
     "iopub.status.busy": "2021-09-17T21:04:21.566507Z",
     "iopub.status.idle": "2021-09-17T21:04:21.590600Z",
     "shell.execute_reply": "2021-09-17T21:04:21.589804Z",
     "shell.execute_reply.started": "2021-09-17T21:04:21.566878Z"
    }
   },
   "outputs": [],
   "source": [
    "def fn_template_scan(nside, coarse_scan_pix):\n",
    "    \"\"\"Compute the template at the locations given by coarse_scan_pix\"\"\"\n",
    "    \"\"\"Includes pm and parallax templates\"\"\"\n",
    "    \n",
    "    coarse_scan_coord = hp.pix2ang(nside, coarse_scan_pix, nest=True, lonlat=True) # coordinates of the template locations\n",
    "\n",
    "    ### Cartesian vectors for each pixel in coarse_scan_pix\n",
    "    vec_pix_x, vec_pix_y, vec_pix_z = hp.pix2vec(nside, coarse_scan_pix, nest=True) \n",
    "    vec_array = np.array([vec_pix_x, vec_pix_y, vec_pix_z]).T\n",
    "    \n",
    "    n_loc = len(coarse_scan_pix)\n",
    "    tau_mu_ra, tau_mu_dec, tau_mu_norm = np.zeros(n_loc), np.zeros(n_loc), np.zeros(n_loc)\n",
    "    tau_mu_mon, tau_mu_mon_norm = np.zeros(n_loc), np.zeros(n_loc)\n",
    "    tau_par, tau_par_norm = np.zeros(n_loc), np.zeros(n_loc)\n",
    "    \n",
    "    for i in range(n_loc):\n",
    "        nb_pix_i = hp.query_disc(nside, vec_array[i], n_betat*beta_t, inclusive=True, nest=True) # disc around the template position \n",
    "\n",
    "        stars_in = ((q_pix >= nb_pix_i[0]) & (q_pix <= nb_pix_i[-1])) # first reduce the total number of stars   \n",
    "        nb_stars = np.isin(q_pix[stars_in], nb_pix_i, assume_unique=False, invert=False) # keep only stars within the neighboring pixels \n",
    "\n",
    "        ### Pm template\n",
    "        beta_it = angular_sep(coarse_scan_coord[0][i]*degree, coarse_scan_coord[1][i]*degree, data_ra[stars_in][nb_stars]*degree, data_dec[stars_in][nb_stars]*degree)\n",
    "        mu_ra, mu_dec, mu_sq, mu_mon, mu_mon_sq = dipole_mf(beta_t, beta_it)\n",
    "\n",
    "        tau_mu_norm[i] = np.sqrt(sum(mu_sq/pm_w_sq[stars_in][nb_stars])) ## normalization\n",
    "        tau_mu_ra[i] = sum((mu_ra[:, 0]*weighted_pmra[stars_in][nb_stars] + mu_ra[:, 1]*weighted_pmdec[stars_in][nb_stars]))\n",
    "        tau_mu_dec[i] = sum((mu_dec[:, 0]*weighted_pmra[stars_in][nb_stars] + mu_dec[:, 1]*weighted_pmdec[stars_in][nb_stars]))\n",
    "        \n",
    "        tau_mu_mon_norm[i] = np.sqrt(sum(mu_mon_sq/pm_w_sq[stars_in][nb_stars])) ## normalization\n",
    "        tau_mu_mon[i] = sum((mu_mon[:, 0]*weighted_pmra[stars_in][nb_stars] + mu_mon[:, 1]*weighted_pmdec[stars_in][nb_stars]))\n",
    "        \n",
    "        ### Parallax template\n",
    "        beta_it_ecl = angular_sep(coarse_scan_coord_ecl[0][i]*degree, coarse_scan_coord_ecl[1][i]*degree, data_ecl_lon[stars_in][nb_stars]*degree, data_ecl_lat[stars_in][nb_stars]*degree)\n",
    "        par_t = parallax_mf(beta_t, beta_it_ecl, np.sin(coarse_scan_coord_ecl[1][i]*degree)) \n",
    "        \n",
    "        tau_par_norm[i] = np.sqrt(sum(par_t**2/par_w_sq[stars_in][nb_stars])) ## normalization\n",
    "        tau_par[i] =  sum(par_t*weighted_par[stars_in][nb_stars])\n",
    "        \n",
    "    np.save(ListTauDir+'tau_b'+beta_t_deg+'_'+str(i_step), np.array([coarse_scan_coord[0], coarse_scan_coord[1], tau_mu_ra, tau_mu_dec, tau_mu_norm, tau_mu_mon, tau_mu_mon_norm, tau_par, tau_par_norm]).T)\n",
    "    \n",
    "    return None"
   ]
  },
  {
   "cell_type": "markdown",
   "metadata": {},
   "source": [
    "# Run"
   ]
  },
  {
   "cell_type": "markdown",
   "metadata": {},
   "source": [
    "## Read in and prepare data"
   ]
  },
  {
   "cell_type": "code",
   "execution_count": 3,
   "metadata": {
    "execution": {
     "iopub.execute_input": "2021-09-13T14:36:49.043425Z",
     "iopub.status.busy": "2021-09-13T14:36:49.043045Z",
     "iopub.status.idle": "2021-09-13T14:36:49.051591Z",
     "shell.execute_reply": "2021-09-13T14:36:49.050692Z",
     "shell.execute_reply.started": "2021-09-13T14:36:49.043374Z"
    }
   },
   "outputs": [],
   "source": [
    "### Define disc on the sky where the analysis is done\n",
    "disc_radius = 5*degree; disc_center = np.array([81.28,-69.78]) "
   ]
  },
  {
   "cell_type": "code",
   "execution_count": 7,
   "metadata": {
    "execution": {
     "iopub.execute_input": "2021-09-10T15:47:54.498997Z",
     "iopub.status.busy": "2021-09-10T15:47:54.498626Z",
     "iopub.status.idle": "2021-09-10T15:47:54.889068Z",
     "shell.execute_reply": "2021-09-10T15:47:54.888538Z",
     "shell.execute_reply.started": "2021-09-10T15:47:54.498960Z"
    }
   },
   "outputs": [],
   "source": [
    "data_np = np.load(DataDir+'LMC_disc_5_final.npy') ### Much faster than reading in a csv file\n",
    "### Columns of the numpy array are are: \n",
    "### [data['ra'].to_numpy(), data['dec'].to_numpy(), data['pm_eff_error'].to_numpy()**2, data['pmra_sub'].to_numpy()/data['pm_eff_error'].to_numpy()**2, data['pmdec_sub'].to_numpy()/data['pm_eff_error'].to_numpy()**2, \n",
    "###  data['parallax_eff_error'].to_numpy()**2, data['parallax_sub'].to_numpy()/data['parallax_eff_error'].to_numpy()**2]\n",
    "[data_ra, data_dec, data_ecl_lon, data_ecl_lat, pm_w_sq, weighted_pmra, weighted_pmdec, par_w_sq, weighted_par] = data_np.T\n",
    "del data_np"
   ]
  },
  {
   "cell_type": "code",
   "execution_count": null,
   "metadata": {},
   "outputs": [],
   "source": [
    "beta_kernel_sub_0 = 0.1*degree; # gaussian kernel for background subtraction \n",
    "beta_kernel_sub = 0.06*degree; # 0.1*degree; gaussian kernel for background subtraction \n",
    "n_iter_sub = 3; n_betat=3.5;\n",
    "beta_t_deg = sys.argv[1] #str(20)\n",
    "beta_t = float(beta_t_deg)/10000*degree\n",
    "n_steps = int(sys.argv[2]) #40\n",
    "i_step = int(sys.argv[3]) #0"
   ]
  },
  {
   "cell_type": "code",
   "execution_count": 4,
   "metadata": {
    "execution": {
     "iopub.execute_input": "2021-09-13T14:36:51.500527Z",
     "iopub.status.busy": "2021-09-13T14:36:51.499941Z",
     "iopub.status.idle": "2021-09-13T14:36:51.506689Z",
     "shell.execute_reply": "2021-09-13T14:36:51.505986Z",
     "shell.execute_reply.started": "2021-09-13T14:36:51.500461Z"
    }
   },
   "outputs": [],
   "source": [
    "#beta_kernel_sub_0 = 0.1*degree; # gaussian kernel for background subtraction \n",
    "#beta_kernel_sub = 0.06*degree; # 0.1*degree; gaussian kernel for background subtraction \n",
    "#n_iter_sub = 3; n_betat=3.5;\n",
    "#beta_t_deg = str(90)\n",
    "#beta_t = float(beta_t_deg)/10000*degree\n",
    "#n_steps = 40\n",
    "#i_step = 0"
   ]
  },
  {
   "cell_type": "markdown",
   "metadata": {},
   "source": [
    "## Template scan"
   ]
  },
  {
   "cell_type": "markdown",
   "metadata": {},
   "source": [
    "Split the patch of the sky into subpatches to run the template scan in parallel"
   ]
  },
  {
   "cell_type": "code",
   "execution_count": 5,
   "metadata": {
    "execution": {
     "iopub.execute_input": "2021-09-13T14:36:55.357841Z",
     "iopub.status.busy": "2021-09-13T14:36:55.357067Z",
     "iopub.status.idle": "2021-09-13T14:36:55.391212Z",
     "shell.execute_reply": "2021-09-13T14:36:55.390566Z",
     "shell.execute_reply.started": "2021-09-13T14:36:55.357737Z"
    }
   },
   "outputs": [
    {
     "name": "stdout",
     "output_type": "stream",
     "text": [
      "Template scan for beta_t = 0.009 deg.\n",
      "Number of template locations: 1279310. Dividing in 40 steps. Number of locations per step = 31983.\n"
     ]
    }
   ],
   "source": [
    "### Coarse pixelation of size approx. beta_t. Determine how many template scan location there are\n",
    "n = math.ceil(math.log(np.sqrt(np.pi/3)/beta_t, 2)); nside = 2**n; \n",
    "vec = hp.pix2vec(nside, hp.ang2pix(nside, disc_center[0], disc_center[1], nest=True, lonlat=True), nest=True)\n",
    "disc_pix_coarse = hp.query_disc(nside, vec, disc_radius - beta_kernel_sub_0 - (n_iter_sub+1)*beta_kernel_sub - n_betat*beta_t, nest=True, inclusive=False) # pixels on the sky within a disc without the edge\n",
    "n_locations = len(disc_pix_coarse)\n",
    "step = math.ceil(n_locations/n_steps)\n",
    "\n",
    "print('Template scan for beta_t = '+str(beta_t/degree)+' deg.')\n",
    "print('Number of template locations: '+str(n_locations)+'. Dividing in '+str(n_steps)+' steps. Number of locations per step = '+str(step)+'.')\n",
    "sys.stdout.flush()"
   ]
  },
  {
   "cell_type": "code",
   "execution_count": 10,
   "metadata": {
    "execution": {
     "iopub.execute_input": "2021-08-31T20:02:22.075560Z",
     "iopub.status.busy": "2021-08-31T20:02:22.075094Z",
     "iopub.status.idle": "2021-08-31T20:02:22.114765Z",
     "shell.execute_reply": "2021-08-31T20:02:22.114300Z",
     "shell.execute_reply.started": "2021-08-31T20:02:22.075506Z"
    }
   },
   "outputs": [],
   "source": [
    "coarse_scan_coord = hp.pix2ang(nside, disc_pix_coarse, nest=True, lonlat=True) # to be converted into pixels at the fine pixelation scale below\n",
    "coarse_scan_coord_ecl = fn_eq_to_ecl_array(coarse_scan_coord[0], coarse_scan_coord[1]) # convert into ecliptic coordinates for the parallax template\n",
    "del vec, disc_pix_coarse"
   ]
  },
  {
   "cell_type": "code",
   "execution_count": 11,
   "metadata": {
    "execution": {
     "iopub.execute_input": "2021-08-31T20:02:30.688226Z",
     "iopub.status.busy": "2021-08-31T20:02:30.687730Z",
     "iopub.status.idle": "2021-08-31T20:02:30.800874Z",
     "shell.execute_reply": "2021-08-31T20:02:30.800057Z",
     "shell.execute_reply.started": "2021-08-31T20:02:30.688185Z"
    }
   },
   "outputs": [],
   "source": [
    "### Fine pixelation of size approx. beta_t/10 (can be a bit larger than beta_t/10, so using round is fine)\n",
    "n = round(math.log(np.sqrt(np.pi/3)/(0.1*beta_t), 2)); nside = 2**n; \n",
    "vec = hp.pix2vec(nside, hp.ang2pix(nside, disc_center[0], disc_center[1], nest=True, lonlat=True), nest=True)\n",
    "coarse_scan_pix = hp.ang2pix(nside, coarse_scan_coord[0], coarse_scan_coord[1], nest=True, lonlat=True)            \n",
    "del vec, coarse_scan_coord"
   ]
  },
  {
   "cell_type": "code",
   "execution_count": 12,
   "metadata": {
    "execution": {
     "iopub.execute_input": "2021-08-31T20:02:32.846055Z",
     "iopub.status.busy": "2021-08-31T20:02:32.845448Z",
     "iopub.status.idle": "2021-08-31T20:02:33.836764Z",
     "shell.execute_reply": "2021-08-31T20:02:33.836429Z",
     "shell.execute_reply.started": "2021-08-31T20:02:32.846006Z"
    }
   },
   "outputs": [],
   "source": [
    "q_pix = np.asarray(hp.ang2pix(nside, data_ra, data_dec, nest=True, lonlat=True)) # healpy pixel number of the stars, needed to find stars near a specific template location"
   ]
  },
  {
   "cell_type": "code",
   "execution_count": 13,
   "metadata": {
    "execution": {
     "iopub.execute_input": "2021-08-31T20:02:35.694888Z",
     "iopub.status.busy": "2021-08-31T20:02:35.694271Z",
     "iopub.status.idle": "2021-08-31T20:06:21.676168Z",
     "shell.execute_reply": "2021-08-31T20:06:21.675698Z",
     "shell.execute_reply.started": "2021-08-31T20:02:35.694821Z"
    }
   },
   "outputs": [
    {
     "name": "stdout",
     "output_type": "stream",
     "text": [
      "Starting the template scan...\n",
      "Template scan completed in 225.96506214141846 s.\n"
     ]
    }
   ],
   "source": [
    "### Compute the template for \"step\" number of location\n",
    "print('Starting the template scan...')\n",
    "sys.stdout.flush()\n",
    "\n",
    "first_pix = step*i_step; last_pix = min(step*(i_step+1), len(coarse_scan_pix))\n",
    "tic = tictoc()\n",
    "fn_template_scan(nside, coarse_scan_pix[first_pix:last_pix])\n",
    "toc = tictoc()    \n",
    "\n",
    "print('Template scan completed in', str(toc - tic), 's.')\n",
    "sys.stdout.flush()"
   ]
  },
  {
   "cell_type": "code",
   "execution_count": null,
   "metadata": {},
   "outputs": [],
   "source": []
  }
 ],
 "metadata": {
  "kernelspec": {
   "display_name": "Python 3",
   "language": "python",
   "name": "python3"
  },
  "language_info": {
   "codemirror_mode": {
    "name": "ipython",
    "version": 3
   },
   "file_extension": ".py",
   "mimetype": "text/x-python",
   "name": "python",
   "nbconvert_exporter": "python",
   "pygments_lexer": "ipython3",
   "version": "3.8.5"
  },
  "toc-autonumbering": true,
  "toc-showmarkdowntxt": false
 },
 "nbformat": 4,
 "nbformat_minor": 4
}
